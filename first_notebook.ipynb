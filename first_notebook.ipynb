{
 "metadata": {
  "language_info": {
   "codemirror_mode": {
    "name": "ipython",
    "version": 3
   },
   "file_extension": ".py",
   "mimetype": "text/x-python",
   "name": "python",
   "nbconvert_exporter": "python",
   "pygments_lexer": "ipython3",
   "version": "3.8.3-final"
  },
  "orig_nbformat": 2,
  "kernelspec": {
   "name": "Python 3.8.3 64-bit ('anaconda3': virtualenv)",
   "display_name": "Python 3.8.3 64-bit ('anaconda3': virtualenv)",
   "metadata": {
    "interpreter": {
     "hash": "dca0ade3e726a953b501b15e8e990130d2b7799f14cfd9f4271676035ebe5511"
    }
   }
  }
 },
 "nbformat": 4,
 "nbformat_minor": 2,
 "cells": [
  {
   "source": [
    "# Alright lets see what this is all about\n",
    "import numpy as np\n",
    "import pandas as pd\n",
    "import sklearn "
   ],
   "cell_type": "code",
   "metadata": {
    "tags": []
   },
   "execution_count": 1,
   "outputs": []
  },
  {
   "cell_type": "code",
   "execution_count": 2,
   "metadata": {
    "tags": []
   },
   "outputs": [
    {
     "output_type": "execute_result",
     "data": {
      "text/plain": [
       "   FID  FID_WA_Mai  TYPE  LENGTH  DIAMETER MATERIAL  INSTYEAR MUSYM  \\\n",
       "0    0           1  FIRE     2.0       8.0      UNK       NaN    Ur   \n",
       "1    1           2  FIRE     2.0       2.0      UNK    1992.0   AgC   \n",
       "2    2           3  FIRE     1.0       0.0      UNK       NaN   AgC   \n",
       "3    3           4  FIRE     3.0       6.0       DI    2005.0    Ur   \n",
       "4    4           5  FIRE   149.0       8.0       AC    1963.0    Ur   \n",
       "\n",
       "   Dist_Rail  SLP_CLASS               FULL_STRNA SPEED           FUNC_CLASS  \n",
       "0       6000        2.0             120TH AVE NE    25       MINOR ARTERIAL  \n",
       "1       7000        1.0              122ND LN NE    25  NEIGHBORHOOD ACCESS  \n",
       "2       6000        0.0             124TH AVE NE    35   PRINCIPAL ARTERIAL  \n",
       "3       4000        0.0  LAKE WASHINGTON BLVD NE    35   PRINCIPAL ARTERIAL  \n",
       "4       7000        6.0                                                      "
      ],
      "text/html": "<div>\n<style scoped>\n    .dataframe tbody tr th:only-of-type {\n        vertical-align: middle;\n    }\n\n    .dataframe tbody tr th {\n        vertical-align: top;\n    }\n\n    .dataframe thead th {\n        text-align: right;\n    }\n</style>\n<table border=\"1\" class=\"dataframe\">\n  <thead>\n    <tr style=\"text-align: right;\">\n      <th></th>\n      <th>FID</th>\n      <th>FID_WA_Mai</th>\n      <th>TYPE</th>\n      <th>LENGTH</th>\n      <th>DIAMETER</th>\n      <th>MATERIAL</th>\n      <th>INSTYEAR</th>\n      <th>MUSYM</th>\n      <th>Dist_Rail</th>\n      <th>SLP_CLASS</th>\n      <th>FULL_STRNA</th>\n      <th>SPEED</th>\n      <th>FUNC_CLASS</th>\n    </tr>\n  </thead>\n  <tbody>\n    <tr>\n      <th>0</th>\n      <td>0</td>\n      <td>1</td>\n      <td>FIRE</td>\n      <td>2.0</td>\n      <td>8.0</td>\n      <td>UNK</td>\n      <td>NaN</td>\n      <td>Ur</td>\n      <td>6000</td>\n      <td>2.0</td>\n      <td>120TH AVE NE</td>\n      <td>25</td>\n      <td>MINOR ARTERIAL</td>\n    </tr>\n    <tr>\n      <th>1</th>\n      <td>1</td>\n      <td>2</td>\n      <td>FIRE</td>\n      <td>2.0</td>\n      <td>2.0</td>\n      <td>UNK</td>\n      <td>1992.0</td>\n      <td>AgC</td>\n      <td>7000</td>\n      <td>1.0</td>\n      <td>122ND LN NE</td>\n      <td>25</td>\n      <td>NEIGHBORHOOD ACCESS</td>\n    </tr>\n    <tr>\n      <th>2</th>\n      <td>2</td>\n      <td>3</td>\n      <td>FIRE</td>\n      <td>1.0</td>\n      <td>0.0</td>\n      <td>UNK</td>\n      <td>NaN</td>\n      <td>AgC</td>\n      <td>6000</td>\n      <td>0.0</td>\n      <td>124TH AVE NE</td>\n      <td>35</td>\n      <td>PRINCIPAL ARTERIAL</td>\n    </tr>\n    <tr>\n      <th>3</th>\n      <td>3</td>\n      <td>4</td>\n      <td>FIRE</td>\n      <td>3.0</td>\n      <td>6.0</td>\n      <td>DI</td>\n      <td>2005.0</td>\n      <td>Ur</td>\n      <td>4000</td>\n      <td>0.0</td>\n      <td>LAKE WASHINGTON BLVD NE</td>\n      <td>35</td>\n      <td>PRINCIPAL ARTERIAL</td>\n    </tr>\n    <tr>\n      <th>4</th>\n      <td>4</td>\n      <td>5</td>\n      <td>FIRE</td>\n      <td>149.0</td>\n      <td>8.0</td>\n      <td>AC</td>\n      <td>1963.0</td>\n      <td>Ur</td>\n      <td>7000</td>\n      <td>6.0</td>\n      <td></td>\n      <td></td>\n      <td></td>\n    </tr>\n  </tbody>\n</table>\n</div>"
     },
     "metadata": {},
     "execution_count": 2
    }
   ],
   "source": [
    "#LOAD GIS WATERMAIN AND BREAK DATA\n",
    "df = pd.read_csv('Kirk_All.csv')\n",
    "#df.dropna(inplace=True) # Are there any columns where we can deal with NA values?\n",
    "# Can we use imputation instead?\n",
    "breaks = pd.read_csv('Kirk_Break_Data.csv')\n",
    "df['INSTYEAR'] = df['INSTYEAR'].map(lambda x: int((str(x)[-12:-8])), na_action='ignore')\n",
    "#df = pd.get_dummies(df)\n",
    "df.head()"
   ]
  },
  {
   "cell_type": "code",
   "execution_count": 3,
   "metadata": {},
   "outputs": [
    {
     "output_type": "execute_result",
     "data": {
      "text/plain": [
       "   FID_WA_Mai  TYPE  LENGTH  DIAMETER MATERIAL  INSTYEAR MUSYM  Dist_Rail  \\\n",
       "0           1  FIRE     2.0       8.0      UNK       NaN    Ur       6000   \n",
       "1           2  FIRE     2.0       2.0      UNK    1992.0   AgC       7000   \n",
       "2           3  FIRE     1.0       0.0      UNK       NaN   AgC       6000   \n",
       "3           4  FIRE     3.0       6.0       DI    2005.0    Ur       4000   \n",
       "4           5  FIRE   149.0       8.0       AC    1963.0    Ur       7000   \n",
       "\n",
       "   SLP_CLASS               FULL_STRNA SPEED           FUNC_CLASS  \n",
       "0        2.0             120TH AVE NE    25       MINOR ARTERIAL  \n",
       "1        1.0              122ND LN NE    25  NEIGHBORHOOD ACCESS  \n",
       "2        0.0             124TH AVE NE    35   PRINCIPAL ARTERIAL  \n",
       "3        0.0  LAKE WASHINGTON BLVD NE    35   PRINCIPAL ARTERIAL  \n",
       "4        6.0                                                      "
      ],
      "text/html": "<div>\n<style scoped>\n    .dataframe tbody tr th:only-of-type {\n        vertical-align: middle;\n    }\n\n    .dataframe tbody tr th {\n        vertical-align: top;\n    }\n\n    .dataframe thead th {\n        text-align: right;\n    }\n</style>\n<table border=\"1\" class=\"dataframe\">\n  <thead>\n    <tr style=\"text-align: right;\">\n      <th></th>\n      <th>FID_WA_Mai</th>\n      <th>TYPE</th>\n      <th>LENGTH</th>\n      <th>DIAMETER</th>\n      <th>MATERIAL</th>\n      <th>INSTYEAR</th>\n      <th>MUSYM</th>\n      <th>Dist_Rail</th>\n      <th>SLP_CLASS</th>\n      <th>FULL_STRNA</th>\n      <th>SPEED</th>\n      <th>FUNC_CLASS</th>\n    </tr>\n  </thead>\n  <tbody>\n    <tr>\n      <th>0</th>\n      <td>1</td>\n      <td>FIRE</td>\n      <td>2.0</td>\n      <td>8.0</td>\n      <td>UNK</td>\n      <td>NaN</td>\n      <td>Ur</td>\n      <td>6000</td>\n      <td>2.0</td>\n      <td>120TH AVE NE</td>\n      <td>25</td>\n      <td>MINOR ARTERIAL</td>\n    </tr>\n    <tr>\n      <th>1</th>\n      <td>2</td>\n      <td>FIRE</td>\n      <td>2.0</td>\n      <td>2.0</td>\n      <td>UNK</td>\n      <td>1992.0</td>\n      <td>AgC</td>\n      <td>7000</td>\n      <td>1.0</td>\n      <td>122ND LN NE</td>\n      <td>25</td>\n      <td>NEIGHBORHOOD ACCESS</td>\n    </tr>\n    <tr>\n      <th>2</th>\n      <td>3</td>\n      <td>FIRE</td>\n      <td>1.0</td>\n      <td>0.0</td>\n      <td>UNK</td>\n      <td>NaN</td>\n      <td>AgC</td>\n      <td>6000</td>\n      <td>0.0</td>\n      <td>124TH AVE NE</td>\n      <td>35</td>\n      <td>PRINCIPAL ARTERIAL</td>\n    </tr>\n    <tr>\n      <th>3</th>\n      <td>4</td>\n      <td>FIRE</td>\n      <td>3.0</td>\n      <td>6.0</td>\n      <td>DI</td>\n      <td>2005.0</td>\n      <td>Ur</td>\n      <td>4000</td>\n      <td>0.0</td>\n      <td>LAKE WASHINGTON BLVD NE</td>\n      <td>35</td>\n      <td>PRINCIPAL ARTERIAL</td>\n    </tr>\n    <tr>\n      <th>4</th>\n      <td>5</td>\n      <td>FIRE</td>\n      <td>149.0</td>\n      <td>8.0</td>\n      <td>AC</td>\n      <td>1963.0</td>\n      <td>Ur</td>\n      <td>7000</td>\n      <td>6.0</td>\n      <td></td>\n      <td></td>\n      <td></td>\n    </tr>\n  </tbody>\n</table>\n</div>"
     },
     "metadata": {},
     "execution_count": 3
    }
   ],
   "source": [
    "# EXTRACTING FEATURES\n",
    "features = ['FID_WA_Mai', 'TYPE', 'LENGTH', 'DIAMETER', 'MATERIAL', 'INSTYEAR', 'MUSYM', 'Dist_Rail', 'SLP_CLASS', 'FULL_STRNA', 'SPEED', 'FUNC_CLASS']\n",
    "pipes = df[features]\n",
    "pipes.head()"
   ]
  },
  {
   "cell_type": "code",
   "execution_count": 4,
   "metadata": {},
   "outputs": [
    {
     "output_type": "execute_result",
     "data": {
      "text/plain": [
       "   DIAMETER MATERIAL INSTYEAR  Dist_Rail  Break_Year\n",
       "0         6       CI      NaN        NaN        2004\n",
       "1         8       AC      NaN    15000.0        2004\n",
       "2         6       AC      NaN    15000.0        2004\n",
       "3         8       AC     1976     7000.0        2004\n",
       "4        12       AC     1968    12000.0        2004"
      ],
      "text/html": "<div>\n<style scoped>\n    .dataframe tbody tr th:only-of-type {\n        vertical-align: middle;\n    }\n\n    .dataframe tbody tr th {\n        vertical-align: top;\n    }\n\n    .dataframe thead th {\n        text-align: right;\n    }\n</style>\n<table border=\"1\" class=\"dataframe\">\n  <thead>\n    <tr style=\"text-align: right;\">\n      <th></th>\n      <th>DIAMETER</th>\n      <th>MATERIAL</th>\n      <th>INSTYEAR</th>\n      <th>Dist_Rail</th>\n      <th>Break_Year</th>\n    </tr>\n  </thead>\n  <tbody>\n    <tr>\n      <th>0</th>\n      <td>6</td>\n      <td>CI</td>\n      <td>NaN</td>\n      <td>NaN</td>\n      <td>2004</td>\n    </tr>\n    <tr>\n      <th>1</th>\n      <td>8</td>\n      <td>AC</td>\n      <td>NaN</td>\n      <td>15000.0</td>\n      <td>2004</td>\n    </tr>\n    <tr>\n      <th>2</th>\n      <td>6</td>\n      <td>AC</td>\n      <td>NaN</td>\n      <td>15000.0</td>\n      <td>2004</td>\n    </tr>\n    <tr>\n      <th>3</th>\n      <td>8</td>\n      <td>AC</td>\n      <td>1976</td>\n      <td>7000.0</td>\n      <td>2004</td>\n    </tr>\n    <tr>\n      <th>4</th>\n      <td>12</td>\n      <td>AC</td>\n      <td>1968</td>\n      <td>12000.0</td>\n      <td>2004</td>\n    </tr>\n  </tbody>\n</table>\n</div>"
     },
     "metadata": {},
     "execution_count": 4
    }
   ],
   "source": [
    "\n",
    "model_feats = [\n",
    "    'DIAMETER',\n",
    "    'MATERIAL',\n",
    "    'INSTYEAR',\n",
    "    'Dist_Rail',\n",
    "    'Break_Year'\n",
    "\n",
    "]\n",
    "filt_breaks = breaks[model_feats]\n",
    "\n",
    "filt_breaks.head()\n"
   ]
  },
  {
   "cell_type": "code",
   "execution_count": 5,
   "metadata": {},
   "outputs": [],
   "source": [
    "filt_breaks['Break_Year'].map(lambda x: int(x), na_action='ignore')\n",
    "#filt_breaks.dropna()\n",
    "filt_breaks = filt_breaks[filt_breaks['INSTYEAR'] != '1959, 1963']\n",
    "filt_breaks['INSTYEAR'] = filt_breaks['INSTYEAR'].map(lambda x: float(x), na_action='ignore')\n",
    "filt_breaks['AGE'] = filt_breaks['Break_Year'] - filt_breaks['INSTYEAR']\n",
    "filt_breaks = filt_breaks.dropna()"
   ]
  },
  {
   "cell_type": "code",
   "execution_count": 6,
   "metadata": {
    "tags": []
   },
   "outputs": [],
   "source": [
    "# GROUP PIPES BY THEIR UNIQUE ID - NEEDED BECAUSE OF HOW SLOPE BREAKS UP PIPES IN DIFFERENT SLOPE CLASSES\n",
    "def group_by_id(df):\n",
    "\n",
    "    grouping = df.groupby('FID_WA_Mai').groups\n",
    "    unique_pipes = df['FID_WA_Mai'].unique()\n",
    "    indices = []\n",
    "    for i in range(len(unique_pipes)):\n",
    "        pipe = unique_pipes[i]\n",
    "        val = grouping[pipe][0]\n",
    "        indices.append(val)\n",
    "    \n",
    "    # CALCULATE AVERAGE SLOPES FOR PIPES THAT GOT SPLIT INTO MULTIPLE ROWS\n",
    "    slopes = df[['FID_WA_Mai', 'SLP_CLASS']]\n",
    "    slopes = slopes.groupby('FID_WA_Mai')['SLP_CLASS'].mean()\n",
    "    slopes = pd.Series(slopes)\n",
    "\n",
    "    filtered = df.loc[indices, 'FID_WA_Mai':'FUNC_CLASS']\n",
    "    filtered = filtered.drop('SLP_CLASS', axis=1)\n",
    "    filtered['SLOPE'] = slopes.values\n",
    "\n",
    "    return filtered"
   ]
  },
  {
   "cell_type": "code",
   "execution_count": 7,
   "metadata": {},
   "outputs": [
    {
     "output_type": "execute_result",
     "data": {
      "text/plain": [
       "   FID_WA_Mai  TYPE  LENGTH  DIAMETER MATERIAL  INSTYEAR MUSYM  Dist_Rail  \\\n",
       "0           1  FIRE     2.0       8.0      UNK       NaN    Ur       6000   \n",
       "1           2  FIRE     2.0       2.0      UNK    1992.0   AgC       7000   \n",
       "2           3  FIRE     1.0       0.0      UNK       NaN   AgC       6000   \n",
       "3           4  FIRE     3.0       6.0       DI    2005.0    Ur       4000   \n",
       "4           5  FIRE   149.0       8.0       AC    1963.0    Ur       7000   \n",
       "\n",
       "                FULL_STRNA SPEED           FUNC_CLASS     SLOPE  \n",
       "0             120TH AVE NE    25       MINOR ARTERIAL  2.000000  \n",
       "1              122ND LN NE    25  NEIGHBORHOOD ACCESS  1.000000  \n",
       "2             124TH AVE NE    35   PRINCIPAL ARTERIAL  0.000000  \n",
       "3  LAKE WASHINGTON BLVD NE    35   PRINCIPAL ARTERIAL  0.000000  \n",
       "4                                                      3.888889  "
      ],
      "text/html": "<div>\n<style scoped>\n    .dataframe tbody tr th:only-of-type {\n        vertical-align: middle;\n    }\n\n    .dataframe tbody tr th {\n        vertical-align: top;\n    }\n\n    .dataframe thead th {\n        text-align: right;\n    }\n</style>\n<table border=\"1\" class=\"dataframe\">\n  <thead>\n    <tr style=\"text-align: right;\">\n      <th></th>\n      <th>FID_WA_Mai</th>\n      <th>TYPE</th>\n      <th>LENGTH</th>\n      <th>DIAMETER</th>\n      <th>MATERIAL</th>\n      <th>INSTYEAR</th>\n      <th>MUSYM</th>\n      <th>Dist_Rail</th>\n      <th>FULL_STRNA</th>\n      <th>SPEED</th>\n      <th>FUNC_CLASS</th>\n      <th>SLOPE</th>\n    </tr>\n  </thead>\n  <tbody>\n    <tr>\n      <th>0</th>\n      <td>1</td>\n      <td>FIRE</td>\n      <td>2.0</td>\n      <td>8.0</td>\n      <td>UNK</td>\n      <td>NaN</td>\n      <td>Ur</td>\n      <td>6000</td>\n      <td>120TH AVE NE</td>\n      <td>25</td>\n      <td>MINOR ARTERIAL</td>\n      <td>2.000000</td>\n    </tr>\n    <tr>\n      <th>1</th>\n      <td>2</td>\n      <td>FIRE</td>\n      <td>2.0</td>\n      <td>2.0</td>\n      <td>UNK</td>\n      <td>1992.0</td>\n      <td>AgC</td>\n      <td>7000</td>\n      <td>122ND LN NE</td>\n      <td>25</td>\n      <td>NEIGHBORHOOD ACCESS</td>\n      <td>1.000000</td>\n    </tr>\n    <tr>\n      <th>2</th>\n      <td>3</td>\n      <td>FIRE</td>\n      <td>1.0</td>\n      <td>0.0</td>\n      <td>UNK</td>\n      <td>NaN</td>\n      <td>AgC</td>\n      <td>6000</td>\n      <td>124TH AVE NE</td>\n      <td>35</td>\n      <td>PRINCIPAL ARTERIAL</td>\n      <td>0.000000</td>\n    </tr>\n    <tr>\n      <th>3</th>\n      <td>4</td>\n      <td>FIRE</td>\n      <td>3.0</td>\n      <td>6.0</td>\n      <td>DI</td>\n      <td>2005.0</td>\n      <td>Ur</td>\n      <td>4000</td>\n      <td>LAKE WASHINGTON BLVD NE</td>\n      <td>35</td>\n      <td>PRINCIPAL ARTERIAL</td>\n      <td>0.000000</td>\n    </tr>\n    <tr>\n      <th>4</th>\n      <td>5</td>\n      <td>FIRE</td>\n      <td>149.0</td>\n      <td>8.0</td>\n      <td>AC</td>\n      <td>1963.0</td>\n      <td>Ur</td>\n      <td>7000</td>\n      <td></td>\n      <td></td>\n      <td></td>\n      <td>3.888889</td>\n    </tr>\n  </tbody>\n</table>\n</div>"
     },
     "metadata": {},
     "execution_count": 7
    }
   ],
   "source": [
    "filtered = group_by_id(pipes)\n",
    "filtered.head()"
   ]
  },
  {
   "cell_type": "code",
   "execution_count": 8,
   "metadata": {},
   "outputs": [
    {
     "output_type": "execute_result",
     "data": {
      "text/plain": [
       "   DIAMETER MATERIAL  INSTYEAR MUSYM  Dist_Rail\n",
       "0       8.0      UNK       NaN    Ur       6000\n",
       "1       2.0      UNK    1992.0   AgC       7000\n",
       "2       0.0      UNK       NaN   AgC       6000\n",
       "3       6.0       DI    2005.0    Ur       4000\n",
       "4       8.0       AC    1963.0    Ur       7000"
      ],
      "text/html": "<div>\n<style scoped>\n    .dataframe tbody tr th:only-of-type {\n        vertical-align: middle;\n    }\n\n    .dataframe tbody tr th {\n        vertical-align: top;\n    }\n\n    .dataframe thead th {\n        text-align: right;\n    }\n</style>\n<table border=\"1\" class=\"dataframe\">\n  <thead>\n    <tr style=\"text-align: right;\">\n      <th></th>\n      <th>DIAMETER</th>\n      <th>MATERIAL</th>\n      <th>INSTYEAR</th>\n      <th>MUSYM</th>\n      <th>Dist_Rail</th>\n    </tr>\n  </thead>\n  <tbody>\n    <tr>\n      <th>0</th>\n      <td>8.0</td>\n      <td>UNK</td>\n      <td>NaN</td>\n      <td>Ur</td>\n      <td>6000</td>\n    </tr>\n    <tr>\n      <th>1</th>\n      <td>2.0</td>\n      <td>UNK</td>\n      <td>1992.0</td>\n      <td>AgC</td>\n      <td>7000</td>\n    </tr>\n    <tr>\n      <th>2</th>\n      <td>0.0</td>\n      <td>UNK</td>\n      <td>NaN</td>\n      <td>AgC</td>\n      <td>6000</td>\n    </tr>\n    <tr>\n      <th>3</th>\n      <td>6.0</td>\n      <td>DI</td>\n      <td>2005.0</td>\n      <td>Ur</td>\n      <td>4000</td>\n    </tr>\n    <tr>\n      <th>4</th>\n      <td>8.0</td>\n      <td>AC</td>\n      <td>1963.0</td>\n      <td>Ur</td>\n      <td>7000</td>\n    </tr>\n  </tbody>\n</table>\n</div>"
     },
     "metadata": {},
     "execution_count": 8
    }
   ],
   "source": [
    "more_feats = [\n",
    "    'DIAMETER',\n",
    "    'MATERIAL',\n",
    "    'INSTYEAR',\n",
    "    'MUSYM',\n",
    "    'Dist_Rail',\n",
    "]\n",
    "\n",
    "filtered_pipes = filtered[more_feats]\n",
    "filtered_pipes.head()"
   ]
  },
  {
   "cell_type": "code",
   "execution_count": 204,
   "metadata": {
    "tags": []
   },
   "outputs": [
    {
     "output_type": "stream",
     "name": "stdout",
     "text": "['10TH AVE' 'KIRKLAND CIR' '4TH ST' '17TH AVE W' '9TH AVE' '5TH AVE'\n '3RD ST' 'KIRKLAND WAY' '8TH LN' '15TH AVE' 'KIRKLAND AVE' 'NE 68TH ST'\n '19TH AVE' '8TH AVE' 'NE 45TH ST' ' ' '1ST ST' 'NE 44TH ST' 'NE 68TH PL'\n '6TH ST' '106TH AVE NE' '6TH AVE' '5TH ST' '7TH AVE' '109TH PL NE'\n '10TH AVE S' '5TH AVE S' 'LAKEVIEW DR' '5TH ST S' '6TH ST S' 'STATE ST S']\n"
    },
    {
     "output_type": "execute_result",
     "data": {
      "text/plain": "      FID_WA_Mai  TYPE  LENGTH  DIAMETER MATERIAL  INSTYEAR MUSYM  Dist_Rail  \\\n3851         709  DIST    34.0       8.0       AC      1968   AmC      14000   \n\n      FULL_STRNA SPEED           FUNC_CLASS  SLOPE  \n3851  17TH AVE W    25  NEIGHBORHOOD ACCESS    0.5  ",
      "text/html": "<div>\n<style scoped>\n    .dataframe tbody tr th:only-of-type {\n        vertical-align: middle;\n    }\n\n    .dataframe tbody tr th {\n        vertical-align: top;\n    }\n\n    .dataframe thead th {\n        text-align: right;\n    }\n</style>\n<table border=\"1\" class=\"dataframe\">\n  <thead>\n    <tr style=\"text-align: right;\">\n      <th></th>\n      <th>FID_WA_Mai</th>\n      <th>TYPE</th>\n      <th>LENGTH</th>\n      <th>DIAMETER</th>\n      <th>MATERIAL</th>\n      <th>INSTYEAR</th>\n      <th>MUSYM</th>\n      <th>Dist_Rail</th>\n      <th>FULL_STRNA</th>\n      <th>SPEED</th>\n      <th>FUNC_CLASS</th>\n      <th>SLOPE</th>\n    </tr>\n  </thead>\n  <tbody>\n    <tr>\n      <th>3851</th>\n      <td>709</td>\n      <td>DIST</td>\n      <td>34.0</td>\n      <td>8.0</td>\n      <td>AC</td>\n      <td>1968</td>\n      <td>AmC</td>\n      <td>14000</td>\n      <td>17TH AVE W</td>\n      <td>25</td>\n      <td>NEIGHBORHOOD ACCESS</td>\n      <td>0.5</td>\n    </tr>\n  </tbody>\n</table>\n</div>"
     },
     "metadata": {},
     "execution_count": 204
    }
   ],
   "source": [
    "break_1_9_04 = filtered[(filtered['FULL_STRNA'] == '16TH AVE W')] #& (filtered['INSTYEAR'] < 2005) & (filtered['INSTYEAR'] > 2003)]\n",
    "break_1_9_04 = break_1_9_04[break_1_9_04['INSTYEAR'] == 2004]\n",
    "break_1_9_04\n",
    "\n",
    "nearby = filtered[(filtered['FULL_STRNA'] == '16TH AVE W') & (filtered['INSTYEAR'] != 2004) & (filtered['Dist_Rail'] == 15000) & (filtered['DIAMETER'] == 8.0)] \n",
    "nearby\n",
    "\n",
    "similar = filtered[(filtered['DIAMETER'] == 8.0) & (filtered['MATERIAL'] == 'AC') & (filtered['MUSYM'] == 'AmC')]\n",
    "print(similar['FULL_STRNA'].unique())\n",
    "\n",
    "similar = similar[(similar['FULL_STRNA'] == '17TH AVE W')]\n",
    "similar"
   ]
  },
  {
   "cell_type": "code",
   "execution_count": 205,
   "metadata": {
    "tags": []
   },
   "outputs": [
    {
     "output_type": "stream",
     "name": "stdout",
     "text": "['10TH AVE' 'KIRKLAND CIR' '4TH ST' '17TH AVE W' '9TH AVE' '5TH AVE'\n '3RD ST' 'KIRKLAND WAY' '8TH LN' '15TH AVE' 'KIRKLAND AVE' 'NE 68TH ST'\n '19TH AVE' '8TH AVE' 'NE 45TH ST' ' ' '1ST ST' 'NE 44TH ST' 'NE 68TH PL'\n '6TH ST' '106TH AVE NE' '6TH AVE' '5TH ST' '7TH AVE' '109TH PL NE'\n '10TH AVE S' '5TH AVE S' 'LAKEVIEW DR' '5TH ST S' '6TH ST S' 'STATE ST S']\n"
    },
    {
     "output_type": "execute_result",
     "data": {
      "text/plain": "      FID_WA_Mai  TYPE  LENGTH  DIAMETER MATERIAL  INSTYEAR MUSYM  Dist_Rail  \\\n3851         709  DIST    34.0       8.0       AC      1968   AmC      14000   \n\n      FULL_STRNA SPEED           FUNC_CLASS  SLOPE  \n3851  17TH AVE W    25  NEIGHBORHOOD ACCESS    0.5  ",
      "text/html": "<div>\n<style scoped>\n    .dataframe tbody tr th:only-of-type {\n        vertical-align: middle;\n    }\n\n    .dataframe tbody tr th {\n        vertical-align: top;\n    }\n\n    .dataframe thead th {\n        text-align: right;\n    }\n</style>\n<table border=\"1\" class=\"dataframe\">\n  <thead>\n    <tr style=\"text-align: right;\">\n      <th></th>\n      <th>FID_WA_Mai</th>\n      <th>TYPE</th>\n      <th>LENGTH</th>\n      <th>DIAMETER</th>\n      <th>MATERIAL</th>\n      <th>INSTYEAR</th>\n      <th>MUSYM</th>\n      <th>Dist_Rail</th>\n      <th>FULL_STRNA</th>\n      <th>SPEED</th>\n      <th>FUNC_CLASS</th>\n      <th>SLOPE</th>\n    </tr>\n  </thead>\n  <tbody>\n    <tr>\n      <th>3851</th>\n      <td>709</td>\n      <td>DIST</td>\n      <td>34.0</td>\n      <td>8.0</td>\n      <td>AC</td>\n      <td>1968</td>\n      <td>AmC</td>\n      <td>14000</td>\n      <td>17TH AVE W</td>\n      <td>25</td>\n      <td>NEIGHBORHOOD ACCESS</td>\n      <td>0.5</td>\n    </tr>\n  </tbody>\n</table>\n</div>"
     },
     "metadata": {},
     "execution_count": 205
    }
   ],
   "source": [
    "break_1_21_04 = filtered[(filtered['FULL_STRNA'] == '16TH AVE W') & (filtered['INSTYEAR'] == 2004)]\n",
    "break_1_21_04\n",
    "\n",
    "nearby = filtered[(filtered['FULL_STRNA'] == '16TH AVE W') & (filtered['INSTYEAR'] != 2004)] #& (filtered['Dist_Rail'] == 15000) & (filtered['DIAMETER'] == 6.0)] \n",
    "\n",
    "\n",
    "similar = filtered[(filtered['DIAMETER'] == 8.0) & (filtered['MATERIAL'] == 'AC') & (filtered['MUSYM'] == 'AmC')]\n",
    "print(similar['FULL_STRNA'].unique())\n",
    "\n",
    "similar = similar[(similar['FULL_STRNA'] == '17TH AVE W')]\n",
    "similar"
   ]
  },
  {
   "cell_type": "code",
   "execution_count": 197,
   "metadata": {},
   "outputs": [
    {
     "output_type": "execute_result",
     "data": {
      "text/plain": "       FID_WA_Mai  TYPE  LENGTH  DIAMETER MATERIAL  INSTYEAR MUSYM  Dist_Rail  \\\n22011        3634  DIST     1.0       8.0       AC      1976   KpB       7000   \n22012        3635  DIST     5.0      12.0       AC      1971   KpB       7000   \n39310        6927  DIST   261.0       8.0       AC      1976   KpB       7000   \n\n       FULL_STRNA SPEED           FUNC_CLASS     SLOPE  \n22011  NE 59TH ST    25  NEIGHBORHOOD ACCESS  1.000000  \n22012  NE 59TH ST    25  NEIGHBORHOOD ACCESS  1.000000  \n39310  NE 59TH ST    25  NEIGHBORHOOD ACCESS  2.586207  ",
      "text/html": "<div>\n<style scoped>\n    .dataframe tbody tr th:only-of-type {\n        vertical-align: middle;\n    }\n\n    .dataframe tbody tr th {\n        vertical-align: top;\n    }\n\n    .dataframe thead th {\n        text-align: right;\n    }\n</style>\n<table border=\"1\" class=\"dataframe\">\n  <thead>\n    <tr style=\"text-align: right;\">\n      <th></th>\n      <th>FID_WA_Mai</th>\n      <th>TYPE</th>\n      <th>LENGTH</th>\n      <th>DIAMETER</th>\n      <th>MATERIAL</th>\n      <th>INSTYEAR</th>\n      <th>MUSYM</th>\n      <th>Dist_Rail</th>\n      <th>FULL_STRNA</th>\n      <th>SPEED</th>\n      <th>FUNC_CLASS</th>\n      <th>SLOPE</th>\n    </tr>\n  </thead>\n  <tbody>\n    <tr>\n      <th>22011</th>\n      <td>3634</td>\n      <td>DIST</td>\n      <td>1.0</td>\n      <td>8.0</td>\n      <td>AC</td>\n      <td>1976</td>\n      <td>KpB</td>\n      <td>7000</td>\n      <td>NE 59TH ST</td>\n      <td>25</td>\n      <td>NEIGHBORHOOD ACCESS</td>\n      <td>1.000000</td>\n    </tr>\n    <tr>\n      <th>22012</th>\n      <td>3635</td>\n      <td>DIST</td>\n      <td>5.0</td>\n      <td>12.0</td>\n      <td>AC</td>\n      <td>1971</td>\n      <td>KpB</td>\n      <td>7000</td>\n      <td>NE 59TH ST</td>\n      <td>25</td>\n      <td>NEIGHBORHOOD ACCESS</td>\n      <td>1.000000</td>\n    </tr>\n    <tr>\n      <th>39310</th>\n      <td>6927</td>\n      <td>DIST</td>\n      <td>261.0</td>\n      <td>8.0</td>\n      <td>AC</td>\n      <td>1976</td>\n      <td>KpB</td>\n      <td>7000</td>\n      <td>NE 59TH ST</td>\n      <td>25</td>\n      <td>NEIGHBORHOOD ACCESS</td>\n      <td>2.586207</td>\n    </tr>\n  </tbody>\n</table>\n</div>"
     },
     "metadata": {},
     "execution_count": 197
    }
   ],
   "source": [
    "break_2_25_04 = filtered[(filtered['FULL_STRNA'] == 'NE 59TH ST')]\n",
    "break_2_25_04\n",
    "\n",
    "# THIS WILL LIKELY NEED TO BE altered in data set"
   ]
  },
  {
   "cell_type": "code",
   "execution_count": 42,
   "metadata": {},
   "outputs": [
    {
     "output_type": "execute_result",
     "data": {
      "text/plain": [
       "       FID_WA_Mai  TYPE  LENGTH  DIAMETER MATERIAL  INSTYEAR MUSYM  Dist_Rail  \\\n",
       "26578        4438  DIST   197.0       4.0       AC    1991.0   AmC      12000   \n",
       "40951        7457  DIST   164.0       4.0       AC    1991.0   AmC      12000   \n",
       "40953        7458  DIST     2.0       4.0       AC    1991.0   AmC      12000   \n",
       "40954        7459  DIST     3.0       4.0       AC    1991.0   AmC      12000   \n",
       "40955        7460  DIST     2.0       4.0       AC    1991.0   AmC      12000   \n",
       "\n",
       "      FULL_STRNA SPEED           FUNC_CLASS  SLOPE  \n",
       "26578  2ND AVE S    25  NEIGHBORHOOD ACCESS    1.5  \n",
       "40951  2ND AVE S    25  NEIGHBORHOOD ACCESS    3.0  \n",
       "40953  2ND AVE S    25  NEIGHBORHOOD ACCESS    0.0  \n",
       "40954  2ND AVE S    25  NEIGHBORHOOD ACCESS    1.5  \n",
       "40955  2ND AVE S    25  NEIGHBORHOOD ACCESS    0.5  "
      ],
      "text/html": "<div>\n<style scoped>\n    .dataframe tbody tr th:only-of-type {\n        vertical-align: middle;\n    }\n\n    .dataframe tbody tr th {\n        vertical-align: top;\n    }\n\n    .dataframe thead th {\n        text-align: right;\n    }\n</style>\n<table border=\"1\" class=\"dataframe\">\n  <thead>\n    <tr style=\"text-align: right;\">\n      <th></th>\n      <th>FID_WA_Mai</th>\n      <th>TYPE</th>\n      <th>LENGTH</th>\n      <th>DIAMETER</th>\n      <th>MATERIAL</th>\n      <th>INSTYEAR</th>\n      <th>MUSYM</th>\n      <th>Dist_Rail</th>\n      <th>FULL_STRNA</th>\n      <th>SPEED</th>\n      <th>FUNC_CLASS</th>\n      <th>SLOPE</th>\n    </tr>\n  </thead>\n  <tbody>\n    <tr>\n      <th>26578</th>\n      <td>4438</td>\n      <td>DIST</td>\n      <td>197.0</td>\n      <td>4.0</td>\n      <td>AC</td>\n      <td>1991.0</td>\n      <td>AmC</td>\n      <td>12000</td>\n      <td>2ND AVE S</td>\n      <td>25</td>\n      <td>NEIGHBORHOOD ACCESS</td>\n      <td>1.5</td>\n    </tr>\n    <tr>\n      <th>40951</th>\n      <td>7457</td>\n      <td>DIST</td>\n      <td>164.0</td>\n      <td>4.0</td>\n      <td>AC</td>\n      <td>1991.0</td>\n      <td>AmC</td>\n      <td>12000</td>\n      <td>2ND AVE S</td>\n      <td>25</td>\n      <td>NEIGHBORHOOD ACCESS</td>\n      <td>3.0</td>\n    </tr>\n    <tr>\n      <th>40953</th>\n      <td>7458</td>\n      <td>DIST</td>\n      <td>2.0</td>\n      <td>4.0</td>\n      <td>AC</td>\n      <td>1991.0</td>\n      <td>AmC</td>\n      <td>12000</td>\n      <td>2ND AVE S</td>\n      <td>25</td>\n      <td>NEIGHBORHOOD ACCESS</td>\n      <td>0.0</td>\n    </tr>\n    <tr>\n      <th>40954</th>\n      <td>7459</td>\n      <td>DIST</td>\n      <td>3.0</td>\n      <td>4.0</td>\n      <td>AC</td>\n      <td>1991.0</td>\n      <td>AmC</td>\n      <td>12000</td>\n      <td>2ND AVE S</td>\n      <td>25</td>\n      <td>NEIGHBORHOOD ACCESS</td>\n      <td>1.5</td>\n    </tr>\n    <tr>\n      <th>40955</th>\n      <td>7460</td>\n      <td>DIST</td>\n      <td>2.0</td>\n      <td>4.0</td>\n      <td>AC</td>\n      <td>1991.0</td>\n      <td>AmC</td>\n      <td>12000</td>\n      <td>2ND AVE S</td>\n      <td>25</td>\n      <td>NEIGHBORHOOD ACCESS</td>\n      <td>0.5</td>\n    </tr>\n  </tbody>\n</table>\n</div>"
     },
     "metadata": {},
     "execution_count": 42
    }
   ],
   "source": [
    "break_1_04_07 = pipes[(pipes['INSTYEAR'] == 2007) & (pipes['FULL_STRNA'].str.contains('2ND'))]\n",
    "(break_1_04_07)\n",
    "\n",
    "nearby = pipes[(pipes['INSTYEAR'] < 2007) & (pipes['DIAMETER'] == 4) & (pipes['MATERIAL'] == 'AC') & (pipes['FULL_STRNA'].str.contains('2ND AVE')) & (pipes['Dist_Rail'] == 12000)]\n",
    "nearby"
   ]
  },
  {
   "cell_type": "code",
   "execution_count": 52,
   "metadata": {},
   "outputs": [
    {
     "output_type": "execute_result",
     "data": {
      "text/plain": [
       "       FID_WA_Mai  TYPE  LENGTH  DIAMETER MATERIAL  INSTYEAR MUSYM  Dist_Rail  \\\n",
       "15914        2593  DIST     4.0      12.0       DI    2009.0   AmC      12000   \n",
       "15915        2594  DIST     4.0      12.0       DI    2009.0   AmC      12000   \n",
       "16042        2606  DIST     4.0      12.0       DI    2009.0   AmC      12000   \n",
       "23601        3893  DIST     4.0      12.0       DI    2009.0   AmC      12000   \n",
       "24474        4073  DIST     4.0      12.0       DI    2009.0   AmC      12000   \n",
       "24507        4078  DIST    59.0      12.0       DI    2009.0   AmC      12000   \n",
       "24510        4079  DIST   415.0      12.0       DI    2009.0   AmC      12000   \n",
       "24527        4081  DIST     9.0      12.0       DI    2009.0   AmC      12000   \n",
       "\n",
       "      FULL_STRNA SPEED           FUNC_CLASS  SLOPE  \n",
       "15914    9TH AVE    25  NEIGHBORHOOD ACCESS    1.0  \n",
       "15915    9TH AVE    25  NEIGHBORHOOD ACCESS    1.0  \n",
       "16042    9TH AVE    25  NEIGHBORHOOD ACCESS    1.0  \n",
       "23601    9TH AVE    25  NEIGHBORHOOD ACCESS    1.0  \n",
       "24474    9TH AVE    25  NEIGHBORHOOD ACCESS    0.8  \n",
       "24507    9TH AVE    25  NEIGHBORHOOD ACCESS    1.0  \n",
       "24510    9TH AVE    25  NEIGHBORHOOD ACCESS    1.0  \n",
       "24527    9TH AVE    25  NEIGHBORHOOD ACCESS    1.0  "
      ],
      "text/html": "<div>\n<style scoped>\n    .dataframe tbody tr th:only-of-type {\n        vertical-align: middle;\n    }\n\n    .dataframe tbody tr th {\n        vertical-align: top;\n    }\n\n    .dataframe thead th {\n        text-align: right;\n    }\n</style>\n<table border=\"1\" class=\"dataframe\">\n  <thead>\n    <tr style=\"text-align: right;\">\n      <th></th>\n      <th>FID_WA_Mai</th>\n      <th>TYPE</th>\n      <th>LENGTH</th>\n      <th>DIAMETER</th>\n      <th>MATERIAL</th>\n      <th>INSTYEAR</th>\n      <th>MUSYM</th>\n      <th>Dist_Rail</th>\n      <th>FULL_STRNA</th>\n      <th>SPEED</th>\n      <th>FUNC_CLASS</th>\n      <th>SLOPE</th>\n    </tr>\n  </thead>\n  <tbody>\n    <tr>\n      <th>15914</th>\n      <td>2593</td>\n      <td>DIST</td>\n      <td>4.0</td>\n      <td>12.0</td>\n      <td>DI</td>\n      <td>2009.0</td>\n      <td>AmC</td>\n      <td>12000</td>\n      <td>9TH AVE</td>\n      <td>25</td>\n      <td>NEIGHBORHOOD ACCESS</td>\n      <td>1.0</td>\n    </tr>\n    <tr>\n      <th>15915</th>\n      <td>2594</td>\n      <td>DIST</td>\n      <td>4.0</td>\n      <td>12.0</td>\n      <td>DI</td>\n      <td>2009.0</td>\n      <td>AmC</td>\n      <td>12000</td>\n      <td>9TH AVE</td>\n      <td>25</td>\n      <td>NEIGHBORHOOD ACCESS</td>\n      <td>1.0</td>\n    </tr>\n    <tr>\n      <th>16042</th>\n      <td>2606</td>\n      <td>DIST</td>\n      <td>4.0</td>\n      <td>12.0</td>\n      <td>DI</td>\n      <td>2009.0</td>\n      <td>AmC</td>\n      <td>12000</td>\n      <td>9TH AVE</td>\n      <td>25</td>\n      <td>NEIGHBORHOOD ACCESS</td>\n      <td>1.0</td>\n    </tr>\n    <tr>\n      <th>23601</th>\n      <td>3893</td>\n      <td>DIST</td>\n      <td>4.0</td>\n      <td>12.0</td>\n      <td>DI</td>\n      <td>2009.0</td>\n      <td>AmC</td>\n      <td>12000</td>\n      <td>9TH AVE</td>\n      <td>25</td>\n      <td>NEIGHBORHOOD ACCESS</td>\n      <td>1.0</td>\n    </tr>\n    <tr>\n      <th>24474</th>\n      <td>4073</td>\n      <td>DIST</td>\n      <td>4.0</td>\n      <td>12.0</td>\n      <td>DI</td>\n      <td>2009.0</td>\n      <td>AmC</td>\n      <td>12000</td>\n      <td>9TH AVE</td>\n      <td>25</td>\n      <td>NEIGHBORHOOD ACCESS</td>\n      <td>0.8</td>\n    </tr>\n    <tr>\n      <th>24507</th>\n      <td>4078</td>\n      <td>DIST</td>\n      <td>59.0</td>\n      <td>12.0</td>\n      <td>DI</td>\n      <td>2009.0</td>\n      <td>AmC</td>\n      <td>12000</td>\n      <td>9TH AVE</td>\n      <td>25</td>\n      <td>NEIGHBORHOOD ACCESS</td>\n      <td>1.0</td>\n    </tr>\n    <tr>\n      <th>24510</th>\n      <td>4079</td>\n      <td>DIST</td>\n      <td>415.0</td>\n      <td>12.0</td>\n      <td>DI</td>\n      <td>2009.0</td>\n      <td>AmC</td>\n      <td>12000</td>\n      <td>9TH AVE</td>\n      <td>25</td>\n      <td>NEIGHBORHOOD ACCESS</td>\n      <td>1.0</td>\n    </tr>\n    <tr>\n      <th>24527</th>\n      <td>4081</td>\n      <td>DIST</td>\n      <td>9.0</td>\n      <td>12.0</td>\n      <td>DI</td>\n      <td>2009.0</td>\n      <td>AmC</td>\n      <td>12000</td>\n      <td>9TH AVE</td>\n      <td>25</td>\n      <td>NEIGHBORHOOD ACCESS</td>\n      <td>1.0</td>\n    </tr>\n  </tbody>\n</table>\n</div>"
     },
     "metadata": {},
     "execution_count": 52
    }
   ],
   "source": [
    "break_10_08_07 = pipes[(pipes['INSTYEAR'] == 2009) & (pipes['FULL_STRNA'].str.contains('9TH AVE'))]\n",
    "break_10_08_07"
   ]
  },
  {
   "cell_type": "code",
   "execution_count": 69,
   "metadata": {},
   "outputs": [
    {
     "output_type": "execute_result",
     "data": {
      "text/plain": [
       "       FID_WA_Mai  TYPE  LENGTH  DIAMETER MATERIAL  INSTYEAR MUSYM  Dist_Rail  \\\n",
       "9492         1616  DIST   622.0       6.0       AC    1968.0   InC      12000   \n",
       "9509         1617  DIST     1.0       6.0       AC    1968.0   InC      12000   \n",
       "10655        1820  DIST   182.0       8.0       DI    1993.0   InC      11000   \n",
       "10663        1821  DIST   272.0       8.0       DI    1993.0   InC      11000   \n",
       "10698        1823  DIST    32.0       6.0       AC    1968.0   InC      12000   \n",
       "15501        2536  DIST   270.0       8.0       DI    2005.0   InC      12000   \n",
       "35749        6006  DIST    12.0       8.0       DI    2005.0   InC      12000   \n",
       "35750        6007  DIST   294.0       8.0       DI    1993.0   InC      12000   \n",
       "36467        6138  DIST   592.0       8.0       DI    1997.0   AmC      13000   \n",
       "\n",
       "      FULL_STRNA SPEED           FUNC_CLASS     SLOPE  \n",
       "9492    20TH AVE    25  NEIGHBORHOOD ACCESS  1.058824  \n",
       "9509    20TH AVE    25  NEIGHBORHOOD ACCESS  0.000000  \n",
       "10655   20TH AVE    25  NEIGHBORHOOD ACCESS  2.125000  \n",
       "10663   20TH AVE    25  NEIGHBORHOOD ACCESS  2.800000  \n",
       "10698   20TH AVE    25  NEIGHBORHOOD ACCESS  0.000000  \n",
       "15501   20TH AVE    25  NEIGHBORHOOD ACCESS  2.600000  \n",
       "35749   20TH AVE    25  NEIGHBORHOOD ACCESS  3.000000  \n",
       "35750   20TH AVE    25  NEIGHBORHOOD ACCESS  2.000000  \n",
       "36467   20TH AVE    25  NEIGHBORHOOD ACCESS  1.842105  "
      ],
      "text/html": "<div>\n<style scoped>\n    .dataframe tbody tr th:only-of-type {\n        vertical-align: middle;\n    }\n\n    .dataframe tbody tr th {\n        vertical-align: top;\n    }\n\n    .dataframe thead th {\n        text-align: right;\n    }\n</style>\n<table border=\"1\" class=\"dataframe\">\n  <thead>\n    <tr style=\"text-align: right;\">\n      <th></th>\n      <th>FID_WA_Mai</th>\n      <th>TYPE</th>\n      <th>LENGTH</th>\n      <th>DIAMETER</th>\n      <th>MATERIAL</th>\n      <th>INSTYEAR</th>\n      <th>MUSYM</th>\n      <th>Dist_Rail</th>\n      <th>FULL_STRNA</th>\n      <th>SPEED</th>\n      <th>FUNC_CLASS</th>\n      <th>SLOPE</th>\n    </tr>\n  </thead>\n  <tbody>\n    <tr>\n      <th>9492</th>\n      <td>1616</td>\n      <td>DIST</td>\n      <td>622.0</td>\n      <td>6.0</td>\n      <td>AC</td>\n      <td>1968.0</td>\n      <td>InC</td>\n      <td>12000</td>\n      <td>20TH AVE</td>\n      <td>25</td>\n      <td>NEIGHBORHOOD ACCESS</td>\n      <td>1.058824</td>\n    </tr>\n    <tr>\n      <th>9509</th>\n      <td>1617</td>\n      <td>DIST</td>\n      <td>1.0</td>\n      <td>6.0</td>\n      <td>AC</td>\n      <td>1968.0</td>\n      <td>InC</td>\n      <td>12000</td>\n      <td>20TH AVE</td>\n      <td>25</td>\n      <td>NEIGHBORHOOD ACCESS</td>\n      <td>0.000000</td>\n    </tr>\n    <tr>\n      <th>10655</th>\n      <td>1820</td>\n      <td>DIST</td>\n      <td>182.0</td>\n      <td>8.0</td>\n      <td>DI</td>\n      <td>1993.0</td>\n      <td>InC</td>\n      <td>11000</td>\n      <td>20TH AVE</td>\n      <td>25</td>\n      <td>NEIGHBORHOOD ACCESS</td>\n      <td>2.125000</td>\n    </tr>\n    <tr>\n      <th>10663</th>\n      <td>1821</td>\n      <td>DIST</td>\n      <td>272.0</td>\n      <td>8.0</td>\n      <td>DI</td>\n      <td>1993.0</td>\n      <td>InC</td>\n      <td>11000</td>\n      <td>20TH AVE</td>\n      <td>25</td>\n      <td>NEIGHBORHOOD ACCESS</td>\n      <td>2.800000</td>\n    </tr>\n    <tr>\n      <th>10698</th>\n      <td>1823</td>\n      <td>DIST</td>\n      <td>32.0</td>\n      <td>6.0</td>\n      <td>AC</td>\n      <td>1968.0</td>\n      <td>InC</td>\n      <td>12000</td>\n      <td>20TH AVE</td>\n      <td>25</td>\n      <td>NEIGHBORHOOD ACCESS</td>\n      <td>0.000000</td>\n    </tr>\n    <tr>\n      <th>15501</th>\n      <td>2536</td>\n      <td>DIST</td>\n      <td>270.0</td>\n      <td>8.0</td>\n      <td>DI</td>\n      <td>2005.0</td>\n      <td>InC</td>\n      <td>12000</td>\n      <td>20TH AVE</td>\n      <td>25</td>\n      <td>NEIGHBORHOOD ACCESS</td>\n      <td>2.600000</td>\n    </tr>\n    <tr>\n      <th>35749</th>\n      <td>6006</td>\n      <td>DIST</td>\n      <td>12.0</td>\n      <td>8.0</td>\n      <td>DI</td>\n      <td>2005.0</td>\n      <td>InC</td>\n      <td>12000</td>\n      <td>20TH AVE</td>\n      <td>25</td>\n      <td>NEIGHBORHOOD ACCESS</td>\n      <td>3.000000</td>\n    </tr>\n    <tr>\n      <th>35750</th>\n      <td>6007</td>\n      <td>DIST</td>\n      <td>294.0</td>\n      <td>8.0</td>\n      <td>DI</td>\n      <td>1993.0</td>\n      <td>InC</td>\n      <td>12000</td>\n      <td>20TH AVE</td>\n      <td>25</td>\n      <td>NEIGHBORHOOD ACCESS</td>\n      <td>2.000000</td>\n    </tr>\n    <tr>\n      <th>36467</th>\n      <td>6138</td>\n      <td>DIST</td>\n      <td>592.0</td>\n      <td>8.0</td>\n      <td>DI</td>\n      <td>1997.0</td>\n      <td>AmC</td>\n      <td>13000</td>\n      <td>20TH AVE</td>\n      <td>25</td>\n      <td>NEIGHBORHOOD ACCESS</td>\n      <td>1.842105</td>\n    </tr>\n  </tbody>\n</table>\n</div>"
     },
     "metadata": {},
     "execution_count": 69
    }
   ],
   "source": [
    "break_11_2_07 = pipes[(pipes['INSTYEAR'] == 2008) & (pipes['FULL_STRNA'] == '20TH AVE')]\n",
    "break_11_2_07\n",
    "\n",
    "nearby = pipes[(pipes['INSTYEAR'] < 2007) & (pipes['FULL_STRNA'] == '20TH AVE')]\n",
    "nearby\n",
    "\n",
    "similar = pipes[(pipes['MATERIAL'] == 'AC') & (pipes['DIAMETER'] == 4) & (pipes['MUSYM'] == 'InC') & (pipes['Dist_Rail'] >= 10000)]\n",
    "nearby"
   ]
  },
  {
   "cell_type": "code",
   "execution_count": null,
   "metadata": {},
   "outputs": [],
   "source": []
  }
 ]
}