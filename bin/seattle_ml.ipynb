{
 "metadata": {
  "language_info": {
   "codemirror_mode": {
    "name": "ipython",
    "version": 3
   },
   "file_extension": ".py",
   "mimetype": "text/x-python",
   "name": "python",
   "nbconvert_exporter": "python",
   "pygments_lexer": "ipython3",
   "version": "3.7.7-final"
  },
  "orig_nbformat": 2,
  "kernelspec": {
   "name": "python3",
   "display_name": "Python 3",
   "language": "python"
  }
 },
 "nbformat": 4,
 "nbformat_minor": 2,
 "cells": [
  {
   "cell_type": "code",
   "execution_count": 1,
   "metadata": {},
   "outputs": [],
   "source": [
    "import pandas as pd\n",
    "import numpy as np\n",
    "import seaborn as sns\n",
    "import matplotlib.pyplot as plt"
   ]
  },
  {
   "cell_type": "code",
   "execution_count": 12,
   "metadata": {},
   "outputs": [],
   "source": [
    "test = pd.read_csv('Pipe_data_2014_2016.csv')"
   ]
  },
  {
   "cell_type": "code",
   "execution_count": 13,
   "metadata": {},
   "outputs": [
    {
     "output_type": "execute_result",
     "data": {
      "text/plain": [
       "Index(['Length', 'Install_year', 'Arterial_class', 'Surface_width',\n",
       "       'Speed_limit', 'Slope', 'Width', 'Breaks_nearby_2009',\n",
       "       'Breaks_nearby_2010', 'Breaks_nearby_2011', 'Breaks_nearby_2012',\n",
       "       'Breaks_nearby_2013', 'Breaks_nearby_2014', 'Breaks_nearby_2015',\n",
       "       'Breaks_nearby_2016', 'Breaks_nearby_2017', 'Breaks_nearby_2018',\n",
       "       'Breaks_nearby_2019', 'Breaks_nearby_2020', 'Break_Yr', 'Target',\n",
       "       'Material_ ', 'Material_Acrylonitrile Butadiene Styrene',\n",
       "       'Material_Asbestos Cement', 'Material_Brick', 'Material_Cast Iron Pipe',\n",
       "       'Material_Concrete', 'Material_Corrugated Flexible Plastic',\n",
       "       'Material_Corrugated Metal Pipe', 'Material_Corrugated Rigid Plastic',\n",
       "       'Material_Ductile Iron Pipe', 'Material_High Density Polyethylene',\n",
       "       'Material_Other', 'Material_Polyvinyl Chloride',\n",
       "       'Material_Reinforced Concrete Box', 'Material_Reinforced Concrete Pipe',\n",
       "       'Material_Steel', 'Material_Unknown', 'Material_Vitrified Clay',\n",
       "       'Material_Wood Stave Pipe', 'Soil_type_1025', 'Soil_type_1326',\n",
       "       'Soil_type_3055', 'Soil_type_3056', 'Soil_type_3057', 'Soil_type_3058',\n",
       "       'Soil_type_3059', 'Soil_type_3060', 'Soil_type_3061', 'Soil_type_3062',\n",
       "       'Soil_type_3063', 'Soil_type_3064', 'Soil_type_3065', 'Soil_type_4012',\n",
       "       'Soil_type_988', 'Soil_type_989', 'Soil_type_999', 'Surface_type_ ',\n",
       "       'Surface_type_AC', 'Surface_type_AC/AC', 'Surface_type_AC/PCC',\n",
       "       'Surface_type_GRAVEL', 'Surface_type_PCC', 'Surface_type_ST', 'AGE'],\n",
       "      dtype='object')"
      ]
     },
     "metadata": {},
     "execution_count": 13
    }
   ],
   "source": [
    "test.columns"
   ]
  },
  {
   "cell_type": "code",
   "execution_count": null,
   "metadata": {},
   "outputs": [],
   "source": [
    "# adding columns for breaks within last year\n"
   ]
  }
 ]
}