{
 "metadata": {
  "language_info": {
   "codemirror_mode": {
    "name": "ipython",
    "version": 3
   },
   "file_extension": ".py",
   "mimetype": "text/x-python",
   "name": "python",
   "nbconvert_exporter": "python",
   "pygments_lexer": "ipython3",
   "version": "3.7.4-final"
  },
  "orig_nbformat": 2,
  "kernelspec": {
   "name": "python_defaultSpec_1600105312718",
   "display_name": "Python 3.7.4 64-bit ('test': conda)"
  }
 },
 "nbformat": 4,
 "nbformat_minor": 2,
 "cells": [
  {
   "source": [
    "# Alright lets see what this is all about\n",
    "import numpy\n",
    "import pandas as pd\n",
    "import sklearn\n",
    "print('it worked?')"
   ],
   "cell_type": "code",
   "metadata": {
    "tags": []
   },
   "execution_count": 6,
   "outputs": [
    {
     "output_type": "stream",
     "name": "stdout",
     "text": "it worked?\n"
    }
   ]
  },
  {
   "cell_type": "code",
   "execution_count": 17,
   "metadata": {},
   "outputs": [
    {
     "output_type": "execute_result",
     "data": {
      "text/plain": "       FID_WA_Mai  TYPE  LENGTH  DIAMETER MATERIAL          INSTYEAR MUSYM  \\\n0               1  FIRE     2.0       8.0      UNK               NaN    Ur   \n1               2  FIRE     2.0       2.0      UNK  1/1/1992 0:00:00   AgC   \n2               3  FIRE     1.0       0.0      UNK               NaN   AgC   \n3               4  FIRE     3.0       6.0       DI  1/1/2005 0:00:00    Ur   \n4               5  FIRE   149.0       8.0       AC  1/1/1963 0:00:00    Ur   \n...           ...   ...     ...       ...      ...               ...   ...   \n41816        3963  DIST     1.0      12.0       DI  1/1/1971 0:00:00    No   \n41817        5622  DIST     1.0       8.0       DI  1/1/2003 0:00:00   AgC   \n41818        5623  DIST     1.0       8.0       DI  1/1/2003 0:00:00   AgC   \n41819        1093  DIST    83.0      12.0       DI  1/1/2009 0:00:00   AgC   \n41820        6299  DIST    18.0      12.0       DI               NaN   AgC   \n\n       Dist_Rail  SLP_CLASS  \n0           6000        2.0  \n1           7000        1.0  \n2           6000        0.0  \n3           4000        0.0  \n4           7000        6.0  \n...          ...        ...  \n41816       9000        0.0  \n41817      10000        2.0  \n41818      10000        2.0  \n41819       5000        0.0  \n41820       5000        0.0  \n\n[41821 rows x 9 columns]",
      "text/html": "<div>\n<style scoped>\n    .dataframe tbody tr th:only-of-type {\n        vertical-align: middle;\n    }\n\n    .dataframe tbody tr th {\n        vertical-align: top;\n    }\n\n    .dataframe thead th {\n        text-align: right;\n    }\n</style>\n<table border=\"1\" class=\"dataframe\">\n  <thead>\n    <tr style=\"text-align: right;\">\n      <th></th>\n      <th>FID_WA_Mai</th>\n      <th>TYPE</th>\n      <th>LENGTH</th>\n      <th>DIAMETER</th>\n      <th>MATERIAL</th>\n      <th>INSTYEAR</th>\n      <th>MUSYM</th>\n      <th>Dist_Rail</th>\n      <th>SLP_CLASS</th>\n    </tr>\n  </thead>\n  <tbody>\n    <tr>\n      <th>0</th>\n      <td>1</td>\n      <td>FIRE</td>\n      <td>2.0</td>\n      <td>8.0</td>\n      <td>UNK</td>\n      <td>NaN</td>\n      <td>Ur</td>\n      <td>6000</td>\n      <td>2.0</td>\n    </tr>\n    <tr>\n      <th>1</th>\n      <td>2</td>\n      <td>FIRE</td>\n      <td>2.0</td>\n      <td>2.0</td>\n      <td>UNK</td>\n      <td>1/1/1992 0:00:00</td>\n      <td>AgC</td>\n      <td>7000</td>\n      <td>1.0</td>\n    </tr>\n    <tr>\n      <th>2</th>\n      <td>3</td>\n      <td>FIRE</td>\n      <td>1.0</td>\n      <td>0.0</td>\n      <td>UNK</td>\n      <td>NaN</td>\n      <td>AgC</td>\n      <td>6000</td>\n      <td>0.0</td>\n    </tr>\n    <tr>\n      <th>3</th>\n      <td>4</td>\n      <td>FIRE</td>\n      <td>3.0</td>\n      <td>6.0</td>\n      <td>DI</td>\n      <td>1/1/2005 0:00:00</td>\n      <td>Ur</td>\n      <td>4000</td>\n      <td>0.0</td>\n    </tr>\n    <tr>\n      <th>4</th>\n      <td>5</td>\n      <td>FIRE</td>\n      <td>149.0</td>\n      <td>8.0</td>\n      <td>AC</td>\n      <td>1/1/1963 0:00:00</td>\n      <td>Ur</td>\n      <td>7000</td>\n      <td>6.0</td>\n    </tr>\n    <tr>\n      <th>...</th>\n      <td>...</td>\n      <td>...</td>\n      <td>...</td>\n      <td>...</td>\n      <td>...</td>\n      <td>...</td>\n      <td>...</td>\n      <td>...</td>\n      <td>...</td>\n    </tr>\n    <tr>\n      <th>41816</th>\n      <td>3963</td>\n      <td>DIST</td>\n      <td>1.0</td>\n      <td>12.0</td>\n      <td>DI</td>\n      <td>1/1/1971 0:00:00</td>\n      <td>No</td>\n      <td>9000</td>\n      <td>0.0</td>\n    </tr>\n    <tr>\n      <th>41817</th>\n      <td>5622</td>\n      <td>DIST</td>\n      <td>1.0</td>\n      <td>8.0</td>\n      <td>DI</td>\n      <td>1/1/2003 0:00:00</td>\n      <td>AgC</td>\n      <td>10000</td>\n      <td>2.0</td>\n    </tr>\n    <tr>\n      <th>41818</th>\n      <td>5623</td>\n      <td>DIST</td>\n      <td>1.0</td>\n      <td>8.0</td>\n      <td>DI</td>\n      <td>1/1/2003 0:00:00</td>\n      <td>AgC</td>\n      <td>10000</td>\n      <td>2.0</td>\n    </tr>\n    <tr>\n      <th>41819</th>\n      <td>1093</td>\n      <td>DIST</td>\n      <td>83.0</td>\n      <td>12.0</td>\n      <td>DI</td>\n      <td>1/1/2009 0:00:00</td>\n      <td>AgC</td>\n      <td>5000</td>\n      <td>0.0</td>\n    </tr>\n    <tr>\n      <th>41820</th>\n      <td>6299</td>\n      <td>DIST</td>\n      <td>18.0</td>\n      <td>12.0</td>\n      <td>DI</td>\n      <td>NaN</td>\n      <td>AgC</td>\n      <td>5000</td>\n      <td>0.0</td>\n    </tr>\n  </tbody>\n</table>\n<p>41821 rows × 9 columns</p>\n</div>"
     },
     "metadata": {},
     "execution_count": 17
    }
   ],
   "source": [
    "df = pd.read_csv('Kirk_Stuff.csv')\n",
    "df"
   ]
  },
  {
   "cell_type": "code",
   "execution_count": 13,
   "metadata": {},
   "outputs": [
    {
     "output_type": "execute_result",
     "data": {
      "text/plain": "7650"
     },
     "metadata": {},
     "execution_count": 13
    }
   ],
   "source": [
    "# Get statistics about dataset \n",
    "num_pipes = df['FID_WA_Mai'].unique()\n"
   ]
  },
  {
   "cell_type": "code",
   "execution_count": 31,
   "metadata": {},
   "outputs": [
    {
     "output_type": "execute_result",
     "data": {
      "text/plain": "FID_WA_Mai\n1       2.000000\n2       1.000000\n3       0.000000\n4       0.000000\n5       3.888889\n          ...   \n7739    0.785714\n7740    4.000000\n7741    4.000000\n7742    3.000000\n7743    0.777778\nName: SLP_CLASS, Length: 7650, dtype: float64"
     },
     "metadata": {},
     "execution_count": 31
    }
   ],
   "source": [
    "grouped = df.groupby('FID_WA_Mai')['SLP_CLASS'].mean()\n",
    "grouped"
   ]
  },
  {
   "cell_type": "code",
   "execution_count": null,
   "metadata": {},
   "outputs": [],
   "source": []
  }
 ]
}