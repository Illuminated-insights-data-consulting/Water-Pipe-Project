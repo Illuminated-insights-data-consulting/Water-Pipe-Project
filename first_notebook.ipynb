{
 "metadata": {
  "language_info": {
   "codemirror_mode": {
    "name": "ipython",
    "version": 3
   },
   "file_extension": ".py",
   "mimetype": "text/x-python",
   "name": "python",
   "nbconvert_exporter": "python",
   "pygments_lexer": "ipython3",
   "version": "3.7.4-final"
  },
  "orig_nbformat": 2,
  "kernelspec": {
   "name": "python_defaultSpec_1600303111912",
   "display_name": "Python 3.7.4 64-bit ('test': conda)"
  }
 },
 "nbformat": 4,
 "nbformat_minor": 2,
 "cells": [
  {
   "source": [
    "# Alright lets see what this is all about\n",
    "import numpy as np\n",
    "import pandas as pd\n",
    "import sklearn "
   ],
   "cell_type": "code",
   "metadata": {
    "tags": []
   },
   "execution_count": 9,
   "outputs": []
  },
  {
   "cell_type": "code",
   "execution_count": 10,
   "metadata": {},
   "outputs": [
    {
     "output_type": "execute_result",
     "data": {
      "text/plain": "         FID  FID_WA_Mai  TYPE  LENGTH  DIAMETER MATERIAL          INSTYEAR  \\\n0          0           1  FIRE     2.0       8.0      UNK               NaN   \n1          1           2  FIRE     2.0       2.0      UNK  1/1/1992 0:00:00   \n2          2           3  FIRE     1.0       0.0      UNK               NaN   \n3          3           4  FIRE     3.0       6.0       DI  1/1/2005 0:00:00   \n4          4           5  FIRE   149.0       8.0       AC  1/1/1963 0:00:00   \n...      ...         ...   ...     ...       ...      ...               ...   \n41816  41816        3963  DIST     1.0      12.0       DI  1/1/1971 0:00:00   \n41817  41817        5622  DIST     1.0       8.0       DI  1/1/2003 0:00:00   \n41818  41818        5623  DIST     1.0       8.0       DI  1/1/2003 0:00:00   \n41819  41819        1093  DIST    83.0      12.0       DI  1/1/2009 0:00:00   \n41820  41820        6299  DIST    18.0      12.0       DI               NaN   \n\n      MUSYM  Dist_Rail  SLP_CLASS               FULL_STRNA SPEED  \\\n0        Ur       6000        2.0             120TH AVE NE    25   \n1       AgC       7000        1.0              122ND LN NE    25   \n2       AgC       6000        0.0             124TH AVE NE    35   \n3        Ur       4000        0.0  LAKE WASHINGTON BLVD NE    35   \n4        Ur       7000        6.0                                  \n...     ...        ...        ...                      ...   ...   \n41816    No       9000        0.0             120TH AVE NE    25   \n41817   AgC      10000        2.0             117TH AVE NE    25   \n41818   AgC      10000        2.0             117TH AVE NE    25   \n41819   AgC       5000        0.0              NE 115TH PL    35   \n41820   AgC       5000        0.0              NE 115TH PL    35   \n\n                FUNC_CLASS  \n0           MINOR ARTERIAL  \n1      NEIGHBORHOOD ACCESS  \n2       PRINCIPAL ARTERIAL  \n3       PRINCIPAL ARTERIAL  \n4                           \n...                    ...  \n41816            COLLECTOR  \n41817  NEIGHBORHOOD ACCESS  \n41818  NEIGHBORHOOD ACCESS  \n41819            COLLECTOR  \n41820            COLLECTOR  \n\n[41821 rows x 13 columns]",
      "text/html": "<div>\n<style scoped>\n    .dataframe tbody tr th:only-of-type {\n        vertical-align: middle;\n    }\n\n    .dataframe tbody tr th {\n        vertical-align: top;\n    }\n\n    .dataframe thead th {\n        text-align: right;\n    }\n</style>\n<table border=\"1\" class=\"dataframe\">\n  <thead>\n    <tr style=\"text-align: right;\">\n      <th></th>\n      <th>FID</th>\n      <th>FID_WA_Mai</th>\n      <th>TYPE</th>\n      <th>LENGTH</th>\n      <th>DIAMETER</th>\n      <th>MATERIAL</th>\n      <th>INSTYEAR</th>\n      <th>MUSYM</th>\n      <th>Dist_Rail</th>\n      <th>SLP_CLASS</th>\n      <th>FULL_STRNA</th>\n      <th>SPEED</th>\n      <th>FUNC_CLASS</th>\n    </tr>\n  </thead>\n  <tbody>\n    <tr>\n      <th>0</th>\n      <td>0</td>\n      <td>1</td>\n      <td>FIRE</td>\n      <td>2.0</td>\n      <td>8.0</td>\n      <td>UNK</td>\n      <td>NaN</td>\n      <td>Ur</td>\n      <td>6000</td>\n      <td>2.0</td>\n      <td>120TH AVE NE</td>\n      <td>25</td>\n      <td>MINOR ARTERIAL</td>\n    </tr>\n    <tr>\n      <th>1</th>\n      <td>1</td>\n      <td>2</td>\n      <td>FIRE</td>\n      <td>2.0</td>\n      <td>2.0</td>\n      <td>UNK</td>\n      <td>1/1/1992 0:00:00</td>\n      <td>AgC</td>\n      <td>7000</td>\n      <td>1.0</td>\n      <td>122ND LN NE</td>\n      <td>25</td>\n      <td>NEIGHBORHOOD ACCESS</td>\n    </tr>\n    <tr>\n      <th>2</th>\n      <td>2</td>\n      <td>3</td>\n      <td>FIRE</td>\n      <td>1.0</td>\n      <td>0.0</td>\n      <td>UNK</td>\n      <td>NaN</td>\n      <td>AgC</td>\n      <td>6000</td>\n      <td>0.0</td>\n      <td>124TH AVE NE</td>\n      <td>35</td>\n      <td>PRINCIPAL ARTERIAL</td>\n    </tr>\n    <tr>\n      <th>3</th>\n      <td>3</td>\n      <td>4</td>\n      <td>FIRE</td>\n      <td>3.0</td>\n      <td>6.0</td>\n      <td>DI</td>\n      <td>1/1/2005 0:00:00</td>\n      <td>Ur</td>\n      <td>4000</td>\n      <td>0.0</td>\n      <td>LAKE WASHINGTON BLVD NE</td>\n      <td>35</td>\n      <td>PRINCIPAL ARTERIAL</td>\n    </tr>\n    <tr>\n      <th>4</th>\n      <td>4</td>\n      <td>5</td>\n      <td>FIRE</td>\n      <td>149.0</td>\n      <td>8.0</td>\n      <td>AC</td>\n      <td>1/1/1963 0:00:00</td>\n      <td>Ur</td>\n      <td>7000</td>\n      <td>6.0</td>\n      <td></td>\n      <td></td>\n      <td></td>\n    </tr>\n    <tr>\n      <th>...</th>\n      <td>...</td>\n      <td>...</td>\n      <td>...</td>\n      <td>...</td>\n      <td>...</td>\n      <td>...</td>\n      <td>...</td>\n      <td>...</td>\n      <td>...</td>\n      <td>...</td>\n      <td>...</td>\n      <td>...</td>\n      <td>...</td>\n    </tr>\n    <tr>\n      <th>41816</th>\n      <td>41816</td>\n      <td>3963</td>\n      <td>DIST</td>\n      <td>1.0</td>\n      <td>12.0</td>\n      <td>DI</td>\n      <td>1/1/1971 0:00:00</td>\n      <td>No</td>\n      <td>9000</td>\n      <td>0.0</td>\n      <td>120TH AVE NE</td>\n      <td>25</td>\n      <td>COLLECTOR</td>\n    </tr>\n    <tr>\n      <th>41817</th>\n      <td>41817</td>\n      <td>5622</td>\n      <td>DIST</td>\n      <td>1.0</td>\n      <td>8.0</td>\n      <td>DI</td>\n      <td>1/1/2003 0:00:00</td>\n      <td>AgC</td>\n      <td>10000</td>\n      <td>2.0</td>\n      <td>117TH AVE NE</td>\n      <td>25</td>\n      <td>NEIGHBORHOOD ACCESS</td>\n    </tr>\n    <tr>\n      <th>41818</th>\n      <td>41818</td>\n      <td>5623</td>\n      <td>DIST</td>\n      <td>1.0</td>\n      <td>8.0</td>\n      <td>DI</td>\n      <td>1/1/2003 0:00:00</td>\n      <td>AgC</td>\n      <td>10000</td>\n      <td>2.0</td>\n      <td>117TH AVE NE</td>\n      <td>25</td>\n      <td>NEIGHBORHOOD ACCESS</td>\n    </tr>\n    <tr>\n      <th>41819</th>\n      <td>41819</td>\n      <td>1093</td>\n      <td>DIST</td>\n      <td>83.0</td>\n      <td>12.0</td>\n      <td>DI</td>\n      <td>1/1/2009 0:00:00</td>\n      <td>AgC</td>\n      <td>5000</td>\n      <td>0.0</td>\n      <td>NE 115TH PL</td>\n      <td>35</td>\n      <td>COLLECTOR</td>\n    </tr>\n    <tr>\n      <th>41820</th>\n      <td>41820</td>\n      <td>6299</td>\n      <td>DIST</td>\n      <td>18.0</td>\n      <td>12.0</td>\n      <td>DI</td>\n      <td>NaN</td>\n      <td>AgC</td>\n      <td>5000</td>\n      <td>0.0</td>\n      <td>NE 115TH PL</td>\n      <td>35</td>\n      <td>COLLECTOR</td>\n    </tr>\n  </tbody>\n</table>\n<p>41821 rows × 13 columns</p>\n</div>"
     },
     "metadata": {},
     "execution_count": 10
    }
   ],
   "source": [
    "df = pd.read_csv('Kirk_All.csv')\n",
    "df\n"
   ]
  },
  {
   "cell_type": "code",
   "execution_count": 11,
   "metadata": {
    "tags": []
   },
   "outputs": [],
   "source": [
    "grouping = df.groupby('FID_WA_Mai').groups\n",
    "unique_pipes = df['FID_WA_Mai'].unique()\n",
    "indices = []\n",
    "for i in range(len(unique_pipes)):\n",
    "    pipe = unique_pipes[i]\n",
    "    val = grouping[pipe][0]\n",
    "    indices.append(val)"
   ]
  },
  {
   "cell_type": "code",
   "execution_count": 17,
   "metadata": {},
   "outputs": [
    {
     "output_type": "execute_result",
     "data": {
      "text/plain": "       FID_WA_Mai  TYPE  LENGTH  DIAMETER MATERIAL          INSTYEAR MUSYM  \\\n0               1  FIRE     2.0       8.0      UNK               NaN    Ur   \n1               2  FIRE     2.0       2.0      UNK  1/1/1992 0:00:00   AgC   \n2               3  FIRE     1.0       0.0      UNK               NaN   AgC   \n3               4  FIRE     3.0       6.0       DI  1/1/2005 0:00:00    Ur   \n4               5  FIRE   149.0       8.0       AC  1/1/1963 0:00:00    Ur   \n...           ...   ...     ...       ...      ...               ...   ...   \n41801        7742  DIST    15.0       8.0       DI  1/1/2017 0:00:00   AgD   \n41804        7743  DIST   296.0       8.0       AC  1/1/1943 0:00:00   AgC   \n41816        3963  DIST     1.0      12.0       DI  1/1/1971 0:00:00    No   \n41817        5622  DIST     1.0       8.0       DI  1/1/2003 0:00:00   AgC   \n41818        5623  DIST     1.0       8.0       DI  1/1/2003 0:00:00   AgC   \n\n       Dist_Rail               FULL_STRNA SPEED           FUNC_CLASS     SLOPE  \n0           6000             120TH AVE NE    25       MINOR ARTERIAL  2.000000  \n1           7000              122ND LN NE    25  NEIGHBORHOOD ACCESS  1.000000  \n2           6000             124TH AVE NE    35   PRINCIPAL ARTERIAL  0.000000  \n3           4000  LAKE WASHINGTON BLVD NE    35   PRINCIPAL ARTERIAL  0.000000  \n4           7000                                                      3.888889  \n...          ...                      ...   ...                  ...       ...  \n41801       5000              96TH AVE NE    25  NEIGHBORHOOD ACCESS  0.785714  \n41804       9000               NE 68TH ST    25       MINOR ARTERIAL  4.000000  \n41816       9000             120TH AVE NE    25            COLLECTOR  4.000000  \n41817      10000             117TH AVE NE    25  NEIGHBORHOOD ACCESS  3.000000  \n41818      10000             117TH AVE NE    25  NEIGHBORHOOD ACCESS  0.777778  \n\n[7650 rows x 12 columns]",
      "text/html": "<div>\n<style scoped>\n    .dataframe tbody tr th:only-of-type {\n        vertical-align: middle;\n    }\n\n    .dataframe tbody tr th {\n        vertical-align: top;\n    }\n\n    .dataframe thead th {\n        text-align: right;\n    }\n</style>\n<table border=\"1\" class=\"dataframe\">\n  <thead>\n    <tr style=\"text-align: right;\">\n      <th></th>\n      <th>FID_WA_Mai</th>\n      <th>TYPE</th>\n      <th>LENGTH</th>\n      <th>DIAMETER</th>\n      <th>MATERIAL</th>\n      <th>INSTYEAR</th>\n      <th>MUSYM</th>\n      <th>Dist_Rail</th>\n      <th>FULL_STRNA</th>\n      <th>SPEED</th>\n      <th>FUNC_CLASS</th>\n      <th>SLOPE</th>\n    </tr>\n  </thead>\n  <tbody>\n    <tr>\n      <th>0</th>\n      <td>1</td>\n      <td>FIRE</td>\n      <td>2.0</td>\n      <td>8.0</td>\n      <td>UNK</td>\n      <td>NaN</td>\n      <td>Ur</td>\n      <td>6000</td>\n      <td>120TH AVE NE</td>\n      <td>25</td>\n      <td>MINOR ARTERIAL</td>\n      <td>2.000000</td>\n    </tr>\n    <tr>\n      <th>1</th>\n      <td>2</td>\n      <td>FIRE</td>\n      <td>2.0</td>\n      <td>2.0</td>\n      <td>UNK</td>\n      <td>1/1/1992 0:00:00</td>\n      <td>AgC</td>\n      <td>7000</td>\n      <td>122ND LN NE</td>\n      <td>25</td>\n      <td>NEIGHBORHOOD ACCESS</td>\n      <td>1.000000</td>\n    </tr>\n    <tr>\n      <th>2</th>\n      <td>3</td>\n      <td>FIRE</td>\n      <td>1.0</td>\n      <td>0.0</td>\n      <td>UNK</td>\n      <td>NaN</td>\n      <td>AgC</td>\n      <td>6000</td>\n      <td>124TH AVE NE</td>\n      <td>35</td>\n      <td>PRINCIPAL ARTERIAL</td>\n      <td>0.000000</td>\n    </tr>\n    <tr>\n      <th>3</th>\n      <td>4</td>\n      <td>FIRE</td>\n      <td>3.0</td>\n      <td>6.0</td>\n      <td>DI</td>\n      <td>1/1/2005 0:00:00</td>\n      <td>Ur</td>\n      <td>4000</td>\n      <td>LAKE WASHINGTON BLVD NE</td>\n      <td>35</td>\n      <td>PRINCIPAL ARTERIAL</td>\n      <td>0.000000</td>\n    </tr>\n    <tr>\n      <th>4</th>\n      <td>5</td>\n      <td>FIRE</td>\n      <td>149.0</td>\n      <td>8.0</td>\n      <td>AC</td>\n      <td>1/1/1963 0:00:00</td>\n      <td>Ur</td>\n      <td>7000</td>\n      <td></td>\n      <td></td>\n      <td></td>\n      <td>3.888889</td>\n    </tr>\n    <tr>\n      <th>...</th>\n      <td>...</td>\n      <td>...</td>\n      <td>...</td>\n      <td>...</td>\n      <td>...</td>\n      <td>...</td>\n      <td>...</td>\n      <td>...</td>\n      <td>...</td>\n      <td>...</td>\n      <td>...</td>\n      <td>...</td>\n    </tr>\n    <tr>\n      <th>41801</th>\n      <td>7742</td>\n      <td>DIST</td>\n      <td>15.0</td>\n      <td>8.0</td>\n      <td>DI</td>\n      <td>1/1/2017 0:00:00</td>\n      <td>AgD</td>\n      <td>5000</td>\n      <td>96TH AVE NE</td>\n      <td>25</td>\n      <td>NEIGHBORHOOD ACCESS</td>\n      <td>0.785714</td>\n    </tr>\n    <tr>\n      <th>41804</th>\n      <td>7743</td>\n      <td>DIST</td>\n      <td>296.0</td>\n      <td>8.0</td>\n      <td>AC</td>\n      <td>1/1/1943 0:00:00</td>\n      <td>AgC</td>\n      <td>9000</td>\n      <td>NE 68TH ST</td>\n      <td>25</td>\n      <td>MINOR ARTERIAL</td>\n      <td>4.000000</td>\n    </tr>\n    <tr>\n      <th>41816</th>\n      <td>3963</td>\n      <td>DIST</td>\n      <td>1.0</td>\n      <td>12.0</td>\n      <td>DI</td>\n      <td>1/1/1971 0:00:00</td>\n      <td>No</td>\n      <td>9000</td>\n      <td>120TH AVE NE</td>\n      <td>25</td>\n      <td>COLLECTOR</td>\n      <td>4.000000</td>\n    </tr>\n    <tr>\n      <th>41817</th>\n      <td>5622</td>\n      <td>DIST</td>\n      <td>1.0</td>\n      <td>8.0</td>\n      <td>DI</td>\n      <td>1/1/2003 0:00:00</td>\n      <td>AgC</td>\n      <td>10000</td>\n      <td>117TH AVE NE</td>\n      <td>25</td>\n      <td>NEIGHBORHOOD ACCESS</td>\n      <td>3.000000</td>\n    </tr>\n    <tr>\n      <th>41818</th>\n      <td>5623</td>\n      <td>DIST</td>\n      <td>1.0</td>\n      <td>8.0</td>\n      <td>DI</td>\n      <td>1/1/2003 0:00:00</td>\n      <td>AgC</td>\n      <td>10000</td>\n      <td>117TH AVE NE</td>\n      <td>25</td>\n      <td>NEIGHBORHOOD ACCESS</td>\n      <td>0.777778</td>\n    </tr>\n  </tbody>\n</table>\n<p>7650 rows × 12 columns</p>\n</div>"
     },
     "metadata": {},
     "execution_count": 17
    }
   ],
   "source": [
    "filtered = df.loc[indices, 'FID_WA_Mai':'FUNC_CLASS']\n",
    "filtered = filtered.drop('SLP_CLASS', axis=1)\n",
    "filtered['SLOPE'] = slopes.values\n",
    "filtered\n"
   ]
  },
  {
   "cell_type": "code",
   "execution_count": 31,
   "metadata": {
    "tags": []
   },
   "outputs": [
    {
     "output_type": "execute_result",
     "data": {
      "text/plain": "       FID_WA_Mai  TYPE  LENGTH  DIAMETER MATERIAL          INSTYEAR MUSYM  \\\n920           213  DIST     1.0      12.0       DI  1/1/2004 0:00:00   AmC   \n921           214  DIST    39.0       6.0       DI  1/1/2004 0:00:00   AmC   \n924           215  DIST    31.0      12.0       DI  1/1/2004 0:00:00   AmC   \n926           216  DIST     2.0       8.0       DI  1/1/2004 0:00:00   AmC   \n927           217  DIST     2.0      12.0       DI  1/1/2004 0:00:00   AmC   \n928           218  DIST   260.0      12.0       DI  1/1/2004 0:00:00   AmC   \n38391        6682  DIST    28.0       1.5       DI  1/1/2004 0:00:00   AmC   \n\n       Dist_Rail FULL_STRNA SPEED           FUNC_CLASS  SLOPE  \n920        14000     1ST ST    25  NEIGHBORHOOD ACCESS    2.0  \n921        14000     1ST ST    25  NEIGHBORHOOD ACCESS    1.0  \n924        14000     1ST ST    25  NEIGHBORHOOD ACCESS    2.5  \n926        14000     1ST ST    25  NEIGHBORHOOD ACCESS    2.0  \n927        14000     1ST ST    25  NEIGHBORHOOD ACCESS    2.0  \n928        14000     1ST ST    25  NEIGHBORHOOD ACCESS    1.1  \n38391      14000     1ST ST    25  NEIGHBORHOOD ACCESS    1.0  ",
      "text/html": "<div>\n<style scoped>\n    .dataframe tbody tr th:only-of-type {\n        vertical-align: middle;\n    }\n\n    .dataframe tbody tr th {\n        vertical-align: top;\n    }\n\n    .dataframe thead th {\n        text-align: right;\n    }\n</style>\n<table border=\"1\" class=\"dataframe\">\n  <thead>\n    <tr style=\"text-align: right;\">\n      <th></th>\n      <th>FID_WA_Mai</th>\n      <th>TYPE</th>\n      <th>LENGTH</th>\n      <th>DIAMETER</th>\n      <th>MATERIAL</th>\n      <th>INSTYEAR</th>\n      <th>MUSYM</th>\n      <th>Dist_Rail</th>\n      <th>FULL_STRNA</th>\n      <th>SPEED</th>\n      <th>FUNC_CLASS</th>\n      <th>SLOPE</th>\n    </tr>\n  </thead>\n  <tbody>\n    <tr>\n      <th>920</th>\n      <td>213</td>\n      <td>DIST</td>\n      <td>1.0</td>\n      <td>12.0</td>\n      <td>DI</td>\n      <td>1/1/2004 0:00:00</td>\n      <td>AmC</td>\n      <td>14000</td>\n      <td>1ST ST</td>\n      <td>25</td>\n      <td>NEIGHBORHOOD ACCESS</td>\n      <td>2.0</td>\n    </tr>\n    <tr>\n      <th>921</th>\n      <td>214</td>\n      <td>DIST</td>\n      <td>39.0</td>\n      <td>6.0</td>\n      <td>DI</td>\n      <td>1/1/2004 0:00:00</td>\n      <td>AmC</td>\n      <td>14000</td>\n      <td>1ST ST</td>\n      <td>25</td>\n      <td>NEIGHBORHOOD ACCESS</td>\n      <td>1.0</td>\n    </tr>\n    <tr>\n      <th>924</th>\n      <td>215</td>\n      <td>DIST</td>\n      <td>31.0</td>\n      <td>12.0</td>\n      <td>DI</td>\n      <td>1/1/2004 0:00:00</td>\n      <td>AmC</td>\n      <td>14000</td>\n      <td>1ST ST</td>\n      <td>25</td>\n      <td>NEIGHBORHOOD ACCESS</td>\n      <td>2.5</td>\n    </tr>\n    <tr>\n      <th>926</th>\n      <td>216</td>\n      <td>DIST</td>\n      <td>2.0</td>\n      <td>8.0</td>\n      <td>DI</td>\n      <td>1/1/2004 0:00:00</td>\n      <td>AmC</td>\n      <td>14000</td>\n      <td>1ST ST</td>\n      <td>25</td>\n      <td>NEIGHBORHOOD ACCESS</td>\n      <td>2.0</td>\n    </tr>\n    <tr>\n      <th>927</th>\n      <td>217</td>\n      <td>DIST</td>\n      <td>2.0</td>\n      <td>12.0</td>\n      <td>DI</td>\n      <td>1/1/2004 0:00:00</td>\n      <td>AmC</td>\n      <td>14000</td>\n      <td>1ST ST</td>\n      <td>25</td>\n      <td>NEIGHBORHOOD ACCESS</td>\n      <td>2.0</td>\n    </tr>\n    <tr>\n      <th>928</th>\n      <td>218</td>\n      <td>DIST</td>\n      <td>260.0</td>\n      <td>12.0</td>\n      <td>DI</td>\n      <td>1/1/2004 0:00:00</td>\n      <td>AmC</td>\n      <td>14000</td>\n      <td>1ST ST</td>\n      <td>25</td>\n      <td>NEIGHBORHOOD ACCESS</td>\n      <td>1.1</td>\n    </tr>\n    <tr>\n      <th>38391</th>\n      <td>6682</td>\n      <td>DIST</td>\n      <td>28.0</td>\n      <td>1.5</td>\n      <td>DI</td>\n      <td>1/1/2004 0:00:00</td>\n      <td>AmC</td>\n      <td>14000</td>\n      <td>1ST ST</td>\n      <td>25</td>\n      <td>NEIGHBORHOOD ACCESS</td>\n      <td>1.0</td>\n    </tr>\n  </tbody>\n</table>\n</div>"
     },
     "metadata": {},
     "execution_count": 31
    }
   ],
   "source": [
    "idx = df['FULL_STRNA'] == '120TH AVE NE'\n",
    "#filt = df[df['FULL_STRNA'].str.contains('7TH AVE')]\n",
    "filt = df[(df['FULL_STRNA'] == '7TH AVE') & (df['DIAMETER'] == 6.0) & (df['MATERIAL'] == 'CI')]\n",
    "\n",
    "date = filtered[(filtered['FULL_STRNA'].str.contains('1ST')) & (filtered['INSTYEAR'].str.contains('2004'))]\n",
    "date"
   ]
  },
  {
   "cell_type": "code",
   "execution_count": 12,
   "metadata": {
    "tags": []
   },
   "outputs": [
    {
     "output_type": "execute_result",
     "data": {
      "text/plain": "FID_WA_Mai\n1       2.000000\n2       1.000000\n3       0.000000\n4       0.000000\n5       3.888889\n          ...   \n7739    0.785714\n7740    4.000000\n7741    4.000000\n7742    3.000000\n7743    0.777778\nName: SLP_CLASS, Length: 7650, dtype: float64"
     },
     "metadata": {},
     "execution_count": 12
    }
   ],
   "source": [
    "df = pd.read_csv('Kirk_All.csv')\n",
    "slopes = df[['FID_WA_Mai', 'SLP_CLASS']]\n",
    "slopes = slopes.groupby('FID_WA_Mai')['SLP_CLASS'].mean()\n",
    "slopes = pd.Series(slopes)\n",
    "slopes"
   ]
  },
  {
   "cell_type": "code",
   "execution_count": 23,
   "metadata": {},
   "outputs": [
    {
     "output_type": "execute_result",
     "data": {
      "text/plain": "array([nan, '1/1/1992 0:00:00', '1/1/2005 0:00:00', '1/1/1963 0:00:00',\n       '1/1/1978 0:00:00', '1/1/2002 0:00:00', '1/1/2000 0:00:00',\n       '1/1/1990 0:00:00', '1/1/2007 0:00:00', '1/1/1988 0:00:00',\n       '1/1/1997 0:00:00', '1/1/1993 0:00:00', '1/1/2009 0:00:00',\n       '1/1/2003 0:00:00', '1/1/1999 0:00:00', '1/1/1987 0:00:00',\n       '1/1/1996 0:00:00', '1/1/1998 0:00:00', '1/1/2004 0:00:00',\n       '1/1/2006 0:00:00', '1/1/1991 0:00:00', '1/1/1980 0:00:00',\n       '1/1/1989 0:00:00', '1/1/2010 0:00:00', '1/1/1944 0:00:00',\n       '1/1/2001 0:00:00', '1/1/2008 0:00:00', '7/15/1964 0:00:00',\n       '1/1/1983 0:00:00', '1/1/1968 0:00:00', '1/1/1971 0:00:00',\n       '8/5/1960 0:00:00', '1/1/1970 0:00:00', '1/1/1960 0:00:00',\n       '1/1/1943 0:00:00', '1/1/1995 0:00:00', '1/1/1975 0:00:00',\n       '1/1/1961 0:00:00', '1/1/1979 0:00:00', '1/1/1972 0:00:00',\n       '1/1/1953 0:00:00', '1/1/1994 0:00:00', '1/1/1982 0:00:00',\n       '1/1/1976 0:00:00', '1/1/1967 0:00:00', '1/1/1981 0:00:00',\n       '1/1/1951 0:00:00', '1/1/1985 0:00:00', '1/1/1977 0:00:00',\n       '1/1/1986 0:00:00', '1/1/1969 0:00:00', '1/1/1956 0:00:00',\n       '1/1/1984 0:00:00', '1/1/1949 0:00:00', '1/1/1957 0:00:00',\n       '1/1/1942 0:00:00', '1/1/1955 0:00:00', '1/1/1965 0:00:00',\n       '1/1/1973 0:00:00', '1/1/1962 0:00:00', '1/1/2020 0:00:00',\n       '1/1/1964 0:00:00', '1/1/1959 0:00:00', '1/1/1966 0:00:00',\n       '1/1/1974 0:00:00', '1/1/2012 0:00:00', '1/1/2013 0:00:00',\n       '1/1/2018 0:00:00', '1/1/2011 0:00:00', '1/1/2017 0:00:00',\n       '1/1/1952 0:00:00', '1/1/1958 0:00:00', '1/1/1948 0:00:00',\n       '9/7/2012 0:00:00', '1/1/2014 0:00:00', '6/26/2012 0:00:00',\n       '1/1/2015 0:00:00', '1/1/2016 0:00:00', '1/1/2019 0:00:00'],\n      dtype=object)"
     },
     "metadata": {},
     "execution_count": 23
    }
   ],
   "source": [
    "df['INSTYEAR'].unique()"
   ]
  },
  {
   "cell_type": "code",
   "execution_count": 3,
   "metadata": {},
   "outputs": [],
   "source": [
    "# Get statistics about dataset \n",
    "num_pipes = df['FID_WA_Mai'].unique()\n"
   ]
  },
  {
   "cell_type": "code",
   "execution_count": null,
   "metadata": {},
   "outputs": [],
   "source": []
  }
 ]
}