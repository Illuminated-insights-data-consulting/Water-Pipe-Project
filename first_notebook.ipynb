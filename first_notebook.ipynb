{
 "metadata": {
  "language_info": {
   "codemirror_mode": {
    "name": "ipython",
    "version": 3
   },
   "file_extension": ".py",
   "mimetype": "text/x-python",
   "name": "python",
   "nbconvert_exporter": "python",
   "pygments_lexer": "ipython3",
   "version": "3.7.7-final"
  },
  "orig_nbformat": 2,
  "kernelspec": {
   "name": "Python 3.7.7 64-bit (conda)",
   "display_name": "Python 3.7.7 64-bit (conda)",
   "metadata": {
    "interpreter": {
     "hash": "dca0ade3e726a953b501b15e8e990130d2b7799f14cfd9f4271676035ebe5511"
    }
   }
  }
 },
 "nbformat": 4,
 "nbformat_minor": 2,
 "cells": [
  {
   "source": [
    "# Alright lets see what this is all about\n",
    "import numpy as np\n",
    "import pandas as pd\n",
    "import matplotlib.pyplot as plt\n",
    "import sklearn \n",
    "import xgboost as xgb\n",
    "from sklearn.model_selection import train_test_split\n",
    "from sklearn.ensemble import ExtraTreesClassifier\n",
    "from sklearn.metrics import accuracy_score, confusion_matrix, roc_auc_score, roc_curve, plot_roc_curve"
   ],
   "cell_type": "code",
   "metadata": {
    "tags": []
   },
   "execution_count": 1,
   "outputs": []
  },
  {
   "cell_type": "code",
   "execution_count": 7,
   "metadata": {
    "tags": []
   },
   "outputs": [
    {
     "output_type": "error",
     "ename": "FileNotFoundError",
     "evalue": "[Errno 2] File .Kirk_All.csv.icloud does not exist: '.Kirk_All.csv.icloud'",
     "traceback": [
      "\u001b[0;31m---------------------------------------------------------------------------\u001b[0m",
      "\u001b[0;31mFileNotFoundError\u001b[0m                         Traceback (most recent call last)",
      "\u001b[0;32m<ipython-input-7-eefe6558e2c9>\u001b[0m in \u001b[0;36m<module>\u001b[0;34m\u001b[0m\n\u001b[1;32m      1\u001b[0m \u001b[0;31m#LOAD GIS WATERMAIN AND BREAK DATA\u001b[0m\u001b[0;34m\u001b[0m\u001b[0;34m\u001b[0m\u001b[0;34m\u001b[0m\u001b[0m\n\u001b[0;32m----> 2\u001b[0;31m \u001b[0mdf\u001b[0m \u001b[0;34m=\u001b[0m \u001b[0mpd\u001b[0m\u001b[0;34m.\u001b[0m\u001b[0mread_csv\u001b[0m\u001b[0;34m(\u001b[0m\u001b[0;34m'.Kirk_All.csv.icloud'\u001b[0m\u001b[0;34m)\u001b[0m\u001b[0;34m\u001b[0m\u001b[0;34m\u001b[0m\u001b[0m\n\u001b[0m\u001b[1;32m      3\u001b[0m \u001b[0;31m#df.dropna(inplace=True) # Are there any columns where we can deal with NA values?\u001b[0m\u001b[0;34m\u001b[0m\u001b[0;34m\u001b[0m\u001b[0;34m\u001b[0m\u001b[0m\n\u001b[1;32m      4\u001b[0m \u001b[0;31m# Can we use imputation instead?\u001b[0m\u001b[0;34m\u001b[0m\u001b[0;34m\u001b[0m\u001b[0;34m\u001b[0m\u001b[0m\n\u001b[1;32m      5\u001b[0m \u001b[0mbreaks\u001b[0m \u001b[0;34m=\u001b[0m \u001b[0mpd\u001b[0m\u001b[0;34m.\u001b[0m\u001b[0mread_csv\u001b[0m\u001b[0;34m(\u001b[0m\u001b[0;34m'Kirk_Break_Data.csv'\u001b[0m\u001b[0;34m)\u001b[0m\u001b[0;34m\u001b[0m\u001b[0;34m\u001b[0m\u001b[0m\n",
      "\u001b[0;32m/opt/anaconda3/lib/python3.7/site-packages/pandas/io/parsers.py\u001b[0m in \u001b[0;36mparser_f\u001b[0;34m(filepath_or_buffer, sep, delimiter, header, names, index_col, usecols, squeeze, prefix, mangle_dupe_cols, dtype, engine, converters, true_values, false_values, skipinitialspace, skiprows, skipfooter, nrows, na_values, keep_default_na, na_filter, verbose, skip_blank_lines, parse_dates, infer_datetime_format, keep_date_col, date_parser, dayfirst, cache_dates, iterator, chunksize, compression, thousands, decimal, lineterminator, quotechar, quoting, doublequote, escapechar, comment, encoding, dialect, error_bad_lines, warn_bad_lines, delim_whitespace, low_memory, memory_map, float_precision)\u001b[0m\n\u001b[1;32m    674\u001b[0m         )\n\u001b[1;32m    675\u001b[0m \u001b[0;34m\u001b[0m\u001b[0m\n\u001b[0;32m--> 676\u001b[0;31m         \u001b[0;32mreturn\u001b[0m \u001b[0m_read\u001b[0m\u001b[0;34m(\u001b[0m\u001b[0mfilepath_or_buffer\u001b[0m\u001b[0;34m,\u001b[0m \u001b[0mkwds\u001b[0m\u001b[0;34m)\u001b[0m\u001b[0;34m\u001b[0m\u001b[0;34m\u001b[0m\u001b[0m\n\u001b[0m\u001b[1;32m    677\u001b[0m \u001b[0;34m\u001b[0m\u001b[0m\n\u001b[1;32m    678\u001b[0m     \u001b[0mparser_f\u001b[0m\u001b[0;34m.\u001b[0m\u001b[0m__name__\u001b[0m \u001b[0;34m=\u001b[0m \u001b[0mname\u001b[0m\u001b[0;34m\u001b[0m\u001b[0;34m\u001b[0m\u001b[0m\n",
      "\u001b[0;32m/opt/anaconda3/lib/python3.7/site-packages/pandas/io/parsers.py\u001b[0m in \u001b[0;36m_read\u001b[0;34m(filepath_or_buffer, kwds)\u001b[0m\n\u001b[1;32m    446\u001b[0m \u001b[0;34m\u001b[0m\u001b[0m\n\u001b[1;32m    447\u001b[0m     \u001b[0;31m# Create the parser.\u001b[0m\u001b[0;34m\u001b[0m\u001b[0;34m\u001b[0m\u001b[0;34m\u001b[0m\u001b[0m\n\u001b[0;32m--> 448\u001b[0;31m     \u001b[0mparser\u001b[0m \u001b[0;34m=\u001b[0m \u001b[0mTextFileReader\u001b[0m\u001b[0;34m(\u001b[0m\u001b[0mfp_or_buf\u001b[0m\u001b[0;34m,\u001b[0m \u001b[0;34m**\u001b[0m\u001b[0mkwds\u001b[0m\u001b[0;34m)\u001b[0m\u001b[0;34m\u001b[0m\u001b[0;34m\u001b[0m\u001b[0m\n\u001b[0m\u001b[1;32m    449\u001b[0m \u001b[0;34m\u001b[0m\u001b[0m\n\u001b[1;32m    450\u001b[0m     \u001b[0;32mif\u001b[0m \u001b[0mchunksize\u001b[0m \u001b[0;32mor\u001b[0m \u001b[0miterator\u001b[0m\u001b[0;34m:\u001b[0m\u001b[0;34m\u001b[0m\u001b[0;34m\u001b[0m\u001b[0m\n",
      "\u001b[0;32m/opt/anaconda3/lib/python3.7/site-packages/pandas/io/parsers.py\u001b[0m in \u001b[0;36m__init__\u001b[0;34m(self, f, engine, **kwds)\u001b[0m\n\u001b[1;32m    878\u001b[0m             \u001b[0mself\u001b[0m\u001b[0;34m.\u001b[0m\u001b[0moptions\u001b[0m\u001b[0;34m[\u001b[0m\u001b[0;34m\"has_index_names\"\u001b[0m\u001b[0;34m]\u001b[0m \u001b[0;34m=\u001b[0m \u001b[0mkwds\u001b[0m\u001b[0;34m[\u001b[0m\u001b[0;34m\"has_index_names\"\u001b[0m\u001b[0;34m]\u001b[0m\u001b[0;34m\u001b[0m\u001b[0;34m\u001b[0m\u001b[0m\n\u001b[1;32m    879\u001b[0m \u001b[0;34m\u001b[0m\u001b[0m\n\u001b[0;32m--> 880\u001b[0;31m         \u001b[0mself\u001b[0m\u001b[0;34m.\u001b[0m\u001b[0m_make_engine\u001b[0m\u001b[0;34m(\u001b[0m\u001b[0mself\u001b[0m\u001b[0;34m.\u001b[0m\u001b[0mengine\u001b[0m\u001b[0;34m)\u001b[0m\u001b[0;34m\u001b[0m\u001b[0;34m\u001b[0m\u001b[0m\n\u001b[0m\u001b[1;32m    881\u001b[0m \u001b[0;34m\u001b[0m\u001b[0m\n\u001b[1;32m    882\u001b[0m     \u001b[0;32mdef\u001b[0m \u001b[0mclose\u001b[0m\u001b[0;34m(\u001b[0m\u001b[0mself\u001b[0m\u001b[0;34m)\u001b[0m\u001b[0;34m:\u001b[0m\u001b[0;34m\u001b[0m\u001b[0;34m\u001b[0m\u001b[0m\n",
      "\u001b[0;32m/opt/anaconda3/lib/python3.7/site-packages/pandas/io/parsers.py\u001b[0m in \u001b[0;36m_make_engine\u001b[0;34m(self, engine)\u001b[0m\n\u001b[1;32m   1112\u001b[0m     \u001b[0;32mdef\u001b[0m \u001b[0m_make_engine\u001b[0m\u001b[0;34m(\u001b[0m\u001b[0mself\u001b[0m\u001b[0;34m,\u001b[0m \u001b[0mengine\u001b[0m\u001b[0;34m=\u001b[0m\u001b[0;34m\"c\"\u001b[0m\u001b[0;34m)\u001b[0m\u001b[0;34m:\u001b[0m\u001b[0;34m\u001b[0m\u001b[0;34m\u001b[0m\u001b[0m\n\u001b[1;32m   1113\u001b[0m         \u001b[0;32mif\u001b[0m \u001b[0mengine\u001b[0m \u001b[0;34m==\u001b[0m \u001b[0;34m\"c\"\u001b[0m\u001b[0;34m:\u001b[0m\u001b[0;34m\u001b[0m\u001b[0;34m\u001b[0m\u001b[0m\n\u001b[0;32m-> 1114\u001b[0;31m             \u001b[0mself\u001b[0m\u001b[0;34m.\u001b[0m\u001b[0m_engine\u001b[0m \u001b[0;34m=\u001b[0m \u001b[0mCParserWrapper\u001b[0m\u001b[0;34m(\u001b[0m\u001b[0mself\u001b[0m\u001b[0;34m.\u001b[0m\u001b[0mf\u001b[0m\u001b[0;34m,\u001b[0m \u001b[0;34m**\u001b[0m\u001b[0mself\u001b[0m\u001b[0;34m.\u001b[0m\u001b[0moptions\u001b[0m\u001b[0;34m)\u001b[0m\u001b[0;34m\u001b[0m\u001b[0;34m\u001b[0m\u001b[0m\n\u001b[0m\u001b[1;32m   1115\u001b[0m         \u001b[0;32melse\u001b[0m\u001b[0;34m:\u001b[0m\u001b[0;34m\u001b[0m\u001b[0;34m\u001b[0m\u001b[0m\n\u001b[1;32m   1116\u001b[0m             \u001b[0;32mif\u001b[0m \u001b[0mengine\u001b[0m \u001b[0;34m==\u001b[0m \u001b[0;34m\"python\"\u001b[0m\u001b[0;34m:\u001b[0m\u001b[0;34m\u001b[0m\u001b[0;34m\u001b[0m\u001b[0m\n",
      "\u001b[0;32m/opt/anaconda3/lib/python3.7/site-packages/pandas/io/parsers.py\u001b[0m in \u001b[0;36m__init__\u001b[0;34m(self, src, **kwds)\u001b[0m\n\u001b[1;32m   1889\u001b[0m         \u001b[0mkwds\u001b[0m\u001b[0;34m[\u001b[0m\u001b[0;34m\"usecols\"\u001b[0m\u001b[0;34m]\u001b[0m \u001b[0;34m=\u001b[0m \u001b[0mself\u001b[0m\u001b[0;34m.\u001b[0m\u001b[0musecols\u001b[0m\u001b[0;34m\u001b[0m\u001b[0;34m\u001b[0m\u001b[0m\n\u001b[1;32m   1890\u001b[0m \u001b[0;34m\u001b[0m\u001b[0m\n\u001b[0;32m-> 1891\u001b[0;31m         \u001b[0mself\u001b[0m\u001b[0;34m.\u001b[0m\u001b[0m_reader\u001b[0m \u001b[0;34m=\u001b[0m \u001b[0mparsers\u001b[0m\u001b[0;34m.\u001b[0m\u001b[0mTextReader\u001b[0m\u001b[0;34m(\u001b[0m\u001b[0msrc\u001b[0m\u001b[0;34m,\u001b[0m \u001b[0;34m**\u001b[0m\u001b[0mkwds\u001b[0m\u001b[0;34m)\u001b[0m\u001b[0;34m\u001b[0m\u001b[0;34m\u001b[0m\u001b[0m\n\u001b[0m\u001b[1;32m   1892\u001b[0m         \u001b[0mself\u001b[0m\u001b[0;34m.\u001b[0m\u001b[0munnamed_cols\u001b[0m \u001b[0;34m=\u001b[0m \u001b[0mself\u001b[0m\u001b[0;34m.\u001b[0m\u001b[0m_reader\u001b[0m\u001b[0;34m.\u001b[0m\u001b[0munnamed_cols\u001b[0m\u001b[0;34m\u001b[0m\u001b[0;34m\u001b[0m\u001b[0m\n\u001b[1;32m   1893\u001b[0m \u001b[0;34m\u001b[0m\u001b[0m\n",
      "\u001b[0;32mpandas/_libs/parsers.pyx\u001b[0m in \u001b[0;36mpandas._libs.parsers.TextReader.__cinit__\u001b[0;34m()\u001b[0m\n",
      "\u001b[0;32mpandas/_libs/parsers.pyx\u001b[0m in \u001b[0;36mpandas._libs.parsers.TextReader._setup_parser_source\u001b[0;34m()\u001b[0m\n",
      "\u001b[0;31mFileNotFoundError\u001b[0m: [Errno 2] File .Kirk_All.csv.icloud does not exist: '.Kirk_All.csv.icloud'"
     ]
    }
   ],
   "source": [
    "#LOAD GIS WATERMAIN AND BREAK DATA\n",
    "df = pd.read_csv('.Kirk_All.csv.icloud')\n",
    "#df.dropna(inplace=True) # Are there any columns where we can deal with NA values?\n",
    "# Can we use imputation instead?\n",
    "breaks = pd.read_csv('Kirk_Break_Data.csv')\n",
    "df['INSTYEAR'] = df['INSTYEAR'].map(lambda x: int((str(x)[-12:-8])), na_action='ignore')\n",
    "#df = pd.get_dummies(df)\n",
    "df.head()"
   ]
  },
  {
   "cell_type": "code",
   "execution_count": 94,
   "metadata": {},
   "outputs": [
    {
     "output_type": "execute_result",
     "data": {
      "text/plain": [
       "   FID_WA_Mai  TYPE  LENGTH  DIAMETER MATERIAL  INSTYEAR MUSYM  Dist_Rail  \\\n",
       "0           1  FIRE     2.0       8.0      UNK       NaN    Ur       6000   \n",
       "1           2  FIRE     2.0       2.0      UNK    1992.0   AgC       7000   \n",
       "2           3  FIRE     1.0       0.0      UNK       NaN   AgC       6000   \n",
       "3           4  FIRE     3.0       6.0       DI    2005.0    Ur       4000   \n",
       "4           5  FIRE   149.0       8.0       AC    1963.0    Ur       7000   \n",
       "\n",
       "   SLP_CLASS               FULL_STRNA SPEED           FUNC_CLASS  \n",
       "0        2.0             120TH AVE NE    25       MINOR ARTERIAL  \n",
       "1        1.0              122ND LN NE    25  NEIGHBORHOOD ACCESS  \n",
       "2        0.0             124TH AVE NE    35   PRINCIPAL ARTERIAL  \n",
       "3        0.0  LAKE WASHINGTON BLVD NE    35   PRINCIPAL ARTERIAL  \n",
       "4        6.0                                                      "
      ],
      "text/html": "<div>\n<style scoped>\n    .dataframe tbody tr th:only-of-type {\n        vertical-align: middle;\n    }\n\n    .dataframe tbody tr th {\n        vertical-align: top;\n    }\n\n    .dataframe thead th {\n        text-align: right;\n    }\n</style>\n<table border=\"1\" class=\"dataframe\">\n  <thead>\n    <tr style=\"text-align: right;\">\n      <th></th>\n      <th>FID_WA_Mai</th>\n      <th>TYPE</th>\n      <th>LENGTH</th>\n      <th>DIAMETER</th>\n      <th>MATERIAL</th>\n      <th>INSTYEAR</th>\n      <th>MUSYM</th>\n      <th>Dist_Rail</th>\n      <th>SLP_CLASS</th>\n      <th>FULL_STRNA</th>\n      <th>SPEED</th>\n      <th>FUNC_CLASS</th>\n    </tr>\n  </thead>\n  <tbody>\n    <tr>\n      <th>0</th>\n      <td>1</td>\n      <td>FIRE</td>\n      <td>2.0</td>\n      <td>8.0</td>\n      <td>UNK</td>\n      <td>NaN</td>\n      <td>Ur</td>\n      <td>6000</td>\n      <td>2.0</td>\n      <td>120TH AVE NE</td>\n      <td>25</td>\n      <td>MINOR ARTERIAL</td>\n    </tr>\n    <tr>\n      <th>1</th>\n      <td>2</td>\n      <td>FIRE</td>\n      <td>2.0</td>\n      <td>2.0</td>\n      <td>UNK</td>\n      <td>1992.0</td>\n      <td>AgC</td>\n      <td>7000</td>\n      <td>1.0</td>\n      <td>122ND LN NE</td>\n      <td>25</td>\n      <td>NEIGHBORHOOD ACCESS</td>\n    </tr>\n    <tr>\n      <th>2</th>\n      <td>3</td>\n      <td>FIRE</td>\n      <td>1.0</td>\n      <td>0.0</td>\n      <td>UNK</td>\n      <td>NaN</td>\n      <td>AgC</td>\n      <td>6000</td>\n      <td>0.0</td>\n      <td>124TH AVE NE</td>\n      <td>35</td>\n      <td>PRINCIPAL ARTERIAL</td>\n    </tr>\n    <tr>\n      <th>3</th>\n      <td>4</td>\n      <td>FIRE</td>\n      <td>3.0</td>\n      <td>6.0</td>\n      <td>DI</td>\n      <td>2005.0</td>\n      <td>Ur</td>\n      <td>4000</td>\n      <td>0.0</td>\n      <td>LAKE WASHINGTON BLVD NE</td>\n      <td>35</td>\n      <td>PRINCIPAL ARTERIAL</td>\n    </tr>\n    <tr>\n      <th>4</th>\n      <td>5</td>\n      <td>FIRE</td>\n      <td>149.0</td>\n      <td>8.0</td>\n      <td>AC</td>\n      <td>1963.0</td>\n      <td>Ur</td>\n      <td>7000</td>\n      <td>6.0</td>\n      <td></td>\n      <td></td>\n      <td></td>\n    </tr>\n  </tbody>\n</table>\n</div>"
     },
     "metadata": {},
     "execution_count": 94
    }
   ],
   "source": [
    "# EXTRACTING FEATURES\n",
    "features = ['FID_WA_Mai', 'TYPE', 'LENGTH', 'DIAMETER', 'MATERIAL', 'INSTYEAR', 'MUSYM', 'Dist_Rail', 'SLP_CLASS', 'FULL_STRNA', 'SPEED', 'FUNC_CLASS']\n",
    "pipes = df[features]\n",
    "pipes.head()"
   ]
  },
  {
   "cell_type": "code",
   "execution_count": 95,
   "metadata": {},
   "outputs": [
    {
     "output_type": "execute_result",
     "data": {
      "text/plain": [
       "   DIAMETER MATERIAL INSTYEAR MUSYM  Dist_Rail  Break_Year\n",
       "0         6       CI      NaN   NaN        NaN        2004\n",
       "1         8       AC      NaN   AmC    15000.0        2004\n",
       "2         6       AC      NaN   AmC    15000.0        2004\n",
       "3         8       AC     1976   KpB     7000.0        2004\n",
       "4        12       AC     1968   AgC    12000.0        2004"
      ],
      "text/html": "<div>\n<style scoped>\n    .dataframe tbody tr th:only-of-type {\n        vertical-align: middle;\n    }\n\n    .dataframe tbody tr th {\n        vertical-align: top;\n    }\n\n    .dataframe thead th {\n        text-align: right;\n    }\n</style>\n<table border=\"1\" class=\"dataframe\">\n  <thead>\n    <tr style=\"text-align: right;\">\n      <th></th>\n      <th>DIAMETER</th>\n      <th>MATERIAL</th>\n      <th>INSTYEAR</th>\n      <th>MUSYM</th>\n      <th>Dist_Rail</th>\n      <th>Break_Year</th>\n    </tr>\n  </thead>\n  <tbody>\n    <tr>\n      <th>0</th>\n      <td>6</td>\n      <td>CI</td>\n      <td>NaN</td>\n      <td>NaN</td>\n      <td>NaN</td>\n      <td>2004</td>\n    </tr>\n    <tr>\n      <th>1</th>\n      <td>8</td>\n      <td>AC</td>\n      <td>NaN</td>\n      <td>AmC</td>\n      <td>15000.0</td>\n      <td>2004</td>\n    </tr>\n    <tr>\n      <th>2</th>\n      <td>6</td>\n      <td>AC</td>\n      <td>NaN</td>\n      <td>AmC</td>\n      <td>15000.0</td>\n      <td>2004</td>\n    </tr>\n    <tr>\n      <th>3</th>\n      <td>8</td>\n      <td>AC</td>\n      <td>1976</td>\n      <td>KpB</td>\n      <td>7000.0</td>\n      <td>2004</td>\n    </tr>\n    <tr>\n      <th>4</th>\n      <td>12</td>\n      <td>AC</td>\n      <td>1968</td>\n      <td>AgC</td>\n      <td>12000.0</td>\n      <td>2004</td>\n    </tr>\n  </tbody>\n</table>\n</div>"
     },
     "metadata": {},
     "execution_count": 95
    }
   ],
   "source": [
    "\n",
    "model_feats = [\n",
    "    'DIAMETER',\n",
    "    'MATERIAL',\n",
    "    'INSTYEAR',\n",
    "    'MUSYM',\n",
    "    'Dist_Rail',\n",
    "    'Break_Year'\n",
    "\n",
    "]\n",
    "filt_breaks = breaks[model_feats]\n",
    "\n",
    "filt_breaks.head()\n"
   ]
  },
  {
   "cell_type": "code",
   "execution_count": 96,
   "metadata": {},
   "outputs": [
    {
     "output_type": "execute_result",
     "data": {
      "text/plain": [
       "   DIAMETER MATERIAL  INSTYEAR MUSYM  Dist_Rail   AGE  BREAK\n",
       "3         8       AC    1976.0   KpB     7000.0  28.0      1\n",
       "4        12       AC    1968.0   AgC    12000.0  36.0      1\n",
       "5         6       AC    1949.0   AmC    14000.0  55.0      1\n",
       "6         8       AC    1977.0   AgC     5000.0  27.0      1\n",
       "7         6       AC    1963.0   AgC     9000.0  41.0      1"
      ],
      "text/html": "<div>\n<style scoped>\n    .dataframe tbody tr th:only-of-type {\n        vertical-align: middle;\n    }\n\n    .dataframe tbody tr th {\n        vertical-align: top;\n    }\n\n    .dataframe thead th {\n        text-align: right;\n    }\n</style>\n<table border=\"1\" class=\"dataframe\">\n  <thead>\n    <tr style=\"text-align: right;\">\n      <th></th>\n      <th>DIAMETER</th>\n      <th>MATERIAL</th>\n      <th>INSTYEAR</th>\n      <th>MUSYM</th>\n      <th>Dist_Rail</th>\n      <th>AGE</th>\n      <th>BREAK</th>\n    </tr>\n  </thead>\n  <tbody>\n    <tr>\n      <th>3</th>\n      <td>8</td>\n      <td>AC</td>\n      <td>1976.0</td>\n      <td>KpB</td>\n      <td>7000.0</td>\n      <td>28.0</td>\n      <td>1</td>\n    </tr>\n    <tr>\n      <th>4</th>\n      <td>12</td>\n      <td>AC</td>\n      <td>1968.0</td>\n      <td>AgC</td>\n      <td>12000.0</td>\n      <td>36.0</td>\n      <td>1</td>\n    </tr>\n    <tr>\n      <th>5</th>\n      <td>6</td>\n      <td>AC</td>\n      <td>1949.0</td>\n      <td>AmC</td>\n      <td>14000.0</td>\n      <td>55.0</td>\n      <td>1</td>\n    </tr>\n    <tr>\n      <th>6</th>\n      <td>8</td>\n      <td>AC</td>\n      <td>1977.0</td>\n      <td>AgC</td>\n      <td>5000.0</td>\n      <td>27.0</td>\n      <td>1</td>\n    </tr>\n    <tr>\n      <th>7</th>\n      <td>6</td>\n      <td>AC</td>\n      <td>1963.0</td>\n      <td>AgC</td>\n      <td>9000.0</td>\n      <td>41.0</td>\n      <td>1</td>\n    </tr>\n  </tbody>\n</table>\n</div>"
     },
     "metadata": {},
     "execution_count": 96
    }
   ],
   "source": [
    "filt_breaks['Break_Year'].map(lambda x: int(x), na_action='ignore') #Change break_year from string to int\n",
    "filt_breaks = filt_breaks[filt_breaks['INSTYEAR'] != '1959, 1963'] #Remove mislabeled data\n",
    "filt_breaks['INSTYEAR'] = filt_breaks['INSTYEAR'].map(lambda x: float(x), na_action='ignore') #Change INSTYEAR from string to float\n",
    "filt_breaks['AGE'] = filt_breaks['Break_Year'] - filt_breaks['INSTYEAR'] #Calculate new column for age\n",
    "filt_breaks = filt_breaks.dropna() #Drop NaN values\n",
    "filt_breaks['BREAK'] = 1 #Add new column for whether pipe broke or not\n",
    "filt_breaks = filt_breaks.drop(\"Break_Year\", axis=1) #remove break_year column\n",
    "filt_breaks.head()"
   ]
  },
  {
   "cell_type": "code",
   "execution_count": 97,
   "metadata": {
    "tags": []
   },
   "outputs": [],
   "source": [
    "# GROUP PIPES BY THEIR UNIQUE ID - NEEDED BECAUSE OF HOW SLOPE BREAKS UP PIPES IN DIFFERENT SLOPE CLASSES\n",
    "def group_by_id(df):\n",
    "\n",
    "    grouping = df.groupby('FID_WA_Mai').groups\n",
    "    unique_pipes = df['FID_WA_Mai'].unique()\n",
    "    indices = []\n",
    "    for i in range(len(unique_pipes)):\n",
    "        pipe = unique_pipes[i]\n",
    "        val = grouping[pipe][0]\n",
    "        indices.append(val)\n",
    "    \n",
    "    # CALCULATE AVERAGE SLOPES FOR PIPES THAT GOT SPLIT INTO MULTIPLE ROWS\n",
    "    slopes = df[['FID_WA_Mai', 'SLP_CLASS']]\n",
    "    slopes = slopes.groupby('FID_WA_Mai')['SLP_CLASS'].mean()\n",
    "    slopes = pd.Series(slopes)\n",
    "\n",
    "    filtered = df.loc[indices, 'FID_WA_Mai':'FUNC_CLASS']\n",
    "    filtered = filtered.drop('SLP_CLASS', axis=1)\n",
    "    filtered['SLOPE'] = slopes.values\n",
    "\n",
    "    return filtered"
   ]
  },
  {
   "cell_type": "code",
   "execution_count": 98,
   "metadata": {},
   "outputs": [
    {
     "output_type": "execute_result",
     "data": {
      "text/plain": [
       "   FID_WA_Mai  TYPE  LENGTH  DIAMETER MATERIAL  INSTYEAR MUSYM  Dist_Rail  \\\n",
       "0           1  FIRE     2.0       8.0      UNK       NaN    Ur       6000   \n",
       "1           2  FIRE     2.0       2.0      UNK    1992.0   AgC       7000   \n",
       "2           3  FIRE     1.0       0.0      UNK       NaN   AgC       6000   \n",
       "3           4  FIRE     3.0       6.0       DI    2005.0    Ur       4000   \n",
       "4           5  FIRE   149.0       8.0       AC    1963.0    Ur       7000   \n",
       "\n",
       "                FULL_STRNA SPEED           FUNC_CLASS     SLOPE  \n",
       "0             120TH AVE NE    25       MINOR ARTERIAL  2.000000  \n",
       "1              122ND LN NE    25  NEIGHBORHOOD ACCESS  1.000000  \n",
       "2             124TH AVE NE    35   PRINCIPAL ARTERIAL  0.000000  \n",
       "3  LAKE WASHINGTON BLVD NE    35   PRINCIPAL ARTERIAL  0.000000  \n",
       "4                                                      3.888889  "
      ],
      "text/html": "<div>\n<style scoped>\n    .dataframe tbody tr th:only-of-type {\n        vertical-align: middle;\n    }\n\n    .dataframe tbody tr th {\n        vertical-align: top;\n    }\n\n    .dataframe thead th {\n        text-align: right;\n    }\n</style>\n<table border=\"1\" class=\"dataframe\">\n  <thead>\n    <tr style=\"text-align: right;\">\n      <th></th>\n      <th>FID_WA_Mai</th>\n      <th>TYPE</th>\n      <th>LENGTH</th>\n      <th>DIAMETER</th>\n      <th>MATERIAL</th>\n      <th>INSTYEAR</th>\n      <th>MUSYM</th>\n      <th>Dist_Rail</th>\n      <th>FULL_STRNA</th>\n      <th>SPEED</th>\n      <th>FUNC_CLASS</th>\n      <th>SLOPE</th>\n    </tr>\n  </thead>\n  <tbody>\n    <tr>\n      <th>0</th>\n      <td>1</td>\n      <td>FIRE</td>\n      <td>2.0</td>\n      <td>8.0</td>\n      <td>UNK</td>\n      <td>NaN</td>\n      <td>Ur</td>\n      <td>6000</td>\n      <td>120TH AVE NE</td>\n      <td>25</td>\n      <td>MINOR ARTERIAL</td>\n      <td>2.000000</td>\n    </tr>\n    <tr>\n      <th>1</th>\n      <td>2</td>\n      <td>FIRE</td>\n      <td>2.0</td>\n      <td>2.0</td>\n      <td>UNK</td>\n      <td>1992.0</td>\n      <td>AgC</td>\n      <td>7000</td>\n      <td>122ND LN NE</td>\n      <td>25</td>\n      <td>NEIGHBORHOOD ACCESS</td>\n      <td>1.000000</td>\n    </tr>\n    <tr>\n      <th>2</th>\n      <td>3</td>\n      <td>FIRE</td>\n      <td>1.0</td>\n      <td>0.0</td>\n      <td>UNK</td>\n      <td>NaN</td>\n      <td>AgC</td>\n      <td>6000</td>\n      <td>124TH AVE NE</td>\n      <td>35</td>\n      <td>PRINCIPAL ARTERIAL</td>\n      <td>0.000000</td>\n    </tr>\n    <tr>\n      <th>3</th>\n      <td>4</td>\n      <td>FIRE</td>\n      <td>3.0</td>\n      <td>6.0</td>\n      <td>DI</td>\n      <td>2005.0</td>\n      <td>Ur</td>\n      <td>4000</td>\n      <td>LAKE WASHINGTON BLVD NE</td>\n      <td>35</td>\n      <td>PRINCIPAL ARTERIAL</td>\n      <td>0.000000</td>\n    </tr>\n    <tr>\n      <th>4</th>\n      <td>5</td>\n      <td>FIRE</td>\n      <td>149.0</td>\n      <td>8.0</td>\n      <td>AC</td>\n      <td>1963.0</td>\n      <td>Ur</td>\n      <td>7000</td>\n      <td></td>\n      <td></td>\n      <td></td>\n      <td>3.888889</td>\n    </tr>\n  </tbody>\n</table>\n</div>"
     },
     "metadata": {},
     "execution_count": 98
    }
   ],
   "source": [
    "filtered = group_by_id(pipes)\n",
    "filtered.head()"
   ]
  },
  {
   "cell_type": "code",
   "execution_count": 99,
   "metadata": {},
   "outputs": [
    {
     "output_type": "execute_result",
     "data": {
      "text/plain": [
       "    DIAMETER MATERIAL  INSTYEAR MUSYM  Dist_Rail   AGE  BREAK\n",
       "1        2.0      UNK    1992.0   AgC       7000  28.0      0\n",
       "3        6.0       DI    2005.0    Ur       4000  15.0      0\n",
       "4        8.0       AC    1963.0    Ur       7000  57.0      0\n",
       "22      12.0       DI    1978.0    Ur       6000  42.0      0\n",
       "23       6.0       DI    2002.0   AmC      13000  18.0      0"
      ],
      "text/html": "<div>\n<style scoped>\n    .dataframe tbody tr th:only-of-type {\n        vertical-align: middle;\n    }\n\n    .dataframe tbody tr th {\n        vertical-align: top;\n    }\n\n    .dataframe thead th {\n        text-align: right;\n    }\n</style>\n<table border=\"1\" class=\"dataframe\">\n  <thead>\n    <tr style=\"text-align: right;\">\n      <th></th>\n      <th>DIAMETER</th>\n      <th>MATERIAL</th>\n      <th>INSTYEAR</th>\n      <th>MUSYM</th>\n      <th>Dist_Rail</th>\n      <th>AGE</th>\n      <th>BREAK</th>\n    </tr>\n  </thead>\n  <tbody>\n    <tr>\n      <th>1</th>\n      <td>2.0</td>\n      <td>UNK</td>\n      <td>1992.0</td>\n      <td>AgC</td>\n      <td>7000</td>\n      <td>28.0</td>\n      <td>0</td>\n    </tr>\n    <tr>\n      <th>3</th>\n      <td>6.0</td>\n      <td>DI</td>\n      <td>2005.0</td>\n      <td>Ur</td>\n      <td>4000</td>\n      <td>15.0</td>\n      <td>0</td>\n    </tr>\n    <tr>\n      <th>4</th>\n      <td>8.0</td>\n      <td>AC</td>\n      <td>1963.0</td>\n      <td>Ur</td>\n      <td>7000</td>\n      <td>57.0</td>\n      <td>0</td>\n    </tr>\n    <tr>\n      <th>22</th>\n      <td>12.0</td>\n      <td>DI</td>\n      <td>1978.0</td>\n      <td>Ur</td>\n      <td>6000</td>\n      <td>42.0</td>\n      <td>0</td>\n    </tr>\n    <tr>\n      <th>23</th>\n      <td>6.0</td>\n      <td>DI</td>\n      <td>2002.0</td>\n      <td>AmC</td>\n      <td>13000</td>\n      <td>18.0</td>\n      <td>0</td>\n    </tr>\n  </tbody>\n</table>\n</div>"
     },
     "metadata": {},
     "execution_count": 99
    }
   ],
   "source": [
    "more_feats = [\n",
    "    'DIAMETER',\n",
    "    'MATERIAL',\n",
    "    'INSTYEAR',\n",
    "    'MUSYM',\n",
    "    'Dist_Rail'\n",
    "]\n",
    "\n",
    "filtered_pipes = filtered[more_feats]\n",
    "filtered_pipes = filtered_pipes.dropna()\n",
    "filtered_pipes['AGE'] = 2020 - filtered_pipes['INSTYEAR'] #Calculating pipe age\n",
    "filtered_pipes['BREAK'] = 0 #Making new column for BREAK and setting it to 0\n",
    "filtered_pipes.head()"
   ]
  },
  {
   "cell_type": "code",
   "execution_count": 107,
   "metadata": {},
   "outputs": [
    {
     "output_type": "execute_result",
     "data": {
      "text/plain": [
       "   DIAMETER  INSTYEAR  Dist_Rail   AGE  MATERIAL_AC  MATERIAL_CI  \\\n",
       "3       8.0    1976.0     7000.0  28.0            1            0   \n",
       "4      12.0    1968.0    12000.0  36.0            1            0   \n",
       "5       6.0    1949.0    14000.0  55.0            1            0   \n",
       "6       8.0    1977.0     5000.0  27.0            1            0   \n",
       "7       6.0    1963.0     9000.0  41.0            1            0   \n",
       "\n",
       "   MATERIAL_CONC  MATERIAL_CPR  MATERIAL_Conc cyl  MATERIAL_DI  ...  \\\n",
       "3              0             0                  0            0  ...   \n",
       "4              0             0                  0            0  ...   \n",
       "5              0             0                  0            0  ...   \n",
       "6              0             0                  0            0  ...   \n",
       "7              0             0                  0            0  ...   \n",
       "\n",
       "   MUSYM_KpB  MUSYM_KpD  MUSYM_Ng  MUSYM_No  MUSYM_PITS  MUSYM_RdC  MUSYM_RdE  \\\n",
       "3          1          0         0         0           0          0          0   \n",
       "4          0          0         0         0           0          0          0   \n",
       "5          0          0         0         0           0          0          0   \n",
       "6          0          0         0         0           0          0          0   \n",
       "7          0          0         0         0           0          0          0   \n",
       "\n",
       "   MUSYM_So  MUSYM_Tu  MUSYM_Ur  \n",
       "3         0         0         0  \n",
       "4         0         0         0  \n",
       "5         0         0         0  \n",
       "6         0         0         0  \n",
       "7         0         0         0  \n",
       "\n",
       "[5 rows x 36 columns]"
      ],
      "text/html": "<div>\n<style scoped>\n    .dataframe tbody tr th:only-of-type {\n        vertical-align: middle;\n    }\n\n    .dataframe tbody tr th {\n        vertical-align: top;\n    }\n\n    .dataframe thead th {\n        text-align: right;\n    }\n</style>\n<table border=\"1\" class=\"dataframe\">\n  <thead>\n    <tr style=\"text-align: right;\">\n      <th></th>\n      <th>DIAMETER</th>\n      <th>INSTYEAR</th>\n      <th>Dist_Rail</th>\n      <th>AGE</th>\n      <th>MATERIAL_AC</th>\n      <th>MATERIAL_CI</th>\n      <th>MATERIAL_CONC</th>\n      <th>MATERIAL_CPR</th>\n      <th>MATERIAL_Conc cyl</th>\n      <th>MATERIAL_DI</th>\n      <th>...</th>\n      <th>MUSYM_KpB</th>\n      <th>MUSYM_KpD</th>\n      <th>MUSYM_Ng</th>\n      <th>MUSYM_No</th>\n      <th>MUSYM_PITS</th>\n      <th>MUSYM_RdC</th>\n      <th>MUSYM_RdE</th>\n      <th>MUSYM_So</th>\n      <th>MUSYM_Tu</th>\n      <th>MUSYM_Ur</th>\n    </tr>\n  </thead>\n  <tbody>\n    <tr>\n      <th>3</th>\n      <td>8.0</td>\n      <td>1976.0</td>\n      <td>7000.0</td>\n      <td>28.0</td>\n      <td>1</td>\n      <td>0</td>\n      <td>0</td>\n      <td>0</td>\n      <td>0</td>\n      <td>0</td>\n      <td>...</td>\n      <td>1</td>\n      <td>0</td>\n      <td>0</td>\n      <td>0</td>\n      <td>0</td>\n      <td>0</td>\n      <td>0</td>\n      <td>0</td>\n      <td>0</td>\n      <td>0</td>\n    </tr>\n    <tr>\n      <th>4</th>\n      <td>12.0</td>\n      <td>1968.0</td>\n      <td>12000.0</td>\n      <td>36.0</td>\n      <td>1</td>\n      <td>0</td>\n      <td>0</td>\n      <td>0</td>\n      <td>0</td>\n      <td>0</td>\n      <td>...</td>\n      <td>0</td>\n      <td>0</td>\n      <td>0</td>\n      <td>0</td>\n      <td>0</td>\n      <td>0</td>\n      <td>0</td>\n      <td>0</td>\n      <td>0</td>\n      <td>0</td>\n    </tr>\n    <tr>\n      <th>5</th>\n      <td>6.0</td>\n      <td>1949.0</td>\n      <td>14000.0</td>\n      <td>55.0</td>\n      <td>1</td>\n      <td>0</td>\n      <td>0</td>\n      <td>0</td>\n      <td>0</td>\n      <td>0</td>\n      <td>...</td>\n      <td>0</td>\n      <td>0</td>\n      <td>0</td>\n      <td>0</td>\n      <td>0</td>\n      <td>0</td>\n      <td>0</td>\n      <td>0</td>\n      <td>0</td>\n      <td>0</td>\n    </tr>\n    <tr>\n      <th>6</th>\n      <td>8.0</td>\n      <td>1977.0</td>\n      <td>5000.0</td>\n      <td>27.0</td>\n      <td>1</td>\n      <td>0</td>\n      <td>0</td>\n      <td>0</td>\n      <td>0</td>\n      <td>0</td>\n      <td>...</td>\n      <td>0</td>\n      <td>0</td>\n      <td>0</td>\n      <td>0</td>\n      <td>0</td>\n      <td>0</td>\n      <td>0</td>\n      <td>0</td>\n      <td>0</td>\n      <td>0</td>\n    </tr>\n    <tr>\n      <th>7</th>\n      <td>6.0</td>\n      <td>1963.0</td>\n      <td>9000.0</td>\n      <td>41.0</td>\n      <td>1</td>\n      <td>0</td>\n      <td>0</td>\n      <td>0</td>\n      <td>0</td>\n      <td>0</td>\n      <td>...</td>\n      <td>0</td>\n      <td>0</td>\n      <td>0</td>\n      <td>0</td>\n      <td>0</td>\n      <td>0</td>\n      <td>0</td>\n      <td>0</td>\n      <td>0</td>\n      <td>0</td>\n    </tr>\n  </tbody>\n</table>\n<p>5 rows × 36 columns</p>\n</div>"
     },
     "metadata": {},
     "execution_count": 107
    }
   ],
   "source": [
    "full = pd.concat([filt_breaks, filtered_pipes], axis=0, sort=False) #Combine break and non-break data sets\n",
    "\n",
    "feats = [\n",
    "    'DIAMETER',\n",
    "    'MATERIAL',\n",
    "    'INSTYEAR',\n",
    "    'MUSYM',\n",
    "    'Dist_Rail',\n",
    "    'AGE'\n",
    "]\n",
    "\n",
    "\n",
    "y = full['BREAK'] # Column we want to predict fof the ML model\n",
    "\n",
    "x = full[feats] # Features for the mode\n",
    "x = pd.get_dummies(x) # One hot encode categorical data\n",
    "x.head()"
   ]
  },
  {
   "cell_type": "code",
   "execution_count": 115,
   "metadata": {},
   "outputs": [
    {
     "output_type": "execute_result",
     "data": {
      "text/plain": [
       "ExtraTreesClassifier()"
      ]
     },
     "metadata": {},
     "execution_count": 115
    }
   ],
   "source": [
    "X_train, X_test, y_train, y_test = train_test_split(x, y)\n",
    "xgb_model = xgb.XGBClassifier()\n",
    "etc_model = ExtraTreesClassifier()\n",
    "\n",
    "xgb_model.fit(X_train, y_train)\n",
    "etc_model.fit(X_train, y_train)"
   ]
  },
  {
   "cell_type": "code",
   "execution_count": 131,
   "metadata": {},
   "outputs": [
    {
     "output_type": "execute_result",
     "data": {
      "text/plain": [
       "array([[1726,    0],\n",
       "       [   1,    2]])"
      ]
     },
     "metadata": {},
     "execution_count": 131
    }
   ],
   "source": [
    "xgb_preds = xgb_model.predict(X_test)\n",
    "etc_preds = etc_model.predict(X_test)\n",
    "\n",
    "#accuracy_score(xgb_preds, y_test)\n",
    "\n",
    "confusion_matrix(y_test, xgb_preds)\n",
    "\n",
    "#roc_auc_score(y_test, xgb_preds)\n",
    "\n",
    "##fpr, tpr, thr = roc_curve(y_test, xgb_preds)\n",
    "\n",
    "#plt.plot(fpr, tpr)"
   ]
  },
  {
   "cell_type": "code",
   "execution_count": 204,
   "metadata": {
    "tags": []
   },
   "outputs": [
    {
     "output_type": "stream",
     "name": "stdout",
     "text": "['10TH AVE' 'KIRKLAND CIR' '4TH ST' '17TH AVE W' '9TH AVE' '5TH AVE'\n '3RD ST' 'KIRKLAND WAY' '8TH LN' '15TH AVE' 'KIRKLAND AVE' 'NE 68TH ST'\n '19TH AVE' '8TH AVE' 'NE 45TH ST' ' ' '1ST ST' 'NE 44TH ST' 'NE 68TH PL'\n '6TH ST' '106TH AVE NE' '6TH AVE' '5TH ST' '7TH AVE' '109TH PL NE'\n '10TH AVE S' '5TH AVE S' 'LAKEVIEW DR' '5TH ST S' '6TH ST S' 'STATE ST S']\n"
    },
    {
     "output_type": "execute_result",
     "data": {
      "text/plain": "      FID_WA_Mai  TYPE  LENGTH  DIAMETER MATERIAL  INSTYEAR MUSYM  Dist_Rail  \\\n3851         709  DIST    34.0       8.0       AC      1968   AmC      14000   \n\n      FULL_STRNA SPEED           FUNC_CLASS  SLOPE  \n3851  17TH AVE W    25  NEIGHBORHOOD ACCESS    0.5  ",
      "text/html": "<div>\n<style scoped>\n    .dataframe tbody tr th:only-of-type {\n        vertical-align: middle;\n    }\n\n    .dataframe tbody tr th {\n        vertical-align: top;\n    }\n\n    .dataframe thead th {\n        text-align: right;\n    }\n</style>\n<table border=\"1\" class=\"dataframe\">\n  <thead>\n    <tr style=\"text-align: right;\">\n      <th></th>\n      <th>FID_WA_Mai</th>\n      <th>TYPE</th>\n      <th>LENGTH</th>\n      <th>DIAMETER</th>\n      <th>MATERIAL</th>\n      <th>INSTYEAR</th>\n      <th>MUSYM</th>\n      <th>Dist_Rail</th>\n      <th>FULL_STRNA</th>\n      <th>SPEED</th>\n      <th>FUNC_CLASS</th>\n      <th>SLOPE</th>\n    </tr>\n  </thead>\n  <tbody>\n    <tr>\n      <th>3851</th>\n      <td>709</td>\n      <td>DIST</td>\n      <td>34.0</td>\n      <td>8.0</td>\n      <td>AC</td>\n      <td>1968</td>\n      <td>AmC</td>\n      <td>14000</td>\n      <td>17TH AVE W</td>\n      <td>25</td>\n      <td>NEIGHBORHOOD ACCESS</td>\n      <td>0.5</td>\n    </tr>\n  </tbody>\n</table>\n</div>"
     },
     "metadata": {},
     "execution_count": 204
    }
   ],
   "source": [
    "break_1_9_04 = filtered[(filtered['FULL_STRNA'] == '16TH AVE W')] #& (filtered['INSTYEAR'] < 2005) & (filtered['INSTYEAR'] > 2003)]\n",
    "break_1_9_04 = break_1_9_04[break_1_9_04['INSTYEAR'] == 2004]\n",
    "break_1_9_04\n",
    "\n",
    "nearby = filtered[(filtered['FULL_STRNA'] == '16TH AVE W') & (filtered['INSTYEAR'] != 2004) & (filtered['Dist_Rail'] == 15000) & (filtered['DIAMETER'] == 8.0)] \n",
    "nearby\n",
    "\n",
    "similar = filtered[(filtered['DIAMETER'] == 8.0) & (filtered['MATERIAL'] == 'AC') & (filtered['MUSYM'] == 'AmC')]\n",
    "print(similar['FULL_STRNA'].unique())\n",
    "\n",
    "similar = similar[(similar['FULL_STRNA'] == '17TH AVE W')]\n",
    "similar"
   ]
  },
  {
   "cell_type": "code",
   "execution_count": 205,
   "metadata": {
    "tags": []
   },
   "outputs": [
    {
     "output_type": "stream",
     "name": "stdout",
     "text": "['10TH AVE' 'KIRKLAND CIR' '4TH ST' '17TH AVE W' '9TH AVE' '5TH AVE'\n '3RD ST' 'KIRKLAND WAY' '8TH LN' '15TH AVE' 'KIRKLAND AVE' 'NE 68TH ST'\n '19TH AVE' '8TH AVE' 'NE 45TH ST' ' ' '1ST ST' 'NE 44TH ST' 'NE 68TH PL'\n '6TH ST' '106TH AVE NE' '6TH AVE' '5TH ST' '7TH AVE' '109TH PL NE'\n '10TH AVE S' '5TH AVE S' 'LAKEVIEW DR' '5TH ST S' '6TH ST S' 'STATE ST S']\n"
    },
    {
     "output_type": "execute_result",
     "data": {
      "text/plain": "      FID_WA_Mai  TYPE  LENGTH  DIAMETER MATERIAL  INSTYEAR MUSYM  Dist_Rail  \\\n3851         709  DIST    34.0       8.0       AC      1968   AmC      14000   \n\n      FULL_STRNA SPEED           FUNC_CLASS  SLOPE  \n3851  17TH AVE W    25  NEIGHBORHOOD ACCESS    0.5  ",
      "text/html": "<div>\n<style scoped>\n    .dataframe tbody tr th:only-of-type {\n        vertical-align: middle;\n    }\n\n    .dataframe tbody tr th {\n        vertical-align: top;\n    }\n\n    .dataframe thead th {\n        text-align: right;\n    }\n</style>\n<table border=\"1\" class=\"dataframe\">\n  <thead>\n    <tr style=\"text-align: right;\">\n      <th></th>\n      <th>FID_WA_Mai</th>\n      <th>TYPE</th>\n      <th>LENGTH</th>\n      <th>DIAMETER</th>\n      <th>MATERIAL</th>\n      <th>INSTYEAR</th>\n      <th>MUSYM</th>\n      <th>Dist_Rail</th>\n      <th>FULL_STRNA</th>\n      <th>SPEED</th>\n      <th>FUNC_CLASS</th>\n      <th>SLOPE</th>\n    </tr>\n  </thead>\n  <tbody>\n    <tr>\n      <th>3851</th>\n      <td>709</td>\n      <td>DIST</td>\n      <td>34.0</td>\n      <td>8.0</td>\n      <td>AC</td>\n      <td>1968</td>\n      <td>AmC</td>\n      <td>14000</td>\n      <td>17TH AVE W</td>\n      <td>25</td>\n      <td>NEIGHBORHOOD ACCESS</td>\n      <td>0.5</td>\n    </tr>\n  </tbody>\n</table>\n</div>"
     },
     "metadata": {},
     "execution_count": 205
    }
   ],
   "source": [
    "break_1_21_04 = filtered[(filtered['FULL_STRNA'] == '16TH AVE W') & (filtered['INSTYEAR'] == 2004)]\n",
    "break_1_21_04\n",
    "\n",
    "nearby = filtered[(filtered['FULL_STRNA'] == '16TH AVE W') & (filtered['INSTYEAR'] != 2004)] #& (filtered['Dist_Rail'] == 15000) & (filtered['DIAMETER'] == 6.0)] \n",
    "\n",
    "\n",
    "similar = filtered[(filtered['DIAMETER'] == 8.0) & (filtered['MATERIAL'] == 'AC') & (filtered['MUSYM'] == 'AmC')]\n",
    "print(similar['FULL_STRNA'].unique())\n",
    "\n",
    "similar = similar[(similar['FULL_STRNA'] == '17TH AVE W')]\n",
    "similar"
   ]
  },
  {
   "cell_type": "code",
   "execution_count": 197,
   "metadata": {},
   "outputs": [
    {
     "output_type": "execute_result",
     "data": {
      "text/plain": "       FID_WA_Mai  TYPE  LENGTH  DIAMETER MATERIAL  INSTYEAR MUSYM  Dist_Rail  \\\n22011        3634  DIST     1.0       8.0       AC      1976   KpB       7000   \n22012        3635  DIST     5.0      12.0       AC      1971   KpB       7000   \n39310        6927  DIST   261.0       8.0       AC      1976   KpB       7000   \n\n       FULL_STRNA SPEED           FUNC_CLASS     SLOPE  \n22011  NE 59TH ST    25  NEIGHBORHOOD ACCESS  1.000000  \n22012  NE 59TH ST    25  NEIGHBORHOOD ACCESS  1.000000  \n39310  NE 59TH ST    25  NEIGHBORHOOD ACCESS  2.586207  ",
      "text/html": "<div>\n<style scoped>\n    .dataframe tbody tr th:only-of-type {\n        vertical-align: middle;\n    }\n\n    .dataframe tbody tr th {\n        vertical-align: top;\n    }\n\n    .dataframe thead th {\n        text-align: right;\n    }\n</style>\n<table border=\"1\" class=\"dataframe\">\n  <thead>\n    <tr style=\"text-align: right;\">\n      <th></th>\n      <th>FID_WA_Mai</th>\n      <th>TYPE</th>\n      <th>LENGTH</th>\n      <th>DIAMETER</th>\n      <th>MATERIAL</th>\n      <th>INSTYEAR</th>\n      <th>MUSYM</th>\n      <th>Dist_Rail</th>\n      <th>FULL_STRNA</th>\n      <th>SPEED</th>\n      <th>FUNC_CLASS</th>\n      <th>SLOPE</th>\n    </tr>\n  </thead>\n  <tbody>\n    <tr>\n      <th>22011</th>\n      <td>3634</td>\n      <td>DIST</td>\n      <td>1.0</td>\n      <td>8.0</td>\n      <td>AC</td>\n      <td>1976</td>\n      <td>KpB</td>\n      <td>7000</td>\n      <td>NE 59TH ST</td>\n      <td>25</td>\n      <td>NEIGHBORHOOD ACCESS</td>\n      <td>1.000000</td>\n    </tr>\n    <tr>\n      <th>22012</th>\n      <td>3635</td>\n      <td>DIST</td>\n      <td>5.0</td>\n      <td>12.0</td>\n      <td>AC</td>\n      <td>1971</td>\n      <td>KpB</td>\n      <td>7000</td>\n      <td>NE 59TH ST</td>\n      <td>25</td>\n      <td>NEIGHBORHOOD ACCESS</td>\n      <td>1.000000</td>\n    </tr>\n    <tr>\n      <th>39310</th>\n      <td>6927</td>\n      <td>DIST</td>\n      <td>261.0</td>\n      <td>8.0</td>\n      <td>AC</td>\n      <td>1976</td>\n      <td>KpB</td>\n      <td>7000</td>\n      <td>NE 59TH ST</td>\n      <td>25</td>\n      <td>NEIGHBORHOOD ACCESS</td>\n      <td>2.586207</td>\n    </tr>\n  </tbody>\n</table>\n</div>"
     },
     "metadata": {},
     "execution_count": 197
    }
   ],
   "source": [
    "break_2_25_04 = filtered[(filtered['FULL_STRNA'] == 'NE 59TH ST')]\n",
    "break_2_25_04\n",
    "\n",
    "# THIS WILL LIKELY NEED TO BE altered in data set"
   ]
  },
  {
   "cell_type": "code",
   "execution_count": 42,
   "metadata": {},
   "outputs": [
    {
     "output_type": "execute_result",
     "data": {
      "text/plain": [
       "       FID_WA_Mai  TYPE  LENGTH  DIAMETER MATERIAL  INSTYEAR MUSYM  Dist_Rail  \\\n",
       "26578        4438  DIST   197.0       4.0       AC    1991.0   AmC      12000   \n",
       "40951        7457  DIST   164.0       4.0       AC    1991.0   AmC      12000   \n",
       "40953        7458  DIST     2.0       4.0       AC    1991.0   AmC      12000   \n",
       "40954        7459  DIST     3.0       4.0       AC    1991.0   AmC      12000   \n",
       "40955        7460  DIST     2.0       4.0       AC    1991.0   AmC      12000   \n",
       "\n",
       "      FULL_STRNA SPEED           FUNC_CLASS  SLOPE  \n",
       "26578  2ND AVE S    25  NEIGHBORHOOD ACCESS    1.5  \n",
       "40951  2ND AVE S    25  NEIGHBORHOOD ACCESS    3.0  \n",
       "40953  2ND AVE S    25  NEIGHBORHOOD ACCESS    0.0  \n",
       "40954  2ND AVE S    25  NEIGHBORHOOD ACCESS    1.5  \n",
       "40955  2ND AVE S    25  NEIGHBORHOOD ACCESS    0.5  "
      ],
      "text/html": "<div>\n<style scoped>\n    .dataframe tbody tr th:only-of-type {\n        vertical-align: middle;\n    }\n\n    .dataframe tbody tr th {\n        vertical-align: top;\n    }\n\n    .dataframe thead th {\n        text-align: right;\n    }\n</style>\n<table border=\"1\" class=\"dataframe\">\n  <thead>\n    <tr style=\"text-align: right;\">\n      <th></th>\n      <th>FID_WA_Mai</th>\n      <th>TYPE</th>\n      <th>LENGTH</th>\n      <th>DIAMETER</th>\n      <th>MATERIAL</th>\n      <th>INSTYEAR</th>\n      <th>MUSYM</th>\n      <th>Dist_Rail</th>\n      <th>FULL_STRNA</th>\n      <th>SPEED</th>\n      <th>FUNC_CLASS</th>\n      <th>SLOPE</th>\n    </tr>\n  </thead>\n  <tbody>\n    <tr>\n      <th>26578</th>\n      <td>4438</td>\n      <td>DIST</td>\n      <td>197.0</td>\n      <td>4.0</td>\n      <td>AC</td>\n      <td>1991.0</td>\n      <td>AmC</td>\n      <td>12000</td>\n      <td>2ND AVE S</td>\n      <td>25</td>\n      <td>NEIGHBORHOOD ACCESS</td>\n      <td>1.5</td>\n    </tr>\n    <tr>\n      <th>40951</th>\n      <td>7457</td>\n      <td>DIST</td>\n      <td>164.0</td>\n      <td>4.0</td>\n      <td>AC</td>\n      <td>1991.0</td>\n      <td>AmC</td>\n      <td>12000</td>\n      <td>2ND AVE S</td>\n      <td>25</td>\n      <td>NEIGHBORHOOD ACCESS</td>\n      <td>3.0</td>\n    </tr>\n    <tr>\n      <th>40953</th>\n      <td>7458</td>\n      <td>DIST</td>\n      <td>2.0</td>\n      <td>4.0</td>\n      <td>AC</td>\n      <td>1991.0</td>\n      <td>AmC</td>\n      <td>12000</td>\n      <td>2ND AVE S</td>\n      <td>25</td>\n      <td>NEIGHBORHOOD ACCESS</td>\n      <td>0.0</td>\n    </tr>\n    <tr>\n      <th>40954</th>\n      <td>7459</td>\n      <td>DIST</td>\n      <td>3.0</td>\n      <td>4.0</td>\n      <td>AC</td>\n      <td>1991.0</td>\n      <td>AmC</td>\n      <td>12000</td>\n      <td>2ND AVE S</td>\n      <td>25</td>\n      <td>NEIGHBORHOOD ACCESS</td>\n      <td>1.5</td>\n    </tr>\n    <tr>\n      <th>40955</th>\n      <td>7460</td>\n      <td>DIST</td>\n      <td>2.0</td>\n      <td>4.0</td>\n      <td>AC</td>\n      <td>1991.0</td>\n      <td>AmC</td>\n      <td>12000</td>\n      <td>2ND AVE S</td>\n      <td>25</td>\n      <td>NEIGHBORHOOD ACCESS</td>\n      <td>0.5</td>\n    </tr>\n  </tbody>\n</table>\n</div>"
     },
     "metadata": {},
     "execution_count": 42
    }
   ],
   "source": [
    "break_1_04_07 = pipes[(pipes['INSTYEAR'] == 2007) & (pipes['FULL_STRNA'].str.contains('2ND'))]\n",
    "(break_1_04_07)\n",
    "\n",
    "nearby = pipes[(pipes['INSTYEAR'] < 2007) & (pipes['DIAMETER'] == 4) & (pipes['MATERIAL'] == 'AC') & (pipes['FULL_STRNA'].str.contains('2ND AVE')) & (pipes['Dist_Rail'] == 12000)]\n",
    "nearby"
   ]
  },
  {
   "cell_type": "code",
   "execution_count": 52,
   "metadata": {},
   "outputs": [
    {
     "output_type": "execute_result",
     "data": {
      "text/plain": [
       "       FID_WA_Mai  TYPE  LENGTH  DIAMETER MATERIAL  INSTYEAR MUSYM  Dist_Rail  \\\n",
       "15914        2593  DIST     4.0      12.0       DI    2009.0   AmC      12000   \n",
       "15915        2594  DIST     4.0      12.0       DI    2009.0   AmC      12000   \n",
       "16042        2606  DIST     4.0      12.0       DI    2009.0   AmC      12000   \n",
       "23601        3893  DIST     4.0      12.0       DI    2009.0   AmC      12000   \n",
       "24474        4073  DIST     4.0      12.0       DI    2009.0   AmC      12000   \n",
       "24507        4078  DIST    59.0      12.0       DI    2009.0   AmC      12000   \n",
       "24510        4079  DIST   415.0      12.0       DI    2009.0   AmC      12000   \n",
       "24527        4081  DIST     9.0      12.0       DI    2009.0   AmC      12000   \n",
       "\n",
       "      FULL_STRNA SPEED           FUNC_CLASS  SLOPE  \n",
       "15914    9TH AVE    25  NEIGHBORHOOD ACCESS    1.0  \n",
       "15915    9TH AVE    25  NEIGHBORHOOD ACCESS    1.0  \n",
       "16042    9TH AVE    25  NEIGHBORHOOD ACCESS    1.0  \n",
       "23601    9TH AVE    25  NEIGHBORHOOD ACCESS    1.0  \n",
       "24474    9TH AVE    25  NEIGHBORHOOD ACCESS    0.8  \n",
       "24507    9TH AVE    25  NEIGHBORHOOD ACCESS    1.0  \n",
       "24510    9TH AVE    25  NEIGHBORHOOD ACCESS    1.0  \n",
       "24527    9TH AVE    25  NEIGHBORHOOD ACCESS    1.0  "
      ],
      "text/html": "<div>\n<style scoped>\n    .dataframe tbody tr th:only-of-type {\n        vertical-align: middle;\n    }\n\n    .dataframe tbody tr th {\n        vertical-align: top;\n    }\n\n    .dataframe thead th {\n        text-align: right;\n    }\n</style>\n<table border=\"1\" class=\"dataframe\">\n  <thead>\n    <tr style=\"text-align: right;\">\n      <th></th>\n      <th>FID_WA_Mai</th>\n      <th>TYPE</th>\n      <th>LENGTH</th>\n      <th>DIAMETER</th>\n      <th>MATERIAL</th>\n      <th>INSTYEAR</th>\n      <th>MUSYM</th>\n      <th>Dist_Rail</th>\n      <th>FULL_STRNA</th>\n      <th>SPEED</th>\n      <th>FUNC_CLASS</th>\n      <th>SLOPE</th>\n    </tr>\n  </thead>\n  <tbody>\n    <tr>\n      <th>15914</th>\n      <td>2593</td>\n      <td>DIST</td>\n      <td>4.0</td>\n      <td>12.0</td>\n      <td>DI</td>\n      <td>2009.0</td>\n      <td>AmC</td>\n      <td>12000</td>\n      <td>9TH AVE</td>\n      <td>25</td>\n      <td>NEIGHBORHOOD ACCESS</td>\n      <td>1.0</td>\n    </tr>\n    <tr>\n      <th>15915</th>\n      <td>2594</td>\n      <td>DIST</td>\n      <td>4.0</td>\n      <td>12.0</td>\n      <td>DI</td>\n      <td>2009.0</td>\n      <td>AmC</td>\n      <td>12000</td>\n      <td>9TH AVE</td>\n      <td>25</td>\n      <td>NEIGHBORHOOD ACCESS</td>\n      <td>1.0</td>\n    </tr>\n    <tr>\n      <th>16042</th>\n      <td>2606</td>\n      <td>DIST</td>\n      <td>4.0</td>\n      <td>12.0</td>\n      <td>DI</td>\n      <td>2009.0</td>\n      <td>AmC</td>\n      <td>12000</td>\n      <td>9TH AVE</td>\n      <td>25</td>\n      <td>NEIGHBORHOOD ACCESS</td>\n      <td>1.0</td>\n    </tr>\n    <tr>\n      <th>23601</th>\n      <td>3893</td>\n      <td>DIST</td>\n      <td>4.0</td>\n      <td>12.0</td>\n      <td>DI</td>\n      <td>2009.0</td>\n      <td>AmC</td>\n      <td>12000</td>\n      <td>9TH AVE</td>\n      <td>25</td>\n      <td>NEIGHBORHOOD ACCESS</td>\n      <td>1.0</td>\n    </tr>\n    <tr>\n      <th>24474</th>\n      <td>4073</td>\n      <td>DIST</td>\n      <td>4.0</td>\n      <td>12.0</td>\n      <td>DI</td>\n      <td>2009.0</td>\n      <td>AmC</td>\n      <td>12000</td>\n      <td>9TH AVE</td>\n      <td>25</td>\n      <td>NEIGHBORHOOD ACCESS</td>\n      <td>0.8</td>\n    </tr>\n    <tr>\n      <th>24507</th>\n      <td>4078</td>\n      <td>DIST</td>\n      <td>59.0</td>\n      <td>12.0</td>\n      <td>DI</td>\n      <td>2009.0</td>\n      <td>AmC</td>\n      <td>12000</td>\n      <td>9TH AVE</td>\n      <td>25</td>\n      <td>NEIGHBORHOOD ACCESS</td>\n      <td>1.0</td>\n    </tr>\n    <tr>\n      <th>24510</th>\n      <td>4079</td>\n      <td>DIST</td>\n      <td>415.0</td>\n      <td>12.0</td>\n      <td>DI</td>\n      <td>2009.0</td>\n      <td>AmC</td>\n      <td>12000</td>\n      <td>9TH AVE</td>\n      <td>25</td>\n      <td>NEIGHBORHOOD ACCESS</td>\n      <td>1.0</td>\n    </tr>\n    <tr>\n      <th>24527</th>\n      <td>4081</td>\n      <td>DIST</td>\n      <td>9.0</td>\n      <td>12.0</td>\n      <td>DI</td>\n      <td>2009.0</td>\n      <td>AmC</td>\n      <td>12000</td>\n      <td>9TH AVE</td>\n      <td>25</td>\n      <td>NEIGHBORHOOD ACCESS</td>\n      <td>1.0</td>\n    </tr>\n  </tbody>\n</table>\n</div>"
     },
     "metadata": {},
     "execution_count": 52
    }
   ],
   "source": [
    "break_10_08_07 = pipes[(pipes['INSTYEAR'] == 2009) & (pipes['FULL_STRNA'].str.contains('9TH AVE'))]\n",
    "break_10_08_07"
   ]
  },
  {
   "cell_type": "code",
   "execution_count": 69,
   "metadata": {},
   "outputs": [
    {
     "output_type": "execute_result",
     "data": {
      "text/plain": [
       "       FID_WA_Mai  TYPE  LENGTH  DIAMETER MATERIAL  INSTYEAR MUSYM  Dist_Rail  \\\n",
       "9492         1616  DIST   622.0       6.0       AC    1968.0   InC      12000   \n",
       "9509         1617  DIST     1.0       6.0       AC    1968.0   InC      12000   \n",
       "10655        1820  DIST   182.0       8.0       DI    1993.0   InC      11000   \n",
       "10663        1821  DIST   272.0       8.0       DI    1993.0   InC      11000   \n",
       "10698        1823  DIST    32.0       6.0       AC    1968.0   InC      12000   \n",
       "15501        2536  DIST   270.0       8.0       DI    2005.0   InC      12000   \n",
       "35749        6006  DIST    12.0       8.0       DI    2005.0   InC      12000   \n",
       "35750        6007  DIST   294.0       8.0       DI    1993.0   InC      12000   \n",
       "36467        6138  DIST   592.0       8.0       DI    1997.0   AmC      13000   \n",
       "\n",
       "      FULL_STRNA SPEED           FUNC_CLASS     SLOPE  \n",
       "9492    20TH AVE    25  NEIGHBORHOOD ACCESS  1.058824  \n",
       "9509    20TH AVE    25  NEIGHBORHOOD ACCESS  0.000000  \n",
       "10655   20TH AVE    25  NEIGHBORHOOD ACCESS  2.125000  \n",
       "10663   20TH AVE    25  NEIGHBORHOOD ACCESS  2.800000  \n",
       "10698   20TH AVE    25  NEIGHBORHOOD ACCESS  0.000000  \n",
       "15501   20TH AVE    25  NEIGHBORHOOD ACCESS  2.600000  \n",
       "35749   20TH AVE    25  NEIGHBORHOOD ACCESS  3.000000  \n",
       "35750   20TH AVE    25  NEIGHBORHOOD ACCESS  2.000000  \n",
       "36467   20TH AVE    25  NEIGHBORHOOD ACCESS  1.842105  "
      ],
      "text/html": "<div>\n<style scoped>\n    .dataframe tbody tr th:only-of-type {\n        vertical-align: middle;\n    }\n\n    .dataframe tbody tr th {\n        vertical-align: top;\n    }\n\n    .dataframe thead th {\n        text-align: right;\n    }\n</style>\n<table border=\"1\" class=\"dataframe\">\n  <thead>\n    <tr style=\"text-align: right;\">\n      <th></th>\n      <th>FID_WA_Mai</th>\n      <th>TYPE</th>\n      <th>LENGTH</th>\n      <th>DIAMETER</th>\n      <th>MATERIAL</th>\n      <th>INSTYEAR</th>\n      <th>MUSYM</th>\n      <th>Dist_Rail</th>\n      <th>FULL_STRNA</th>\n      <th>SPEED</th>\n      <th>FUNC_CLASS</th>\n      <th>SLOPE</th>\n    </tr>\n  </thead>\n  <tbody>\n    <tr>\n      <th>9492</th>\n      <td>1616</td>\n      <td>DIST</td>\n      <td>622.0</td>\n      <td>6.0</td>\n      <td>AC</td>\n      <td>1968.0</td>\n      <td>InC</td>\n      <td>12000</td>\n      <td>20TH AVE</td>\n      <td>25</td>\n      <td>NEIGHBORHOOD ACCESS</td>\n      <td>1.058824</td>\n    </tr>\n    <tr>\n      <th>9509</th>\n      <td>1617</td>\n      <td>DIST</td>\n      <td>1.0</td>\n      <td>6.0</td>\n      <td>AC</td>\n      <td>1968.0</td>\n      <td>InC</td>\n      <td>12000</td>\n      <td>20TH AVE</td>\n      <td>25</td>\n      <td>NEIGHBORHOOD ACCESS</td>\n      <td>0.000000</td>\n    </tr>\n    <tr>\n      <th>10655</th>\n      <td>1820</td>\n      <td>DIST</td>\n      <td>182.0</td>\n      <td>8.0</td>\n      <td>DI</td>\n      <td>1993.0</td>\n      <td>InC</td>\n      <td>11000</td>\n      <td>20TH AVE</td>\n      <td>25</td>\n      <td>NEIGHBORHOOD ACCESS</td>\n      <td>2.125000</td>\n    </tr>\n    <tr>\n      <th>10663</th>\n      <td>1821</td>\n      <td>DIST</td>\n      <td>272.0</td>\n      <td>8.0</td>\n      <td>DI</td>\n      <td>1993.0</td>\n      <td>InC</td>\n      <td>11000</td>\n      <td>20TH AVE</td>\n      <td>25</td>\n      <td>NEIGHBORHOOD ACCESS</td>\n      <td>2.800000</td>\n    </tr>\n    <tr>\n      <th>10698</th>\n      <td>1823</td>\n      <td>DIST</td>\n      <td>32.0</td>\n      <td>6.0</td>\n      <td>AC</td>\n      <td>1968.0</td>\n      <td>InC</td>\n      <td>12000</td>\n      <td>20TH AVE</td>\n      <td>25</td>\n      <td>NEIGHBORHOOD ACCESS</td>\n      <td>0.000000</td>\n    </tr>\n    <tr>\n      <th>15501</th>\n      <td>2536</td>\n      <td>DIST</td>\n      <td>270.0</td>\n      <td>8.0</td>\n      <td>DI</td>\n      <td>2005.0</td>\n      <td>InC</td>\n      <td>12000</td>\n      <td>20TH AVE</td>\n      <td>25</td>\n      <td>NEIGHBORHOOD ACCESS</td>\n      <td>2.600000</td>\n    </tr>\n    <tr>\n      <th>35749</th>\n      <td>6006</td>\n      <td>DIST</td>\n      <td>12.0</td>\n      <td>8.0</td>\n      <td>DI</td>\n      <td>2005.0</td>\n      <td>InC</td>\n      <td>12000</td>\n      <td>20TH AVE</td>\n      <td>25</td>\n      <td>NEIGHBORHOOD ACCESS</td>\n      <td>3.000000</td>\n    </tr>\n    <tr>\n      <th>35750</th>\n      <td>6007</td>\n      <td>DIST</td>\n      <td>294.0</td>\n      <td>8.0</td>\n      <td>DI</td>\n      <td>1993.0</td>\n      <td>InC</td>\n      <td>12000</td>\n      <td>20TH AVE</td>\n      <td>25</td>\n      <td>NEIGHBORHOOD ACCESS</td>\n      <td>2.000000</td>\n    </tr>\n    <tr>\n      <th>36467</th>\n      <td>6138</td>\n      <td>DIST</td>\n      <td>592.0</td>\n      <td>8.0</td>\n      <td>DI</td>\n      <td>1997.0</td>\n      <td>AmC</td>\n      <td>13000</td>\n      <td>20TH AVE</td>\n      <td>25</td>\n      <td>NEIGHBORHOOD ACCESS</td>\n      <td>1.842105</td>\n    </tr>\n  </tbody>\n</table>\n</div>"
     },
     "metadata": {},
     "execution_count": 69
    }
   ],
   "source": [
    "break_11_2_07 = pipes[(pipes['INSTYEAR'] == 2008) & (pipes['FULL_STRNA'] == '20TH AVE')]\n",
    "break_11_2_07\n",
    "\n",
    "nearby = pipes[(pipes['INSTYEAR'] < 2007) & (pipes['FULL_STRNA'] == '20TH AVE')]\n",
    "nearby\n",
    "\n",
    "similar = pipes[(pipes['MATERIAL'] == 'AC') & (pipes['DIAMETER'] == 4) & (pipes['MUSYM'] == 'InC') & (pipes['Dist_Rail'] >= 10000)]\n",
    "nearby"
   ]
  },
  {
   "cell_type": "code",
   "execution_count": null,
   "metadata": {},
   "outputs": [],
   "source": []
  }
 ]
}