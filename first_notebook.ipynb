{
 "metadata": {
  "language_info": {
   "codemirror_mode": {
    "name": "ipython",
    "version": 3
   },
   "file_extension": ".py",
   "mimetype": "text/x-python",
   "name": "python",
   "nbconvert_exporter": "python",
   "pygments_lexer": "ipython3",
   "version": "3.7.4-final"
  },
  "orig_nbformat": 2,
  "kernelspec": {
   "name": "python_defaultSpec_1600721044243",
   "display_name": "Python 3.7.4 64-bit ('test': conda)"
  }
 },
 "nbformat": 4,
 "nbformat_minor": 2,
 "cells": [
  {
   "source": [
    "# Alright lets see what this is all about\n",
    "import numpy as np\n",
    "import pandas as pd\n",
    "import sklearn \n"
   ],
   "cell_type": "code",
   "metadata": {
    "tags": []
   },
   "execution_count": 63,
   "outputs": []
  },
  {
   "cell_type": "code",
   "execution_count": 107,
   "metadata": {
    "tags": []
   },
   "outputs": [
    {
     "output_type": "execute_result",
     "data": {
      "text/plain": "         FID  FID_WA_Mai  TYPE  LENGTH  DIAMETER MATERIAL  INSTYEAR MUSYM  \\\n1          1           2  FIRE     2.0       2.0      UNK      1992   AgC   \n3          3           4  FIRE     3.0       6.0       DI      2005    Ur   \n4          4           5  FIRE   149.0       8.0       AC      1963    Ur   \n5          5           5  FIRE   149.0       8.0       AC      1963    Ur   \n6          6           5  FIRE   149.0       8.0       AC      1963    Ur   \n...      ...         ...   ...     ...       ...      ...       ...   ...   \n41815  41815        3962  DIST     4.0       8.0       DI      1977    No   \n41816  41816        3963  DIST     1.0      12.0       DI      1971    No   \n41817  41817        5622  DIST     1.0       8.0       DI      2003   AgC   \n41818  41818        5623  DIST     1.0       8.0       DI      2003   AgC   \n41819  41819        1093  DIST    83.0      12.0       DI      2009   AgC   \n\n       Dist_Rail  SLP_CLASS               FULL_STRNA SPEED  \\\n1           7000        1.0              122ND LN NE    25   \n3           4000        0.0  LAKE WASHINGTON BLVD NE    35   \n4           7000        6.0                                  \n5           7000        3.0            S I 405ONRAMP    25   \n6           7000        6.0                                  \n...          ...        ...                      ...   ...   \n41815       9000        0.0             120TH AVE NE    25   \n41816       9000        0.0             120TH AVE NE    25   \n41817      10000        2.0             117TH AVE NE    25   \n41818      10000        2.0             117TH AVE NE    25   \n41819       5000        0.0              NE 115TH PL    35   \n\n                FUNC_CLASS  \n1      NEIGHBORHOOD ACCESS  \n3       PRINCIPAL ARTERIAL  \n4                           \n5                     RAMP  \n6                           \n...                    ...  \n41815            COLLECTOR  \n41816            COLLECTOR  \n41817  NEIGHBORHOOD ACCESS  \n41818  NEIGHBORHOOD ACCESS  \n41819            COLLECTOR  \n\n[38364 rows x 13 columns]",
      "text/html": "<div>\n<style scoped>\n    .dataframe tbody tr th:only-of-type {\n        vertical-align: middle;\n    }\n\n    .dataframe tbody tr th {\n        vertical-align: top;\n    }\n\n    .dataframe thead th {\n        text-align: right;\n    }\n</style>\n<table border=\"1\" class=\"dataframe\">\n  <thead>\n    <tr style=\"text-align: right;\">\n      <th></th>\n      <th>FID</th>\n      <th>FID_WA_Mai</th>\n      <th>TYPE</th>\n      <th>LENGTH</th>\n      <th>DIAMETER</th>\n      <th>MATERIAL</th>\n      <th>INSTYEAR</th>\n      <th>MUSYM</th>\n      <th>Dist_Rail</th>\n      <th>SLP_CLASS</th>\n      <th>FULL_STRNA</th>\n      <th>SPEED</th>\n      <th>FUNC_CLASS</th>\n    </tr>\n  </thead>\n  <tbody>\n    <tr>\n      <th>1</th>\n      <td>1</td>\n      <td>2</td>\n      <td>FIRE</td>\n      <td>2.0</td>\n      <td>2.0</td>\n      <td>UNK</td>\n      <td>1992</td>\n      <td>AgC</td>\n      <td>7000</td>\n      <td>1.0</td>\n      <td>122ND LN NE</td>\n      <td>25</td>\n      <td>NEIGHBORHOOD ACCESS</td>\n    </tr>\n    <tr>\n      <th>3</th>\n      <td>3</td>\n      <td>4</td>\n      <td>FIRE</td>\n      <td>3.0</td>\n      <td>6.0</td>\n      <td>DI</td>\n      <td>2005</td>\n      <td>Ur</td>\n      <td>4000</td>\n      <td>0.0</td>\n      <td>LAKE WASHINGTON BLVD NE</td>\n      <td>35</td>\n      <td>PRINCIPAL ARTERIAL</td>\n    </tr>\n    <tr>\n      <th>4</th>\n      <td>4</td>\n      <td>5</td>\n      <td>FIRE</td>\n      <td>149.0</td>\n      <td>8.0</td>\n      <td>AC</td>\n      <td>1963</td>\n      <td>Ur</td>\n      <td>7000</td>\n      <td>6.0</td>\n      <td></td>\n      <td></td>\n      <td></td>\n    </tr>\n    <tr>\n      <th>5</th>\n      <td>5</td>\n      <td>5</td>\n      <td>FIRE</td>\n      <td>149.0</td>\n      <td>8.0</td>\n      <td>AC</td>\n      <td>1963</td>\n      <td>Ur</td>\n      <td>7000</td>\n      <td>3.0</td>\n      <td>S I 405ONRAMP</td>\n      <td>25</td>\n      <td>RAMP</td>\n    </tr>\n    <tr>\n      <th>6</th>\n      <td>6</td>\n      <td>5</td>\n      <td>FIRE</td>\n      <td>149.0</td>\n      <td>8.0</td>\n      <td>AC</td>\n      <td>1963</td>\n      <td>Ur</td>\n      <td>7000</td>\n      <td>6.0</td>\n      <td></td>\n      <td></td>\n      <td></td>\n    </tr>\n    <tr>\n      <th>...</th>\n      <td>...</td>\n      <td>...</td>\n      <td>...</td>\n      <td>...</td>\n      <td>...</td>\n      <td>...</td>\n      <td>...</td>\n      <td>...</td>\n      <td>...</td>\n      <td>...</td>\n      <td>...</td>\n      <td>...</td>\n      <td>...</td>\n    </tr>\n    <tr>\n      <th>41815</th>\n      <td>41815</td>\n      <td>3962</td>\n      <td>DIST</td>\n      <td>4.0</td>\n      <td>8.0</td>\n      <td>DI</td>\n      <td>1977</td>\n      <td>No</td>\n      <td>9000</td>\n      <td>0.0</td>\n      <td>120TH AVE NE</td>\n      <td>25</td>\n      <td>COLLECTOR</td>\n    </tr>\n    <tr>\n      <th>41816</th>\n      <td>41816</td>\n      <td>3963</td>\n      <td>DIST</td>\n      <td>1.0</td>\n      <td>12.0</td>\n      <td>DI</td>\n      <td>1971</td>\n      <td>No</td>\n      <td>9000</td>\n      <td>0.0</td>\n      <td>120TH AVE NE</td>\n      <td>25</td>\n      <td>COLLECTOR</td>\n    </tr>\n    <tr>\n      <th>41817</th>\n      <td>41817</td>\n      <td>5622</td>\n      <td>DIST</td>\n      <td>1.0</td>\n      <td>8.0</td>\n      <td>DI</td>\n      <td>2003</td>\n      <td>AgC</td>\n      <td>10000</td>\n      <td>2.0</td>\n      <td>117TH AVE NE</td>\n      <td>25</td>\n      <td>NEIGHBORHOOD ACCESS</td>\n    </tr>\n    <tr>\n      <th>41818</th>\n      <td>41818</td>\n      <td>5623</td>\n      <td>DIST</td>\n      <td>1.0</td>\n      <td>8.0</td>\n      <td>DI</td>\n      <td>2003</td>\n      <td>AgC</td>\n      <td>10000</td>\n      <td>2.0</td>\n      <td>117TH AVE NE</td>\n      <td>25</td>\n      <td>NEIGHBORHOOD ACCESS</td>\n    </tr>\n    <tr>\n      <th>41819</th>\n      <td>41819</td>\n      <td>1093</td>\n      <td>DIST</td>\n      <td>83.0</td>\n      <td>12.0</td>\n      <td>DI</td>\n      <td>2009</td>\n      <td>AgC</td>\n      <td>5000</td>\n      <td>0.0</td>\n      <td>NE 115TH PL</td>\n      <td>35</td>\n      <td>COLLECTOR</td>\n    </tr>\n  </tbody>\n</table>\n<p>38364 rows × 13 columns</p>\n</div>"
     },
     "metadata": {},
     "execution_count": 107
    }
   ],
   "source": [
    "#LOAD GIS WATERMAIN AND BREAK DATA\n",
    "df = pd.read_csv('Kirk_All.csv')\n",
    "df.dropna(inplace=True) # Are there any columns where we can deal with NA values?\n",
    "# Can we use imputation instead?\n",
    "breaks = pd.read_csv('Kirk_Break_Data.csv')\n",
    "df['INSTYEAR'] = df['INSTYEAR'].map(lambda x: int((str(x)[-12:-8])))\n",
    "df\n"
   ]
  },
  {
   "cell_type": "code",
   "execution_count": 77,
   "metadata": {},
   "outputs": [
    {
     "output_type": "execute_result",
     "data": {
      "text/plain": "        Date            Location  Zone  Size Type  \\\n0        1/8         347 7th Ave   315     6   CI   \n1        1/9      696 16th Ave W   315     8   AC   \n2       1/21      740 16th Ave W   315     6   AC   \n3       2/25       10132 NE 59th   285     8   AC   \n4       3/16  18th Ave & 6th St.   450    12   AC   \n..       ...                 ...   ...   ...  ...   \n63  10/31/17    10830 NE 68th St   450     8   AC   \n64   5/23/18    11828 NE 75th St   650     6   AC   \n65   5/30/19    11828 NE 75th St   650     6   AC   \n66    6/3/19    10425 NE 58th St   450     6   AC   \n67   10/2/19   6109 106th Ave NE   450     6   AC   \n\n                           Comment  Year  Install_Year  \n0                              NaN  2004           NaN  \n1                              NaN  2004           NaN  \n2                              NaN  2004           NaN  \n3                             Leak  2004           NaN  \n4                             Leak  2004           NaN  \n..                             ...   ...           ...  \n63                      Full Break  2017           NaN  \n64                      Bead Break  2018           NaN  \n65  Break at abandoned service tap  2019           NaN  \n66                      Full Break  2019           NaN  \n67                      Full Break  2019           NaN  \n\n[68 rows x 8 columns]",
      "text/html": "<div>\n<style scoped>\n    .dataframe tbody tr th:only-of-type {\n        vertical-align: middle;\n    }\n\n    .dataframe tbody tr th {\n        vertical-align: top;\n    }\n\n    .dataframe thead th {\n        text-align: right;\n    }\n</style>\n<table border=\"1\" class=\"dataframe\">\n  <thead>\n    <tr style=\"text-align: right;\">\n      <th></th>\n      <th>Date</th>\n      <th>Location</th>\n      <th>Zone</th>\n      <th>Size</th>\n      <th>Type</th>\n      <th>Comment</th>\n      <th>Year</th>\n      <th>Install_Year</th>\n    </tr>\n  </thead>\n  <tbody>\n    <tr>\n      <th>0</th>\n      <td>1/8</td>\n      <td>347 7th Ave</td>\n      <td>315</td>\n      <td>6</td>\n      <td>CI</td>\n      <td>NaN</td>\n      <td>2004</td>\n      <td>NaN</td>\n    </tr>\n    <tr>\n      <th>1</th>\n      <td>1/9</td>\n      <td>696 16th Ave W</td>\n      <td>315</td>\n      <td>8</td>\n      <td>AC</td>\n      <td>NaN</td>\n      <td>2004</td>\n      <td>NaN</td>\n    </tr>\n    <tr>\n      <th>2</th>\n      <td>1/21</td>\n      <td>740 16th Ave W</td>\n      <td>315</td>\n      <td>6</td>\n      <td>AC</td>\n      <td>NaN</td>\n      <td>2004</td>\n      <td>NaN</td>\n    </tr>\n    <tr>\n      <th>3</th>\n      <td>2/25</td>\n      <td>10132 NE 59th</td>\n      <td>285</td>\n      <td>8</td>\n      <td>AC</td>\n      <td>Leak</td>\n      <td>2004</td>\n      <td>NaN</td>\n    </tr>\n    <tr>\n      <th>4</th>\n      <td>3/16</td>\n      <td>18th Ave &amp; 6th St.</td>\n      <td>450</td>\n      <td>12</td>\n      <td>AC</td>\n      <td>Leak</td>\n      <td>2004</td>\n      <td>NaN</td>\n    </tr>\n    <tr>\n      <th>...</th>\n      <td>...</td>\n      <td>...</td>\n      <td>...</td>\n      <td>...</td>\n      <td>...</td>\n      <td>...</td>\n      <td>...</td>\n      <td>...</td>\n    </tr>\n    <tr>\n      <th>63</th>\n      <td>10/31/17</td>\n      <td>10830 NE 68th St</td>\n      <td>450</td>\n      <td>8</td>\n      <td>AC</td>\n      <td>Full Break</td>\n      <td>2017</td>\n      <td>NaN</td>\n    </tr>\n    <tr>\n      <th>64</th>\n      <td>5/23/18</td>\n      <td>11828 NE 75th St</td>\n      <td>650</td>\n      <td>6</td>\n      <td>AC</td>\n      <td>Bead Break</td>\n      <td>2018</td>\n      <td>NaN</td>\n    </tr>\n    <tr>\n      <th>65</th>\n      <td>5/30/19</td>\n      <td>11828 NE 75th St</td>\n      <td>650</td>\n      <td>6</td>\n      <td>AC</td>\n      <td>Break at abandoned service tap</td>\n      <td>2019</td>\n      <td>NaN</td>\n    </tr>\n    <tr>\n      <th>66</th>\n      <td>6/3/19</td>\n      <td>10425 NE 58th St</td>\n      <td>450</td>\n      <td>6</td>\n      <td>AC</td>\n      <td>Full Break</td>\n      <td>2019</td>\n      <td>NaN</td>\n    </tr>\n    <tr>\n      <th>67</th>\n      <td>10/2/19</td>\n      <td>6109 106th Ave NE</td>\n      <td>450</td>\n      <td>6</td>\n      <td>AC</td>\n      <td>Full Break</td>\n      <td>2019</td>\n      <td>NaN</td>\n    </tr>\n  </tbody>\n</table>\n<p>68 rows × 8 columns</p>\n</div>"
     },
     "metadata": {},
     "execution_count": 77
    }
   ],
   "source": [
    "breaks"
   ]
  },
  {
   "cell_type": "code",
   "execution_count": 108,
   "metadata": {
    "tags": []
   },
   "outputs": [],
   "source": [
    "# GROUP PIPES BY THEIR UNIQUE ID - NEEDED BECAUSE OF HOW SLOPE BREAKS UP PIPES IN DIFFERENT SLOPE CLASSES\n",
    "grouping = df.groupby('FID_WA_Mai').groups\n",
    "unique_pipes = df['FID_WA_Mai'].unique()\n",
    "indices = []\n",
    "for i in range(len(unique_pipes)):\n",
    "    pipe = unique_pipes[i]\n",
    "    val = grouping[pipe][0]\n",
    "    indices.append(val)\n",
    "    "
   ]
  },
  {
   "cell_type": "code",
   "execution_count": 109,
   "metadata": {
    "tags": []
   },
   "outputs": [],
   "source": [
    "# CALCULATE AVERAGE SLOPES FOR PIPES THAT GOT SPLIT INTO MULTIPLE ROWS\n",
    "slopes = df[['FID_WA_Mai', 'SLP_CLASS']]\n",
    "slopes = slopes.groupby('FID_WA_Mai')['SLP_CLASS'].mean()\n",
    "slopes = pd.Series(slopes)\n"
   ]
  },
  {
   "cell_type": "code",
   "execution_count": 141,
   "metadata": {},
   "outputs": [
    {
     "output_type": "execute_result",
     "data": {
      "text/plain": "       FID_WA_Mai  TYPE  LENGTH  DIAMETER MATERIAL  INSTYEAR MUSYM  Dist_Rail  \\\n1               2  FIRE     2.0       2.0      UNK      1992   AgC       7000   \n3               4  FIRE     3.0       6.0       DI      2005    Ur       4000   \n4               5  FIRE   149.0       8.0       AC      1963    Ur       7000   \n22              6  FIRE     1.0      12.0       DI      1978    Ur       6000   \n23              7  FIRE     1.0       6.0       DI      2002   AmC      13000   \n...           ...   ...     ...       ...      ...       ...   ...        ...   \n41801        7742  DIST    15.0       8.0       DI      2017   AgD       5000   \n41804        7743  DIST   296.0       8.0       AC      1943   AgC       9000   \n41816        3963  DIST     1.0      12.0       DI      1971    No       9000   \n41817        5622  DIST     1.0       8.0       DI      2003   AgC      10000   \n41818        5623  DIST     1.0       8.0       DI      2003   AgC      10000   \n\n                    FULL_STRNA SPEED           FUNC_CLASS     SLOPE  \n1                  122ND LN NE    25  NEIGHBORHOOD ACCESS  1.000000  \n3      LAKE WASHINGTON BLVD NE    35   PRINCIPAL ARTERIAL  0.000000  \n4                                                          3.888889  \n22                120TH AVE NE    25       MINOR ARTERIAL  1.000000  \n23                      1ST ST    25  NEIGHBORHOOD ACCESS  2.000000  \n...                        ...   ...                  ...       ...  \n41801              96TH AVE NE    25  NEIGHBORHOOD ACCESS  0.785714  \n41804               NE 68TH ST    25       MINOR ARTERIAL  4.000000  \n41816             120TH AVE NE    25            COLLECTOR  4.000000  \n41817             117TH AVE NE    25  NEIGHBORHOOD ACCESS  3.000000  \n41818             117TH AVE NE    25  NEIGHBORHOOD ACCESS  0.777778  \n\n[6888 rows x 12 columns]",
      "text/html": "<div>\n<style scoped>\n    .dataframe tbody tr th:only-of-type {\n        vertical-align: middle;\n    }\n\n    .dataframe tbody tr th {\n        vertical-align: top;\n    }\n\n    .dataframe thead th {\n        text-align: right;\n    }\n</style>\n<table border=\"1\" class=\"dataframe\">\n  <thead>\n    <tr style=\"text-align: right;\">\n      <th></th>\n      <th>FID_WA_Mai</th>\n      <th>TYPE</th>\n      <th>LENGTH</th>\n      <th>DIAMETER</th>\n      <th>MATERIAL</th>\n      <th>INSTYEAR</th>\n      <th>MUSYM</th>\n      <th>Dist_Rail</th>\n      <th>FULL_STRNA</th>\n      <th>SPEED</th>\n      <th>FUNC_CLASS</th>\n      <th>SLOPE</th>\n    </tr>\n  </thead>\n  <tbody>\n    <tr>\n      <th>1</th>\n      <td>2</td>\n      <td>FIRE</td>\n      <td>2.0</td>\n      <td>2.0</td>\n      <td>UNK</td>\n      <td>1992</td>\n      <td>AgC</td>\n      <td>7000</td>\n      <td>122ND LN NE</td>\n      <td>25</td>\n      <td>NEIGHBORHOOD ACCESS</td>\n      <td>1.000000</td>\n    </tr>\n    <tr>\n      <th>3</th>\n      <td>4</td>\n      <td>FIRE</td>\n      <td>3.0</td>\n      <td>6.0</td>\n      <td>DI</td>\n      <td>2005</td>\n      <td>Ur</td>\n      <td>4000</td>\n      <td>LAKE WASHINGTON BLVD NE</td>\n      <td>35</td>\n      <td>PRINCIPAL ARTERIAL</td>\n      <td>0.000000</td>\n    </tr>\n    <tr>\n      <th>4</th>\n      <td>5</td>\n      <td>FIRE</td>\n      <td>149.0</td>\n      <td>8.0</td>\n      <td>AC</td>\n      <td>1963</td>\n      <td>Ur</td>\n      <td>7000</td>\n      <td></td>\n      <td></td>\n      <td></td>\n      <td>3.888889</td>\n    </tr>\n    <tr>\n      <th>22</th>\n      <td>6</td>\n      <td>FIRE</td>\n      <td>1.0</td>\n      <td>12.0</td>\n      <td>DI</td>\n      <td>1978</td>\n      <td>Ur</td>\n      <td>6000</td>\n      <td>120TH AVE NE</td>\n      <td>25</td>\n      <td>MINOR ARTERIAL</td>\n      <td>1.000000</td>\n    </tr>\n    <tr>\n      <th>23</th>\n      <td>7</td>\n      <td>FIRE</td>\n      <td>1.0</td>\n      <td>6.0</td>\n      <td>DI</td>\n      <td>2002</td>\n      <td>AmC</td>\n      <td>13000</td>\n      <td>1ST ST</td>\n      <td>25</td>\n      <td>NEIGHBORHOOD ACCESS</td>\n      <td>2.000000</td>\n    </tr>\n    <tr>\n      <th>...</th>\n      <td>...</td>\n      <td>...</td>\n      <td>...</td>\n      <td>...</td>\n      <td>...</td>\n      <td>...</td>\n      <td>...</td>\n      <td>...</td>\n      <td>...</td>\n      <td>...</td>\n      <td>...</td>\n      <td>...</td>\n    </tr>\n    <tr>\n      <th>41801</th>\n      <td>7742</td>\n      <td>DIST</td>\n      <td>15.0</td>\n      <td>8.0</td>\n      <td>DI</td>\n      <td>2017</td>\n      <td>AgD</td>\n      <td>5000</td>\n      <td>96TH AVE NE</td>\n      <td>25</td>\n      <td>NEIGHBORHOOD ACCESS</td>\n      <td>0.785714</td>\n    </tr>\n    <tr>\n      <th>41804</th>\n      <td>7743</td>\n      <td>DIST</td>\n      <td>296.0</td>\n      <td>8.0</td>\n      <td>AC</td>\n      <td>1943</td>\n      <td>AgC</td>\n      <td>9000</td>\n      <td>NE 68TH ST</td>\n      <td>25</td>\n      <td>MINOR ARTERIAL</td>\n      <td>4.000000</td>\n    </tr>\n    <tr>\n      <th>41816</th>\n      <td>3963</td>\n      <td>DIST</td>\n      <td>1.0</td>\n      <td>12.0</td>\n      <td>DI</td>\n      <td>1971</td>\n      <td>No</td>\n      <td>9000</td>\n      <td>120TH AVE NE</td>\n      <td>25</td>\n      <td>COLLECTOR</td>\n      <td>4.000000</td>\n    </tr>\n    <tr>\n      <th>41817</th>\n      <td>5622</td>\n      <td>DIST</td>\n      <td>1.0</td>\n      <td>8.0</td>\n      <td>DI</td>\n      <td>2003</td>\n      <td>AgC</td>\n      <td>10000</td>\n      <td>117TH AVE NE</td>\n      <td>25</td>\n      <td>NEIGHBORHOOD ACCESS</td>\n      <td>3.000000</td>\n    </tr>\n    <tr>\n      <th>41818</th>\n      <td>5623</td>\n      <td>DIST</td>\n      <td>1.0</td>\n      <td>8.0</td>\n      <td>DI</td>\n      <td>2003</td>\n      <td>AgC</td>\n      <td>10000</td>\n      <td>117TH AVE NE</td>\n      <td>25</td>\n      <td>NEIGHBORHOOD ACCESS</td>\n      <td>0.777778</td>\n    </tr>\n  </tbody>\n</table>\n<p>6888 rows × 12 columns</p>\n</div>"
     },
     "metadata": {},
     "execution_count": 141
    }
   ],
   "source": [
    "# REMOVE SLP_CLASS COLUMN, ADD AVERAGE SLOPE SEREIS FOR EACH UNIQUE PIPE\n",
    "filtered = df.loc[indices, 'FID_WA_Mai':'FUNC_CLASS']\n",
    "filtered = filtered.drop('SLP_CLASS', axis=1)\n",
    "filtered['SLOPE'] = slopes.values\n",
    "\n",
    "filtered\n"
   ]
  },
  {
   "cell_type": "code",
   "execution_count": 154,
   "metadata": {},
   "outputs": [
    {
     "output_type": "execute_result",
     "data": {
      "text/plain": "       FID_WA_Mai  TYPE  LENGTH  DIAMETER MATERIAL  INSTYEAR MUSYM  Dist_Rail  \\\n4               5  FIRE   149.0       8.0       AC      1963    Ur       7000   \n29             13  FIRE    12.0       4.0      UNK      1997   KpB       7000   \n75             53  FIRE    33.0       4.0      UNK      1991   AmC      13000   \n105            79  FIRE    30.0       8.0       DI      1991   AgC       6000   \n129            99  FIRE   127.0       4.0       DI      2003   AgC       5000   \n...           ...   ...     ...       ...      ...       ...   ...        ...   \n41778        7738  DIST   128.0       8.0       DI      2020   InC      11000   \n41785        7739  DIST   431.0       8.0       DI      2020   AgC       6000   \n41799        7740  DIST    12.0       8.0       DI      2001   AgD       5000   \n41801        7742  DIST    15.0       8.0       DI      2017   AgD       5000   \n41804        7743  DIST   296.0       8.0       AC      1943   AgC       9000   \n\n        FULL_STRNA SPEED           FUNC_CLASS     SLOPE  \n4                                              3.888889  \n29      NE 62ND ST    25  NEIGHBORHOOD ACCESS  3.000000  \n75         5TH AVE    25  NEIGHBORHOOD ACCESS  1.666667  \n105    CARILLON PT    10  NEIGHBORHOOD ACCESS  2.600000  \n129    113TH PL NE    10  NEIGHBORHOOD ACCESS  1.000000  \n...            ...   ...                  ...       ...  \n41778     8TH ST S    25            COLLECTOR  1.428571  \n41785   NE 90TH ST    25            COLLECTOR  0.600000  \n41799  96TH AVE NE    25  NEIGHBORHOOD ACCESS  2.000000  \n41801  96TH AVE NE    25  NEIGHBORHOOD ACCESS  0.785714  \n41804   NE 68TH ST    25       MINOR ARTERIAL  4.000000  \n\n[3732 rows x 12 columns]",
      "text/html": "<div>\n<style scoped>\n    .dataframe tbody tr th:only-of-type {\n        vertical-align: middle;\n    }\n\n    .dataframe tbody tr th {\n        vertical-align: top;\n    }\n\n    .dataframe thead th {\n        text-align: right;\n    }\n</style>\n<table border=\"1\" class=\"dataframe\">\n  <thead>\n    <tr style=\"text-align: right;\">\n      <th></th>\n      <th>FID_WA_Mai</th>\n      <th>TYPE</th>\n      <th>LENGTH</th>\n      <th>DIAMETER</th>\n      <th>MATERIAL</th>\n      <th>INSTYEAR</th>\n      <th>MUSYM</th>\n      <th>Dist_Rail</th>\n      <th>FULL_STRNA</th>\n      <th>SPEED</th>\n      <th>FUNC_CLASS</th>\n      <th>SLOPE</th>\n    </tr>\n  </thead>\n  <tbody>\n    <tr>\n      <th>4</th>\n      <td>5</td>\n      <td>FIRE</td>\n      <td>149.0</td>\n      <td>8.0</td>\n      <td>AC</td>\n      <td>1963</td>\n      <td>Ur</td>\n      <td>7000</td>\n      <td></td>\n      <td></td>\n      <td></td>\n      <td>3.888889</td>\n    </tr>\n    <tr>\n      <th>29</th>\n      <td>13</td>\n      <td>FIRE</td>\n      <td>12.0</td>\n      <td>4.0</td>\n      <td>UNK</td>\n      <td>1997</td>\n      <td>KpB</td>\n      <td>7000</td>\n      <td>NE 62ND ST</td>\n      <td>25</td>\n      <td>NEIGHBORHOOD ACCESS</td>\n      <td>3.000000</td>\n    </tr>\n    <tr>\n      <th>75</th>\n      <td>53</td>\n      <td>FIRE</td>\n      <td>33.0</td>\n      <td>4.0</td>\n      <td>UNK</td>\n      <td>1991</td>\n      <td>AmC</td>\n      <td>13000</td>\n      <td>5TH AVE</td>\n      <td>25</td>\n      <td>NEIGHBORHOOD ACCESS</td>\n      <td>1.666667</td>\n    </tr>\n    <tr>\n      <th>105</th>\n      <td>79</td>\n      <td>FIRE</td>\n      <td>30.0</td>\n      <td>8.0</td>\n      <td>DI</td>\n      <td>1991</td>\n      <td>AgC</td>\n      <td>6000</td>\n      <td>CARILLON PT</td>\n      <td>10</td>\n      <td>NEIGHBORHOOD ACCESS</td>\n      <td>2.600000</td>\n    </tr>\n    <tr>\n      <th>129</th>\n      <td>99</td>\n      <td>FIRE</td>\n      <td>127.0</td>\n      <td>4.0</td>\n      <td>DI</td>\n      <td>2003</td>\n      <td>AgC</td>\n      <td>5000</td>\n      <td>113TH PL NE</td>\n      <td>10</td>\n      <td>NEIGHBORHOOD ACCESS</td>\n      <td>1.000000</td>\n    </tr>\n    <tr>\n      <th>...</th>\n      <td>...</td>\n      <td>...</td>\n      <td>...</td>\n      <td>...</td>\n      <td>...</td>\n      <td>...</td>\n      <td>...</td>\n      <td>...</td>\n      <td>...</td>\n      <td>...</td>\n      <td>...</td>\n      <td>...</td>\n    </tr>\n    <tr>\n      <th>41778</th>\n      <td>7738</td>\n      <td>DIST</td>\n      <td>128.0</td>\n      <td>8.0</td>\n      <td>DI</td>\n      <td>2020</td>\n      <td>InC</td>\n      <td>11000</td>\n      <td>8TH ST S</td>\n      <td>25</td>\n      <td>COLLECTOR</td>\n      <td>1.428571</td>\n    </tr>\n    <tr>\n      <th>41785</th>\n      <td>7739</td>\n      <td>DIST</td>\n      <td>431.0</td>\n      <td>8.0</td>\n      <td>DI</td>\n      <td>2020</td>\n      <td>AgC</td>\n      <td>6000</td>\n      <td>NE 90TH ST</td>\n      <td>25</td>\n      <td>COLLECTOR</td>\n      <td>0.600000</td>\n    </tr>\n    <tr>\n      <th>41799</th>\n      <td>7740</td>\n      <td>DIST</td>\n      <td>12.0</td>\n      <td>8.0</td>\n      <td>DI</td>\n      <td>2001</td>\n      <td>AgD</td>\n      <td>5000</td>\n      <td>96TH AVE NE</td>\n      <td>25</td>\n      <td>NEIGHBORHOOD ACCESS</td>\n      <td>2.000000</td>\n    </tr>\n    <tr>\n      <th>41801</th>\n      <td>7742</td>\n      <td>DIST</td>\n      <td>15.0</td>\n      <td>8.0</td>\n      <td>DI</td>\n      <td>2017</td>\n      <td>AgD</td>\n      <td>5000</td>\n      <td>96TH AVE NE</td>\n      <td>25</td>\n      <td>NEIGHBORHOOD ACCESS</td>\n      <td>0.785714</td>\n    </tr>\n    <tr>\n      <th>41804</th>\n      <td>7743</td>\n      <td>DIST</td>\n      <td>296.0</td>\n      <td>8.0</td>\n      <td>AC</td>\n      <td>1943</td>\n      <td>AgC</td>\n      <td>9000</td>\n      <td>NE 68TH ST</td>\n      <td>25</td>\n      <td>MINOR ARTERIAL</td>\n      <td>4.000000</td>\n    </tr>\n  </tbody>\n</table>\n<p>3732 rows × 12 columns</p>\n</div>"
     },
     "metadata": {},
     "execution_count": 154
    }
   ],
   "source": [
    "filtered[filtered['LENGTH'] > 10.0]"
   ]
  },
  {
   "cell_type": "code",
   "execution_count": 135,
   "metadata": {
    "tags": []
   },
   "outputs": [
    {
     "output_type": "execute_result",
     "data": {
      "text/plain": "Empty DataFrame\nColumns: [FID_WA_Mai, TYPE, LENGTH, DIAMETER, MATERIAL, INSTYEAR, MUSYM, Dist_Rail, FULL_STRNA, SPEED, FUNC_CLASS, SLOPE]\nIndex: []",
      "text/html": "<div>\n<style scoped>\n    .dataframe tbody tr th:only-of-type {\n        vertical-align: middle;\n    }\n\n    .dataframe tbody tr th {\n        vertical-align: top;\n    }\n\n    .dataframe thead th {\n        text-align: right;\n    }\n</style>\n<table border=\"1\" class=\"dataframe\">\n  <thead>\n    <tr style=\"text-align: right;\">\n      <th></th>\n      <th>FID_WA_Mai</th>\n      <th>TYPE</th>\n      <th>LENGTH</th>\n      <th>DIAMETER</th>\n      <th>MATERIAL</th>\n      <th>INSTYEAR</th>\n      <th>MUSYM</th>\n      <th>Dist_Rail</th>\n      <th>FULL_STRNA</th>\n      <th>SPEED</th>\n      <th>FUNC_CLASS</th>\n      <th>SLOPE</th>\n    </tr>\n  </thead>\n  <tbody>\n  </tbody>\n</table>\n</div>"
     },
     "metadata": {},
     "execution_count": 135
    }
   ],
   "source": [
    "break_1_8_04 = filtered[(filtered['FULL_STRNA'] == '7TH AVE') & (filtered['INSTYEAR'].equals(2003))]\n",
    "break_1_8_04"
   ]
  },
  {
   "cell_type": "code",
   "execution_count": 204,
   "metadata": {
    "tags": []
   },
   "outputs": [
    {
     "output_type": "stream",
     "name": "stdout",
     "text": "['10TH AVE' 'KIRKLAND CIR' '4TH ST' '17TH AVE W' '9TH AVE' '5TH AVE'\n '3RD ST' 'KIRKLAND WAY' '8TH LN' '15TH AVE' 'KIRKLAND AVE' 'NE 68TH ST'\n '19TH AVE' '8TH AVE' 'NE 45TH ST' ' ' '1ST ST' 'NE 44TH ST' 'NE 68TH PL'\n '6TH ST' '106TH AVE NE' '6TH AVE' '5TH ST' '7TH AVE' '109TH PL NE'\n '10TH AVE S' '5TH AVE S' 'LAKEVIEW DR' '5TH ST S' '6TH ST S' 'STATE ST S']\n"
    },
    {
     "output_type": "execute_result",
     "data": {
      "text/plain": "      FID_WA_Mai  TYPE  LENGTH  DIAMETER MATERIAL  INSTYEAR MUSYM  Dist_Rail  \\\n3851         709  DIST    34.0       8.0       AC      1968   AmC      14000   \n\n      FULL_STRNA SPEED           FUNC_CLASS  SLOPE  \n3851  17TH AVE W    25  NEIGHBORHOOD ACCESS    0.5  ",
      "text/html": "<div>\n<style scoped>\n    .dataframe tbody tr th:only-of-type {\n        vertical-align: middle;\n    }\n\n    .dataframe tbody tr th {\n        vertical-align: top;\n    }\n\n    .dataframe thead th {\n        text-align: right;\n    }\n</style>\n<table border=\"1\" class=\"dataframe\">\n  <thead>\n    <tr style=\"text-align: right;\">\n      <th></th>\n      <th>FID_WA_Mai</th>\n      <th>TYPE</th>\n      <th>LENGTH</th>\n      <th>DIAMETER</th>\n      <th>MATERIAL</th>\n      <th>INSTYEAR</th>\n      <th>MUSYM</th>\n      <th>Dist_Rail</th>\n      <th>FULL_STRNA</th>\n      <th>SPEED</th>\n      <th>FUNC_CLASS</th>\n      <th>SLOPE</th>\n    </tr>\n  </thead>\n  <tbody>\n    <tr>\n      <th>3851</th>\n      <td>709</td>\n      <td>DIST</td>\n      <td>34.0</td>\n      <td>8.0</td>\n      <td>AC</td>\n      <td>1968</td>\n      <td>AmC</td>\n      <td>14000</td>\n      <td>17TH AVE W</td>\n      <td>25</td>\n      <td>NEIGHBORHOOD ACCESS</td>\n      <td>0.5</td>\n    </tr>\n  </tbody>\n</table>\n</div>"
     },
     "metadata": {},
     "execution_count": 204
    }
   ],
   "source": [
    "break_1_9_04 = filtered[(filtered['FULL_STRNA'] == '16TH AVE W')] #& (filtered['INSTYEAR'] < 2005) & (filtered['INSTYEAR'] > 2003)]\n",
    "break_1_9_04 = break_1_9_04[break_1_9_04['INSTYEAR'] == 2004]\n",
    "break_1_9_04\n",
    "\n",
    "nearby = filtered[(filtered['FULL_STRNA'] == '16TH AVE W') & (filtered['INSTYEAR'] != 2004) & (filtered['Dist_Rail'] == 15000) & (filtered['DIAMETER'] == 8.0)] \n",
    "nearby\n",
    "\n",
    "similar = filtered[(filtered['DIAMETER'] == 8.0) & (filtered['MATERIAL'] == 'AC') & (filtered['MUSYM'] == 'AmC')]\n",
    "print(similar['FULL_STRNA'].unique())\n",
    "\n",
    "similar = similar[(similar['FULL_STRNA'] == '17TH AVE W')]\n",
    "similar"
   ]
  },
  {
   "cell_type": "code",
   "execution_count": 205,
   "metadata": {
    "tags": []
   },
   "outputs": [
    {
     "output_type": "stream",
     "name": "stdout",
     "text": "['10TH AVE' 'KIRKLAND CIR' '4TH ST' '17TH AVE W' '9TH AVE' '5TH AVE'\n '3RD ST' 'KIRKLAND WAY' '8TH LN' '15TH AVE' 'KIRKLAND AVE' 'NE 68TH ST'\n '19TH AVE' '8TH AVE' 'NE 45TH ST' ' ' '1ST ST' 'NE 44TH ST' 'NE 68TH PL'\n '6TH ST' '106TH AVE NE' '6TH AVE' '5TH ST' '7TH AVE' '109TH PL NE'\n '10TH AVE S' '5TH AVE S' 'LAKEVIEW DR' '5TH ST S' '6TH ST S' 'STATE ST S']\n"
    },
    {
     "output_type": "execute_result",
     "data": {
      "text/plain": "      FID_WA_Mai  TYPE  LENGTH  DIAMETER MATERIAL  INSTYEAR MUSYM  Dist_Rail  \\\n3851         709  DIST    34.0       8.0       AC      1968   AmC      14000   \n\n      FULL_STRNA SPEED           FUNC_CLASS  SLOPE  \n3851  17TH AVE W    25  NEIGHBORHOOD ACCESS    0.5  ",
      "text/html": "<div>\n<style scoped>\n    .dataframe tbody tr th:only-of-type {\n        vertical-align: middle;\n    }\n\n    .dataframe tbody tr th {\n        vertical-align: top;\n    }\n\n    .dataframe thead th {\n        text-align: right;\n    }\n</style>\n<table border=\"1\" class=\"dataframe\">\n  <thead>\n    <tr style=\"text-align: right;\">\n      <th></th>\n      <th>FID_WA_Mai</th>\n      <th>TYPE</th>\n      <th>LENGTH</th>\n      <th>DIAMETER</th>\n      <th>MATERIAL</th>\n      <th>INSTYEAR</th>\n      <th>MUSYM</th>\n      <th>Dist_Rail</th>\n      <th>FULL_STRNA</th>\n      <th>SPEED</th>\n      <th>FUNC_CLASS</th>\n      <th>SLOPE</th>\n    </tr>\n  </thead>\n  <tbody>\n    <tr>\n      <th>3851</th>\n      <td>709</td>\n      <td>DIST</td>\n      <td>34.0</td>\n      <td>8.0</td>\n      <td>AC</td>\n      <td>1968</td>\n      <td>AmC</td>\n      <td>14000</td>\n      <td>17TH AVE W</td>\n      <td>25</td>\n      <td>NEIGHBORHOOD ACCESS</td>\n      <td>0.5</td>\n    </tr>\n  </tbody>\n</table>\n</div>"
     },
     "metadata": {},
     "execution_count": 205
    }
   ],
   "source": [
    "break_1_21_04 = filtered[(filtered['FULL_STRNA'] == '16TH AVE W') & (filtered['INSTYEAR'] == 2004)]\n",
    "break_1_21_04\n",
    "\n",
    "nearby = filtered[(filtered['FULL_STRNA'] == '16TH AVE W') & (filtered['INSTYEAR'] != 2004)] #& (filtered['Dist_Rail'] == 15000) & (filtered['DIAMETER'] == 6.0)] \n",
    "\n",
    "\n",
    "similar = filtered[(filtered['DIAMETER'] == 8.0) & (filtered['MATERIAL'] == 'AC') & (filtered['MUSYM'] == 'AmC')]\n",
    "print(similar['FULL_STRNA'].unique())\n",
    "\n",
    "similar = similar[(similar['FULL_STRNA'] == '17TH AVE W')]\n",
    "similar"
   ]
  },
  {
   "cell_type": "code",
   "execution_count": 197,
   "metadata": {},
   "outputs": [
    {
     "output_type": "execute_result",
     "data": {
      "text/plain": "       FID_WA_Mai  TYPE  LENGTH  DIAMETER MATERIAL  INSTYEAR MUSYM  Dist_Rail  \\\n22011        3634  DIST     1.0       8.0       AC      1976   KpB       7000   \n22012        3635  DIST     5.0      12.0       AC      1971   KpB       7000   \n39310        6927  DIST   261.0       8.0       AC      1976   KpB       7000   \n\n       FULL_STRNA SPEED           FUNC_CLASS     SLOPE  \n22011  NE 59TH ST    25  NEIGHBORHOOD ACCESS  1.000000  \n22012  NE 59TH ST    25  NEIGHBORHOOD ACCESS  1.000000  \n39310  NE 59TH ST    25  NEIGHBORHOOD ACCESS  2.586207  ",
      "text/html": "<div>\n<style scoped>\n    .dataframe tbody tr th:only-of-type {\n        vertical-align: middle;\n    }\n\n    .dataframe tbody tr th {\n        vertical-align: top;\n    }\n\n    .dataframe thead th {\n        text-align: right;\n    }\n</style>\n<table border=\"1\" class=\"dataframe\">\n  <thead>\n    <tr style=\"text-align: right;\">\n      <th></th>\n      <th>FID_WA_Mai</th>\n      <th>TYPE</th>\n      <th>LENGTH</th>\n      <th>DIAMETER</th>\n      <th>MATERIAL</th>\n      <th>INSTYEAR</th>\n      <th>MUSYM</th>\n      <th>Dist_Rail</th>\n      <th>FULL_STRNA</th>\n      <th>SPEED</th>\n      <th>FUNC_CLASS</th>\n      <th>SLOPE</th>\n    </tr>\n  </thead>\n  <tbody>\n    <tr>\n      <th>22011</th>\n      <td>3634</td>\n      <td>DIST</td>\n      <td>1.0</td>\n      <td>8.0</td>\n      <td>AC</td>\n      <td>1976</td>\n      <td>KpB</td>\n      <td>7000</td>\n      <td>NE 59TH ST</td>\n      <td>25</td>\n      <td>NEIGHBORHOOD ACCESS</td>\n      <td>1.000000</td>\n    </tr>\n    <tr>\n      <th>22012</th>\n      <td>3635</td>\n      <td>DIST</td>\n      <td>5.0</td>\n      <td>12.0</td>\n      <td>AC</td>\n      <td>1971</td>\n      <td>KpB</td>\n      <td>7000</td>\n      <td>NE 59TH ST</td>\n      <td>25</td>\n      <td>NEIGHBORHOOD ACCESS</td>\n      <td>1.000000</td>\n    </tr>\n    <tr>\n      <th>39310</th>\n      <td>6927</td>\n      <td>DIST</td>\n      <td>261.0</td>\n      <td>8.0</td>\n      <td>AC</td>\n      <td>1976</td>\n      <td>KpB</td>\n      <td>7000</td>\n      <td>NE 59TH ST</td>\n      <td>25</td>\n      <td>NEIGHBORHOOD ACCESS</td>\n      <td>2.586207</td>\n    </tr>\n  </tbody>\n</table>\n</div>"
     },
     "metadata": {},
     "execution_count": 197
    }
   ],
   "source": [
    "break_2_25_04 = filtered[(filtered['FULL_STRNA'] == 'NE 59TH ST')]\n",
    "break_2_25_04\n",
    "\n",
    "# THIS WILL LIKELY NEED TO BE altered in data set"
   ]
  },
  {
   "cell_type": "code",
   "execution_count": null,
   "metadata": {},
   "outputs": [],
   "source": [
    "break_3_16_04 = "
   ]
  }
 ]
}