{
 "cells": [
  {
   "cell_type": "code",
   "execution_count": 1,
   "metadata": {},
   "outputs": [],
   "source": [
    "import pandas as pd\n",
    "import sklearn\n",
    "import seaborn as sns\n",
    "import matplotlib.pyplot as plt\n",
    "import numpy as np\n",
    "from sklearn.model_selection import train_test_split\n",
    "from sklearn.ensemble import ExtraTreesClassifier\n",
    "from sklearn.tree import DecisionTreeClassifier"
   ]
  },
  {
   "cell_type": "code",
   "execution_count": 2,
   "metadata": {},
   "outputs": [
    {
     "output_type": "execute_result",
     "data": {
      "text/plain": [
       "        Date            Location  Zone  TYPE  LENGTH  DIAMETER MATERIAL  \\\n",
       "0        1/8         347 7th Ave   315   NaN     NaN         6       CI   \n",
       "1        1/9      696 16th Ave W   315  DIST     NaN         8       AC   \n",
       "2       1/21      740 16th Ave W   315  DIST     NaN         6       AC   \n",
       "3       2/25       10132 NE 59th   285  DIST   261.0         8       AC   \n",
       "4       3/16  18th Ave & 6th St.   450  DIST     NaN        12       AC   \n",
       "..       ...                 ...   ...   ...     ...       ...      ...   \n",
       "63  10/31/17    10830 NE 68th St   450   NaN     NaN         8       AC   \n",
       "64   5/23/18    11828 NE 75th St   650  DIST     NaN         6       AC   \n",
       "65   5/30/19    11828 NE 75th St   650   NaN     NaN         6       AC   \n",
       "66    6/3/19    10425 NE 58th St   450   NaN     NaN         6       AC   \n",
       "67   10/2/19   6109 106th Ave NE   450   NaN     NaN         6       AC   \n",
       "\n",
       "   INSTYEAR MUSYM  Dist_Rail     SLOPE                         Comment  \\\n",
       "0       NaN   NaN        NaN       NaN                             NaN   \n",
       "1       NaN   AmC    15000.0       NaN                             NaN   \n",
       "2       NaN   AmC    15000.0       NaN                             NaN   \n",
       "3      1976   KpB     7000.0  2.586207                            Leak   \n",
       "4      1968   AgC    12000.0       NaN                            Leak   \n",
       "..      ...   ...        ...       ...                             ...   \n",
       "63      NaN   NaN        NaN       NaN                      Full Break   \n",
       "64      NaN   AgC        NaN       NaN                      Bead Break   \n",
       "65      NaN   NaN        NaN       NaN  Break at abandoned service tap   \n",
       "66      NaN   NaN        NaN       NaN                      Full Break   \n",
       "67      NaN   NaN        NaN       NaN                      Full Break   \n",
       "\n",
       "    Break_Year Unnamed: 13  \n",
       "0         2004         NaN  \n",
       "1         2004         NaN  \n",
       "2         2004         NaN  \n",
       "3         2004         NaN  \n",
       "4         2004         NaN  \n",
       "..         ...         ...  \n",
       "63        2017         NaN  \n",
       "64        2018         NaN  \n",
       "65        2019         NaN  \n",
       "66        2019         NaN  \n",
       "67        2019         NaN  \n",
       "\n",
       "[68 rows x 14 columns]"
      ],
      "text/html": "<div>\n<style scoped>\n    .dataframe tbody tr th:only-of-type {\n        vertical-align: middle;\n    }\n\n    .dataframe tbody tr th {\n        vertical-align: top;\n    }\n\n    .dataframe thead th {\n        text-align: right;\n    }\n</style>\n<table border=\"1\" class=\"dataframe\">\n  <thead>\n    <tr style=\"text-align: right;\">\n      <th></th>\n      <th>Date</th>\n      <th>Location</th>\n      <th>Zone</th>\n      <th>TYPE</th>\n      <th>LENGTH</th>\n      <th>DIAMETER</th>\n      <th>MATERIAL</th>\n      <th>INSTYEAR</th>\n      <th>MUSYM</th>\n      <th>Dist_Rail</th>\n      <th>SLOPE</th>\n      <th>Comment</th>\n      <th>Break_Year</th>\n      <th>Unnamed: 13</th>\n    </tr>\n  </thead>\n  <tbody>\n    <tr>\n      <th>0</th>\n      <td>1/8</td>\n      <td>347 7th Ave</td>\n      <td>315</td>\n      <td>NaN</td>\n      <td>NaN</td>\n      <td>6</td>\n      <td>CI</td>\n      <td>NaN</td>\n      <td>NaN</td>\n      <td>NaN</td>\n      <td>NaN</td>\n      <td>NaN</td>\n      <td>2004</td>\n      <td>NaN</td>\n    </tr>\n    <tr>\n      <th>1</th>\n      <td>1/9</td>\n      <td>696 16th Ave W</td>\n      <td>315</td>\n      <td>DIST</td>\n      <td>NaN</td>\n      <td>8</td>\n      <td>AC</td>\n      <td>NaN</td>\n      <td>AmC</td>\n      <td>15000.0</td>\n      <td>NaN</td>\n      <td>NaN</td>\n      <td>2004</td>\n      <td>NaN</td>\n    </tr>\n    <tr>\n      <th>2</th>\n      <td>1/21</td>\n      <td>740 16th Ave W</td>\n      <td>315</td>\n      <td>DIST</td>\n      <td>NaN</td>\n      <td>6</td>\n      <td>AC</td>\n      <td>NaN</td>\n      <td>AmC</td>\n      <td>15000.0</td>\n      <td>NaN</td>\n      <td>NaN</td>\n      <td>2004</td>\n      <td>NaN</td>\n    </tr>\n    <tr>\n      <th>3</th>\n      <td>2/25</td>\n      <td>10132 NE 59th</td>\n      <td>285</td>\n      <td>DIST</td>\n      <td>261.0</td>\n      <td>8</td>\n      <td>AC</td>\n      <td>1976</td>\n      <td>KpB</td>\n      <td>7000.0</td>\n      <td>2.586207</td>\n      <td>Leak</td>\n      <td>2004</td>\n      <td>NaN</td>\n    </tr>\n    <tr>\n      <th>4</th>\n      <td>3/16</td>\n      <td>18th Ave &amp; 6th St.</td>\n      <td>450</td>\n      <td>DIST</td>\n      <td>NaN</td>\n      <td>12</td>\n      <td>AC</td>\n      <td>1968</td>\n      <td>AgC</td>\n      <td>12000.0</td>\n      <td>NaN</td>\n      <td>Leak</td>\n      <td>2004</td>\n      <td>NaN</td>\n    </tr>\n    <tr>\n      <th>...</th>\n      <td>...</td>\n      <td>...</td>\n      <td>...</td>\n      <td>...</td>\n      <td>...</td>\n      <td>...</td>\n      <td>...</td>\n      <td>...</td>\n      <td>...</td>\n      <td>...</td>\n      <td>...</td>\n      <td>...</td>\n      <td>...</td>\n      <td>...</td>\n    </tr>\n    <tr>\n      <th>63</th>\n      <td>10/31/17</td>\n      <td>10830 NE 68th St</td>\n      <td>450</td>\n      <td>NaN</td>\n      <td>NaN</td>\n      <td>8</td>\n      <td>AC</td>\n      <td>NaN</td>\n      <td>NaN</td>\n      <td>NaN</td>\n      <td>NaN</td>\n      <td>Full Break</td>\n      <td>2017</td>\n      <td>NaN</td>\n    </tr>\n    <tr>\n      <th>64</th>\n      <td>5/23/18</td>\n      <td>11828 NE 75th St</td>\n      <td>650</td>\n      <td>DIST</td>\n      <td>NaN</td>\n      <td>6</td>\n      <td>AC</td>\n      <td>NaN</td>\n      <td>AgC</td>\n      <td>NaN</td>\n      <td>NaN</td>\n      <td>Bead Break</td>\n      <td>2018</td>\n      <td>NaN</td>\n    </tr>\n    <tr>\n      <th>65</th>\n      <td>5/30/19</td>\n      <td>11828 NE 75th St</td>\n      <td>650</td>\n      <td>NaN</td>\n      <td>NaN</td>\n      <td>6</td>\n      <td>AC</td>\n      <td>NaN</td>\n      <td>NaN</td>\n      <td>NaN</td>\n      <td>NaN</td>\n      <td>Break at abandoned service tap</td>\n      <td>2019</td>\n      <td>NaN</td>\n    </tr>\n    <tr>\n      <th>66</th>\n      <td>6/3/19</td>\n      <td>10425 NE 58th St</td>\n      <td>450</td>\n      <td>NaN</td>\n      <td>NaN</td>\n      <td>6</td>\n      <td>AC</td>\n      <td>NaN</td>\n      <td>NaN</td>\n      <td>NaN</td>\n      <td>NaN</td>\n      <td>Full Break</td>\n      <td>2019</td>\n      <td>NaN</td>\n    </tr>\n    <tr>\n      <th>67</th>\n      <td>10/2/19</td>\n      <td>6109 106th Ave NE</td>\n      <td>450</td>\n      <td>NaN</td>\n      <td>NaN</td>\n      <td>6</td>\n      <td>AC</td>\n      <td>NaN</td>\n      <td>NaN</td>\n      <td>NaN</td>\n      <td>NaN</td>\n      <td>Full Break</td>\n      <td>2019</td>\n      <td>NaN</td>\n    </tr>\n  </tbody>\n</table>\n<p>68 rows × 14 columns</p>\n</div>"
     },
     "metadata": {},
     "execution_count": 2
    }
   ],
   "source": [
    "data = pd.read_csv('Kirk_Break_Data.csv')\n",
    "# data.head()\n",
    "data"
   ]
  },
  {
   "cell_type": "code",
   "execution_count": null,
   "metadata": {},
   "outputs": [],
   "source": []
  }
 ],
 "metadata": {
  "kernelspec": {
   "name": "Python 3.8.3 64-bit ('anaconda3': virtualenv)",
   "display_name": "Python 3.8.3 64-bit ('anaconda3': virtualenv)",
   "metadata": {
    "interpreter": {
     "hash": "1ec6215a95391c4dd577e65a5eabf23f67a76103d6679bee87495b6fd15ca4c8"
    }
   }
  }
 },
 "nbformat": 4,
 "nbformat_minor": 4
}