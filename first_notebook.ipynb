{
 "metadata": {
  "language_info": {
   "codemirror_mode": {
    "name": "ipython",
    "version": 3
   },
   "file_extension": ".py",
   "mimetype": "text/x-python",
   "name": "python",
   "nbconvert_exporter": "python",
   "pygments_lexer": "ipython3",
   "version": "3.8.3-final"
  },
  "orig_nbformat": 2,
  "kernelspec": {
   "name": "Python 3.8.3 64-bit ('base': conda)",
   "display_name": "Python 3.8.3 64-bit ('base': conda)",
   "metadata": {
    "interpreter": {
     "hash": "dca0ade3e726a953b501b15e8e990130d2b7799f14cfd9f4271676035ebe5511"
    }
   }
  }
 },
 "nbformat": 4,
 "nbformat_minor": 2,
 "cells": [
  {
   "source": [
    "# Alright lets see what this is all about\n",
    "import numpy as np\n",
    "import pandas as pd\n",
    "import sklearn "
   ],
   "cell_type": "code",
   "metadata": {
    "tags": []
   },
   "execution_count": 17,
   "outputs": []
  },
  {
   "cell_type": "code",
   "execution_count": 70,
   "metadata": {
    "tags": []
   },
   "outputs": [
    {
     "output_type": "execute_result",
     "data": {
      "text/plain": [
       "         FID  FID_WA_Mai  TYPE  LENGTH  DIAMETER MATERIAL  INSTYEAR MUSYM  \\\n",
       "0          0           1  FIRE     2.0       8.0      UNK       NaN    Ur   \n",
       "1          1           2  FIRE     2.0       2.0      UNK    1992.0   AgC   \n",
       "2          2           3  FIRE     1.0       0.0      UNK       NaN   AgC   \n",
       "3          3           4  FIRE     3.0       6.0       DI    2005.0    Ur   \n",
       "4          4           5  FIRE   149.0       8.0       AC    1963.0    Ur   \n",
       "...      ...         ...   ...     ...       ...      ...       ...   ...   \n",
       "41816  41816        3963  DIST     1.0      12.0       DI    1971.0    No   \n",
       "41817  41817        5622  DIST     1.0       8.0       DI    2003.0   AgC   \n",
       "41818  41818        5623  DIST     1.0       8.0       DI    2003.0   AgC   \n",
       "41819  41819        1093  DIST    83.0      12.0       DI    2009.0   AgC   \n",
       "41820  41820        6299  DIST    18.0      12.0       DI       NaN   AgC   \n",
       "\n",
       "       Dist_Rail  SLP_CLASS               FULL_STRNA SPEED  \\\n",
       "0           6000        2.0             120TH AVE NE    25   \n",
       "1           7000        1.0              122ND LN NE    25   \n",
       "2           6000        0.0             124TH AVE NE    35   \n",
       "3           4000        0.0  LAKE WASHINGTON BLVD NE    35   \n",
       "4           7000        6.0                                  \n",
       "...          ...        ...                      ...   ...   \n",
       "41816       9000        0.0             120TH AVE NE    25   \n",
       "41817      10000        2.0             117TH AVE NE    25   \n",
       "41818      10000        2.0             117TH AVE NE    25   \n",
       "41819       5000        0.0              NE 115TH PL    35   \n",
       "41820       5000        0.0              NE 115TH PL    35   \n",
       "\n",
       "                FUNC_CLASS  \n",
       "0           MINOR ARTERIAL  \n",
       "1      NEIGHBORHOOD ACCESS  \n",
       "2       PRINCIPAL ARTERIAL  \n",
       "3       PRINCIPAL ARTERIAL  \n",
       "4                           \n",
       "...                    ...  \n",
       "41816            COLLECTOR  \n",
       "41817  NEIGHBORHOOD ACCESS  \n",
       "41818  NEIGHBORHOOD ACCESS  \n",
       "41819            COLLECTOR  \n",
       "41820            COLLECTOR  \n",
       "\n",
       "[41821 rows x 13 columns]"
      ],
      "text/html": "<div>\n<style scoped>\n    .dataframe tbody tr th:only-of-type {\n        vertical-align: middle;\n    }\n\n    .dataframe tbody tr th {\n        vertical-align: top;\n    }\n\n    .dataframe thead th {\n        text-align: right;\n    }\n</style>\n<table border=\"1\" class=\"dataframe\">\n  <thead>\n    <tr style=\"text-align: right;\">\n      <th></th>\n      <th>FID</th>\n      <th>FID_WA_Mai</th>\n      <th>TYPE</th>\n      <th>LENGTH</th>\n      <th>DIAMETER</th>\n      <th>MATERIAL</th>\n      <th>INSTYEAR</th>\n      <th>MUSYM</th>\n      <th>Dist_Rail</th>\n      <th>SLP_CLASS</th>\n      <th>FULL_STRNA</th>\n      <th>SPEED</th>\n      <th>FUNC_CLASS</th>\n    </tr>\n  </thead>\n  <tbody>\n    <tr>\n      <th>0</th>\n      <td>0</td>\n      <td>1</td>\n      <td>FIRE</td>\n      <td>2.0</td>\n      <td>8.0</td>\n      <td>UNK</td>\n      <td>NaN</td>\n      <td>Ur</td>\n      <td>6000</td>\n      <td>2.0</td>\n      <td>120TH AVE NE</td>\n      <td>25</td>\n      <td>MINOR ARTERIAL</td>\n    </tr>\n    <tr>\n      <th>1</th>\n      <td>1</td>\n      <td>2</td>\n      <td>FIRE</td>\n      <td>2.0</td>\n      <td>2.0</td>\n      <td>UNK</td>\n      <td>1992.0</td>\n      <td>AgC</td>\n      <td>7000</td>\n      <td>1.0</td>\n      <td>122ND LN NE</td>\n      <td>25</td>\n      <td>NEIGHBORHOOD ACCESS</td>\n    </tr>\n    <tr>\n      <th>2</th>\n      <td>2</td>\n      <td>3</td>\n      <td>FIRE</td>\n      <td>1.0</td>\n      <td>0.0</td>\n      <td>UNK</td>\n      <td>NaN</td>\n      <td>AgC</td>\n      <td>6000</td>\n      <td>0.0</td>\n      <td>124TH AVE NE</td>\n      <td>35</td>\n      <td>PRINCIPAL ARTERIAL</td>\n    </tr>\n    <tr>\n      <th>3</th>\n      <td>3</td>\n      <td>4</td>\n      <td>FIRE</td>\n      <td>3.0</td>\n      <td>6.0</td>\n      <td>DI</td>\n      <td>2005.0</td>\n      <td>Ur</td>\n      <td>4000</td>\n      <td>0.0</td>\n      <td>LAKE WASHINGTON BLVD NE</td>\n      <td>35</td>\n      <td>PRINCIPAL ARTERIAL</td>\n    </tr>\n    <tr>\n      <th>4</th>\n      <td>4</td>\n      <td>5</td>\n      <td>FIRE</td>\n      <td>149.0</td>\n      <td>8.0</td>\n      <td>AC</td>\n      <td>1963.0</td>\n      <td>Ur</td>\n      <td>7000</td>\n      <td>6.0</td>\n      <td></td>\n      <td></td>\n      <td></td>\n    </tr>\n    <tr>\n      <th>...</th>\n      <td>...</td>\n      <td>...</td>\n      <td>...</td>\n      <td>...</td>\n      <td>...</td>\n      <td>...</td>\n      <td>...</td>\n      <td>...</td>\n      <td>...</td>\n      <td>...</td>\n      <td>...</td>\n      <td>...</td>\n      <td>...</td>\n    </tr>\n    <tr>\n      <th>41816</th>\n      <td>41816</td>\n      <td>3963</td>\n      <td>DIST</td>\n      <td>1.0</td>\n      <td>12.0</td>\n      <td>DI</td>\n      <td>1971.0</td>\n      <td>No</td>\n      <td>9000</td>\n      <td>0.0</td>\n      <td>120TH AVE NE</td>\n      <td>25</td>\n      <td>COLLECTOR</td>\n    </tr>\n    <tr>\n      <th>41817</th>\n      <td>41817</td>\n      <td>5622</td>\n      <td>DIST</td>\n      <td>1.0</td>\n      <td>8.0</td>\n      <td>DI</td>\n      <td>2003.0</td>\n      <td>AgC</td>\n      <td>10000</td>\n      <td>2.0</td>\n      <td>117TH AVE NE</td>\n      <td>25</td>\n      <td>NEIGHBORHOOD ACCESS</td>\n    </tr>\n    <tr>\n      <th>41818</th>\n      <td>41818</td>\n      <td>5623</td>\n      <td>DIST</td>\n      <td>1.0</td>\n      <td>8.0</td>\n      <td>DI</td>\n      <td>2003.0</td>\n      <td>AgC</td>\n      <td>10000</td>\n      <td>2.0</td>\n      <td>117TH AVE NE</td>\n      <td>25</td>\n      <td>NEIGHBORHOOD ACCESS</td>\n    </tr>\n    <tr>\n      <th>41819</th>\n      <td>41819</td>\n      <td>1093</td>\n      <td>DIST</td>\n      <td>83.0</td>\n      <td>12.0</td>\n      <td>DI</td>\n      <td>2009.0</td>\n      <td>AgC</td>\n      <td>5000</td>\n      <td>0.0</td>\n      <td>NE 115TH PL</td>\n      <td>35</td>\n      <td>COLLECTOR</td>\n    </tr>\n    <tr>\n      <th>41820</th>\n      <td>41820</td>\n      <td>6299</td>\n      <td>DIST</td>\n      <td>18.0</td>\n      <td>12.0</td>\n      <td>DI</td>\n      <td>NaN</td>\n      <td>AgC</td>\n      <td>5000</td>\n      <td>0.0</td>\n      <td>NE 115TH PL</td>\n      <td>35</td>\n      <td>COLLECTOR</td>\n    </tr>\n  </tbody>\n</table>\n<p>41821 rows × 13 columns</p>\n</div>"
     },
     "metadata": {},
     "execution_count": 70
    }
   ],
   "source": [
    "#LOAD GIS WATERMAIN AND BREAK DATA\n",
    "df = pd.read_csv('Kirk_All.csv')\n",
    "#df.dropna(inplace=True) # Are there any columns where we can deal with NA values?\n",
    "# Can we use imputation instead?\n",
    "breaks = pd.read_csv('Kirk_Break_Data.csv')\n",
    "df['INSTYEAR'] = df['INSTYEAR'].map(lambda x: int((str(x)[-12:-8])), na_action='ignore')\n",
    "#df = pd.get_dummies(df)\n",
    "df"
   ]
  },
  {
   "cell_type": "code",
   "execution_count": 20,
   "metadata": {},
   "outputs": [
    {
     "output_type": "execute_result",
     "data": {
      "text/plain": [
       "       FID_WA_Mai  TYPE  LENGTH  DIAMETER MATERIAL  INSTYEAR MUSYM  Dist_Rail  \\\n",
       "0               1  FIRE     2.0       8.0      UNK       NaN    Ur       6000   \n",
       "1               2  FIRE     2.0       2.0      UNK    1992.0   AgC       7000   \n",
       "2               3  FIRE     1.0       0.0      UNK       NaN   AgC       6000   \n",
       "3               4  FIRE     3.0       6.0       DI    2005.0    Ur       4000   \n",
       "4               5  FIRE   149.0       8.0       AC    1963.0    Ur       7000   \n",
       "...           ...   ...     ...       ...      ...       ...   ...        ...   \n",
       "41816        3963  DIST     1.0      12.0       DI    1971.0    No       9000   \n",
       "41817        5622  DIST     1.0       8.0       DI    2003.0   AgC      10000   \n",
       "41818        5623  DIST     1.0       8.0       DI    2003.0   AgC      10000   \n",
       "41819        1093  DIST    83.0      12.0       DI    2009.0   AgC       5000   \n",
       "41820        6299  DIST    18.0      12.0       DI       NaN   AgC       5000   \n",
       "\n",
       "       SLP_CLASS               FULL_STRNA SPEED           FUNC_CLASS  \n",
       "0            2.0             120TH AVE NE    25       MINOR ARTERIAL  \n",
       "1            1.0              122ND LN NE    25  NEIGHBORHOOD ACCESS  \n",
       "2            0.0             124TH AVE NE    35   PRINCIPAL ARTERIAL  \n",
       "3            0.0  LAKE WASHINGTON BLVD NE    35   PRINCIPAL ARTERIAL  \n",
       "4            6.0                                                      \n",
       "...          ...                      ...   ...                  ...  \n",
       "41816        0.0             120TH AVE NE    25            COLLECTOR  \n",
       "41817        2.0             117TH AVE NE    25  NEIGHBORHOOD ACCESS  \n",
       "41818        2.0             117TH AVE NE    25  NEIGHBORHOOD ACCESS  \n",
       "41819        0.0              NE 115TH PL    35            COLLECTOR  \n",
       "41820        0.0              NE 115TH PL    35            COLLECTOR  \n",
       "\n",
       "[41821 rows x 12 columns]"
      ],
      "text/html": "<div>\n<style scoped>\n    .dataframe tbody tr th:only-of-type {\n        vertical-align: middle;\n    }\n\n    .dataframe tbody tr th {\n        vertical-align: top;\n    }\n\n    .dataframe thead th {\n        text-align: right;\n    }\n</style>\n<table border=\"1\" class=\"dataframe\">\n  <thead>\n    <tr style=\"text-align: right;\">\n      <th></th>\n      <th>FID_WA_Mai</th>\n      <th>TYPE</th>\n      <th>LENGTH</th>\n      <th>DIAMETER</th>\n      <th>MATERIAL</th>\n      <th>INSTYEAR</th>\n      <th>MUSYM</th>\n      <th>Dist_Rail</th>\n      <th>SLP_CLASS</th>\n      <th>FULL_STRNA</th>\n      <th>SPEED</th>\n      <th>FUNC_CLASS</th>\n    </tr>\n  </thead>\n  <tbody>\n    <tr>\n      <th>0</th>\n      <td>1</td>\n      <td>FIRE</td>\n      <td>2.0</td>\n      <td>8.0</td>\n      <td>UNK</td>\n      <td>NaN</td>\n      <td>Ur</td>\n      <td>6000</td>\n      <td>2.0</td>\n      <td>120TH AVE NE</td>\n      <td>25</td>\n      <td>MINOR ARTERIAL</td>\n    </tr>\n    <tr>\n      <th>1</th>\n      <td>2</td>\n      <td>FIRE</td>\n      <td>2.0</td>\n      <td>2.0</td>\n      <td>UNK</td>\n      <td>1992.0</td>\n      <td>AgC</td>\n      <td>7000</td>\n      <td>1.0</td>\n      <td>122ND LN NE</td>\n      <td>25</td>\n      <td>NEIGHBORHOOD ACCESS</td>\n    </tr>\n    <tr>\n      <th>2</th>\n      <td>3</td>\n      <td>FIRE</td>\n      <td>1.0</td>\n      <td>0.0</td>\n      <td>UNK</td>\n      <td>NaN</td>\n      <td>AgC</td>\n      <td>6000</td>\n      <td>0.0</td>\n      <td>124TH AVE NE</td>\n      <td>35</td>\n      <td>PRINCIPAL ARTERIAL</td>\n    </tr>\n    <tr>\n      <th>3</th>\n      <td>4</td>\n      <td>FIRE</td>\n      <td>3.0</td>\n      <td>6.0</td>\n      <td>DI</td>\n      <td>2005.0</td>\n      <td>Ur</td>\n      <td>4000</td>\n      <td>0.0</td>\n      <td>LAKE WASHINGTON BLVD NE</td>\n      <td>35</td>\n      <td>PRINCIPAL ARTERIAL</td>\n    </tr>\n    <tr>\n      <th>4</th>\n      <td>5</td>\n      <td>FIRE</td>\n      <td>149.0</td>\n      <td>8.0</td>\n      <td>AC</td>\n      <td>1963.0</td>\n      <td>Ur</td>\n      <td>7000</td>\n      <td>6.0</td>\n      <td></td>\n      <td></td>\n      <td></td>\n    </tr>\n    <tr>\n      <th>...</th>\n      <td>...</td>\n      <td>...</td>\n      <td>...</td>\n      <td>...</td>\n      <td>...</td>\n      <td>...</td>\n      <td>...</td>\n      <td>...</td>\n      <td>...</td>\n      <td>...</td>\n      <td>...</td>\n      <td>...</td>\n    </tr>\n    <tr>\n      <th>41816</th>\n      <td>3963</td>\n      <td>DIST</td>\n      <td>1.0</td>\n      <td>12.0</td>\n      <td>DI</td>\n      <td>1971.0</td>\n      <td>No</td>\n      <td>9000</td>\n      <td>0.0</td>\n      <td>120TH AVE NE</td>\n      <td>25</td>\n      <td>COLLECTOR</td>\n    </tr>\n    <tr>\n      <th>41817</th>\n      <td>5622</td>\n      <td>DIST</td>\n      <td>1.0</td>\n      <td>8.0</td>\n      <td>DI</td>\n      <td>2003.0</td>\n      <td>AgC</td>\n      <td>10000</td>\n      <td>2.0</td>\n      <td>117TH AVE NE</td>\n      <td>25</td>\n      <td>NEIGHBORHOOD ACCESS</td>\n    </tr>\n    <tr>\n      <th>41818</th>\n      <td>5623</td>\n      <td>DIST</td>\n      <td>1.0</td>\n      <td>8.0</td>\n      <td>DI</td>\n      <td>2003.0</td>\n      <td>AgC</td>\n      <td>10000</td>\n      <td>2.0</td>\n      <td>117TH AVE NE</td>\n      <td>25</td>\n      <td>NEIGHBORHOOD ACCESS</td>\n    </tr>\n    <tr>\n      <th>41819</th>\n      <td>1093</td>\n      <td>DIST</td>\n      <td>83.0</td>\n      <td>12.0</td>\n      <td>DI</td>\n      <td>2009.0</td>\n      <td>AgC</td>\n      <td>5000</td>\n      <td>0.0</td>\n      <td>NE 115TH PL</td>\n      <td>35</td>\n      <td>COLLECTOR</td>\n    </tr>\n    <tr>\n      <th>41820</th>\n      <td>6299</td>\n      <td>DIST</td>\n      <td>18.0</td>\n      <td>12.0</td>\n      <td>DI</td>\n      <td>NaN</td>\n      <td>AgC</td>\n      <td>5000</td>\n      <td>0.0</td>\n      <td>NE 115TH PL</td>\n      <td>35</td>\n      <td>COLLECTOR</td>\n    </tr>\n  </tbody>\n</table>\n<p>41821 rows × 12 columns</p>\n</div>"
     },
     "metadata": {},
     "execution_count": 20
    }
   ],
   "source": [
    "# EXTRACTING FEATURES\n",
    "features = ['FID_WA_Mai', 'TYPE', 'LENGTH', 'DIAMETER', 'MATERIAL', 'INSTYEAR', 'MUSYM', 'Dist_Rail', 'SLP_CLASS', 'FULL_STRNA', 'SPEED', 'FUNC_CLASS']\n",
    "pipes = df[features]\n",
    "pipes"
   ]
  },
  {
   "cell_type": "code",
   "execution_count": 135,
   "metadata": {},
   "outputs": [
    {
     "output_type": "execute_result",
     "data": {
      "text/plain": [
       "    DIAMETER MATERIAL INSTYEAR  Dist_Rail  Break_Year\n",
       "0          6       CI      NaN        NaN        2004\n",
       "1          8       AC      NaN    15000.0        2004\n",
       "2          6       AC      NaN    15000.0        2004\n",
       "3          8       AC     1976     7000.0        2004\n",
       "4         12       AC     1968    12000.0        2004\n",
       "..       ...      ...      ...        ...         ...\n",
       "63         8       AC      NaN        NaN        2017\n",
       "64         6       AC      NaN        NaN        2018\n",
       "65         6       AC      NaN        NaN        2019\n",
       "66         6       AC      NaN        NaN        2019\n",
       "67         6       AC      NaN        NaN        2019\n",
       "\n",
       "[68 rows x 5 columns]"
      ],
      "text/html": "<div>\n<style scoped>\n    .dataframe tbody tr th:only-of-type {\n        vertical-align: middle;\n    }\n\n    .dataframe tbody tr th {\n        vertical-align: top;\n    }\n\n    .dataframe thead th {\n        text-align: right;\n    }\n</style>\n<table border=\"1\" class=\"dataframe\">\n  <thead>\n    <tr style=\"text-align: right;\">\n      <th></th>\n      <th>DIAMETER</th>\n      <th>MATERIAL</th>\n      <th>INSTYEAR</th>\n      <th>Dist_Rail</th>\n      <th>Break_Year</th>\n    </tr>\n  </thead>\n  <tbody>\n    <tr>\n      <th>0</th>\n      <td>6</td>\n      <td>CI</td>\n      <td>NaN</td>\n      <td>NaN</td>\n      <td>2004</td>\n    </tr>\n    <tr>\n      <th>1</th>\n      <td>8</td>\n      <td>AC</td>\n      <td>NaN</td>\n      <td>15000.0</td>\n      <td>2004</td>\n    </tr>\n    <tr>\n      <th>2</th>\n      <td>6</td>\n      <td>AC</td>\n      <td>NaN</td>\n      <td>15000.0</td>\n      <td>2004</td>\n    </tr>\n    <tr>\n      <th>3</th>\n      <td>8</td>\n      <td>AC</td>\n      <td>1976</td>\n      <td>7000.0</td>\n      <td>2004</td>\n    </tr>\n    <tr>\n      <th>4</th>\n      <td>12</td>\n      <td>AC</td>\n      <td>1968</td>\n      <td>12000.0</td>\n      <td>2004</td>\n    </tr>\n    <tr>\n      <th>...</th>\n      <td>...</td>\n      <td>...</td>\n      <td>...</td>\n      <td>...</td>\n      <td>...</td>\n    </tr>\n    <tr>\n      <th>63</th>\n      <td>8</td>\n      <td>AC</td>\n      <td>NaN</td>\n      <td>NaN</td>\n      <td>2017</td>\n    </tr>\n    <tr>\n      <th>64</th>\n      <td>6</td>\n      <td>AC</td>\n      <td>NaN</td>\n      <td>NaN</td>\n      <td>2018</td>\n    </tr>\n    <tr>\n      <th>65</th>\n      <td>6</td>\n      <td>AC</td>\n      <td>NaN</td>\n      <td>NaN</td>\n      <td>2019</td>\n    </tr>\n    <tr>\n      <th>66</th>\n      <td>6</td>\n      <td>AC</td>\n      <td>NaN</td>\n      <td>NaN</td>\n      <td>2019</td>\n    </tr>\n    <tr>\n      <th>67</th>\n      <td>6</td>\n      <td>AC</td>\n      <td>NaN</td>\n      <td>NaN</td>\n      <td>2019</td>\n    </tr>\n  </tbody>\n</table>\n<p>68 rows × 5 columns</p>\n</div>"
     },
     "metadata": {},
     "execution_count": 135
    }
   ],
   "source": [
    "\n",
    "model_feats = [\n",
    "    'DIAMETER',\n",
    "    'MATERIAL',\n",
    "    'INSTYEAR',\n",
    "    'Dist_Rail',\n",
    "    'Break_Year'\n",
    "\n",
    "]\n",
    "filt_breaks = breaks[model_feats]\n",
    "\n",
    "filt_breaks\n"
   ]
  },
  {
   "cell_type": "code",
   "execution_count": 137,
   "metadata": {},
   "outputs": [
    {
     "output_type": "execute_result",
     "data": {
      "text/plain": [
       "    DIAMETER  MATERIAL  INSTYEAR  Dist_Rail  Break_Year   AGE\n",
       "3          8        AC    1976.0     7000.0        2004  28.0\n",
       "4         12        AC    1968.0    12000.0        2004  36.0\n",
       "5          6        AC    1949.0    14000.0        2004  55.0\n",
       "6          8        AC    1977.0     5000.0        2004  27.0\n",
       "7          6        AC    1963.0     9000.0        2004  41.0\n",
       "8          8        DI    1990.0    13000.0        2004  14.0\n",
       "10         6        AC    1968.0    12000.0        2005  37.0\n",
       "11         6        AC    1949.0    13000.0        2005  56.0\n",
       "14         6        AC    1994.0     5000.0        2005  11.0\n",
       "15         6        AC    1968.0    13000.0        2005  37.0\n",
       "19         8        AC    1968.0    14000.0        2006  38.0\n",
       "20        10        AC    1971.0    11000.0        2006  35.0\n",
       "23         4        AC    1991.0    12000.0        2007  16.0\n",
       "24         4        AC    1968.0    12000.0        2007  39.0\n",
       "25         4        AC    1968.0    12000.0        2007  39.0\n",
       "26         4        AC    1968.0    12000.0        2007  39.0\n",
       "27         6        AC    1963.0     8000.0        2008  45.0\n",
       "28         4        AC    1968.0    12000.0        2008  40.0\n",
       "29         6        AC    1968.0    13000.0        2008  40.0\n",
       "30        16  Conc cyl    1970.0    10000.0        2008  38.0\n",
       "31         6        AC    1968.0    13000.0        2008  40.0\n",
       "34         6        AC    1949.0    14000.0        2008  59.0\n",
       "36         6        AC    1960.0    15000.0        2008  48.0\n",
       "37         8        DI    1979.0     8000.0        2008  29.0\n",
       "38         4        AC    1965.0     8000.0        2008  43.0"
      ],
      "text/html": "<div>\n<style scoped>\n    .dataframe tbody tr th:only-of-type {\n        vertical-align: middle;\n    }\n\n    .dataframe tbody tr th {\n        vertical-align: top;\n    }\n\n    .dataframe thead th {\n        text-align: right;\n    }\n</style>\n<table border=\"1\" class=\"dataframe\">\n  <thead>\n    <tr style=\"text-align: right;\">\n      <th></th>\n      <th>DIAMETER</th>\n      <th>MATERIAL</th>\n      <th>INSTYEAR</th>\n      <th>Dist_Rail</th>\n      <th>Break_Year</th>\n      <th>AGE</th>\n    </tr>\n  </thead>\n  <tbody>\n    <tr>\n      <th>3</th>\n      <td>8</td>\n      <td>AC</td>\n      <td>1976.0</td>\n      <td>7000.0</td>\n      <td>2004</td>\n      <td>28.0</td>\n    </tr>\n    <tr>\n      <th>4</th>\n      <td>12</td>\n      <td>AC</td>\n      <td>1968.0</td>\n      <td>12000.0</td>\n      <td>2004</td>\n      <td>36.0</td>\n    </tr>\n    <tr>\n      <th>5</th>\n      <td>6</td>\n      <td>AC</td>\n      <td>1949.0</td>\n      <td>14000.0</td>\n      <td>2004</td>\n      <td>55.0</td>\n    </tr>\n    <tr>\n      <th>6</th>\n      <td>8</td>\n      <td>AC</td>\n      <td>1977.0</td>\n      <td>5000.0</td>\n      <td>2004</td>\n      <td>27.0</td>\n    </tr>\n    <tr>\n      <th>7</th>\n      <td>6</td>\n      <td>AC</td>\n      <td>1963.0</td>\n      <td>9000.0</td>\n      <td>2004</td>\n      <td>41.0</td>\n    </tr>\n    <tr>\n      <th>8</th>\n      <td>8</td>\n      <td>DI</td>\n      <td>1990.0</td>\n      <td>13000.0</td>\n      <td>2004</td>\n      <td>14.0</td>\n    </tr>\n    <tr>\n      <th>10</th>\n      <td>6</td>\n      <td>AC</td>\n      <td>1968.0</td>\n      <td>12000.0</td>\n      <td>2005</td>\n      <td>37.0</td>\n    </tr>\n    <tr>\n      <th>11</th>\n      <td>6</td>\n      <td>AC</td>\n      <td>1949.0</td>\n      <td>13000.0</td>\n      <td>2005</td>\n      <td>56.0</td>\n    </tr>\n    <tr>\n      <th>14</th>\n      <td>6</td>\n      <td>AC</td>\n      <td>1994.0</td>\n      <td>5000.0</td>\n      <td>2005</td>\n      <td>11.0</td>\n    </tr>\n    <tr>\n      <th>15</th>\n      <td>6</td>\n      <td>AC</td>\n      <td>1968.0</td>\n      <td>13000.0</td>\n      <td>2005</td>\n      <td>37.0</td>\n    </tr>\n    <tr>\n      <th>19</th>\n      <td>8</td>\n      <td>AC</td>\n      <td>1968.0</td>\n      <td>14000.0</td>\n      <td>2006</td>\n      <td>38.0</td>\n    </tr>\n    <tr>\n      <th>20</th>\n      <td>10</td>\n      <td>AC</td>\n      <td>1971.0</td>\n      <td>11000.0</td>\n      <td>2006</td>\n      <td>35.0</td>\n    </tr>\n    <tr>\n      <th>23</th>\n      <td>4</td>\n      <td>AC</td>\n      <td>1991.0</td>\n      <td>12000.0</td>\n      <td>2007</td>\n      <td>16.0</td>\n    </tr>\n    <tr>\n      <th>24</th>\n      <td>4</td>\n      <td>AC</td>\n      <td>1968.0</td>\n      <td>12000.0</td>\n      <td>2007</td>\n      <td>39.0</td>\n    </tr>\n    <tr>\n      <th>25</th>\n      <td>4</td>\n      <td>AC</td>\n      <td>1968.0</td>\n      <td>12000.0</td>\n      <td>2007</td>\n      <td>39.0</td>\n    </tr>\n    <tr>\n      <th>26</th>\n      <td>4</td>\n      <td>AC</td>\n      <td>1968.0</td>\n      <td>12000.0</td>\n      <td>2007</td>\n      <td>39.0</td>\n    </tr>\n    <tr>\n      <th>27</th>\n      <td>6</td>\n      <td>AC</td>\n      <td>1963.0</td>\n      <td>8000.0</td>\n      <td>2008</td>\n      <td>45.0</td>\n    </tr>\n    <tr>\n      <th>28</th>\n      <td>4</td>\n      <td>AC</td>\n      <td>1968.0</td>\n      <td>12000.0</td>\n      <td>2008</td>\n      <td>40.0</td>\n    </tr>\n    <tr>\n      <th>29</th>\n      <td>6</td>\n      <td>AC</td>\n      <td>1968.0</td>\n      <td>13000.0</td>\n      <td>2008</td>\n      <td>40.0</td>\n    </tr>\n    <tr>\n      <th>30</th>\n      <td>16</td>\n      <td>Conc cyl</td>\n      <td>1970.0</td>\n      <td>10000.0</td>\n      <td>2008</td>\n      <td>38.0</td>\n    </tr>\n    <tr>\n      <th>31</th>\n      <td>6</td>\n      <td>AC</td>\n      <td>1968.0</td>\n      <td>13000.0</td>\n      <td>2008</td>\n      <td>40.0</td>\n    </tr>\n    <tr>\n      <th>34</th>\n      <td>6</td>\n      <td>AC</td>\n      <td>1949.0</td>\n      <td>14000.0</td>\n      <td>2008</td>\n      <td>59.0</td>\n    </tr>\n    <tr>\n      <th>36</th>\n      <td>6</td>\n      <td>AC</td>\n      <td>1960.0</td>\n      <td>15000.0</td>\n      <td>2008</td>\n      <td>48.0</td>\n    </tr>\n    <tr>\n      <th>37</th>\n      <td>8</td>\n      <td>DI</td>\n      <td>1979.0</td>\n      <td>8000.0</td>\n      <td>2008</td>\n      <td>29.0</td>\n    </tr>\n    <tr>\n      <th>38</th>\n      <td>4</td>\n      <td>AC</td>\n      <td>1965.0</td>\n      <td>8000.0</td>\n      <td>2008</td>\n      <td>43.0</td>\n    </tr>\n  </tbody>\n</table>\n</div>"
     },
     "metadata": {},
     "execution_count": 137
    }
   ],
   "source": [
    "filt_breaks['Break_Year'].map(lambda x: int(x), na_action='ignore')\n",
    "#filt_breaks.dropna()\n",
    "filt_breaks = filt_breaks[filt_breaks['INSTYEAR'] != '1959, 1963']\n",
    "filt_breaks['INSTYEAR'] = filt_breaks['INSTYEAR'].map(lambda x: float(x), na_action='ignore')\n",
    "filt_breaks['AGE'] = filt_breaks['Break_Year'] - filt_breaks['INSTYEAR']\n",
    "filt_breaks.dropna()"
   ]
  },
  {
   "cell_type": "code",
   "execution_count": 12,
   "metadata": {
    "tags": []
   },
   "outputs": [],
   "source": [
    "# GROUP PIPES BY THEIR UNIQUE ID - NEEDED BECAUSE OF HOW SLOPE BREAKS UP PIPES IN DIFFERENT SLOPE CLASSES\n",
    "def group_by_id(df):\n",
    "\n",
    "    grouping = df.groupby('FID_WA_Mai').groups\n",
    "    unique_pipes = df['FID_WA_Mai'].unique()\n",
    "    indices = []\n",
    "    for i in range(len(unique_pipes)):\n",
    "        pipe = unique_pipes[i]\n",
    "        val = grouping[pipe][0]\n",
    "        indices.append(val)\n",
    "    \n",
    "    # CALCULATE AVERAGE SLOPES FOR PIPES THAT GOT SPLIT INTO MULTIPLE ROWS\n",
    "    slopes = df[['FID_WA_Mai', 'SLP_CLASS']]\n",
    "    slopes = slopes.groupby('FID_WA_Mai')['SLP_CLASS'].mean()\n",
    "    slopes = pd.Series(slopes)\n",
    "\n",
    "    filtered = df.loc[indices, 'FID_WA_Mai':'FUNC_CLASS']\n",
    "    filtered = filtered.drop('SLP_CLASS', axis=1)\n",
    "    filtered['SLOPE'] = slopes.values\n",
    "\n",
    "    return filtered"
   ]
  },
  {
   "cell_type": "code",
   "execution_count": 138,
   "metadata": {},
   "outputs": [
    {
     "output_type": "error",
     "ename": "KeyError",
     "evalue": "\"['SLP_CLASS'] not in index\"",
     "traceback": [
      "\u001b[0;31m---------------------------------------------------------------------------\u001b[0m",
      "\u001b[0;31mKeyError\u001b[0m                                  Traceback (most recent call last)",
      "\u001b[0;32m<ipython-input-138-d12c0da9d5bc>\u001b[0m in \u001b[0;36m<module>\u001b[0;34m\u001b[0m\n\u001b[0;32m----> 1\u001b[0;31m \u001b[0mfiltered\u001b[0m \u001b[0;34m=\u001b[0m \u001b[0mgroup_by_id\u001b[0m\u001b[0;34m(\u001b[0m\u001b[0mpipes\u001b[0m\u001b[0;34m)\u001b[0m\u001b[0;34m\u001b[0m\u001b[0;34m\u001b[0m\u001b[0m\n\u001b[0m\u001b[1;32m      2\u001b[0m \u001b[0mfiltered\u001b[0m\u001b[0;34m\u001b[0m\u001b[0;34m\u001b[0m\u001b[0m\n",
      "\u001b[0;32m<ipython-input-12-bd04e9191577>\u001b[0m in \u001b[0;36mgroup_by_id\u001b[0;34m(df)\u001b[0m\n\u001b[1;32m     11\u001b[0m \u001b[0;34m\u001b[0m\u001b[0m\n\u001b[1;32m     12\u001b[0m     \u001b[0;31m# CALCULATE AVERAGE SLOPES FOR PIPES THAT GOT SPLIT INTO MULTIPLE ROWS\u001b[0m\u001b[0;34m\u001b[0m\u001b[0;34m\u001b[0m\u001b[0;34m\u001b[0m\u001b[0m\n\u001b[0;32m---> 13\u001b[0;31m     \u001b[0mslopes\u001b[0m \u001b[0;34m=\u001b[0m \u001b[0mdf\u001b[0m\u001b[0;34m[\u001b[0m\u001b[0;34m[\u001b[0m\u001b[0;34m'FID_WA_Mai'\u001b[0m\u001b[0;34m,\u001b[0m \u001b[0;34m'SLP_CLASS'\u001b[0m\u001b[0;34m]\u001b[0m\u001b[0;34m]\u001b[0m\u001b[0;34m\u001b[0m\u001b[0;34m\u001b[0m\u001b[0m\n\u001b[0m\u001b[1;32m     14\u001b[0m     \u001b[0mslopes\u001b[0m \u001b[0;34m=\u001b[0m \u001b[0mslopes\u001b[0m\u001b[0;34m.\u001b[0m\u001b[0mgroupby\u001b[0m\u001b[0;34m(\u001b[0m\u001b[0;34m'FID_WA_Mai'\u001b[0m\u001b[0;34m)\u001b[0m\u001b[0;34m[\u001b[0m\u001b[0;34m'SLP_CLASS'\u001b[0m\u001b[0;34m]\u001b[0m\u001b[0;34m.\u001b[0m\u001b[0mmean\u001b[0m\u001b[0;34m(\u001b[0m\u001b[0;34m)\u001b[0m\u001b[0;34m\u001b[0m\u001b[0;34m\u001b[0m\u001b[0m\n\u001b[1;32m     15\u001b[0m     \u001b[0mslopes\u001b[0m \u001b[0;34m=\u001b[0m \u001b[0mpd\u001b[0m\u001b[0;34m.\u001b[0m\u001b[0mSeries\u001b[0m\u001b[0;34m(\u001b[0m\u001b[0mslopes\u001b[0m\u001b[0;34m)\u001b[0m\u001b[0;34m\u001b[0m\u001b[0;34m\u001b[0m\u001b[0m\n",
      "\u001b[0;32m/opt/anaconda3/lib/python3.8/site-packages/pandas/core/frame.py\u001b[0m in \u001b[0;36m__getitem__\u001b[0;34m(self, key)\u001b[0m\n\u001b[1;32m   2804\u001b[0m             \u001b[0;32mif\u001b[0m \u001b[0mis_iterator\u001b[0m\u001b[0;34m(\u001b[0m\u001b[0mkey\u001b[0m\u001b[0;34m)\u001b[0m\u001b[0;34m:\u001b[0m\u001b[0;34m\u001b[0m\u001b[0;34m\u001b[0m\u001b[0m\n\u001b[1;32m   2805\u001b[0m                 \u001b[0mkey\u001b[0m \u001b[0;34m=\u001b[0m \u001b[0mlist\u001b[0m\u001b[0;34m(\u001b[0m\u001b[0mkey\u001b[0m\u001b[0;34m)\u001b[0m\u001b[0;34m\u001b[0m\u001b[0;34m\u001b[0m\u001b[0m\n\u001b[0;32m-> 2806\u001b[0;31m             \u001b[0mindexer\u001b[0m \u001b[0;34m=\u001b[0m \u001b[0mself\u001b[0m\u001b[0;34m.\u001b[0m\u001b[0mloc\u001b[0m\u001b[0;34m.\u001b[0m\u001b[0m_get_listlike_indexer\u001b[0m\u001b[0;34m(\u001b[0m\u001b[0mkey\u001b[0m\u001b[0;34m,\u001b[0m \u001b[0maxis\u001b[0m\u001b[0;34m=\u001b[0m\u001b[0;36m1\u001b[0m\u001b[0;34m,\u001b[0m \u001b[0mraise_missing\u001b[0m\u001b[0;34m=\u001b[0m\u001b[0;32mTrue\u001b[0m\u001b[0;34m)\u001b[0m\u001b[0;34m[\u001b[0m\u001b[0;36m1\u001b[0m\u001b[0;34m]\u001b[0m\u001b[0;34m\u001b[0m\u001b[0;34m\u001b[0m\u001b[0m\n\u001b[0m\u001b[1;32m   2807\u001b[0m \u001b[0;34m\u001b[0m\u001b[0m\n\u001b[1;32m   2808\u001b[0m         \u001b[0;31m# take() does not accept boolean indexers\u001b[0m\u001b[0;34m\u001b[0m\u001b[0;34m\u001b[0m\u001b[0;34m\u001b[0m\u001b[0m\n",
      "\u001b[0;32m/opt/anaconda3/lib/python3.8/site-packages/pandas/core/indexing.py\u001b[0m in \u001b[0;36m_get_listlike_indexer\u001b[0;34m(self, key, axis, raise_missing)\u001b[0m\n\u001b[1;32m   1550\u001b[0m             \u001b[0mkeyarr\u001b[0m\u001b[0;34m,\u001b[0m \u001b[0mindexer\u001b[0m\u001b[0;34m,\u001b[0m \u001b[0mnew_indexer\u001b[0m \u001b[0;34m=\u001b[0m \u001b[0max\u001b[0m\u001b[0;34m.\u001b[0m\u001b[0m_reindex_non_unique\u001b[0m\u001b[0;34m(\u001b[0m\u001b[0mkeyarr\u001b[0m\u001b[0;34m)\u001b[0m\u001b[0;34m\u001b[0m\u001b[0;34m\u001b[0m\u001b[0m\n\u001b[1;32m   1551\u001b[0m \u001b[0;34m\u001b[0m\u001b[0m\n\u001b[0;32m-> 1552\u001b[0;31m         self._validate_read_indexer(\n\u001b[0m\u001b[1;32m   1553\u001b[0m             \u001b[0mkeyarr\u001b[0m\u001b[0;34m,\u001b[0m \u001b[0mindexer\u001b[0m\u001b[0;34m,\u001b[0m \u001b[0mo\u001b[0m\u001b[0;34m.\u001b[0m\u001b[0m_get_axis_number\u001b[0m\u001b[0;34m(\u001b[0m\u001b[0maxis\u001b[0m\u001b[0;34m)\u001b[0m\u001b[0;34m,\u001b[0m \u001b[0mraise_missing\u001b[0m\u001b[0;34m=\u001b[0m\u001b[0mraise_missing\u001b[0m\u001b[0;34m\u001b[0m\u001b[0;34m\u001b[0m\u001b[0m\n\u001b[1;32m   1554\u001b[0m         )\n",
      "\u001b[0;32m/opt/anaconda3/lib/python3.8/site-packages/pandas/core/indexing.py\u001b[0m in \u001b[0;36m_validate_read_indexer\u001b[0;34m(self, key, indexer, axis, raise_missing)\u001b[0m\n\u001b[1;32m   1644\u001b[0m             \u001b[0;32mif\u001b[0m \u001b[0;32mnot\u001b[0m \u001b[0;34m(\u001b[0m\u001b[0mself\u001b[0m\u001b[0;34m.\u001b[0m\u001b[0mname\u001b[0m \u001b[0;34m==\u001b[0m \u001b[0;34m\"loc\"\u001b[0m \u001b[0;32mand\u001b[0m \u001b[0;32mnot\u001b[0m \u001b[0mraise_missing\u001b[0m\u001b[0;34m)\u001b[0m\u001b[0;34m:\u001b[0m\u001b[0;34m\u001b[0m\u001b[0;34m\u001b[0m\u001b[0m\n\u001b[1;32m   1645\u001b[0m                 \u001b[0mnot_found\u001b[0m \u001b[0;34m=\u001b[0m \u001b[0mlist\u001b[0m\u001b[0;34m(\u001b[0m\u001b[0mset\u001b[0m\u001b[0;34m(\u001b[0m\u001b[0mkey\u001b[0m\u001b[0;34m)\u001b[0m \u001b[0;34m-\u001b[0m \u001b[0mset\u001b[0m\u001b[0;34m(\u001b[0m\u001b[0max\u001b[0m\u001b[0;34m)\u001b[0m\u001b[0;34m)\u001b[0m\u001b[0;34m\u001b[0m\u001b[0;34m\u001b[0m\u001b[0m\n\u001b[0;32m-> 1646\u001b[0;31m                 \u001b[0;32mraise\u001b[0m \u001b[0mKeyError\u001b[0m\u001b[0;34m(\u001b[0m\u001b[0;34mf\"{not_found} not in index\"\u001b[0m\u001b[0;34m)\u001b[0m\u001b[0;34m\u001b[0m\u001b[0;34m\u001b[0m\u001b[0m\n\u001b[0m\u001b[1;32m   1647\u001b[0m \u001b[0;34m\u001b[0m\u001b[0m\n\u001b[1;32m   1648\u001b[0m             \u001b[0;31m# we skip the warning on Categorical/Interval\u001b[0m\u001b[0;34m\u001b[0m\u001b[0;34m\u001b[0m\u001b[0;34m\u001b[0m\u001b[0m\n",
      "\u001b[0;31mKeyError\u001b[0m: \"['SLP_CLASS'] not in index\""
     ]
    }
   ],
   "source": [
    "filtered = group_by_id(pipes)\n",
    "filtered"
   ]
  },
  {
   "cell_type": "code",
   "execution_count": 39,
   "metadata": {},
   "outputs": [],
   "source": [
    "from sklearn import impute\n",
    "impute."
   ]
  },
  {
   "cell_type": "code",
   "execution_count": 109,
   "metadata": {
    "tags": []
   },
   "outputs": [],
   "source": [
    "# CALCULATE AVERAGE SLOPES FOR PIPES THAT GOT SPLIT INTO MULTIPLE ROWS\n",
    "slopes = df[['FID_WA_Mai', 'SLP_CLASS']]\n",
    "slopes = slopes.groupby('FID_WA_Mai')['SLP_CLASS'].mean()\n",
    "slopes = pd.Series(slopes)\n"
   ]
  },
  {
   "cell_type": "code",
   "execution_count": 141,
   "metadata": {},
   "outputs": [
    {
     "output_type": "execute_result",
     "data": {
      "text/plain": "       FID_WA_Mai  TYPE  LENGTH  DIAMETER MATERIAL  INSTYEAR MUSYM  Dist_Rail  \\\n1               2  FIRE     2.0       2.0      UNK      1992   AgC       7000   \n3               4  FIRE     3.0       6.0       DI      2005    Ur       4000   \n4               5  FIRE   149.0       8.0       AC      1963    Ur       7000   \n22              6  FIRE     1.0      12.0       DI      1978    Ur       6000   \n23              7  FIRE     1.0       6.0       DI      2002   AmC      13000   \n...           ...   ...     ...       ...      ...       ...   ...        ...   \n41801        7742  DIST    15.0       8.0       DI      2017   AgD       5000   \n41804        7743  DIST   296.0       8.0       AC      1943   AgC       9000   \n41816        3963  DIST     1.0      12.0       DI      1971    No       9000   \n41817        5622  DIST     1.0       8.0       DI      2003   AgC      10000   \n41818        5623  DIST     1.0       8.0       DI      2003   AgC      10000   \n\n                    FULL_STRNA SPEED           FUNC_CLASS     SLOPE  \n1                  122ND LN NE    25  NEIGHBORHOOD ACCESS  1.000000  \n3      LAKE WASHINGTON BLVD NE    35   PRINCIPAL ARTERIAL  0.000000  \n4                                                          3.888889  \n22                120TH AVE NE    25       MINOR ARTERIAL  1.000000  \n23                      1ST ST    25  NEIGHBORHOOD ACCESS  2.000000  \n...                        ...   ...                  ...       ...  \n41801              96TH AVE NE    25  NEIGHBORHOOD ACCESS  0.785714  \n41804               NE 68TH ST    25       MINOR ARTERIAL  4.000000  \n41816             120TH AVE NE    25            COLLECTOR  4.000000  \n41817             117TH AVE NE    25  NEIGHBORHOOD ACCESS  3.000000  \n41818             117TH AVE NE    25  NEIGHBORHOOD ACCESS  0.777778  \n\n[6888 rows x 12 columns]",
      "text/html": "<div>\n<style scoped>\n    .dataframe tbody tr th:only-of-type {\n        vertical-align: middle;\n    }\n\n    .dataframe tbody tr th {\n        vertical-align: top;\n    }\n\n    .dataframe thead th {\n        text-align: right;\n    }\n</style>\n<table border=\"1\" class=\"dataframe\">\n  <thead>\n    <tr style=\"text-align: right;\">\n      <th></th>\n      <th>FID_WA_Mai</th>\n      <th>TYPE</th>\n      <th>LENGTH</th>\n      <th>DIAMETER</th>\n      <th>MATERIAL</th>\n      <th>INSTYEAR</th>\n      <th>MUSYM</th>\n      <th>Dist_Rail</th>\n      <th>FULL_STRNA</th>\n      <th>SPEED</th>\n      <th>FUNC_CLASS</th>\n      <th>SLOPE</th>\n    </tr>\n  </thead>\n  <tbody>\n    <tr>\n      <th>1</th>\n      <td>2</td>\n      <td>FIRE</td>\n      <td>2.0</td>\n      <td>2.0</td>\n      <td>UNK</td>\n      <td>1992</td>\n      <td>AgC</td>\n      <td>7000</td>\n      <td>122ND LN NE</td>\n      <td>25</td>\n      <td>NEIGHBORHOOD ACCESS</td>\n      <td>1.000000</td>\n    </tr>\n    <tr>\n      <th>3</th>\n      <td>4</td>\n      <td>FIRE</td>\n      <td>3.0</td>\n      <td>6.0</td>\n      <td>DI</td>\n      <td>2005</td>\n      <td>Ur</td>\n      <td>4000</td>\n      <td>LAKE WASHINGTON BLVD NE</td>\n      <td>35</td>\n      <td>PRINCIPAL ARTERIAL</td>\n      <td>0.000000</td>\n    </tr>\n    <tr>\n      <th>4</th>\n      <td>5</td>\n      <td>FIRE</td>\n      <td>149.0</td>\n      <td>8.0</td>\n      <td>AC</td>\n      <td>1963</td>\n      <td>Ur</td>\n      <td>7000</td>\n      <td></td>\n      <td></td>\n      <td></td>\n      <td>3.888889</td>\n    </tr>\n    <tr>\n      <th>22</th>\n      <td>6</td>\n      <td>FIRE</td>\n      <td>1.0</td>\n      <td>12.0</td>\n      <td>DI</td>\n      <td>1978</td>\n      <td>Ur</td>\n      <td>6000</td>\n      <td>120TH AVE NE</td>\n      <td>25</td>\n      <td>MINOR ARTERIAL</td>\n      <td>1.000000</td>\n    </tr>\n    <tr>\n      <th>23</th>\n      <td>7</td>\n      <td>FIRE</td>\n      <td>1.0</td>\n      <td>6.0</td>\n      <td>DI</td>\n      <td>2002</td>\n      <td>AmC</td>\n      <td>13000</td>\n      <td>1ST ST</td>\n      <td>25</td>\n      <td>NEIGHBORHOOD ACCESS</td>\n      <td>2.000000</td>\n    </tr>\n    <tr>\n      <th>...</th>\n      <td>...</td>\n      <td>...</td>\n      <td>...</td>\n      <td>...</td>\n      <td>...</td>\n      <td>...</td>\n      <td>...</td>\n      <td>...</td>\n      <td>...</td>\n      <td>...</td>\n      <td>...</td>\n      <td>...</td>\n    </tr>\n    <tr>\n      <th>41801</th>\n      <td>7742</td>\n      <td>DIST</td>\n      <td>15.0</td>\n      <td>8.0</td>\n      <td>DI</td>\n      <td>2017</td>\n      <td>AgD</td>\n      <td>5000</td>\n      <td>96TH AVE NE</td>\n      <td>25</td>\n      <td>NEIGHBORHOOD ACCESS</td>\n      <td>0.785714</td>\n    </tr>\n    <tr>\n      <th>41804</th>\n      <td>7743</td>\n      <td>DIST</td>\n      <td>296.0</td>\n      <td>8.0</td>\n      <td>AC</td>\n      <td>1943</td>\n      <td>AgC</td>\n      <td>9000</td>\n      <td>NE 68TH ST</td>\n      <td>25</td>\n      <td>MINOR ARTERIAL</td>\n      <td>4.000000</td>\n    </tr>\n    <tr>\n      <th>41816</th>\n      <td>3963</td>\n      <td>DIST</td>\n      <td>1.0</td>\n      <td>12.0</td>\n      <td>DI</td>\n      <td>1971</td>\n      <td>No</td>\n      <td>9000</td>\n      <td>120TH AVE NE</td>\n      <td>25</td>\n      <td>COLLECTOR</td>\n      <td>4.000000</td>\n    </tr>\n    <tr>\n      <th>41817</th>\n      <td>5622</td>\n      <td>DIST</td>\n      <td>1.0</td>\n      <td>8.0</td>\n      <td>DI</td>\n      <td>2003</td>\n      <td>AgC</td>\n      <td>10000</td>\n      <td>117TH AVE NE</td>\n      <td>25</td>\n      <td>NEIGHBORHOOD ACCESS</td>\n      <td>3.000000</td>\n    </tr>\n    <tr>\n      <th>41818</th>\n      <td>5623</td>\n      <td>DIST</td>\n      <td>1.0</td>\n      <td>8.0</td>\n      <td>DI</td>\n      <td>2003</td>\n      <td>AgC</td>\n      <td>10000</td>\n      <td>117TH AVE NE</td>\n      <td>25</td>\n      <td>NEIGHBORHOOD ACCESS</td>\n      <td>0.777778</td>\n    </tr>\n  </tbody>\n</table>\n<p>6888 rows × 12 columns</p>\n</div>"
     },
     "metadata": {},
     "execution_count": 141
    }
   ],
   "source": [
    "# REMOVE SLP_CLASS COLUMN, ADD AVERAGE SLOPE SEREIS FOR EACH UNIQUE PIPE\n",
    "filtered = df.loc[indices, 'FID_WA_Mai':'FUNC_CLASS']\n",
    "filtered = filtered.drop('SLP_CLASS', axis=1)\n",
    "filtered['SLOPE'] = slopes.values\n",
    "\n",
    "filtered\n"
   ]
  },
  {
   "cell_type": "code",
   "execution_count": 154,
   "metadata": {},
   "outputs": [
    {
     "output_type": "execute_result",
     "data": {
      "text/plain": "       FID_WA_Mai  TYPE  LENGTH  DIAMETER MATERIAL  INSTYEAR MUSYM  Dist_Rail  \\\n4               5  FIRE   149.0       8.0       AC      1963    Ur       7000   \n29             13  FIRE    12.0       4.0      UNK      1997   KpB       7000   \n75             53  FIRE    33.0       4.0      UNK      1991   AmC      13000   \n105            79  FIRE    30.0       8.0       DI      1991   AgC       6000   \n129            99  FIRE   127.0       4.0       DI      2003   AgC       5000   \n...           ...   ...     ...       ...      ...       ...   ...        ...   \n41778        7738  DIST   128.0       8.0       DI      2020   InC      11000   \n41785        7739  DIST   431.0       8.0       DI      2020   AgC       6000   \n41799        7740  DIST    12.0       8.0       DI      2001   AgD       5000   \n41801        7742  DIST    15.0       8.0       DI      2017   AgD       5000   \n41804        7743  DIST   296.0       8.0       AC      1943   AgC       9000   \n\n        FULL_STRNA SPEED           FUNC_CLASS     SLOPE  \n4                                              3.888889  \n29      NE 62ND ST    25  NEIGHBORHOOD ACCESS  3.000000  \n75         5TH AVE    25  NEIGHBORHOOD ACCESS  1.666667  \n105    CARILLON PT    10  NEIGHBORHOOD ACCESS  2.600000  \n129    113TH PL NE    10  NEIGHBORHOOD ACCESS  1.000000  \n...            ...   ...                  ...       ...  \n41778     8TH ST S    25            COLLECTOR  1.428571  \n41785   NE 90TH ST    25            COLLECTOR  0.600000  \n41799  96TH AVE NE    25  NEIGHBORHOOD ACCESS  2.000000  \n41801  96TH AVE NE    25  NEIGHBORHOOD ACCESS  0.785714  \n41804   NE 68TH ST    25       MINOR ARTERIAL  4.000000  \n\n[3732 rows x 12 columns]",
      "text/html": "<div>\n<style scoped>\n    .dataframe tbody tr th:only-of-type {\n        vertical-align: middle;\n    }\n\n    .dataframe tbody tr th {\n        vertical-align: top;\n    }\n\n    .dataframe thead th {\n        text-align: right;\n    }\n</style>\n<table border=\"1\" class=\"dataframe\">\n  <thead>\n    <tr style=\"text-align: right;\">\n      <th></th>\n      <th>FID_WA_Mai</th>\n      <th>TYPE</th>\n      <th>LENGTH</th>\n      <th>DIAMETER</th>\n      <th>MATERIAL</th>\n      <th>INSTYEAR</th>\n      <th>MUSYM</th>\n      <th>Dist_Rail</th>\n      <th>FULL_STRNA</th>\n      <th>SPEED</th>\n      <th>FUNC_CLASS</th>\n      <th>SLOPE</th>\n    </tr>\n  </thead>\n  <tbody>\n    <tr>\n      <th>4</th>\n      <td>5</td>\n      <td>FIRE</td>\n      <td>149.0</td>\n      <td>8.0</td>\n      <td>AC</td>\n      <td>1963</td>\n      <td>Ur</td>\n      <td>7000</td>\n      <td></td>\n      <td></td>\n      <td></td>\n      <td>3.888889</td>\n    </tr>\n    <tr>\n      <th>29</th>\n      <td>13</td>\n      <td>FIRE</td>\n      <td>12.0</td>\n      <td>4.0</td>\n      <td>UNK</td>\n      <td>1997</td>\n      <td>KpB</td>\n      <td>7000</td>\n      <td>NE 62ND ST</td>\n      <td>25</td>\n      <td>NEIGHBORHOOD ACCESS</td>\n      <td>3.000000</td>\n    </tr>\n    <tr>\n      <th>75</th>\n      <td>53</td>\n      <td>FIRE</td>\n      <td>33.0</td>\n      <td>4.0</td>\n      <td>UNK</td>\n      <td>1991</td>\n      <td>AmC</td>\n      <td>13000</td>\n      <td>5TH AVE</td>\n      <td>25</td>\n      <td>NEIGHBORHOOD ACCESS</td>\n      <td>1.666667</td>\n    </tr>\n    <tr>\n      <th>105</th>\n      <td>79</td>\n      <td>FIRE</td>\n      <td>30.0</td>\n      <td>8.0</td>\n      <td>DI</td>\n      <td>1991</td>\n      <td>AgC</td>\n      <td>6000</td>\n      <td>CARILLON PT</td>\n      <td>10</td>\n      <td>NEIGHBORHOOD ACCESS</td>\n      <td>2.600000</td>\n    </tr>\n    <tr>\n      <th>129</th>\n      <td>99</td>\n      <td>FIRE</td>\n      <td>127.0</td>\n      <td>4.0</td>\n      <td>DI</td>\n      <td>2003</td>\n      <td>AgC</td>\n      <td>5000</td>\n      <td>113TH PL NE</td>\n      <td>10</td>\n      <td>NEIGHBORHOOD ACCESS</td>\n      <td>1.000000</td>\n    </tr>\n    <tr>\n      <th>...</th>\n      <td>...</td>\n      <td>...</td>\n      <td>...</td>\n      <td>...</td>\n      <td>...</td>\n      <td>...</td>\n      <td>...</td>\n      <td>...</td>\n      <td>...</td>\n      <td>...</td>\n      <td>...</td>\n      <td>...</td>\n    </tr>\n    <tr>\n      <th>41778</th>\n      <td>7738</td>\n      <td>DIST</td>\n      <td>128.0</td>\n      <td>8.0</td>\n      <td>DI</td>\n      <td>2020</td>\n      <td>InC</td>\n      <td>11000</td>\n      <td>8TH ST S</td>\n      <td>25</td>\n      <td>COLLECTOR</td>\n      <td>1.428571</td>\n    </tr>\n    <tr>\n      <th>41785</th>\n      <td>7739</td>\n      <td>DIST</td>\n      <td>431.0</td>\n      <td>8.0</td>\n      <td>DI</td>\n      <td>2020</td>\n      <td>AgC</td>\n      <td>6000</td>\n      <td>NE 90TH ST</td>\n      <td>25</td>\n      <td>COLLECTOR</td>\n      <td>0.600000</td>\n    </tr>\n    <tr>\n      <th>41799</th>\n      <td>7740</td>\n      <td>DIST</td>\n      <td>12.0</td>\n      <td>8.0</td>\n      <td>DI</td>\n      <td>2001</td>\n      <td>AgD</td>\n      <td>5000</td>\n      <td>96TH AVE NE</td>\n      <td>25</td>\n      <td>NEIGHBORHOOD ACCESS</td>\n      <td>2.000000</td>\n    </tr>\n    <tr>\n      <th>41801</th>\n      <td>7742</td>\n      <td>DIST</td>\n      <td>15.0</td>\n      <td>8.0</td>\n      <td>DI</td>\n      <td>2017</td>\n      <td>AgD</td>\n      <td>5000</td>\n      <td>96TH AVE NE</td>\n      <td>25</td>\n      <td>NEIGHBORHOOD ACCESS</td>\n      <td>0.785714</td>\n    </tr>\n    <tr>\n      <th>41804</th>\n      <td>7743</td>\n      <td>DIST</td>\n      <td>296.0</td>\n      <td>8.0</td>\n      <td>AC</td>\n      <td>1943</td>\n      <td>AgC</td>\n      <td>9000</td>\n      <td>NE 68TH ST</td>\n      <td>25</td>\n      <td>MINOR ARTERIAL</td>\n      <td>4.000000</td>\n    </tr>\n  </tbody>\n</table>\n<p>3732 rows × 12 columns</p>\n</div>"
     },
     "metadata": {},
     "execution_count": 154
    }
   ],
   "source": [
    "filtered[filtered['LENGTH'] > 10.0]"
   ]
  },
  {
   "cell_type": "code",
   "execution_count": 135,
   "metadata": {
    "tags": []
   },
   "outputs": [
    {
     "output_type": "execute_result",
     "data": {
      "text/plain": "Empty DataFrame\nColumns: [FID_WA_Mai, TYPE, LENGTH, DIAMETER, MATERIAL, INSTYEAR, MUSYM, Dist_Rail, FULL_STRNA, SPEED, FUNC_CLASS, SLOPE]\nIndex: []",
      "text/html": "<div>\n<style scoped>\n    .dataframe tbody tr th:only-of-type {\n        vertical-align: middle;\n    }\n\n    .dataframe tbody tr th {\n        vertical-align: top;\n    }\n\n    .dataframe thead th {\n        text-align: right;\n    }\n</style>\n<table border=\"1\" class=\"dataframe\">\n  <thead>\n    <tr style=\"text-align: right;\">\n      <th></th>\n      <th>FID_WA_Mai</th>\n      <th>TYPE</th>\n      <th>LENGTH</th>\n      <th>DIAMETER</th>\n      <th>MATERIAL</th>\n      <th>INSTYEAR</th>\n      <th>MUSYM</th>\n      <th>Dist_Rail</th>\n      <th>FULL_STRNA</th>\n      <th>SPEED</th>\n      <th>FUNC_CLASS</th>\n      <th>SLOPE</th>\n    </tr>\n  </thead>\n  <tbody>\n  </tbody>\n</table>\n</div>"
     },
     "metadata": {},
     "execution_count": 135
    }
   ],
   "source": [
    "break_1_8_04 = filtered[(filtered['FULL_STRNA'] == '7TH AVE') & (filtered['INSTYEAR'].equals(2003))]\n",
    "break_1_8_04"
   ]
  },
  {
   "cell_type": "code",
   "execution_count": 204,
   "metadata": {
    "tags": []
   },
   "outputs": [
    {
     "output_type": "stream",
     "name": "stdout",
     "text": "['10TH AVE' 'KIRKLAND CIR' '4TH ST' '17TH AVE W' '9TH AVE' '5TH AVE'\n '3RD ST' 'KIRKLAND WAY' '8TH LN' '15TH AVE' 'KIRKLAND AVE' 'NE 68TH ST'\n '19TH AVE' '8TH AVE' 'NE 45TH ST' ' ' '1ST ST' 'NE 44TH ST' 'NE 68TH PL'\n '6TH ST' '106TH AVE NE' '6TH AVE' '5TH ST' '7TH AVE' '109TH PL NE'\n '10TH AVE S' '5TH AVE S' 'LAKEVIEW DR' '5TH ST S' '6TH ST S' 'STATE ST S']\n"
    },
    {
     "output_type": "execute_result",
     "data": {
      "text/plain": "      FID_WA_Mai  TYPE  LENGTH  DIAMETER MATERIAL  INSTYEAR MUSYM  Dist_Rail  \\\n3851         709  DIST    34.0       8.0       AC      1968   AmC      14000   \n\n      FULL_STRNA SPEED           FUNC_CLASS  SLOPE  \n3851  17TH AVE W    25  NEIGHBORHOOD ACCESS    0.5  ",
      "text/html": "<div>\n<style scoped>\n    .dataframe tbody tr th:only-of-type {\n        vertical-align: middle;\n    }\n\n    .dataframe tbody tr th {\n        vertical-align: top;\n    }\n\n    .dataframe thead th {\n        text-align: right;\n    }\n</style>\n<table border=\"1\" class=\"dataframe\">\n  <thead>\n    <tr style=\"text-align: right;\">\n      <th></th>\n      <th>FID_WA_Mai</th>\n      <th>TYPE</th>\n      <th>LENGTH</th>\n      <th>DIAMETER</th>\n      <th>MATERIAL</th>\n      <th>INSTYEAR</th>\n      <th>MUSYM</th>\n      <th>Dist_Rail</th>\n      <th>FULL_STRNA</th>\n      <th>SPEED</th>\n      <th>FUNC_CLASS</th>\n      <th>SLOPE</th>\n    </tr>\n  </thead>\n  <tbody>\n    <tr>\n      <th>3851</th>\n      <td>709</td>\n      <td>DIST</td>\n      <td>34.0</td>\n      <td>8.0</td>\n      <td>AC</td>\n      <td>1968</td>\n      <td>AmC</td>\n      <td>14000</td>\n      <td>17TH AVE W</td>\n      <td>25</td>\n      <td>NEIGHBORHOOD ACCESS</td>\n      <td>0.5</td>\n    </tr>\n  </tbody>\n</table>\n</div>"
     },
     "metadata": {},
     "execution_count": 204
    }
   ],
   "source": [
    "break_1_9_04 = filtered[(filtered['FULL_STRNA'] == '16TH AVE W')] #& (filtered['INSTYEAR'] < 2005) & (filtered['INSTYEAR'] > 2003)]\n",
    "break_1_9_04 = break_1_9_04[break_1_9_04['INSTYEAR'] == 2004]\n",
    "break_1_9_04\n",
    "\n",
    "nearby = filtered[(filtered['FULL_STRNA'] == '16TH AVE W') & (filtered['INSTYEAR'] != 2004) & (filtered['Dist_Rail'] == 15000) & (filtered['DIAMETER'] == 8.0)] \n",
    "nearby\n",
    "\n",
    "similar = filtered[(filtered['DIAMETER'] == 8.0) & (filtered['MATERIAL'] == 'AC') & (filtered['MUSYM'] == 'AmC')]\n",
    "print(similar['FULL_STRNA'].unique())\n",
    "\n",
    "similar = similar[(similar['FULL_STRNA'] == '17TH AVE W')]\n",
    "similar"
   ]
  },
  {
   "cell_type": "code",
   "execution_count": 205,
   "metadata": {
    "tags": []
   },
   "outputs": [
    {
     "output_type": "stream",
     "name": "stdout",
     "text": "['10TH AVE' 'KIRKLAND CIR' '4TH ST' '17TH AVE W' '9TH AVE' '5TH AVE'\n '3RD ST' 'KIRKLAND WAY' '8TH LN' '15TH AVE' 'KIRKLAND AVE' 'NE 68TH ST'\n '19TH AVE' '8TH AVE' 'NE 45TH ST' ' ' '1ST ST' 'NE 44TH ST' 'NE 68TH PL'\n '6TH ST' '106TH AVE NE' '6TH AVE' '5TH ST' '7TH AVE' '109TH PL NE'\n '10TH AVE S' '5TH AVE S' 'LAKEVIEW DR' '5TH ST S' '6TH ST S' 'STATE ST S']\n"
    },
    {
     "output_type": "execute_result",
     "data": {
      "text/plain": "      FID_WA_Mai  TYPE  LENGTH  DIAMETER MATERIAL  INSTYEAR MUSYM  Dist_Rail  \\\n3851         709  DIST    34.0       8.0       AC      1968   AmC      14000   \n\n      FULL_STRNA SPEED           FUNC_CLASS  SLOPE  \n3851  17TH AVE W    25  NEIGHBORHOOD ACCESS    0.5  ",
      "text/html": "<div>\n<style scoped>\n    .dataframe tbody tr th:only-of-type {\n        vertical-align: middle;\n    }\n\n    .dataframe tbody tr th {\n        vertical-align: top;\n    }\n\n    .dataframe thead th {\n        text-align: right;\n    }\n</style>\n<table border=\"1\" class=\"dataframe\">\n  <thead>\n    <tr style=\"text-align: right;\">\n      <th></th>\n      <th>FID_WA_Mai</th>\n      <th>TYPE</th>\n      <th>LENGTH</th>\n      <th>DIAMETER</th>\n      <th>MATERIAL</th>\n      <th>INSTYEAR</th>\n      <th>MUSYM</th>\n      <th>Dist_Rail</th>\n      <th>FULL_STRNA</th>\n      <th>SPEED</th>\n      <th>FUNC_CLASS</th>\n      <th>SLOPE</th>\n    </tr>\n  </thead>\n  <tbody>\n    <tr>\n      <th>3851</th>\n      <td>709</td>\n      <td>DIST</td>\n      <td>34.0</td>\n      <td>8.0</td>\n      <td>AC</td>\n      <td>1968</td>\n      <td>AmC</td>\n      <td>14000</td>\n      <td>17TH AVE W</td>\n      <td>25</td>\n      <td>NEIGHBORHOOD ACCESS</td>\n      <td>0.5</td>\n    </tr>\n  </tbody>\n</table>\n</div>"
     },
     "metadata": {},
     "execution_count": 205
    }
   ],
   "source": [
    "break_1_21_04 = filtered[(filtered['FULL_STRNA'] == '16TH AVE W') & (filtered['INSTYEAR'] == 2004)]\n",
    "break_1_21_04\n",
    "\n",
    "nearby = filtered[(filtered['FULL_STRNA'] == '16TH AVE W') & (filtered['INSTYEAR'] != 2004)] #& (filtered['Dist_Rail'] == 15000) & (filtered['DIAMETER'] == 6.0)] \n",
    "\n",
    "\n",
    "similar = filtered[(filtered['DIAMETER'] == 8.0) & (filtered['MATERIAL'] == 'AC') & (filtered['MUSYM'] == 'AmC')]\n",
    "print(similar['FULL_STRNA'].unique())\n",
    "\n",
    "similar = similar[(similar['FULL_STRNA'] == '17TH AVE W')]\n",
    "similar"
   ]
  },
  {
   "cell_type": "code",
   "execution_count": 197,
   "metadata": {},
   "outputs": [
    {
     "output_type": "execute_result",
     "data": {
      "text/plain": "       FID_WA_Mai  TYPE  LENGTH  DIAMETER MATERIAL  INSTYEAR MUSYM  Dist_Rail  \\\n22011        3634  DIST     1.0       8.0       AC      1976   KpB       7000   \n22012        3635  DIST     5.0      12.0       AC      1971   KpB       7000   \n39310        6927  DIST   261.0       8.0       AC      1976   KpB       7000   \n\n       FULL_STRNA SPEED           FUNC_CLASS     SLOPE  \n22011  NE 59TH ST    25  NEIGHBORHOOD ACCESS  1.000000  \n22012  NE 59TH ST    25  NEIGHBORHOOD ACCESS  1.000000  \n39310  NE 59TH ST    25  NEIGHBORHOOD ACCESS  2.586207  ",
      "text/html": "<div>\n<style scoped>\n    .dataframe tbody tr th:only-of-type {\n        vertical-align: middle;\n    }\n\n    .dataframe tbody tr th {\n        vertical-align: top;\n    }\n\n    .dataframe thead th {\n        text-align: right;\n    }\n</style>\n<table border=\"1\" class=\"dataframe\">\n  <thead>\n    <tr style=\"text-align: right;\">\n      <th></th>\n      <th>FID_WA_Mai</th>\n      <th>TYPE</th>\n      <th>LENGTH</th>\n      <th>DIAMETER</th>\n      <th>MATERIAL</th>\n      <th>INSTYEAR</th>\n      <th>MUSYM</th>\n      <th>Dist_Rail</th>\n      <th>FULL_STRNA</th>\n      <th>SPEED</th>\n      <th>FUNC_CLASS</th>\n      <th>SLOPE</th>\n    </tr>\n  </thead>\n  <tbody>\n    <tr>\n      <th>22011</th>\n      <td>3634</td>\n      <td>DIST</td>\n      <td>1.0</td>\n      <td>8.0</td>\n      <td>AC</td>\n      <td>1976</td>\n      <td>KpB</td>\n      <td>7000</td>\n      <td>NE 59TH ST</td>\n      <td>25</td>\n      <td>NEIGHBORHOOD ACCESS</td>\n      <td>1.000000</td>\n    </tr>\n    <tr>\n      <th>22012</th>\n      <td>3635</td>\n      <td>DIST</td>\n      <td>5.0</td>\n      <td>12.0</td>\n      <td>AC</td>\n      <td>1971</td>\n      <td>KpB</td>\n      <td>7000</td>\n      <td>NE 59TH ST</td>\n      <td>25</td>\n      <td>NEIGHBORHOOD ACCESS</td>\n      <td>1.000000</td>\n    </tr>\n    <tr>\n      <th>39310</th>\n      <td>6927</td>\n      <td>DIST</td>\n      <td>261.0</td>\n      <td>8.0</td>\n      <td>AC</td>\n      <td>1976</td>\n      <td>KpB</td>\n      <td>7000</td>\n      <td>NE 59TH ST</td>\n      <td>25</td>\n      <td>NEIGHBORHOOD ACCESS</td>\n      <td>2.586207</td>\n    </tr>\n  </tbody>\n</table>\n</div>"
     },
     "metadata": {},
     "execution_count": 197
    }
   ],
   "source": [
    "break_2_25_04 = filtered[(filtered['FULL_STRNA'] == 'NE 59TH ST')]\n",
    "break_2_25_04\n",
    "\n",
    "# THIS WILL LIKELY NEED TO BE altered in data set"
   ]
  },
  {
   "cell_type": "code",
   "execution_count": 42,
   "metadata": {},
   "outputs": [
    {
     "output_type": "execute_result",
     "data": {
      "text/plain": [
       "       FID_WA_Mai  TYPE  LENGTH  DIAMETER MATERIAL  INSTYEAR MUSYM  Dist_Rail  \\\n",
       "26578        4438  DIST   197.0       4.0       AC    1991.0   AmC      12000   \n",
       "40951        7457  DIST   164.0       4.0       AC    1991.0   AmC      12000   \n",
       "40953        7458  DIST     2.0       4.0       AC    1991.0   AmC      12000   \n",
       "40954        7459  DIST     3.0       4.0       AC    1991.0   AmC      12000   \n",
       "40955        7460  DIST     2.0       4.0       AC    1991.0   AmC      12000   \n",
       "\n",
       "      FULL_STRNA SPEED           FUNC_CLASS  SLOPE  \n",
       "26578  2ND AVE S    25  NEIGHBORHOOD ACCESS    1.5  \n",
       "40951  2ND AVE S    25  NEIGHBORHOOD ACCESS    3.0  \n",
       "40953  2ND AVE S    25  NEIGHBORHOOD ACCESS    0.0  \n",
       "40954  2ND AVE S    25  NEIGHBORHOOD ACCESS    1.5  \n",
       "40955  2ND AVE S    25  NEIGHBORHOOD ACCESS    0.5  "
      ],
      "text/html": "<div>\n<style scoped>\n    .dataframe tbody tr th:only-of-type {\n        vertical-align: middle;\n    }\n\n    .dataframe tbody tr th {\n        vertical-align: top;\n    }\n\n    .dataframe thead th {\n        text-align: right;\n    }\n</style>\n<table border=\"1\" class=\"dataframe\">\n  <thead>\n    <tr style=\"text-align: right;\">\n      <th></th>\n      <th>FID_WA_Mai</th>\n      <th>TYPE</th>\n      <th>LENGTH</th>\n      <th>DIAMETER</th>\n      <th>MATERIAL</th>\n      <th>INSTYEAR</th>\n      <th>MUSYM</th>\n      <th>Dist_Rail</th>\n      <th>FULL_STRNA</th>\n      <th>SPEED</th>\n      <th>FUNC_CLASS</th>\n      <th>SLOPE</th>\n    </tr>\n  </thead>\n  <tbody>\n    <tr>\n      <th>26578</th>\n      <td>4438</td>\n      <td>DIST</td>\n      <td>197.0</td>\n      <td>4.0</td>\n      <td>AC</td>\n      <td>1991.0</td>\n      <td>AmC</td>\n      <td>12000</td>\n      <td>2ND AVE S</td>\n      <td>25</td>\n      <td>NEIGHBORHOOD ACCESS</td>\n      <td>1.5</td>\n    </tr>\n    <tr>\n      <th>40951</th>\n      <td>7457</td>\n      <td>DIST</td>\n      <td>164.0</td>\n      <td>4.0</td>\n      <td>AC</td>\n      <td>1991.0</td>\n      <td>AmC</td>\n      <td>12000</td>\n      <td>2ND AVE S</td>\n      <td>25</td>\n      <td>NEIGHBORHOOD ACCESS</td>\n      <td>3.0</td>\n    </tr>\n    <tr>\n      <th>40953</th>\n      <td>7458</td>\n      <td>DIST</td>\n      <td>2.0</td>\n      <td>4.0</td>\n      <td>AC</td>\n      <td>1991.0</td>\n      <td>AmC</td>\n      <td>12000</td>\n      <td>2ND AVE S</td>\n      <td>25</td>\n      <td>NEIGHBORHOOD ACCESS</td>\n      <td>0.0</td>\n    </tr>\n    <tr>\n      <th>40954</th>\n      <td>7459</td>\n      <td>DIST</td>\n      <td>3.0</td>\n      <td>4.0</td>\n      <td>AC</td>\n      <td>1991.0</td>\n      <td>AmC</td>\n      <td>12000</td>\n      <td>2ND AVE S</td>\n      <td>25</td>\n      <td>NEIGHBORHOOD ACCESS</td>\n      <td>1.5</td>\n    </tr>\n    <tr>\n      <th>40955</th>\n      <td>7460</td>\n      <td>DIST</td>\n      <td>2.0</td>\n      <td>4.0</td>\n      <td>AC</td>\n      <td>1991.0</td>\n      <td>AmC</td>\n      <td>12000</td>\n      <td>2ND AVE S</td>\n      <td>25</td>\n      <td>NEIGHBORHOOD ACCESS</td>\n      <td>0.5</td>\n    </tr>\n  </tbody>\n</table>\n</div>"
     },
     "metadata": {},
     "execution_count": 42
    }
   ],
   "source": [
    "break_1_04_07 = pipes[(pipes['INSTYEAR'] == 2007) & (pipes['FULL_STRNA'].str.contains('2ND'))]\n",
    "(break_1_04_07)\n",
    "\n",
    "nearby = pipes[(pipes['INSTYEAR'] < 2007) & (pipes['DIAMETER'] == 4) & (pipes['MATERIAL'] == 'AC') & (pipes['FULL_STRNA'].str.contains('2ND AVE')) & (pipes['Dist_Rail'] == 12000)]\n",
    "nearby"
   ]
  },
  {
   "cell_type": "code",
   "execution_count": 52,
   "metadata": {},
   "outputs": [
    {
     "output_type": "execute_result",
     "data": {
      "text/plain": [
       "       FID_WA_Mai  TYPE  LENGTH  DIAMETER MATERIAL  INSTYEAR MUSYM  Dist_Rail  \\\n",
       "15914        2593  DIST     4.0      12.0       DI    2009.0   AmC      12000   \n",
       "15915        2594  DIST     4.0      12.0       DI    2009.0   AmC      12000   \n",
       "16042        2606  DIST     4.0      12.0       DI    2009.0   AmC      12000   \n",
       "23601        3893  DIST     4.0      12.0       DI    2009.0   AmC      12000   \n",
       "24474        4073  DIST     4.0      12.0       DI    2009.0   AmC      12000   \n",
       "24507        4078  DIST    59.0      12.0       DI    2009.0   AmC      12000   \n",
       "24510        4079  DIST   415.0      12.0       DI    2009.0   AmC      12000   \n",
       "24527        4081  DIST     9.0      12.0       DI    2009.0   AmC      12000   \n",
       "\n",
       "      FULL_STRNA SPEED           FUNC_CLASS  SLOPE  \n",
       "15914    9TH AVE    25  NEIGHBORHOOD ACCESS    1.0  \n",
       "15915    9TH AVE    25  NEIGHBORHOOD ACCESS    1.0  \n",
       "16042    9TH AVE    25  NEIGHBORHOOD ACCESS    1.0  \n",
       "23601    9TH AVE    25  NEIGHBORHOOD ACCESS    1.0  \n",
       "24474    9TH AVE    25  NEIGHBORHOOD ACCESS    0.8  \n",
       "24507    9TH AVE    25  NEIGHBORHOOD ACCESS    1.0  \n",
       "24510    9TH AVE    25  NEIGHBORHOOD ACCESS    1.0  \n",
       "24527    9TH AVE    25  NEIGHBORHOOD ACCESS    1.0  "
      ],
      "text/html": "<div>\n<style scoped>\n    .dataframe tbody tr th:only-of-type {\n        vertical-align: middle;\n    }\n\n    .dataframe tbody tr th {\n        vertical-align: top;\n    }\n\n    .dataframe thead th {\n        text-align: right;\n    }\n</style>\n<table border=\"1\" class=\"dataframe\">\n  <thead>\n    <tr style=\"text-align: right;\">\n      <th></th>\n      <th>FID_WA_Mai</th>\n      <th>TYPE</th>\n      <th>LENGTH</th>\n      <th>DIAMETER</th>\n      <th>MATERIAL</th>\n      <th>INSTYEAR</th>\n      <th>MUSYM</th>\n      <th>Dist_Rail</th>\n      <th>FULL_STRNA</th>\n      <th>SPEED</th>\n      <th>FUNC_CLASS</th>\n      <th>SLOPE</th>\n    </tr>\n  </thead>\n  <tbody>\n    <tr>\n      <th>15914</th>\n      <td>2593</td>\n      <td>DIST</td>\n      <td>4.0</td>\n      <td>12.0</td>\n      <td>DI</td>\n      <td>2009.0</td>\n      <td>AmC</td>\n      <td>12000</td>\n      <td>9TH AVE</td>\n      <td>25</td>\n      <td>NEIGHBORHOOD ACCESS</td>\n      <td>1.0</td>\n    </tr>\n    <tr>\n      <th>15915</th>\n      <td>2594</td>\n      <td>DIST</td>\n      <td>4.0</td>\n      <td>12.0</td>\n      <td>DI</td>\n      <td>2009.0</td>\n      <td>AmC</td>\n      <td>12000</td>\n      <td>9TH AVE</td>\n      <td>25</td>\n      <td>NEIGHBORHOOD ACCESS</td>\n      <td>1.0</td>\n    </tr>\n    <tr>\n      <th>16042</th>\n      <td>2606</td>\n      <td>DIST</td>\n      <td>4.0</td>\n      <td>12.0</td>\n      <td>DI</td>\n      <td>2009.0</td>\n      <td>AmC</td>\n      <td>12000</td>\n      <td>9TH AVE</td>\n      <td>25</td>\n      <td>NEIGHBORHOOD ACCESS</td>\n      <td>1.0</td>\n    </tr>\n    <tr>\n      <th>23601</th>\n      <td>3893</td>\n      <td>DIST</td>\n      <td>4.0</td>\n      <td>12.0</td>\n      <td>DI</td>\n      <td>2009.0</td>\n      <td>AmC</td>\n      <td>12000</td>\n      <td>9TH AVE</td>\n      <td>25</td>\n      <td>NEIGHBORHOOD ACCESS</td>\n      <td>1.0</td>\n    </tr>\n    <tr>\n      <th>24474</th>\n      <td>4073</td>\n      <td>DIST</td>\n      <td>4.0</td>\n      <td>12.0</td>\n      <td>DI</td>\n      <td>2009.0</td>\n      <td>AmC</td>\n      <td>12000</td>\n      <td>9TH AVE</td>\n      <td>25</td>\n      <td>NEIGHBORHOOD ACCESS</td>\n      <td>0.8</td>\n    </tr>\n    <tr>\n      <th>24507</th>\n      <td>4078</td>\n      <td>DIST</td>\n      <td>59.0</td>\n      <td>12.0</td>\n      <td>DI</td>\n      <td>2009.0</td>\n      <td>AmC</td>\n      <td>12000</td>\n      <td>9TH AVE</td>\n      <td>25</td>\n      <td>NEIGHBORHOOD ACCESS</td>\n      <td>1.0</td>\n    </tr>\n    <tr>\n      <th>24510</th>\n      <td>4079</td>\n      <td>DIST</td>\n      <td>415.0</td>\n      <td>12.0</td>\n      <td>DI</td>\n      <td>2009.0</td>\n      <td>AmC</td>\n      <td>12000</td>\n      <td>9TH AVE</td>\n      <td>25</td>\n      <td>NEIGHBORHOOD ACCESS</td>\n      <td>1.0</td>\n    </tr>\n    <tr>\n      <th>24527</th>\n      <td>4081</td>\n      <td>DIST</td>\n      <td>9.0</td>\n      <td>12.0</td>\n      <td>DI</td>\n      <td>2009.0</td>\n      <td>AmC</td>\n      <td>12000</td>\n      <td>9TH AVE</td>\n      <td>25</td>\n      <td>NEIGHBORHOOD ACCESS</td>\n      <td>1.0</td>\n    </tr>\n  </tbody>\n</table>\n</div>"
     },
     "metadata": {},
     "execution_count": 52
    }
   ],
   "source": [
    "break_10_08_07 = pipes[(pipes['INSTYEAR'] == 2009) & (pipes['FULL_STRNA'].str.contains('9TH AVE'))]\n",
    "break_10_08_07"
   ]
  },
  {
   "cell_type": "code",
   "execution_count": 69,
   "metadata": {},
   "outputs": [
    {
     "output_type": "execute_result",
     "data": {
      "text/plain": [
       "       FID_WA_Mai  TYPE  LENGTH  DIAMETER MATERIAL  INSTYEAR MUSYM  Dist_Rail  \\\n",
       "9492         1616  DIST   622.0       6.0       AC    1968.0   InC      12000   \n",
       "9509         1617  DIST     1.0       6.0       AC    1968.0   InC      12000   \n",
       "10655        1820  DIST   182.0       8.0       DI    1993.0   InC      11000   \n",
       "10663        1821  DIST   272.0       8.0       DI    1993.0   InC      11000   \n",
       "10698        1823  DIST    32.0       6.0       AC    1968.0   InC      12000   \n",
       "15501        2536  DIST   270.0       8.0       DI    2005.0   InC      12000   \n",
       "35749        6006  DIST    12.0       8.0       DI    2005.0   InC      12000   \n",
       "35750        6007  DIST   294.0       8.0       DI    1993.0   InC      12000   \n",
       "36467        6138  DIST   592.0       8.0       DI    1997.0   AmC      13000   \n",
       "\n",
       "      FULL_STRNA SPEED           FUNC_CLASS     SLOPE  \n",
       "9492    20TH AVE    25  NEIGHBORHOOD ACCESS  1.058824  \n",
       "9509    20TH AVE    25  NEIGHBORHOOD ACCESS  0.000000  \n",
       "10655   20TH AVE    25  NEIGHBORHOOD ACCESS  2.125000  \n",
       "10663   20TH AVE    25  NEIGHBORHOOD ACCESS  2.800000  \n",
       "10698   20TH AVE    25  NEIGHBORHOOD ACCESS  0.000000  \n",
       "15501   20TH AVE    25  NEIGHBORHOOD ACCESS  2.600000  \n",
       "35749   20TH AVE    25  NEIGHBORHOOD ACCESS  3.000000  \n",
       "35750   20TH AVE    25  NEIGHBORHOOD ACCESS  2.000000  \n",
       "36467   20TH AVE    25  NEIGHBORHOOD ACCESS  1.842105  "
      ],
      "text/html": "<div>\n<style scoped>\n    .dataframe tbody tr th:only-of-type {\n        vertical-align: middle;\n    }\n\n    .dataframe tbody tr th {\n        vertical-align: top;\n    }\n\n    .dataframe thead th {\n        text-align: right;\n    }\n</style>\n<table border=\"1\" class=\"dataframe\">\n  <thead>\n    <tr style=\"text-align: right;\">\n      <th></th>\n      <th>FID_WA_Mai</th>\n      <th>TYPE</th>\n      <th>LENGTH</th>\n      <th>DIAMETER</th>\n      <th>MATERIAL</th>\n      <th>INSTYEAR</th>\n      <th>MUSYM</th>\n      <th>Dist_Rail</th>\n      <th>FULL_STRNA</th>\n      <th>SPEED</th>\n      <th>FUNC_CLASS</th>\n      <th>SLOPE</th>\n    </tr>\n  </thead>\n  <tbody>\n    <tr>\n      <th>9492</th>\n      <td>1616</td>\n      <td>DIST</td>\n      <td>622.0</td>\n      <td>6.0</td>\n      <td>AC</td>\n      <td>1968.0</td>\n      <td>InC</td>\n      <td>12000</td>\n      <td>20TH AVE</td>\n      <td>25</td>\n      <td>NEIGHBORHOOD ACCESS</td>\n      <td>1.058824</td>\n    </tr>\n    <tr>\n      <th>9509</th>\n      <td>1617</td>\n      <td>DIST</td>\n      <td>1.0</td>\n      <td>6.0</td>\n      <td>AC</td>\n      <td>1968.0</td>\n      <td>InC</td>\n      <td>12000</td>\n      <td>20TH AVE</td>\n      <td>25</td>\n      <td>NEIGHBORHOOD ACCESS</td>\n      <td>0.000000</td>\n    </tr>\n    <tr>\n      <th>10655</th>\n      <td>1820</td>\n      <td>DIST</td>\n      <td>182.0</td>\n      <td>8.0</td>\n      <td>DI</td>\n      <td>1993.0</td>\n      <td>InC</td>\n      <td>11000</td>\n      <td>20TH AVE</td>\n      <td>25</td>\n      <td>NEIGHBORHOOD ACCESS</td>\n      <td>2.125000</td>\n    </tr>\n    <tr>\n      <th>10663</th>\n      <td>1821</td>\n      <td>DIST</td>\n      <td>272.0</td>\n      <td>8.0</td>\n      <td>DI</td>\n      <td>1993.0</td>\n      <td>InC</td>\n      <td>11000</td>\n      <td>20TH AVE</td>\n      <td>25</td>\n      <td>NEIGHBORHOOD ACCESS</td>\n      <td>2.800000</td>\n    </tr>\n    <tr>\n      <th>10698</th>\n      <td>1823</td>\n      <td>DIST</td>\n      <td>32.0</td>\n      <td>6.0</td>\n      <td>AC</td>\n      <td>1968.0</td>\n      <td>InC</td>\n      <td>12000</td>\n      <td>20TH AVE</td>\n      <td>25</td>\n      <td>NEIGHBORHOOD ACCESS</td>\n      <td>0.000000</td>\n    </tr>\n    <tr>\n      <th>15501</th>\n      <td>2536</td>\n      <td>DIST</td>\n      <td>270.0</td>\n      <td>8.0</td>\n      <td>DI</td>\n      <td>2005.0</td>\n      <td>InC</td>\n      <td>12000</td>\n      <td>20TH AVE</td>\n      <td>25</td>\n      <td>NEIGHBORHOOD ACCESS</td>\n      <td>2.600000</td>\n    </tr>\n    <tr>\n      <th>35749</th>\n      <td>6006</td>\n      <td>DIST</td>\n      <td>12.0</td>\n      <td>8.0</td>\n      <td>DI</td>\n      <td>2005.0</td>\n      <td>InC</td>\n      <td>12000</td>\n      <td>20TH AVE</td>\n      <td>25</td>\n      <td>NEIGHBORHOOD ACCESS</td>\n      <td>3.000000</td>\n    </tr>\n    <tr>\n      <th>35750</th>\n      <td>6007</td>\n      <td>DIST</td>\n      <td>294.0</td>\n      <td>8.0</td>\n      <td>DI</td>\n      <td>1993.0</td>\n      <td>InC</td>\n      <td>12000</td>\n      <td>20TH AVE</td>\n      <td>25</td>\n      <td>NEIGHBORHOOD ACCESS</td>\n      <td>2.000000</td>\n    </tr>\n    <tr>\n      <th>36467</th>\n      <td>6138</td>\n      <td>DIST</td>\n      <td>592.0</td>\n      <td>8.0</td>\n      <td>DI</td>\n      <td>1997.0</td>\n      <td>AmC</td>\n      <td>13000</td>\n      <td>20TH AVE</td>\n      <td>25</td>\n      <td>NEIGHBORHOOD ACCESS</td>\n      <td>1.842105</td>\n    </tr>\n  </tbody>\n</table>\n</div>"
     },
     "metadata": {},
     "execution_count": 69
    }
   ],
   "source": [
    "break_11_2_07 = pipes[(pipes['INSTYEAR'] == 2008) & (pipes['FULL_STRNA'] == '20TH AVE')]\n",
    "break_11_2_07\n",
    "\n",
    "nearby = pipes[(pipes['INSTYEAR'] < 2007) & (pipes['FULL_STRNA'] == '20TH AVE')]\n",
    "nearby\n",
    "\n",
    "similar = pipes[(pipes['MATERIAL'] == 'AC') & (pipes['DIAMETER'] == 4) & (pipes['MUSYM'] == 'InC') & (pipes['Dist_Rail'] >= 10000)]\n",
    "nearby"
   ]
  },
  {
   "cell_type": "code",
   "execution_count": null,
   "metadata": {},
   "outputs": [],
   "source": []
  }
 ]
}