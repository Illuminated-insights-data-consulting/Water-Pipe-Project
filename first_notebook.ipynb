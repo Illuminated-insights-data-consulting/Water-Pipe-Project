{
 "metadata": {
  "language_info": {
   "codemirror_mode": {
    "name": "ipython",
    "version": 3
   },
   "file_extension": ".py",
   "mimetype": "text/x-python",
   "name": "python",
   "nbconvert_exporter": "python",
   "pygments_lexer": "ipython3",
   "version": "3.8.3-final"
  },
  "orig_nbformat": 2,
  "kernelspec": {
   "name": "Python 3.8.3 64-bit ('base': conda)",
   "display_name": "Python 3.8.3 64-bit ('base': conda)",
   "metadata": {
    "interpreter": {
     "hash": "f0f2000245a5d5ee528d4e9f11ad9135ff39457be6eb9151138e66b9d729d8a3"
    }
   }
  }
 },
 "nbformat": 4,
 "nbformat_minor": 2,
 "cells": [
  {
   "source": [
    "# Alright lets see what this is all about\n",
    "import numpy as np\n",
    "import pandas as pd\n",
    "import sklearn \n",
    "\n"
   ],
   "cell_type": "code",
   "metadata": {
    "tags": []
   },
   "execution_count": 2,
   "outputs": []
  },
  {
   "cell_type": "code",
   "execution_count": 3,
   "metadata": {
    "tags": []
   },
   "outputs": [
    {
     "output_type": "execute_result",
     "data": {
      "text/plain": "   FID  FID_WA_Mai  TYPE  LENGTH  DIAMETER MATERIAL  INSTYEAR MUSYM  \\\n0    0           1  FIRE     2.0       8.0      UNK       NaN    Ur   \n1    1           2  FIRE     2.0       2.0      UNK    1992.0   AgC   \n2    2           3  FIRE     1.0       0.0      UNK       NaN   AgC   \n3    3           4  FIRE     3.0       6.0       DI    2005.0    Ur   \n4    4           5  FIRE   149.0       8.0       AC    1963.0    Ur   \n\n   Dist_Rail  SLP_CLASS               FULL_STRNA SPEED           FUNC_CLASS  \n0       6000        2.0             120TH AVE NE    25       MINOR ARTERIAL  \n1       7000        1.0              122ND LN NE    25  NEIGHBORHOOD ACCESS  \n2       6000        0.0             124TH AVE NE    35   PRINCIPAL ARTERIAL  \n3       4000        0.0  LAKE WASHINGTON BLVD NE    35   PRINCIPAL ARTERIAL  \n4       7000        6.0                                                      ",
      "text/html": "<div>\n<style scoped>\n    .dataframe tbody tr th:only-of-type {\n        vertical-align: middle;\n    }\n\n    .dataframe tbody tr th {\n        vertical-align: top;\n    }\n\n    .dataframe thead th {\n        text-align: right;\n    }\n</style>\n<table border=\"1\" class=\"dataframe\">\n  <thead>\n    <tr style=\"text-align: right;\">\n      <th></th>\n      <th>FID</th>\n      <th>FID_WA_Mai</th>\n      <th>TYPE</th>\n      <th>LENGTH</th>\n      <th>DIAMETER</th>\n      <th>MATERIAL</th>\n      <th>INSTYEAR</th>\n      <th>MUSYM</th>\n      <th>Dist_Rail</th>\n      <th>SLP_CLASS</th>\n      <th>FULL_STRNA</th>\n      <th>SPEED</th>\n      <th>FUNC_CLASS</th>\n    </tr>\n  </thead>\n  <tbody>\n    <tr>\n      <th>0</th>\n      <td>0</td>\n      <td>1</td>\n      <td>FIRE</td>\n      <td>2.0</td>\n      <td>8.0</td>\n      <td>UNK</td>\n      <td>NaN</td>\n      <td>Ur</td>\n      <td>6000</td>\n      <td>2.0</td>\n      <td>120TH AVE NE</td>\n      <td>25</td>\n      <td>MINOR ARTERIAL</td>\n    </tr>\n    <tr>\n      <th>1</th>\n      <td>1</td>\n      <td>2</td>\n      <td>FIRE</td>\n      <td>2.0</td>\n      <td>2.0</td>\n      <td>UNK</td>\n      <td>1992.0</td>\n      <td>AgC</td>\n      <td>7000</td>\n      <td>1.0</td>\n      <td>122ND LN NE</td>\n      <td>25</td>\n      <td>NEIGHBORHOOD ACCESS</td>\n    </tr>\n    <tr>\n      <th>2</th>\n      <td>2</td>\n      <td>3</td>\n      <td>FIRE</td>\n      <td>1.0</td>\n      <td>0.0</td>\n      <td>UNK</td>\n      <td>NaN</td>\n      <td>AgC</td>\n      <td>6000</td>\n      <td>0.0</td>\n      <td>124TH AVE NE</td>\n      <td>35</td>\n      <td>PRINCIPAL ARTERIAL</td>\n    </tr>\n    <tr>\n      <th>3</th>\n      <td>3</td>\n      <td>4</td>\n      <td>FIRE</td>\n      <td>3.0</td>\n      <td>6.0</td>\n      <td>DI</td>\n      <td>2005.0</td>\n      <td>Ur</td>\n      <td>4000</td>\n      <td>0.0</td>\n      <td>LAKE WASHINGTON BLVD NE</td>\n      <td>35</td>\n      <td>PRINCIPAL ARTERIAL</td>\n    </tr>\n    <tr>\n      <th>4</th>\n      <td>4</td>\n      <td>5</td>\n      <td>FIRE</td>\n      <td>149.0</td>\n      <td>8.0</td>\n      <td>AC</td>\n      <td>1963.0</td>\n      <td>Ur</td>\n      <td>7000</td>\n      <td>6.0</td>\n      <td></td>\n      <td></td>\n      <td></td>\n    </tr>\n  </tbody>\n</table>\n</div>"
     },
     "metadata": {},
     "execution_count": 3
    }
   ],
   "source": [
    "#LOAD GIS WATERMAIN AND BREAK DATA\n",
    "df = pd.read_csv('Kirk_All.csv')\n",
    "#df.dropna(inplace=True) # Are there any columns where we can deal with NA values?\n",
    "# Can we use imputation instead?\n",
    "# breaks = pd.read_csv('Kirk_Break_Data.csv')\n",
    "df['INSTYEAR'] = df['INSTYEAR'].map(lambda x: int((str(x)[-12:-8])), na_action='ignore')\n",
    "#df = pd.get_dummies(df)\n",
    "df.head()"
   ]
  },
  {
   "cell_type": "code",
   "execution_count": 4,
   "metadata": {},
   "outputs": [
    {
     "output_type": "execute_result",
     "data": {
      "text/plain": "       FID_WA_Mai  TYPE  LENGTH  DIAMETER MATERIAL  INSTYEAR MUSYM  Dist_Rail  \\\n0               1  FIRE     2.0       8.0      UNK       NaN    Ur       6000   \n1               2  FIRE     2.0       2.0      UNK    1992.0   AgC       7000   \n2               3  FIRE     1.0       0.0      UNK       NaN   AgC       6000   \n3               4  FIRE     3.0       6.0       DI    2005.0    Ur       4000   \n4               5  FIRE   149.0       8.0       AC    1963.0    Ur       7000   \n...           ...   ...     ...       ...      ...       ...   ...        ...   \n41816        3963  DIST     1.0      12.0       DI    1971.0    No       9000   \n41817        5622  DIST     1.0       8.0       DI    2003.0   AgC      10000   \n41818        5623  DIST     1.0       8.0       DI    2003.0   AgC      10000   \n41819        1093  DIST    83.0      12.0       DI    2009.0   AgC       5000   \n41820        6299  DIST    18.0      12.0       DI       NaN   AgC       5000   \n\n                    FULL_STRNA  SLP_CLASS SPEED           FUNC_CLASS  \n0                 120TH AVE NE        2.0    25       MINOR ARTERIAL  \n1                  122ND LN NE        1.0    25  NEIGHBORHOOD ACCESS  \n2                 124TH AVE NE        0.0    35   PRINCIPAL ARTERIAL  \n3      LAKE WASHINGTON BLVD NE        0.0    35   PRINCIPAL ARTERIAL  \n4                                     6.0                             \n...                        ...        ...   ...                  ...  \n41816             120TH AVE NE        0.0    25            COLLECTOR  \n41817             117TH AVE NE        2.0    25  NEIGHBORHOOD ACCESS  \n41818             117TH AVE NE        2.0    25  NEIGHBORHOOD ACCESS  \n41819              NE 115TH PL        0.0    35            COLLECTOR  \n41820              NE 115TH PL        0.0    35            COLLECTOR  \n\n[41821 rows x 12 columns]",
      "text/html": "<div>\n<style scoped>\n    .dataframe tbody tr th:only-of-type {\n        vertical-align: middle;\n    }\n\n    .dataframe tbody tr th {\n        vertical-align: top;\n    }\n\n    .dataframe thead th {\n        text-align: right;\n    }\n</style>\n<table border=\"1\" class=\"dataframe\">\n  <thead>\n    <tr style=\"text-align: right;\">\n      <th></th>\n      <th>FID_WA_Mai</th>\n      <th>TYPE</th>\n      <th>LENGTH</th>\n      <th>DIAMETER</th>\n      <th>MATERIAL</th>\n      <th>INSTYEAR</th>\n      <th>MUSYM</th>\n      <th>Dist_Rail</th>\n      <th>FULL_STRNA</th>\n      <th>SLP_CLASS</th>\n      <th>SPEED</th>\n      <th>FUNC_CLASS</th>\n    </tr>\n  </thead>\n  <tbody>\n    <tr>\n      <th>0</th>\n      <td>1</td>\n      <td>FIRE</td>\n      <td>2.0</td>\n      <td>8.0</td>\n      <td>UNK</td>\n      <td>NaN</td>\n      <td>Ur</td>\n      <td>6000</td>\n      <td>120TH AVE NE</td>\n      <td>2.0</td>\n      <td>25</td>\n      <td>MINOR ARTERIAL</td>\n    </tr>\n    <tr>\n      <th>1</th>\n      <td>2</td>\n      <td>FIRE</td>\n      <td>2.0</td>\n      <td>2.0</td>\n      <td>UNK</td>\n      <td>1992.0</td>\n      <td>AgC</td>\n      <td>7000</td>\n      <td>122ND LN NE</td>\n      <td>1.0</td>\n      <td>25</td>\n      <td>NEIGHBORHOOD ACCESS</td>\n    </tr>\n    <tr>\n      <th>2</th>\n      <td>3</td>\n      <td>FIRE</td>\n      <td>1.0</td>\n      <td>0.0</td>\n      <td>UNK</td>\n      <td>NaN</td>\n      <td>AgC</td>\n      <td>6000</td>\n      <td>124TH AVE NE</td>\n      <td>0.0</td>\n      <td>35</td>\n      <td>PRINCIPAL ARTERIAL</td>\n    </tr>\n    <tr>\n      <th>3</th>\n      <td>4</td>\n      <td>FIRE</td>\n      <td>3.0</td>\n      <td>6.0</td>\n      <td>DI</td>\n      <td>2005.0</td>\n      <td>Ur</td>\n      <td>4000</td>\n      <td>LAKE WASHINGTON BLVD NE</td>\n      <td>0.0</td>\n      <td>35</td>\n      <td>PRINCIPAL ARTERIAL</td>\n    </tr>\n    <tr>\n      <th>4</th>\n      <td>5</td>\n      <td>FIRE</td>\n      <td>149.0</td>\n      <td>8.0</td>\n      <td>AC</td>\n      <td>1963.0</td>\n      <td>Ur</td>\n      <td>7000</td>\n      <td></td>\n      <td>6.0</td>\n      <td></td>\n      <td></td>\n    </tr>\n    <tr>\n      <th>...</th>\n      <td>...</td>\n      <td>...</td>\n      <td>...</td>\n      <td>...</td>\n      <td>...</td>\n      <td>...</td>\n      <td>...</td>\n      <td>...</td>\n      <td>...</td>\n      <td>...</td>\n      <td>...</td>\n      <td>...</td>\n    </tr>\n    <tr>\n      <th>41816</th>\n      <td>3963</td>\n      <td>DIST</td>\n      <td>1.0</td>\n      <td>12.0</td>\n      <td>DI</td>\n      <td>1971.0</td>\n      <td>No</td>\n      <td>9000</td>\n      <td>120TH AVE NE</td>\n      <td>0.0</td>\n      <td>25</td>\n      <td>COLLECTOR</td>\n    </tr>\n    <tr>\n      <th>41817</th>\n      <td>5622</td>\n      <td>DIST</td>\n      <td>1.0</td>\n      <td>8.0</td>\n      <td>DI</td>\n      <td>2003.0</td>\n      <td>AgC</td>\n      <td>10000</td>\n      <td>117TH AVE NE</td>\n      <td>2.0</td>\n      <td>25</td>\n      <td>NEIGHBORHOOD ACCESS</td>\n    </tr>\n    <tr>\n      <th>41818</th>\n      <td>5623</td>\n      <td>DIST</td>\n      <td>1.0</td>\n      <td>8.0</td>\n      <td>DI</td>\n      <td>2003.0</td>\n      <td>AgC</td>\n      <td>10000</td>\n      <td>117TH AVE NE</td>\n      <td>2.0</td>\n      <td>25</td>\n      <td>NEIGHBORHOOD ACCESS</td>\n    </tr>\n    <tr>\n      <th>41819</th>\n      <td>1093</td>\n      <td>DIST</td>\n      <td>83.0</td>\n      <td>12.0</td>\n      <td>DI</td>\n      <td>2009.0</td>\n      <td>AgC</td>\n      <td>5000</td>\n      <td>NE 115TH PL</td>\n      <td>0.0</td>\n      <td>35</td>\n      <td>COLLECTOR</td>\n    </tr>\n    <tr>\n      <th>41820</th>\n      <td>6299</td>\n      <td>DIST</td>\n      <td>18.0</td>\n      <td>12.0</td>\n      <td>DI</td>\n      <td>NaN</td>\n      <td>AgC</td>\n      <td>5000</td>\n      <td>NE 115TH PL</td>\n      <td>0.0</td>\n      <td>35</td>\n      <td>COLLECTOR</td>\n    </tr>\n  </tbody>\n</table>\n<p>41821 rows × 12 columns</p>\n</div>"
     },
     "metadata": {},
     "execution_count": 4
    }
   ],
   "source": [
    "# EXTRACTING FEATURES\n",
    "features = ['FID_WA_Mai', 'TYPE', 'LENGTH', 'DIAMETER', 'MATERIAL', 'INSTYEAR', 'MUSYM', 'Dist_Rail', 'FULL_STRNA' , 'SLP_CLASS', 'SPEED', 'FUNC_CLASS']\n",
    "pipes = df[features]\n",
    "pipes"
   ]
  },
  {
   "cell_type": "code",
   "execution_count": 5,
   "metadata": {},
   "outputs": [
    {
     "output_type": "error",
     "ename": "NameError",
     "evalue": "name &#39;breaks&#39; is not defined",
     "traceback": [
      "\u001b[1;31m---------------------------------------------------------------------------\u001b[0m",
      "\u001b[1;31mNameError\u001b[0m                                 Traceback (most recent call last)",
      "\u001b[1;32m&lt;ipython-input-5-462ee42b7cc8&gt;\u001b[0m in \u001b[0;36m&lt;module&gt;\u001b[1;34m\u001b[0m\n\u001b[1;32m----&gt; 1\u001b[1;33m \u001b[0mbreaks\u001b[0m\u001b[1;33m\u001b[0m\u001b[1;33m\u001b[0m\u001b[0m\n\u001b[0m",
      "\u001b[1;31mNameError\u001b[0m: name &#39;breaks&#39; is not defined"
     ]
    }
   ],
   "source": [
    "breaks"
   ]
  },
  {
   "cell_type": "code",
   "execution_count": null,
   "metadata": {
    "tags": []
   },
   "outputs": [],
   "source": [
    "# GROUP PIPES BY THEIR UNIQUE ID - NEEDED BECAUSE OF HOW SLOPE BREAKS UP PIPES IN DIFFERENT SLOPE CLASSES\n",
    "def group_by_id(df):\n",
    "\n",
    "    grouping = df.groupby('FID_WA_Mai').groups\n",
    "    unique_pipes = df['FID_WA_Mai'].unique()\n",
    "    indices = []\n",
    "    for i in range(len(unique_pipes)):\n",
    "        pipe = unique_pipes[i]\n",
    "        val = grouping[pipe][0]\n",
    "        indices.append(val)\n",
    "    \n",
    "    # CALCULATE AVERAGE SLOPES FOR PIPES THAT GOT SPLIT INTO MULTIPLE ROWS\n",
    "    slopes = df[['FID_WA_Mai', 'SLP_CLASS']]\n",
    "    slopes = slopes.groupby('FID_WA_Mai')['SLP_CLASS'].mean()\n",
    "    slopes = pd.Series(slopes)\n",
    "\n",
    "    filtered = df.loc[indices, 'FID_WA_Mai':'FUNC_CLASS']\n",
    "    filtered = filtered.drop('SLP_CLASS', axis=1)\n",
    "    filtered['SLOPE'] = slopes.values\n",
    "\n",
    "    return filtered"
   ]
  },
  {
   "cell_type": "code",
   "execution_count": null,
   "metadata": {},
   "outputs": [],
   "source": [
    "pipes = group_by_id(pipes)\n",
    "pipes"
   ]
  },
  {
   "cell_type": "code",
   "execution_count": 135,
   "metadata": {
    "tags": []
   },
   "outputs": [
    {
     "output_type": "execute_result",
     "data": {
      "text/plain": "Empty DataFrame\nColumns: [FID_WA_Mai, TYPE, LENGTH, DIAMETER, MATERIAL, INSTYEAR, MUSYM, Dist_Rail, FULL_STRNA, SPEED, FUNC_CLASS, SLOPE]\nIndex: []",
      "text/html": "<div>\n<style scoped>\n    .dataframe tbody tr th:only-of-type {\n        vertical-align: middle;\n    }\n\n    .dataframe tbody tr th {\n        vertical-align: top;\n    }\n\n    .dataframe thead th {\n        text-align: right;\n    }\n</style>\n<table border=\"1\" class=\"dataframe\">\n  <thead>\n    <tr style=\"text-align: right;\">\n      <th></th>\n      <th>FID_WA_Mai</th>\n      <th>TYPE</th>\n      <th>LENGTH</th>\n      <th>DIAMETER</th>\n      <th>MATERIAL</th>\n      <th>INSTYEAR</th>\n      <th>MUSYM</th>\n      <th>Dist_Rail</th>\n      <th>FULL_STRNA</th>\n      <th>SPEED</th>\n      <th>FUNC_CLASS</th>\n      <th>SLOPE</th>\n    </tr>\n  </thead>\n  <tbody>\n  </tbody>\n</table>\n</div>"
     },
     "metadata": {},
     "execution_count": 135
    }
   ],
   "source": [
    "break_1_8_04 = filtered[(filtered['FULL_STRNA'] == '7TH AVE') & (filtered['INSTYEAR'].equals(2003))]\n",
    "break_1_8_04"
   ]
  },
  {
   "cell_type": "code",
   "execution_count": 204,
   "metadata": {
    "tags": []
   },
   "outputs": [
    {
     "output_type": "stream",
     "name": "stdout",
     "text": "['10TH AVE' 'KIRKLAND CIR' '4TH ST' '17TH AVE W' '9TH AVE' '5TH AVE'\n '3RD ST' 'KIRKLAND WAY' '8TH LN' '15TH AVE' 'KIRKLAND AVE' 'NE 68TH ST'\n '19TH AVE' '8TH AVE' 'NE 45TH ST' ' ' '1ST ST' 'NE 44TH ST' 'NE 68TH PL'\n '6TH ST' '106TH AVE NE' '6TH AVE' '5TH ST' '7TH AVE' '109TH PL NE'\n '10TH AVE S' '5TH AVE S' 'LAKEVIEW DR' '5TH ST S' '6TH ST S' 'STATE ST S']\n"
    },
    {
     "output_type": "execute_result",
     "data": {
      "text/plain": "      FID_WA_Mai  TYPE  LENGTH  DIAMETER MATERIAL  INSTYEAR MUSYM  Dist_Rail  \\\n3851         709  DIST    34.0       8.0       AC      1968   AmC      14000   \n\n      FULL_STRNA SPEED           FUNC_CLASS  SLOPE  \n3851  17TH AVE W    25  NEIGHBORHOOD ACCESS    0.5  ",
      "text/html": "<div>\n<style scoped>\n    .dataframe tbody tr th:only-of-type {\n        vertical-align: middle;\n    }\n\n    .dataframe tbody tr th {\n        vertical-align: top;\n    }\n\n    .dataframe thead th {\n        text-align: right;\n    }\n</style>\n<table border=\"1\" class=\"dataframe\">\n  <thead>\n    <tr style=\"text-align: right;\">\n      <th></th>\n      <th>FID_WA_Mai</th>\n      <th>TYPE</th>\n      <th>LENGTH</th>\n      <th>DIAMETER</th>\n      <th>MATERIAL</th>\n      <th>INSTYEAR</th>\n      <th>MUSYM</th>\n      <th>Dist_Rail</th>\n      <th>FULL_STRNA</th>\n      <th>SPEED</th>\n      <th>FUNC_CLASS</th>\n      <th>SLOPE</th>\n    </tr>\n  </thead>\n  <tbody>\n    <tr>\n      <th>3851</th>\n      <td>709</td>\n      <td>DIST</td>\n      <td>34.0</td>\n      <td>8.0</td>\n      <td>AC</td>\n      <td>1968</td>\n      <td>AmC</td>\n      <td>14000</td>\n      <td>17TH AVE W</td>\n      <td>25</td>\n      <td>NEIGHBORHOOD ACCESS</td>\n      <td>0.5</td>\n    </tr>\n  </tbody>\n</table>\n</div>"
     },
     "metadata": {},
     "execution_count": 204
    }
   ],
   "source": [
    "break_1_9_04 = filtered[(filtered['FULL_STRNA'] == '16TH AVE W')] #& (filtered['INSTYEAR'] < 2005) & (filtered['INSTYEAR'] > 2003)]\n",
    "break_1_9_04 = break_1_9_04[break_1_9_04['INSTYEAR'] == 2004]\n",
    "break_1_9_04\n",
    "\n",
    "nearby = filtered[(filtered['FULL_STRNA'] == '16TH AVE W') & (filtered['INSTYEAR'] != 2004) & (filtered['Dist_Rail'] == 15000) & (filtered['DIAMETER'] == 8.0)] \n",
    "nearby\n",
    "\n",
    "similar = filtered[(filtered['DIAMETER'] == 8.0) & (filtered['MATERIAL'] == 'AC') & (filtered['MUSYM'] == 'AmC')]\n",
    "print(similar['FULL_STRNA'].unique())\n",
    "\n",
    "similar = similar[(similar['FULL_STRNA'] == '17TH AVE W')]\n",
    "similar"
   ]
  },
  {
   "cell_type": "code",
   "execution_count": 205,
   "metadata": {
    "tags": []
   },
   "outputs": [
    {
     "output_type": "stream",
     "name": "stdout",
     "text": "['10TH AVE' 'KIRKLAND CIR' '4TH ST' '17TH AVE W' '9TH AVE' '5TH AVE'\n '3RD ST' 'KIRKLAND WAY' '8TH LN' '15TH AVE' 'KIRKLAND AVE' 'NE 68TH ST'\n '19TH AVE' '8TH AVE' 'NE 45TH ST' ' ' '1ST ST' 'NE 44TH ST' 'NE 68TH PL'\n '6TH ST' '106TH AVE NE' '6TH AVE' '5TH ST' '7TH AVE' '109TH PL NE'\n '10TH AVE S' '5TH AVE S' 'LAKEVIEW DR' '5TH ST S' '6TH ST S' 'STATE ST S']\n"
    },
    {
     "output_type": "execute_result",
     "data": {
      "text/plain": "      FID_WA_Mai  TYPE  LENGTH  DIAMETER MATERIAL  INSTYEAR MUSYM  Dist_Rail  \\\n3851         709  DIST    34.0       8.0       AC      1968   AmC      14000   \n\n      FULL_STRNA SPEED           FUNC_CLASS  SLOPE  \n3851  17TH AVE W    25  NEIGHBORHOOD ACCESS    0.5  ",
      "text/html": "<div>\n<style scoped>\n    .dataframe tbody tr th:only-of-type {\n        vertical-align: middle;\n    }\n\n    .dataframe tbody tr th {\n        vertical-align: top;\n    }\n\n    .dataframe thead th {\n        text-align: right;\n    }\n</style>\n<table border=\"1\" class=\"dataframe\">\n  <thead>\n    <tr style=\"text-align: right;\">\n      <th></th>\n      <th>FID_WA_Mai</th>\n      <th>TYPE</th>\n      <th>LENGTH</th>\n      <th>DIAMETER</th>\n      <th>MATERIAL</th>\n      <th>INSTYEAR</th>\n      <th>MUSYM</th>\n      <th>Dist_Rail</th>\n      <th>FULL_STRNA</th>\n      <th>SPEED</th>\n      <th>FUNC_CLASS</th>\n      <th>SLOPE</th>\n    </tr>\n  </thead>\n  <tbody>\n    <tr>\n      <th>3851</th>\n      <td>709</td>\n      <td>DIST</td>\n      <td>34.0</td>\n      <td>8.0</td>\n      <td>AC</td>\n      <td>1968</td>\n      <td>AmC</td>\n      <td>14000</td>\n      <td>17TH AVE W</td>\n      <td>25</td>\n      <td>NEIGHBORHOOD ACCESS</td>\n      <td>0.5</td>\n    </tr>\n  </tbody>\n</table>\n</div>"
     },
     "metadata": {},
     "execution_count": 205
    }
   ],
   "source": [
    "break_1_21_04 = filtered[(filtered['FULL_STRNA'] == '16TH AVE W') & (filtered['INSTYEAR'] == 2004)]\n",
    "break_1_21_04\n",
    "\n",
    "nearby = filtered[(filtered['FULL_STRNA'] == '16TH AVE W') & (filtered['INSTYEAR'] != 2004)] #& (filtered['Dist_Rail'] == 15000) & (filtered['DIAMETER'] == 6.0)] \n",
    "\n",
    "\n",
    "similar = filtered[(filtered['DIAMETER'] == 8.0) & (filtered['MATERIAL'] == 'AC') & (filtered['MUSYM'] == 'AmC')]\n",
    "print(similar['FULL_STRNA'].unique())\n",
    "\n",
    "similar = similar[(similar['FULL_STRNA'] == '17TH AVE W')]\n",
    "similar"
   ]
  },
  {
   "cell_type": "code",
   "execution_count": 197,
   "metadata": {},
   "outputs": [
    {
     "output_type": "execute_result",
     "data": {
      "text/plain": "       FID_WA_Mai  TYPE  LENGTH  DIAMETER MATERIAL  INSTYEAR MUSYM  Dist_Rail  \\\n22011        3634  DIST     1.0       8.0       AC      1976   KpB       7000   \n22012        3635  DIST     5.0      12.0       AC      1971   KpB       7000   \n39310        6927  DIST   261.0       8.0       AC      1976   KpB       7000   \n\n       FULL_STRNA SPEED           FUNC_CLASS     SLOPE  \n22011  NE 59TH ST    25  NEIGHBORHOOD ACCESS  1.000000  \n22012  NE 59TH ST    25  NEIGHBORHOOD ACCESS  1.000000  \n39310  NE 59TH ST    25  NEIGHBORHOOD ACCESS  2.586207  ",
      "text/html": "<div>\n<style scoped>\n    .dataframe tbody tr th:only-of-type {\n        vertical-align: middle;\n    }\n\n    .dataframe tbody tr th {\n        vertical-align: top;\n    }\n\n    .dataframe thead th {\n        text-align: right;\n    }\n</style>\n<table border=\"1\" class=\"dataframe\">\n  <thead>\n    <tr style=\"text-align: right;\">\n      <th></th>\n      <th>FID_WA_Mai</th>\n      <th>TYPE</th>\n      <th>LENGTH</th>\n      <th>DIAMETER</th>\n      <th>MATERIAL</th>\n      <th>INSTYEAR</th>\n      <th>MUSYM</th>\n      <th>Dist_Rail</th>\n      <th>FULL_STRNA</th>\n      <th>SPEED</th>\n      <th>FUNC_CLASS</th>\n      <th>SLOPE</th>\n    </tr>\n  </thead>\n  <tbody>\n    <tr>\n      <th>22011</th>\n      <td>3634</td>\n      <td>DIST</td>\n      <td>1.0</td>\n      <td>8.0</td>\n      <td>AC</td>\n      <td>1976</td>\n      <td>KpB</td>\n      <td>7000</td>\n      <td>NE 59TH ST</td>\n      <td>25</td>\n      <td>NEIGHBORHOOD ACCESS</td>\n      <td>1.000000</td>\n    </tr>\n    <tr>\n      <th>22012</th>\n      <td>3635</td>\n      <td>DIST</td>\n      <td>5.0</td>\n      <td>12.0</td>\n      <td>AC</td>\n      <td>1971</td>\n      <td>KpB</td>\n      <td>7000</td>\n      <td>NE 59TH ST</td>\n      <td>25</td>\n      <td>NEIGHBORHOOD ACCESS</td>\n      <td>1.000000</td>\n    </tr>\n    <tr>\n      <th>39310</th>\n      <td>6927</td>\n      <td>DIST</td>\n      <td>261.0</td>\n      <td>8.0</td>\n      <td>AC</td>\n      <td>1976</td>\n      <td>KpB</td>\n      <td>7000</td>\n      <td>NE 59TH ST</td>\n      <td>25</td>\n      <td>NEIGHBORHOOD ACCESS</td>\n      <td>2.586207</td>\n    </tr>\n  </tbody>\n</table>\n</div>"
     },
     "metadata": {},
     "execution_count": 197
    }
   ],
   "source": [
    "break_2_25_04 = filtered[(filtered['FULL_STRNA'] == 'NE 59TH ST')]\n",
    "break_2_25_04\n",
    "\n",
    "# THIS WILL LIKELY NEED TO BE altered in data set"
   ]
  },
  {
   "cell_type": "code",
   "execution_count": 9,
   "metadata": {
    "tags": []
   },
   "outputs": [
    {
     "output_type": "stream",
     "name": "stdout",
     "text": "       FID_WA_Mai  TYPE  LENGTH  DIAMETER MATERIAL  INSTYEAR MUSYM  Dist_Rail  \\\n22567        3719  DIST     3.0       8.0       DI    2008.0   AgC       8000   \n22568        3720  DIST     4.0       8.0       DI    2008.0   AgC       8000   \n23946        3992  DIST    15.0       8.0       DI    2008.0   AgC       8000   \n23948        3993  DIST     3.0       8.0       DI    2008.0   AgC       8000   \n26885        4497  DIST     3.0       8.0       DI    2008.0   AgC       8000   \n28129        4706  DIST   102.0       8.0       DI    2008.0   AgC       8000   \n30433        5100  DIST   482.0       8.0       DI    2008.0   AgC       8000   \n\n       FULL_STRNA SPEED           FUNC_CLASS     SLOPE  \n22567  NE 73RD ST    25  NEIGHBORHOOD ACCESS  2.000000  \n22568  NE 73RD ST    25  NEIGHBORHOOD ACCESS  2.000000  \n23946  NE 73RD ST    25  NEIGHBORHOOD ACCESS  1.000000  \n23948  NE 73RD ST    25  NEIGHBORHOOD ACCESS  1.000000  \n26885  NE 73RD ST    25  NEIGHBORHOOD ACCESS  1.642857  \n28129  NE 73RD ST    25  NEIGHBORHOOD ACCESS  1.000000  \n30433  NE 73RD ST    25  NEIGHBORHOOD ACCESS  0.000000  \n       FID_WA_Mai  TYPE  LENGTH  DIAMETER MATERIAL  INSTYEAR MUSYM  Dist_Rail  \\\n3459          617  DIST     1.0       6.0       AC    1963.0   AgC       5000   \n4139          768  DIST    13.0       6.0       AC    1963.0   RdC      10000   \n4140          769  DIST   748.0       6.0       AC    1963.0   RdC      10000   \n4158          770  DIST     4.0       6.0       AC    1963.0   RdC      11000   \n4159          771  DIST   100.0       6.0       AC    1963.0   RdC      11000   \n4165          772  DIST   299.0       6.0       AC    1963.0   RdC      11000   \n4190          774  DIST     1.0       6.0       AC    1963.0   RdC      11000   \n4199          777  DIST   417.0       6.0       AC    1963.0   RdC      11000   \n4214          778  DIST    17.0       6.0       AC    1963.0   RdC      11000   \n10562        1810  DIST   314.0       6.0       AC    1963.0   AgC       5000   \n12306        2047  DIST    34.0       6.0       AC    1963.0   InC      13000   \n12540        2111  DIST   320.0       6.0       AC    1963.0   AgC       5000   \n12548        2115  DIST     2.0       6.0       AC    1963.0   AgC       5000   \n13377        2230  DIST   102.0       6.0       AC    1963.0   AgC       8000   \n14070        2347  DIST   429.0       6.0       AC    1963.0   RdC      10000   \n14995        2474  DIST   363.0       6.0       AC    1963.0   InC      10000   \n15302        2519  DIST   649.0       6.0       AC    1963.0   InC      13000   \n19552        3252  DIST   340.0       6.0       AC    1963.0   AgC       8000   \n19567        3253  DIST   294.0       6.0       AC    1963.0   AgC       8000   \n19584        3254  DIST   175.0       6.0       AC    1963.0   AgC       8000   \n19589        3255  DIST     4.0       6.0       AC    1963.0   AgC       8000   \n19590        3256  DIST   205.0       6.0       AC    1963.0   AgC       8000   \n19603        3257  DIST     4.0       6.0       AC    1963.0   AgC       8000   \n21313        3509  DIST   285.0       6.0       AC    1963.0   RdC      10000   \n21337        3511  DIST    11.0       6.0       AC    1963.0   RdC      10000   \n26005        4326  DIST     2.0       6.0       AC    1963.0   AgC      10000   \n26007        4328  DIST     7.0       6.0       AC    1963.0   AgC      10000   \n26113        4343  DIST   277.0       6.0       AC    1963.0   AgC       9000   \n28310        4732  DIST   122.0       6.0       AC    1963.0   AgC       9000   \n29078        4884  DIST   461.0       6.0       AC    1963.0   AgC       8000   \n29090        4885  DIST   162.0       6.0       AC    1963.0   AgC       8000   \n33407        5584  DIST   138.0       6.0       AC    1963.0   AgC       9000   \n34609        5816  DIST   184.0       6.0       AC    1963.0   AgC      10000   \n36592        6154  DIST   223.0       6.0       AC    1963.0   AmC       9000   \n40251        7232  DIST   660.0       6.0       AC    1963.0   AgC       9000   \n40424        7272  DIST   605.0       6.0       AC    1963.0   AgC       9000   \n\n         FULL_STRNA SPEED           FUNC_CLASS     SLOPE  \n3459    NE 104TH ST    25            COLLECTOR  0.000000  \n4139    102ND PL NE    25  NEIGHBORHOOD ACCESS  2.000000  \n4140    102ND PL NE    25  NEIGHBORHOOD ACCESS  1.944444  \n4158    101ST PL NE    25  NEIGHBORHOOD ACCESS  0.000000  \n4159    101ST PL NE    25  NEIGHBORHOOD ACCESS  2.166667  \n4165    101ST PL NE    25  NEIGHBORHOOD ACCESS  2.583333  \n4190    101ST PL NE    25  NEIGHBORHOOD ACCESS  3.000000  \n4199    101ST PL NE    25  NEIGHBORHOOD ACCESS  1.400000  \n4214    101ST PL NE    25  NEIGHBORHOOD ACCESS  0.000000  \n10562   NE 104TH ST    25            COLLECTOR  2.600000  \n12306        2ND ST    25  NEIGHBORHOOD ACCESS  2.666667  \n12540   NE 104TH ST    25            COLLECTOR  1.400000  \n12548   NE 104TH ST    25            COLLECTOR  2.000000  \n13377    NE 75TH ST    25  NEIGHBORHOOD ACCESS  1.700000  \n14070   101ST PL NE    25  NEIGHBORHOOD ACCESS  1.300000  \n14995   NE 102ND PL    25  NEIGHBORHOOD ACCESS  1.500000  \n15302        2ND ST    25  NEIGHBORHOOD ACCESS  2.392857  \n19552  130TH AVE NE    25  NEIGHBORHOOD ACCESS  1.733333  \n19567    NE 75TH ST    25  NEIGHBORHOOD ACCESS  1.176471  \n19584    NE 75TH ST    25  NEIGHBORHOOD ACCESS  0.800000  \n19589    NE 75TH ST    25  NEIGHBORHOOD ACCESS  1.000000  \n19590    NE 75TH ST    25  NEIGHBORHOOD ACCESS  1.769231  \n19603  130TH AVE NE    25  NEIGHBORHOOD ACCESS  1.000000  \n21313   101ST PL NE    25  NEIGHBORHOOD ACCESS  2.428571  \n21337   102ND PL NE    25  NEIGHBORHOOD ACCESS  0.500000  \n26005    NE 72ND ST    25  NEIGHBORHOOD ACCESS  2.178571  \n26007    NE 73RD ST    25  NEIGHBORHOOD ACCESS  3.000000  \n26113    NE 73RD ST    25  NEIGHBORHOOD ACCESS  1.250000  \n28310    NE 73RD ST    25  NEIGHBORHOOD ACCESS  1.750000  \n29078    NE 73RD ST    25  NEIGHBORHOOD ACCESS  0.666667  \n29090    NE 75TH ST    25  NEIGHBORHOOD ACCESS  1.166667  \n33407    NE 72ND ST    25  NEIGHBORHOOD ACCESS  1.000000  \n34609    NE 73RD ST    25  NEIGHBORHOOD ACCESS  4.500000  \n36592  132ND AVE NE    30       MINOR ARTERIAL  1.600000  \n40251    NE 75TH ST    25  NEIGHBORHOOD ACCESS  3.000000  \n40424    NE 80TH ST    25            COLLECTOR  4.300000  \n"
    }
   ],
   "source": [
    "# Find pipes on NE 73RD ST installed in 2008\n",
    "break_1_24_08 = pipes[(pipes['FULL_STRNA'] == 'NE 73RD ST') & (pipes['INSTYEAR'] == 2008)] \n",
    "# Find pipes installed before 2008 with similar attributes to find when broken pipes was installed\n",
    "near1 = pipes[(pipes['FULL_STRNA'] == 'NE 73RD ST') & (pipes['INSTYEAR'] < 2008) & (pipes[\"Dist_Rail\"] == 8000) & (pipes[\"DIAMETER\"] == 6) & (pipes[\"MATERIAL\"] == \"AC\")]\n",
    "# Two possibilities 1959 and 1963, find the most common year and use that \n",
    "search59 = pipes[(pipes[\"DIAMETER\"] == 6) & (pipes[\"MATERIAL\"] == \"AC\") & (pipes[\"INSTYEAR\"] == 1959)]\n",
    "search63 = pipes[(pipes[\"DIAMETER\"] == 6) & (pipes[\"MATERIAL\"] == \"AC\") & (pipes[\"INSTYEAR\"] == 1963)]\n",
    "print(break_1_24_08)\n",
    "print(search63)\n",
    "# End with using 1963 as install year"
   ]
  },
  {
   "cell_type": "code",
   "execution_count": 27,
   "metadata": {
    "tags": []
   },
   "outputs": [
    {
     "output_type": "stream",
     "name": "stdout",
     "text": "       FID_WA_Mai  TYPE  LENGTH  DIAMETER MATERIAL  INSTYEAR MUSYM  Dist_Rail  \\\n15914        2593  DIST     4.0      12.0       DI    2009.0   AmC      12000   \n15915        2594  DIST     4.0      12.0       DI    2009.0   AmC      12000   \n16042        2606  DIST     4.0      12.0       DI    2009.0   AmC      12000   \n23601        3893  DIST     4.0      12.0       DI    2009.0   AmC      12000   \n24474        4073  DIST     4.0      12.0       DI    2009.0   AmC      12000   \n24507        4078  DIST    59.0      12.0       DI    2009.0   AmC      12000   \n24510        4079  DIST   415.0      12.0       DI    2009.0   AmC      12000   \n24527        4081  DIST     9.0      12.0       DI    2009.0   AmC      12000   \n\n      FULL_STRNA SPEED           FUNC_CLASS  SLOPE  \n15914    9TH AVE    25  NEIGHBORHOOD ACCESS    1.0  \n15915    9TH AVE    25  NEIGHBORHOOD ACCESS    1.0  \n16042    9TH AVE    25  NEIGHBORHOOD ACCESS    1.0  \n23601    9TH AVE    25  NEIGHBORHOOD ACCESS    1.0  \n24474    9TH AVE    25  NEIGHBORHOOD ACCESS    0.8  \n24507    9TH AVE    25  NEIGHBORHOOD ACCESS    1.0  \n24510    9TH AVE    25  NEIGHBORHOOD ACCESS    1.0  \n24527    9TH AVE    25  NEIGHBORHOOD ACCESS    1.0  \n"
    },
    {
     "output_type": "execute_result",
     "data": {
      "text/plain": "       FID_WA_Mai  TYPE  LENGTH  DIAMETER MATERIAL  INSTYEAR MUSYM  Dist_Rail  \\\n16008        2604  DIST   555.0      10.0       AC    1968.0   AmC      12000   \n\n      FULL_STRNA SPEED           FUNC_CLASS     SLOPE  \n16008    9TH AVE    25  NEIGHBORHOOD ACCESS  1.277778  ",
      "text/html": "<div>\n<style scoped>\n    .dataframe tbody tr th:only-of-type {\n        vertical-align: middle;\n    }\n\n    .dataframe tbody tr th {\n        vertical-align: top;\n    }\n\n    .dataframe thead th {\n        text-align: right;\n    }\n</style>\n<table border=\"1\" class=\"dataframe\">\n  <thead>\n    <tr style=\"text-align: right;\">\n      <th></th>\n      <th>FID_WA_Mai</th>\n      <th>TYPE</th>\n      <th>LENGTH</th>\n      <th>DIAMETER</th>\n      <th>MATERIAL</th>\n      <th>INSTYEAR</th>\n      <th>MUSYM</th>\n      <th>Dist_Rail</th>\n      <th>FULL_STRNA</th>\n      <th>SPEED</th>\n      <th>FUNC_CLASS</th>\n      <th>SLOPE</th>\n    </tr>\n  </thead>\n  <tbody>\n    <tr>\n      <th>16008</th>\n      <td>2604</td>\n      <td>DIST</td>\n      <td>555.0</td>\n      <td>10.0</td>\n      <td>AC</td>\n      <td>1968.0</td>\n      <td>AmC</td>\n      <td>12000</td>\n      <td>9TH AVE</td>\n      <td>25</td>\n      <td>NEIGHBORHOOD ACCESS</td>\n      <td>1.277778</td>\n    </tr>\n  </tbody>\n</table>\n</div>"
     },
     "metadata": {},
     "execution_count": 27
    }
   ],
   "source": [
    "# No pipes installed on 9th ave in year of break, went to 2009\n",
    "# all of these pipes have a larger diameter and different material than pipe that broke\n",
    "break_1_29_08 = pipes[(pipes['FULL_STRNA'] == '9TH AVE') & (pipes['INSTYEAR'] == 2009 )]  \n",
    "break_1_29_08\n",
    "# Find pipes on 9th ave built before 2008 with similar attributes to the broken pipe. No pipes have same diameter\n",
    "# Only one pipe where bottom line is true, more if remove Dist_Rail, all of these pipes intalled in 1968\n",
    "near2 =  pipes[(pipes['FULL_STRNA'] == '9TH AVE') & (pipes['INSTYEAR'] < 2008)  & (pipes[\"MATERIAL\"] == \"AC\") & (pipes[\"Dist_Rail\"] == 12000)]\n",
    "print(break_1_29_08)\n",
    "near2"
   ]
  },
  {
   "cell_type": "code",
   "execution_count": 45,
   "metadata": {
    "tags": []
   },
   "outputs": [
    {
     "output_type": "execute_result",
     "data": {
      "text/plain": "       FID_WA_Mai  TYPE  LENGTH  DIAMETER MATERIAL  INSTYEAR MUSYM  Dist_Rail  \\\n16075        2616  DIST   584.0       6.0       AC    1968.0   AmC      13000   \n16132        2624  DIST     1.0       6.0       AC    1968.0   AmC      13000   \n35103        5906  DIST   379.0       6.0       AC    1968.0   AmC      13000   \n39867        7107  DIST    13.0       6.0       AC    1968.0   AmC      13000   \n\n      FULL_STRNA SPEED           FUNC_CLASS  SLOPE  \n16075     4TH ST    25  NEIGHBORHOOD ACCESS  1.125  \n16132     4TH ST    25  NEIGHBORHOOD ACCESS  2.000  \n35103     4TH ST    25  NEIGHBORHOOD ACCESS  2.000  \n39867     4TH ST    25  NEIGHBORHOOD ACCESS  1.000  ",
      "text/html": "<div>\n<style scoped>\n    .dataframe tbody tr th:only-of-type {\n        vertical-align: middle;\n    }\n\n    .dataframe tbody tr th {\n        vertical-align: top;\n    }\n\n    .dataframe thead th {\n        text-align: right;\n    }\n</style>\n<table border=\"1\" class=\"dataframe\">\n  <thead>\n    <tr style=\"text-align: right;\">\n      <th></th>\n      <th>FID_WA_Mai</th>\n      <th>TYPE</th>\n      <th>LENGTH</th>\n      <th>DIAMETER</th>\n      <th>MATERIAL</th>\n      <th>INSTYEAR</th>\n      <th>MUSYM</th>\n      <th>Dist_Rail</th>\n      <th>FULL_STRNA</th>\n      <th>SPEED</th>\n      <th>FUNC_CLASS</th>\n      <th>SLOPE</th>\n    </tr>\n  </thead>\n  <tbody>\n    <tr>\n      <th>16075</th>\n      <td>2616</td>\n      <td>DIST</td>\n      <td>584.0</td>\n      <td>6.0</td>\n      <td>AC</td>\n      <td>1968.0</td>\n      <td>AmC</td>\n      <td>13000</td>\n      <td>4TH ST</td>\n      <td>25</td>\n      <td>NEIGHBORHOOD ACCESS</td>\n      <td>1.125</td>\n    </tr>\n    <tr>\n      <th>16132</th>\n      <td>2624</td>\n      <td>DIST</td>\n      <td>1.0</td>\n      <td>6.0</td>\n      <td>AC</td>\n      <td>1968.0</td>\n      <td>AmC</td>\n      <td>13000</td>\n      <td>4TH ST</td>\n      <td>25</td>\n      <td>NEIGHBORHOOD ACCESS</td>\n      <td>2.000</td>\n    </tr>\n    <tr>\n      <th>35103</th>\n      <td>5906</td>\n      <td>DIST</td>\n      <td>379.0</td>\n      <td>6.0</td>\n      <td>AC</td>\n      <td>1968.0</td>\n      <td>AmC</td>\n      <td>13000</td>\n      <td>4TH ST</td>\n      <td>25</td>\n      <td>NEIGHBORHOOD ACCESS</td>\n      <td>2.000</td>\n    </tr>\n    <tr>\n      <th>39867</th>\n      <td>7107</td>\n      <td>DIST</td>\n      <td>13.0</td>\n      <td>6.0</td>\n      <td>AC</td>\n      <td>1968.0</td>\n      <td>AmC</td>\n      <td>13000</td>\n      <td>4TH ST</td>\n      <td>25</td>\n      <td>NEIGHBORHOOD ACCESS</td>\n      <td>1.000</td>\n    </tr>\n  </tbody>\n</table>\n</div>"
     },
     "metadata": {},
     "execution_count": 45
    }
   ],
   "source": [
    "#No pipes installed on 4th st until about 2015 which is weird\n",
    "break_2_9_08 = pipes[(pipes[\"FULL_STRNA\"] == \"4TH ST\") & (pipes[\"INSTYEAR\"] > 2008)]\n",
    "break_2_9_08\n",
    "# Find pipes on 4th st built before 2008 with similar attributes to the broken pipe.\n",
    "near3 = pipes[(pipes[\"FULL_STRNA\"] == \"4TH ST\") & (pipes[\"INSTYEAR\"] < 2008) & (pipes[\"MATERIAL\"] == \"AC\") & (pipes[\"Dist_Rail\"] == 13000) & (pipes[\"DIAMETER\"] == 6)]\n",
    "near3\n",
    "#End with 1968 as install year"
   ]
  },
  {
   "cell_type": "code",
   "execution_count": 63,
   "metadata": {
    "tags": []
   },
   "outputs": [
    {
     "output_type": "stream",
     "name": "stdout",
     "text": "       FID_WA_Mai  TYPE  LENGTH  DIAMETER MATERIAL  INSTYEAR MUSYM  Dist_Rail  \\\n24310        4046  DIST   589.0       8.0       DI    2008.0   AgC       6000   \n24334        4047  DIST     3.0       8.0       DI    2008.0   AgC       6000   \n24335        4048  DIST     4.0       8.0       DI    2008.0   AgC       6000   \n24433        4062  DIST    24.0       4.0       DI    2008.0   AgC       6000   \n28215        4723  DIST   384.0       8.0       DI    2008.0   AgC       6000   \n33573        5618  DIST     4.0       8.0       DI    2008.0   AgC       6000   \n33574        5619  DIST    76.0       8.0       DI    2008.0   AgC       6000   \n33578        5620  DIST     4.0       8.0       DI    2008.0   AgC       6000   \n\n       FULL_STRNA SPEED          FUNC_CLASS     SLOPE  \n24310  NE 85TH ST    35  PRINCIPAL ARTERIAL  0.750000  \n24334  NE 85TH ST    35  PRINCIPAL ARTERIAL  0.916667  \n24335  NE 85TH ST    35  PRINCIPAL ARTERIAL  1.000000  \n24433  NE 85TH ST    35  PRINCIPAL ARTERIAL  1.500000  \n28215  NE 85TH ST    35  PRINCIPAL ARTERIAL  2.700000  \n33573  NE 85TH ST    35  PRINCIPAL ARTERIAL  1.111111  \n33574  NE 85TH ST    35  PRINCIPAL ARTERIAL  0.000000  \n33578  NE 85TH ST    35  PRINCIPAL ARTERIAL  0.750000  \n"
    },
    {
     "output_type": "execute_result",
     "data": {
      "text/plain": "       FID_WA_Mai  TYPE  LENGTH  DIAMETER MATERIAL  INSTYEAR MUSYM  Dist_Rail  \\\n13663        2273  DIST     3.0      16.0     CONC    1970.0   EvB      10000   \n13664        2274  DIST    11.0      16.0     CONC    1970.0   EvB      10000   \n13700        2277  DIST     5.0      16.0     CONC    1970.0   EvB      10000   \n13705        2280  DIST     5.0      16.0     CONC    1970.0   EvB      10000   \n23603        3895  DIST    71.0      16.0     CONC    1970.0   EvB      10000   \n23607        3896  DIST     7.0      16.0     CONC    1970.0   EvB      10000   \n23608        3897  DIST     5.0      16.0     CONC    1970.0   EvB      10000   \n27225        4561  DIST     7.0      16.0     CONC    1970.0   EvB      10000   \n27226        4562  DIST     6.0      16.0     CONC    1970.0   EvB      10000   \n40780        7394  DIST     2.0      16.0     CONC    1970.0   EvB      10000   \n40781        7395  DIST     2.0      16.0     CONC    1970.0   EvB      10000   \n40782        7396  DIST     2.0      16.0     CONC    1970.0   EvB      10000   \n40783        7397  DIST     2.0      16.0     CONC    1970.0   EvB      10000   \n\n       FULL_STRNA SPEED          FUNC_CLASS     SLOPE  \n13663  NE 85TH ST    35  PRINCIPAL ARTERIAL  1.000000  \n13664  NE 85TH ST    35  PRINCIPAL ARTERIAL  1.500000  \n13700  NE 85TH ST    35  PRINCIPAL ARTERIAL  1.000000  \n13705  NE 85TH ST    35  PRINCIPAL ARTERIAL  2.000000  \n23603  NE 85TH ST    35  PRINCIPAL ARTERIAL  1.250000  \n23607  NE 85TH ST    35  PRINCIPAL ARTERIAL  2.000000  \n23608  NE 85TH ST    35  PRINCIPAL ARTERIAL  1.666667  \n27225  NE 85TH ST    35  PRINCIPAL ARTERIAL  1.000000  \n27226  NE 85TH ST    35  PRINCIPAL ARTERIAL  2.000000  \n40780  NE 85TH ST    35  PRINCIPAL ARTERIAL  1.000000  \n40781  NE 85TH ST    35  PRINCIPAL ARTERIAL  1.000000  \n40782  NE 85TH ST    35  PRINCIPAL ARTERIAL  0.000000  \n40783  NE 85TH ST    35  PRINCIPAL ARTERIAL  2.000000  ",
      "text/html": "<div>\n<style scoped>\n    .dataframe tbody tr th:only-of-type {\n        vertical-align: middle;\n    }\n\n    .dataframe tbody tr th {\n        vertical-align: top;\n    }\n\n    .dataframe thead th {\n        text-align: right;\n    }\n</style>\n<table border=\"1\" class=\"dataframe\">\n  <thead>\n    <tr style=\"text-align: right;\">\n      <th></th>\n      <th>FID_WA_Mai</th>\n      <th>TYPE</th>\n      <th>LENGTH</th>\n      <th>DIAMETER</th>\n      <th>MATERIAL</th>\n      <th>INSTYEAR</th>\n      <th>MUSYM</th>\n      <th>Dist_Rail</th>\n      <th>FULL_STRNA</th>\n      <th>SPEED</th>\n      <th>FUNC_CLASS</th>\n      <th>SLOPE</th>\n    </tr>\n  </thead>\n  <tbody>\n    <tr>\n      <th>13663</th>\n      <td>2273</td>\n      <td>DIST</td>\n      <td>3.0</td>\n      <td>16.0</td>\n      <td>CONC</td>\n      <td>1970.0</td>\n      <td>EvB</td>\n      <td>10000</td>\n      <td>NE 85TH ST</td>\n      <td>35</td>\n      <td>PRINCIPAL ARTERIAL</td>\n      <td>1.000000</td>\n    </tr>\n    <tr>\n      <th>13664</th>\n      <td>2274</td>\n      <td>DIST</td>\n      <td>11.0</td>\n      <td>16.0</td>\n      <td>CONC</td>\n      <td>1970.0</td>\n      <td>EvB</td>\n      <td>10000</td>\n      <td>NE 85TH ST</td>\n      <td>35</td>\n      <td>PRINCIPAL ARTERIAL</td>\n      <td>1.500000</td>\n    </tr>\n    <tr>\n      <th>13700</th>\n      <td>2277</td>\n      <td>DIST</td>\n      <td>5.0</td>\n      <td>16.0</td>\n      <td>CONC</td>\n      <td>1970.0</td>\n      <td>EvB</td>\n      <td>10000</td>\n      <td>NE 85TH ST</td>\n      <td>35</td>\n      <td>PRINCIPAL ARTERIAL</td>\n      <td>1.000000</td>\n    </tr>\n    <tr>\n      <th>13705</th>\n      <td>2280</td>\n      <td>DIST</td>\n      <td>5.0</td>\n      <td>16.0</td>\n      <td>CONC</td>\n      <td>1970.0</td>\n      <td>EvB</td>\n      <td>10000</td>\n      <td>NE 85TH ST</td>\n      <td>35</td>\n      <td>PRINCIPAL ARTERIAL</td>\n      <td>2.000000</td>\n    </tr>\n    <tr>\n      <th>23603</th>\n      <td>3895</td>\n      <td>DIST</td>\n      <td>71.0</td>\n      <td>16.0</td>\n      <td>CONC</td>\n      <td>1970.0</td>\n      <td>EvB</td>\n      <td>10000</td>\n      <td>NE 85TH ST</td>\n      <td>35</td>\n      <td>PRINCIPAL ARTERIAL</td>\n      <td>1.250000</td>\n    </tr>\n    <tr>\n      <th>23607</th>\n      <td>3896</td>\n      <td>DIST</td>\n      <td>7.0</td>\n      <td>16.0</td>\n      <td>CONC</td>\n      <td>1970.0</td>\n      <td>EvB</td>\n      <td>10000</td>\n      <td>NE 85TH ST</td>\n      <td>35</td>\n      <td>PRINCIPAL ARTERIAL</td>\n      <td>2.000000</td>\n    </tr>\n    <tr>\n      <th>23608</th>\n      <td>3897</td>\n      <td>DIST</td>\n      <td>5.0</td>\n      <td>16.0</td>\n      <td>CONC</td>\n      <td>1970.0</td>\n      <td>EvB</td>\n      <td>10000</td>\n      <td>NE 85TH ST</td>\n      <td>35</td>\n      <td>PRINCIPAL ARTERIAL</td>\n      <td>1.666667</td>\n    </tr>\n    <tr>\n      <th>27225</th>\n      <td>4561</td>\n      <td>DIST</td>\n      <td>7.0</td>\n      <td>16.0</td>\n      <td>CONC</td>\n      <td>1970.0</td>\n      <td>EvB</td>\n      <td>10000</td>\n      <td>NE 85TH ST</td>\n      <td>35</td>\n      <td>PRINCIPAL ARTERIAL</td>\n      <td>1.000000</td>\n    </tr>\n    <tr>\n      <th>27226</th>\n      <td>4562</td>\n      <td>DIST</td>\n      <td>6.0</td>\n      <td>16.0</td>\n      <td>CONC</td>\n      <td>1970.0</td>\n      <td>EvB</td>\n      <td>10000</td>\n      <td>NE 85TH ST</td>\n      <td>35</td>\n      <td>PRINCIPAL ARTERIAL</td>\n      <td>2.000000</td>\n    </tr>\n    <tr>\n      <th>40780</th>\n      <td>7394</td>\n      <td>DIST</td>\n      <td>2.0</td>\n      <td>16.0</td>\n      <td>CONC</td>\n      <td>1970.0</td>\n      <td>EvB</td>\n      <td>10000</td>\n      <td>NE 85TH ST</td>\n      <td>35</td>\n      <td>PRINCIPAL ARTERIAL</td>\n      <td>1.000000</td>\n    </tr>\n    <tr>\n      <th>40781</th>\n      <td>7395</td>\n      <td>DIST</td>\n      <td>2.0</td>\n      <td>16.0</td>\n      <td>CONC</td>\n      <td>1970.0</td>\n      <td>EvB</td>\n      <td>10000</td>\n      <td>NE 85TH ST</td>\n      <td>35</td>\n      <td>PRINCIPAL ARTERIAL</td>\n      <td>1.000000</td>\n    </tr>\n    <tr>\n      <th>40782</th>\n      <td>7396</td>\n      <td>DIST</td>\n      <td>2.0</td>\n      <td>16.0</td>\n      <td>CONC</td>\n      <td>1970.0</td>\n      <td>EvB</td>\n      <td>10000</td>\n      <td>NE 85TH ST</td>\n      <td>35</td>\n      <td>PRINCIPAL ARTERIAL</td>\n      <td>0.000000</td>\n    </tr>\n    <tr>\n      <th>40783</th>\n      <td>7397</td>\n      <td>DIST</td>\n      <td>2.0</td>\n      <td>16.0</td>\n      <td>CONC</td>\n      <td>1970.0</td>\n      <td>EvB</td>\n      <td>10000</td>\n      <td>NE 85TH ST</td>\n      <td>35</td>\n      <td>PRINCIPAL ARTERIAL</td>\n      <td>2.000000</td>\n    </tr>\n  </tbody>\n</table>\n</div>"
     },
     "metadata": {},
     "execution_count": 63
    }
   ],
   "source": [
    "#There are pipes that were installed on 85th st in 2008, however their distance from rail is different from pipes in near4\n",
    "break_2_18_08 = pipes[(pipes[\"FULL_STRNA\"] == \"NE 85TH ST\") & (pipes[\"INSTYEAR\"] == 2008)] \n",
    "print(break_2_18_08)\n",
    "#Find pipes on 85th st installed before 2008 with similar attributes\n",
    "#Very likely that the broken pipe was installed with these pipes but the dist_rail is different from pipes\n",
    "#that were installed in 2008, closer in dist_rail value to pipes installed more recently than 2008\n",
    "near4 = pipes[(pipes[\"FULL_STRNA\"] == \"NE 85TH ST\") & (pipes[\"INSTYEAR\"] < 2008) & (pipes[\"MATERIAL\"] == \"CONC\") & (pipes[\"DIAMETER\"] == 16)]\n",
    "near4\n",
    "#End with 1970 as install year"
   ]
  },
  {
   "cell_type": "code",
   "execution_count": 96,
   "metadata": {
    "tags": []
   },
   "outputs": [
    {
     "output_type": "stream",
     "name": "stdout",
     "text": "Empty DataFrame\nColumns: [FID_WA_Mai, TYPE, LENGTH, DIAMETER, MATERIAL, INSTYEAR, MUSYM, Dist_Rail, FULL_STRNA, SPEED, FUNC_CLASS, SLOPE]\nIndex: []\n"
    },
    {
     "output_type": "execute_result",
     "data": {
      "text/plain": "       FID_WA_Mai  TYPE  LENGTH  DIAMETER MATERIAL  INSTYEAR MUSYM  Dist_Rail  \\\n9478         1613  DIST     1.0       6.0       AC    1977.0   InC      12000   \n9480         1614  DIST     1.0       6.0       AC    1977.0   InC      12000   \n11126        1893  DIST     3.0       6.0       AC    1968.0   AgC      13000   \n23523        3872  DIST     1.0       6.0       AC    1968.0   AmC      13000   \n24467        4071  DIST    20.0       6.0       AC    1968.0   AgC      13000   \n\n      FULL_STRNA SPEED           FUNC_CLASS  SLOPE  \n9478      5TH ST    25  NEIGHBORHOOD ACCESS    2.5  \n9480      5TH ST    25  NEIGHBORHOOD ACCESS    3.0  \n11126     5TH ST    25  NEIGHBORHOOD ACCESS    3.0  \n23523     5TH ST    25  NEIGHBORHOOD ACCESS    1.0  \n24467     5TH ST    25  NEIGHBORHOOD ACCESS    2.0  ",
      "text/html": "<div>\n<style scoped>\n    .dataframe tbody tr th:only-of-type {\n        vertical-align: middle;\n    }\n\n    .dataframe tbody tr th {\n        vertical-align: top;\n    }\n\n    .dataframe thead th {\n        text-align: right;\n    }\n</style>\n<table border=\"1\" class=\"dataframe\">\n  <thead>\n    <tr style=\"text-align: right;\">\n      <th></th>\n      <th>FID_WA_Mai</th>\n      <th>TYPE</th>\n      <th>LENGTH</th>\n      <th>DIAMETER</th>\n      <th>MATERIAL</th>\n      <th>INSTYEAR</th>\n      <th>MUSYM</th>\n      <th>Dist_Rail</th>\n      <th>FULL_STRNA</th>\n      <th>SPEED</th>\n      <th>FUNC_CLASS</th>\n      <th>SLOPE</th>\n    </tr>\n  </thead>\n  <tbody>\n    <tr>\n      <th>9478</th>\n      <td>1613</td>\n      <td>DIST</td>\n      <td>1.0</td>\n      <td>6.0</td>\n      <td>AC</td>\n      <td>1977.0</td>\n      <td>InC</td>\n      <td>12000</td>\n      <td>5TH ST</td>\n      <td>25</td>\n      <td>NEIGHBORHOOD ACCESS</td>\n      <td>2.5</td>\n    </tr>\n    <tr>\n      <th>9480</th>\n      <td>1614</td>\n      <td>DIST</td>\n      <td>1.0</td>\n      <td>6.0</td>\n      <td>AC</td>\n      <td>1977.0</td>\n      <td>InC</td>\n      <td>12000</td>\n      <td>5TH ST</td>\n      <td>25</td>\n      <td>NEIGHBORHOOD ACCESS</td>\n      <td>3.0</td>\n    </tr>\n    <tr>\n      <th>11126</th>\n      <td>1893</td>\n      <td>DIST</td>\n      <td>3.0</td>\n      <td>6.0</td>\n      <td>AC</td>\n      <td>1968.0</td>\n      <td>AgC</td>\n      <td>13000</td>\n      <td>5TH ST</td>\n      <td>25</td>\n      <td>NEIGHBORHOOD ACCESS</td>\n      <td>3.0</td>\n    </tr>\n    <tr>\n      <th>23523</th>\n      <td>3872</td>\n      <td>DIST</td>\n      <td>1.0</td>\n      <td>6.0</td>\n      <td>AC</td>\n      <td>1968.0</td>\n      <td>AmC</td>\n      <td>13000</td>\n      <td>5TH ST</td>\n      <td>25</td>\n      <td>NEIGHBORHOOD ACCESS</td>\n      <td>1.0</td>\n    </tr>\n    <tr>\n      <th>24467</th>\n      <td>4071</td>\n      <td>DIST</td>\n      <td>20.0</td>\n      <td>6.0</td>\n      <td>AC</td>\n      <td>1968.0</td>\n      <td>AgC</td>\n      <td>13000</td>\n      <td>5TH ST</td>\n      <td>25</td>\n      <td>NEIGHBORHOOD ACCESS</td>\n      <td>2.0</td>\n    </tr>\n  </tbody>\n</table>\n</div>"
     },
     "metadata": {},
     "execution_count": 96
    }
   ],
   "source": [
    "#No pipes installed on 5th st after 2008, three were pipes installed on 19th ave in 2018\n",
    "break_2_26_08 = pipes[(pipes[\"FULL_STRNA\"] == \"5TH ST\") & (pipes[\"INSTYEAR\"] > 2008)]\n",
    "print(break_2_26_08)\n",
    "#No pipes installed on 19th ave shared attributes with the broken pipe, only pipes on 5th ST\n",
    "#Only one pipe was of susbtantial length i.e. >= 5 ft\n",
    "nearby5 = pipes[(pipes[\"FULL_STRNA\"] == \"5TH ST\") & (pipes[\"INSTYEAR\"] < 2008) & (pipes[\"DIAMETER\"] == 6) & (pipes[\"MATERIAL\"] == \"AC\")]\n",
    "nearby5\n",
    "#End with 1968 as install year"
   ]
  },
  {
   "cell_type": "code",
   "execution_count": 110,
   "metadata": {
    "tags": []
   },
   "outputs": [
    {
     "output_type": "stream",
     "name": "stdout",
     "text": "       FID_WA_Mai  TYPE  LENGTH  DIAMETER MATERIAL  INSTYEAR MUSYM  Dist_Rail  \\\n2997          543  DIST     1.0       8.0       DI    1977.0   AgC       5000   \n3565          641  DIST   316.0      12.0       DI    1978.0   AgB       7000   \n4004          744  DIST     1.0       8.0       DI    1977.0   AgC       5000   \n4005          745  DIST    64.0       8.0       DI    1977.0   AgC       5000   \n4007          746  DIST   253.0       8.0       DI    1977.0   AgC       5000   \n6777         1188  DIST     3.0       8.0       DI    2008.0   AgC      10000   \n7092         1236  DIST    41.0       8.0       DI    1990.0   AgB       3000   \n7104         1241  DIST   336.0      16.0       DI    1990.0   AgB       3000   \n7106         1243  DIST     2.0      16.0       DI    1990.0   AgB       3000   \n7107         1244  DIST     1.0      16.0       DI    1990.0   AgB       3000   \n7108         1245  DIST   140.0      16.0       DI    1990.0   AgB       3000   \n8920         1543  DIST   291.0       8.0       DI    2008.0   AgC      10000   \n9630         1632  DIST   711.0       8.0       DI    1989.0   InA       7000   \n9658         1635  DIST     1.0       4.0       AC    1959.0   AgC       9000   \n10702        1827  DIST     3.0      12.0       DI    1978.0   AgB       7000   \n10740        1830  DIST     2.0      12.0       DI    1978.0   AgB       7000   \n10741        1831  DIST    19.0      12.0       DI    1978.0   AgB       7000   \n11039        1877  DIST     2.0       6.0       AC    1961.0   InA       7000   \n11560        1953  DIST     2.0       8.0       DI    1977.0   AgC       5000   \n11561        1954  DIST   164.0       2.0      PVC    1977.0   AgC       5000   \n11663        1960  DIST     2.0       8.0       DI    1989.0   InA       7000   \n16749        2765  DIST   231.0       8.0       DI    1977.0   AgC       5000   \n16964        2805  DIST   326.0       6.0       AC    1955.0   AgC      10000   \n17059        2812  DIST     4.0       8.0       DI       NaN   InA       8000   \n17061        2813  DIST   502.0      10.0       DI    1978.0   InA       7000   \n17085        2815  DIST   149.0      10.0       DI    1978.0   AgC       9000   \n17100        2816  DIST     2.0      10.0       DI    1978.0   AgC       9000   \n17159        2821  DIST   462.0      10.0       DI    1978.0   AgC       8000   \n17192        2822  DIST     2.0      10.0       DI    1978.0   AgC       8000   \n17193        2823  DIST     2.0      10.0       DI    1978.0   AgC       8000   \n19445        3230  DIST     3.0      10.0       DI    1978.0   AgC       9000   \n19447        3231  DIST   402.0      10.0       DI    1978.0   AgC       9000   \n24988        4169  DIST   261.0       8.0       DI       NaN   InA       8000   \n28845        4851  DIST   679.0       8.0       AC       NaN   InA       7000   \n28880        4860  DIST   158.0      10.0       DI    1978.0   AgC       8000   \n28889        4861  DIST   220.0      10.0       DI    1981.0   AgC       8000   \n28909        4866  DIST   279.0      10.0       DI    1978.0   AgC       8000   \n28925        4867  DIST   184.0      10.0       DI    1978.0   AgC       8000   \n28943        4869  DIST   166.0      10.0       DI    1978.0   InA       7000   \n38249        6626  DIST    37.0       8.0       DI    1991.0   AgC      11000   \n39334        6934  DIST     2.0      10.0       DI    1978.0   AgC       8000   \n39335        6935  DIST     1.0      10.0       DI    1978.0   AgC       8000   \n39336        6936  DIST    18.0      10.0       DI    1978.0   AgC       8000   \n39338        6937  DIST     2.0      10.0       DI    2013.0   AgC       8000   \n39341        6938  DIST     1.0      10.0       DI    2013.0   AgC       8000   \n39342        6939  DIST   438.0       8.0       DI    2013.0   AgC       8000   \n39386        6947  DIST   259.0       8.0       DI    2013.0   AgC       8000   \n39396        6948  DIST     2.0       8.0       DI    2013.0   AgC       8000   \n\n        FULL_STRNA SPEED           FUNC_CLASS     SLOPE  \n2997   NE 112TH ST    25  NEIGHBORHOOD ACCESS  1.000000  \n3565   NE 112TH ST    25            COLLECTOR  1.333333  \n4004   NE 112TH ST    25  NEIGHBORHOOD ACCESS  1.000000  \n4005   NE 112TH ST    25  NEIGHBORHOOD ACCESS  0.500000  \n4007   NE 112TH ST    25  NEIGHBORHOOD ACCESS  0.900000  \n6777   NE 112TH ST    25            COLLECTOR  2.000000  \n7092   NE 112TH ST    25  NEIGHBORHOOD ACCESS  0.000000  \n7104   NE 112TH ST    25  NEIGHBORHOOD ACCESS  0.000000  \n7106   NE 112TH ST    25  NEIGHBORHOOD ACCESS  0.000000  \n7107   NE 112TH ST    25  NEIGHBORHOOD ACCESS  0.000000  \n7108   NE 112TH ST    25  NEIGHBORHOOD ACCESS  0.500000  \n8920   NE 112TH ST    25            COLLECTOR  0.500000  \n9630   NE 112TH ST    25            COLLECTOR  1.900000  \n9658   NE 112TH ST    25            COLLECTOR  0.000000  \n10702  NE 112TH ST    25            COLLECTOR  1.000000  \n10740  NE 112TH ST    25            COLLECTOR  1.000000  \n10741  NE 112TH ST    25            COLLECTOR  1.000000  \n11039  NE 112TH ST    25            COLLECTOR  1.000000  \n11560  NE 112TH ST    25  NEIGHBORHOOD ACCESS  0.000000  \n11561  NE 112TH ST    25  NEIGHBORHOOD ACCESS  1.100000  \n11663  NE 112TH ST    25            COLLECTOR  1.000000  \n16749  NE 112TH ST    25  NEIGHBORHOOD ACCESS  1.200000  \n16964  NE 112TH ST    25            COLLECTOR  1.360000  \n17059  NE 112TH ST    25            COLLECTOR  1.000000  \n17061  NE 112TH ST    25            COLLECTOR  0.875000  \n17085  NE 112TH ST    25            COLLECTOR  2.866667  \n17100  NE 112TH ST    25            COLLECTOR  3.000000  \n17159  NE 112TH ST    25            COLLECTOR  2.636364  \n17192  NE 112TH ST    25            COLLECTOR  4.000000  \n17193  NE 112TH ST    25            COLLECTOR  4.000000  \n19445  NE 112TH ST    25            COLLECTOR  2.000000  \n19447  NE 112TH ST    25            COLLECTOR  2.961538  \n24988  NE 112TH ST    25            COLLECTOR  2.000000  \n28845  NE 112TH ST    25            COLLECTOR  0.500000  \n28880  NE 112TH ST    25            COLLECTOR  2.333333  \n28889  NE 112TH ST    25            COLLECTOR  1.555556  \n28909  NE 112TH ST    25            COLLECTOR  0.000000  \n28925  NE 112TH ST    25            COLLECTOR  3.500000  \n28943  NE 112TH ST    25            COLLECTOR  1.000000  \n38249  NE 112TH ST    25            COLLECTOR  1.000000  \n39334  NE 112TH ST    25            COLLECTOR  0.000000  \n39335  NE 112TH ST    25            COLLECTOR  0.000000  \n39336  NE 112TH ST    25            COLLECTOR  2.000000  \n39338  NE 112TH ST    25            COLLECTOR  2.000000  \n39341  NE 112TH ST    25            COLLECTOR  2.000000  \n39342  NE 112TH ST    25            COLLECTOR  3.500000  \n39386  NE 112TH ST    25            COLLECTOR  2.500000  \n39396  NE 112TH ST    25            COLLECTOR  4.000000  \n"
    },
    {
     "output_type": "execute_result",
     "data": {
      "text/plain": "       FID_WA_Mai  TYPE  LENGTH  DIAMETER MATERIAL  INSTYEAR MUSYM  Dist_Rail  \\\n22251        3672  DIST    44.0       6.0       AC    1961.0   AgC       9000   \n22265        3674  DIST   448.0       6.0       AC    1961.0   AgC       8000   \n22357        3680  DIST   226.0       6.0       AC    1961.0   AgC       9000   \n22371        3681  DIST     6.0       6.0       AC    1961.0   AgC       9000   \n22372        3682  DIST     3.0       6.0       AC    1961.0   AgC       9000   \n22373        3683  DIST    65.0       6.0       AC    1961.0   AgC       9000   \n29585        4972  DIST   261.0       6.0       AC    1961.0   AgC       9000   \n29609        4973  DIST   313.0       6.0       AC    1970.0   AgC       9000   \n32846        5504  DIST   717.0       6.0       AC    1967.0   AmC       8000   \n\n       FULL_STRNA SPEED           FUNC_CLASS     SLOPE  \n22251  NE 67TH ST    25  NEIGHBORHOOD ACCESS  2.600000  \n22265  NE 67TH ST    25  NEIGHBORHOOD ACCESS  1.629630  \n22357  NE 67TH ST    25  NEIGHBORHOOD ACCESS  1.928571  \n22371  NE 67TH ST    25  NEIGHBORHOOD ACCESS  2.000000  \n22372  NE 67TH ST    25  NEIGHBORHOOD ACCESS  2.000000  \n22373  NE 67TH ST    25  NEIGHBORHOOD ACCESS  1.666667  \n29585  NE 67TH ST    25  NEIGHBORHOOD ACCESS  2.200000  \n29609  NE 67TH ST    25  NEIGHBORHOOD ACCESS  2.458333  \n32846  NE 67TH ST    25  NEIGHBORHOOD ACCESS  2.333333  ",
      "text/html": "<div>\n<style scoped>\n    .dataframe tbody tr th:only-of-type {\n        vertical-align: middle;\n    }\n\n    .dataframe tbody tr th {\n        vertical-align: top;\n    }\n\n    .dataframe thead th {\n        text-align: right;\n    }\n</style>\n<table border=\"1\" class=\"dataframe\">\n  <thead>\n    <tr style=\"text-align: right;\">\n      <th></th>\n      <th>FID_WA_Mai</th>\n      <th>TYPE</th>\n      <th>LENGTH</th>\n      <th>DIAMETER</th>\n      <th>MATERIAL</th>\n      <th>INSTYEAR</th>\n      <th>MUSYM</th>\n      <th>Dist_Rail</th>\n      <th>FULL_STRNA</th>\n      <th>SPEED</th>\n      <th>FUNC_CLASS</th>\n      <th>SLOPE</th>\n    </tr>\n  </thead>\n  <tbody>\n    <tr>\n      <th>22251</th>\n      <td>3672</td>\n      <td>DIST</td>\n      <td>44.0</td>\n      <td>6.0</td>\n      <td>AC</td>\n      <td>1961.0</td>\n      <td>AgC</td>\n      <td>9000</td>\n      <td>NE 67TH ST</td>\n      <td>25</td>\n      <td>NEIGHBORHOOD ACCESS</td>\n      <td>2.600000</td>\n    </tr>\n    <tr>\n      <th>22265</th>\n      <td>3674</td>\n      <td>DIST</td>\n      <td>448.0</td>\n      <td>6.0</td>\n      <td>AC</td>\n      <td>1961.0</td>\n      <td>AgC</td>\n      <td>8000</td>\n      <td>NE 67TH ST</td>\n      <td>25</td>\n      <td>NEIGHBORHOOD ACCESS</td>\n      <td>1.629630</td>\n    </tr>\n    <tr>\n      <th>22357</th>\n      <td>3680</td>\n      <td>DIST</td>\n      <td>226.0</td>\n      <td>6.0</td>\n      <td>AC</td>\n      <td>1961.0</td>\n      <td>AgC</td>\n      <td>9000</td>\n      <td>NE 67TH ST</td>\n      <td>25</td>\n      <td>NEIGHBORHOOD ACCESS</td>\n      <td>1.928571</td>\n    </tr>\n    <tr>\n      <th>22371</th>\n      <td>3681</td>\n      <td>DIST</td>\n      <td>6.0</td>\n      <td>6.0</td>\n      <td>AC</td>\n      <td>1961.0</td>\n      <td>AgC</td>\n      <td>9000</td>\n      <td>NE 67TH ST</td>\n      <td>25</td>\n      <td>NEIGHBORHOOD ACCESS</td>\n      <td>2.000000</td>\n    </tr>\n    <tr>\n      <th>22372</th>\n      <td>3682</td>\n      <td>DIST</td>\n      <td>3.0</td>\n      <td>6.0</td>\n      <td>AC</td>\n      <td>1961.0</td>\n      <td>AgC</td>\n      <td>9000</td>\n      <td>NE 67TH ST</td>\n      <td>25</td>\n      <td>NEIGHBORHOOD ACCESS</td>\n      <td>2.000000</td>\n    </tr>\n    <tr>\n      <th>22373</th>\n      <td>3683</td>\n      <td>DIST</td>\n      <td>65.0</td>\n      <td>6.0</td>\n      <td>AC</td>\n      <td>1961.0</td>\n      <td>AgC</td>\n      <td>9000</td>\n      <td>NE 67TH ST</td>\n      <td>25</td>\n      <td>NEIGHBORHOOD ACCESS</td>\n      <td>1.666667</td>\n    </tr>\n    <tr>\n      <th>29585</th>\n      <td>4972</td>\n      <td>DIST</td>\n      <td>261.0</td>\n      <td>6.0</td>\n      <td>AC</td>\n      <td>1961.0</td>\n      <td>AgC</td>\n      <td>9000</td>\n      <td>NE 67TH ST</td>\n      <td>25</td>\n      <td>NEIGHBORHOOD ACCESS</td>\n      <td>2.200000</td>\n    </tr>\n    <tr>\n      <th>29609</th>\n      <td>4973</td>\n      <td>DIST</td>\n      <td>313.0</td>\n      <td>6.0</td>\n      <td>AC</td>\n      <td>1970.0</td>\n      <td>AgC</td>\n      <td>9000</td>\n      <td>NE 67TH ST</td>\n      <td>25</td>\n      <td>NEIGHBORHOOD ACCESS</td>\n      <td>2.458333</td>\n    </tr>\n    <tr>\n      <th>32846</th>\n      <td>5504</td>\n      <td>DIST</td>\n      <td>717.0</td>\n      <td>6.0</td>\n      <td>AC</td>\n      <td>1967.0</td>\n      <td>AmC</td>\n      <td>8000</td>\n      <td>NE 67TH ST</td>\n      <td>25</td>\n      <td>NEIGHBORHOOD ACCESS</td>\n      <td>2.333333</td>\n    </tr>\n  </tbody>\n</table>\n</div>"
     },
     "metadata": {},
     "execution_count": 110
    }
   ],
   "source": [
    "#No pipes on 67th st installed on or after 2008 nor pipes installed before that share attributes with broken pipe\n",
    "break_4_2_08 = pipes[(pipes[\"FULL_STRNA\"] == \"NE 112TH ST\")]\n",
    "print(break_4_2_08)\n",
    "nearby6 = pipes[(pipes[\"FULL_STRNA\"] == \"NE 67TH ST\") & (pipes[\"MATERIAL\"] == \"AC\")]\n",
    "nearby6\n"
   ]
  },
  {
   "cell_type": "code",
   "execution_count": 122,
   "metadata": {
    "tags": []
   },
   "outputs": [
    {
     "output_type": "stream",
     "name": "stdout",
     "text": "       FID_WA_Mai  TYPE  LENGTH  DIAMETER MATERIAL  INSTYEAR MUSYM  Dist_Rail  \\\n22567        3719  DIST     3.0       8.0       DI    2008.0   AgC       8000   \n22568        3720  DIST     4.0       8.0       DI    2008.0   AgC       8000   \n23946        3992  DIST    15.0       8.0       DI    2008.0   AgC       8000   \n23948        3993  DIST     3.0       8.0       DI    2008.0   AgC       8000   \n26885        4497  DIST     3.0       8.0       DI    2008.0   AgC       8000   \n28129        4706  DIST   102.0       8.0       DI    2008.0   AgC       8000   \n30433        5100  DIST   482.0       8.0       DI    2008.0   AgC       8000   \n\n       FULL_STRNA SPEED           FUNC_CLASS     SLOPE  \n22567  NE 73RD ST    25  NEIGHBORHOOD ACCESS  2.000000  \n22568  NE 73RD ST    25  NEIGHBORHOOD ACCESS  2.000000  \n23946  NE 73RD ST    25  NEIGHBORHOOD ACCESS  1.000000  \n23948  NE 73RD ST    25  NEIGHBORHOOD ACCESS  1.000000  \n26885  NE 73RD ST    25  NEIGHBORHOOD ACCESS  1.642857  \n28129  NE 73RD ST    25  NEIGHBORHOOD ACCESS  1.000000  \n30433  NE 73RD ST    25  NEIGHBORHOOD ACCESS  0.000000  \n"
    },
    {
     "output_type": "execute_result",
     "data": {
      "text/plain": "       FID_WA_Mai  TYPE  LENGTH  DIAMETER MATERIAL  INSTYEAR MUSYM  Dist_Rail  \\\n26886        4498  DIST   644.0       6.0       AC    1959.0   AgC       8000   \n29078        4884  DIST   461.0       6.0       AC    1963.0   AgC       8000   \n\n       FULL_STRNA SPEED           FUNC_CLASS     SLOPE  \n26886  NE 73RD ST    25  NEIGHBORHOOD ACCESS  2.000000  \n29078  NE 73RD ST    25  NEIGHBORHOOD ACCESS  0.666667  ",
      "text/html": "<div>\n<style scoped>\n    .dataframe tbody tr th:only-of-type {\n        vertical-align: middle;\n    }\n\n    .dataframe tbody tr th {\n        vertical-align: top;\n    }\n\n    .dataframe thead th {\n        text-align: right;\n    }\n</style>\n<table border=\"1\" class=\"dataframe\">\n  <thead>\n    <tr style=\"text-align: right;\">\n      <th></th>\n      <th>FID_WA_Mai</th>\n      <th>TYPE</th>\n      <th>LENGTH</th>\n      <th>DIAMETER</th>\n      <th>MATERIAL</th>\n      <th>INSTYEAR</th>\n      <th>MUSYM</th>\n      <th>Dist_Rail</th>\n      <th>FULL_STRNA</th>\n      <th>SPEED</th>\n      <th>FUNC_CLASS</th>\n      <th>SLOPE</th>\n    </tr>\n  </thead>\n  <tbody>\n    <tr>\n      <th>26886</th>\n      <td>4498</td>\n      <td>DIST</td>\n      <td>644.0</td>\n      <td>6.0</td>\n      <td>AC</td>\n      <td>1959.0</td>\n      <td>AgC</td>\n      <td>8000</td>\n      <td>NE 73RD ST</td>\n      <td>25</td>\n      <td>NEIGHBORHOOD ACCESS</td>\n      <td>2.000000</td>\n    </tr>\n    <tr>\n      <th>29078</th>\n      <td>4884</td>\n      <td>DIST</td>\n      <td>461.0</td>\n      <td>6.0</td>\n      <td>AC</td>\n      <td>1963.0</td>\n      <td>AgC</td>\n      <td>8000</td>\n      <td>NE 73RD ST</td>\n      <td>25</td>\n      <td>NEIGHBORHOOD ACCESS</td>\n      <td>0.666667</td>\n    </tr>\n  </tbody>\n</table>\n</div>"
     },
     "metadata": {},
     "execution_count": 122
    }
   ],
   "source": [
    "#Finding pipes installed on 73rd st the same year as the break\n",
    "break_4_4_08 = pipes[(pipes[\"FULL_STRNA\"] == \"NE 73RD ST\") & (pipes[\"INSTYEAR\"] == 2008)]\n",
    "print(break_4_4_08)\n",
    "#Finding earlier installed pipes with the same attributes as the broken pipe\n",
    "nearby7 = pipes[(pipes[\"FULL_STRNA\"] == \"NE 73RD ST\") & (pipes[\"INSTYEAR\"] < 2008) & (pipes[\"DIAMETER\"] == 6) & (pipes[\"MATERIAL\"] == \"AC\") & (pipes[\"Dist_Rail\"] == 8000)]\n",
    "nearby7\n",
    "#Two possible years, 1959 and 1963"
   ]
  },
  {
   "cell_type": "code",
   "execution_count": 134,
   "metadata": {
    "tags": []
   },
   "outputs": [
    {
     "output_type": "stream",
     "name": "stdout",
     "text": "       FID_WA_Mai  TYPE  LENGTH  DIAMETER MATERIAL  INSTYEAR MUSYM  Dist_Rail  \\\n8593         1482  DIST     4.0       8.0       DI    2009.0   AmC      15000   \n8611         1484  DIST   265.0       8.0       DI    2009.0   AmC      15000   \n8620         1485  DIST     3.0       8.0       DI    2009.0   AmC      15000   \n8621         1486  DIST     3.0       8.0       DI    2009.0   AmC      15000   \n8622         1487  DIST     3.0       8.0       DI    2009.0   AmC      15000   \n8676         1502  DIST    59.0       8.0       DI    2009.0   AmC      15000   \n8680         1503  DIST    54.0       8.0       DI    2009.0   AmC      15000   \n36531        6146  DIST    52.0       8.0       DI    2009.0   AmC      15000   \n39054        6895  DIST   209.0       8.0       DI    2009.0   AmC      14000   \n\n      FULL_STRNA SPEED           FUNC_CLASS     SLOPE  \n8593      2ND ST    25  NEIGHBORHOOD ACCESS  2.000000  \n8611      2ND ST    25  NEIGHBORHOOD ACCESS  1.555556  \n8620      2ND ST    25  NEIGHBORHOOD ACCESS  2.000000  \n8621      2ND ST    25  NEIGHBORHOOD ACCESS  2.000000  \n8622      2ND ST    25  NEIGHBORHOOD ACCESS  2.000000  \n8676      2ND ST    25  NEIGHBORHOOD ACCESS  1.250000  \n8680      2ND ST    25  NEIGHBORHOOD ACCESS  1.666667  \n36531     2ND ST    25  NEIGHBORHOOD ACCESS  1.000000  \n39054     2ND ST    25  NEIGHBORHOOD ACCESS  0.000000  \n"
    },
    {
     "output_type": "execute_result",
     "data": {
      "text/plain": "       FID_WA_Mai  TYPE  LENGTH  DIAMETER MATERIAL  INSTYEAR MUSYM  Dist_Rail  \\\n6354         1097  DIST    23.0       6.0       AC    1960.0   AmC      14000   \n6356         1099  DIST    39.0       6.0       AC    1949.0   AmC      14000   \n6397         1107  DIST    42.0       6.0       AC    1949.0   AmC      14000   \n20843        3450  DIST   488.0       6.0       AC    1949.0   AmC      14000   \n\n      FULL_STRNA SPEED           FUNC_CLASS     SLOPE  \n6354      2ND ST    25  NEIGHBORHOOD ACCESS  1.000000  \n6356      2ND ST    25  NEIGHBORHOOD ACCESS  2.400000  \n6397      2ND ST    25  NEIGHBORHOOD ACCESS  2.000000  \n20843     2ND ST    25  NEIGHBORHOOD ACCESS  1.136364  ",
      "text/html": "<div>\n<style scoped>\n    .dataframe tbody tr th:only-of-type {\n        vertical-align: middle;\n    }\n\n    .dataframe tbody tr th {\n        vertical-align: top;\n    }\n\n    .dataframe thead th {\n        text-align: right;\n    }\n</style>\n<table border=\"1\" class=\"dataframe\">\n  <thead>\n    <tr style=\"text-align: right;\">\n      <th></th>\n      <th>FID_WA_Mai</th>\n      <th>TYPE</th>\n      <th>LENGTH</th>\n      <th>DIAMETER</th>\n      <th>MATERIAL</th>\n      <th>INSTYEAR</th>\n      <th>MUSYM</th>\n      <th>Dist_Rail</th>\n      <th>FULL_STRNA</th>\n      <th>SPEED</th>\n      <th>FUNC_CLASS</th>\n      <th>SLOPE</th>\n    </tr>\n  </thead>\n  <tbody>\n    <tr>\n      <th>6354</th>\n      <td>1097</td>\n      <td>DIST</td>\n      <td>23.0</td>\n      <td>6.0</td>\n      <td>AC</td>\n      <td>1960.0</td>\n      <td>AmC</td>\n      <td>14000</td>\n      <td>2ND ST</td>\n      <td>25</td>\n      <td>NEIGHBORHOOD ACCESS</td>\n      <td>1.000000</td>\n    </tr>\n    <tr>\n      <th>6356</th>\n      <td>1099</td>\n      <td>DIST</td>\n      <td>39.0</td>\n      <td>6.0</td>\n      <td>AC</td>\n      <td>1949.0</td>\n      <td>AmC</td>\n      <td>14000</td>\n      <td>2ND ST</td>\n      <td>25</td>\n      <td>NEIGHBORHOOD ACCESS</td>\n      <td>2.400000</td>\n    </tr>\n    <tr>\n      <th>6397</th>\n      <td>1107</td>\n      <td>DIST</td>\n      <td>42.0</td>\n      <td>6.0</td>\n      <td>AC</td>\n      <td>1949.0</td>\n      <td>AmC</td>\n      <td>14000</td>\n      <td>2ND ST</td>\n      <td>25</td>\n      <td>NEIGHBORHOOD ACCESS</td>\n      <td>2.000000</td>\n    </tr>\n    <tr>\n      <th>20843</th>\n      <td>3450</td>\n      <td>DIST</td>\n      <td>488.0</td>\n      <td>6.0</td>\n      <td>AC</td>\n      <td>1949.0</td>\n      <td>AmC</td>\n      <td>14000</td>\n      <td>2ND ST</td>\n      <td>25</td>\n      <td>NEIGHBORHOOD ACCESS</td>\n      <td>1.136364</td>\n    </tr>\n  </tbody>\n</table>\n</div>"
     },
     "metadata": {},
     "execution_count": 134
    }
   ],
   "source": [
    "#Could have used pipes on 2nd st or 5th ave, only pipes installed on or after 2008 on 2nd st \n",
    "break_4_18_08 = pipes[(pipes[\"FULL_STRNA\"] == \"2ND ST\") & (pipes[\"INSTYEAR\"] >= 2008)]\n",
    "print(break_4_18_08)\n",
    "#Find pipes installed before 2008 with same attributes as broken pipe\n",
    "nearby8 = pipes[(pipes[\"FULL_STRNA\"] == \"2ND ST\") & (pipes[\"INSTYEAR\"] < 2008) & (pipes[\"DIAMETER\"] == 6) & (pipes[\"MATERIAL\"] == \"AC\") & (pipes[\"Dist_Rail\"] == 14000)]\n",
    "nearby8\n",
    "#Two possible years, 1960 and 1949. Most likely 1949"
   ]
  },
  {
   "cell_type": "code",
   "execution_count": 135,
   "metadata": {},
   "outputs": [
    {
     "output_type": "execute_result",
     "data": {
      "text/plain": "       FID_WA_Mai  TYPE  LENGTH  DIAMETER MATERIAL  INSTYEAR MUSYM  Dist_Rail  \\\n6909         1219  DIST   766.0       8.0       AC    1977.0   InC      12000   \n6935         1220  DIST   716.0       8.0       CI    1943.0   InC      12000   \n6962         1221  DIST     6.0       8.0       CI    1943.0   InC      12000   \n6963         1222  DIST     1.0       8.0       DI    1977.0   InC      12000   \n12268        2040  DIST   212.0       4.0       AC       NaN   InC      12000   \n41013        7482  DIST     2.0       4.0       AC       NaN   InC      12000   \n\n      FULL_STRNA SPEED           FUNC_CLASS     SLOPE  \n6909      5TH PL    25            COLLECTOR  0.961538  \n6935      5TH PL    25            COLLECTOR  1.074074  \n6962      5TH PL    25            COLLECTOR  2.000000  \n6963      5TH PL    25            COLLECTOR  2.000000  \n12268     5TH PL    25  NEIGHBORHOOD ACCESS  0.800000  \n41013     5TH PL    25  NEIGHBORHOOD ACCESS  1.333333  ",
      "text/html": "<div>\n<style scoped>\n    .dataframe tbody tr th:only-of-type {\n        vertical-align: middle;\n    }\n\n    .dataframe tbody tr th {\n        vertical-align: top;\n    }\n\n    .dataframe thead th {\n        text-align: right;\n    }\n</style>\n<table border=\"1\" class=\"dataframe\">\n  <thead>\n    <tr style=\"text-align: right;\">\n      <th></th>\n      <th>FID_WA_Mai</th>\n      <th>TYPE</th>\n      <th>LENGTH</th>\n      <th>DIAMETER</th>\n      <th>MATERIAL</th>\n      <th>INSTYEAR</th>\n      <th>MUSYM</th>\n      <th>Dist_Rail</th>\n      <th>FULL_STRNA</th>\n      <th>SPEED</th>\n      <th>FUNC_CLASS</th>\n      <th>SLOPE</th>\n    </tr>\n  </thead>\n  <tbody>\n    <tr>\n      <th>6909</th>\n      <td>1219</td>\n      <td>DIST</td>\n      <td>766.0</td>\n      <td>8.0</td>\n      <td>AC</td>\n      <td>1977.0</td>\n      <td>InC</td>\n      <td>12000</td>\n      <td>5TH PL</td>\n      <td>25</td>\n      <td>COLLECTOR</td>\n      <td>0.961538</td>\n    </tr>\n    <tr>\n      <th>6935</th>\n      <td>1220</td>\n      <td>DIST</td>\n      <td>716.0</td>\n      <td>8.0</td>\n      <td>CI</td>\n      <td>1943.0</td>\n      <td>InC</td>\n      <td>12000</td>\n      <td>5TH PL</td>\n      <td>25</td>\n      <td>COLLECTOR</td>\n      <td>1.074074</td>\n    </tr>\n    <tr>\n      <th>6962</th>\n      <td>1221</td>\n      <td>DIST</td>\n      <td>6.0</td>\n      <td>8.0</td>\n      <td>CI</td>\n      <td>1943.0</td>\n      <td>InC</td>\n      <td>12000</td>\n      <td>5TH PL</td>\n      <td>25</td>\n      <td>COLLECTOR</td>\n      <td>2.000000</td>\n    </tr>\n    <tr>\n      <th>6963</th>\n      <td>1222</td>\n      <td>DIST</td>\n      <td>1.0</td>\n      <td>8.0</td>\n      <td>DI</td>\n      <td>1977.0</td>\n      <td>InC</td>\n      <td>12000</td>\n      <td>5TH PL</td>\n      <td>25</td>\n      <td>COLLECTOR</td>\n      <td>2.000000</td>\n    </tr>\n    <tr>\n      <th>12268</th>\n      <td>2040</td>\n      <td>DIST</td>\n      <td>212.0</td>\n      <td>4.0</td>\n      <td>AC</td>\n      <td>NaN</td>\n      <td>InC</td>\n      <td>12000</td>\n      <td>5TH PL</td>\n      <td>25</td>\n      <td>NEIGHBORHOOD ACCESS</td>\n      <td>0.800000</td>\n    </tr>\n    <tr>\n      <th>41013</th>\n      <td>7482</td>\n      <td>DIST</td>\n      <td>2.0</td>\n      <td>4.0</td>\n      <td>AC</td>\n      <td>NaN</td>\n      <td>InC</td>\n      <td>12000</td>\n      <td>5TH PL</td>\n      <td>25</td>\n      <td>NEIGHBORHOOD ACCESS</td>\n      <td>1.333333</td>\n    </tr>\n  </tbody>\n</table>\n</div>"
     },
     "metadata": {},
     "execution_count": 135
    }
   ],
   "source": [
    "break_5_2_08 = pipes[(pipes[\"FULL_STRNA\"] == \"5TH PL\")]\n",
    "break_5_2_08\n",
    "#Only six pipes on 5th Pl, relevent pipes do not have install year"
   ]
  },
  {
   "cell_type": "code",
   "execution_count": 144,
   "metadata": {
    "tags": []
   },
   "outputs": [
    {
     "output_type": "stream",
     "name": "stdout",
     "text": "       FID_WA_Mai  TYPE  LENGTH  DIAMETER MATERIAL  INSTYEAR MUSYM  Dist_Rail  \\\n14025        2339  DIST    49.0       8.0       DI    2009.0   AmC      15000   \n14028        2340  DIST   171.0       8.0       DI    2009.0   AmC      15000   \n20806        3446  DIST     1.0       8.0       DI    2009.0   AmC      15000   \n20807        3447  DIST    62.0       8.0       DI    2009.0   AmC      15000   \n20937        3460  DIST     1.0       8.0       DI    2009.0   AmC      15000   \n20938        3461  DIST     2.0       8.0       DI    2009.0   AmC      15000   \n\n      FULL_STRNA SPEED           FUNC_CLASS     SLOPE  \n14025     1ST ST    25  NEIGHBORHOOD ACCESS  1.666667  \n14028     1ST ST    25  NEIGHBORHOOD ACCESS  1.800000  \n20806     1ST ST    25  NEIGHBORHOOD ACCESS  2.000000  \n20807     1ST ST    25  NEIGHBORHOOD ACCESS  1.400000  \n20937     1ST ST    25  NEIGHBORHOOD ACCESS  2.000000  \n20938     1ST ST    25  NEIGHBORHOOD ACCESS  2.000000  \n"
    },
    {
     "output_type": "execute_result",
     "data": {
      "text/plain": "       FID_WA_Mai  TYPE  LENGTH  DIAMETER MATERIAL  INSTYEAR MUSYM  Dist_Rail  \\\n12177        2030  DIST   484.0       6.0       AC    1960.0   AmC      15000   \n\n      FULL_STRNA SPEED           FUNC_CLASS     SLOPE  \n12177     1ST ST    25  NEIGHBORHOOD ACCESS  2.148148  ",
      "text/html": "<div>\n<style scoped>\n    .dataframe tbody tr th:only-of-type {\n        vertical-align: middle;\n    }\n\n    .dataframe tbody tr th {\n        vertical-align: top;\n    }\n\n    .dataframe thead th {\n        text-align: right;\n    }\n</style>\n<table border=\"1\" class=\"dataframe\">\n  <thead>\n    <tr style=\"text-align: right;\">\n      <th></th>\n      <th>FID_WA_Mai</th>\n      <th>TYPE</th>\n      <th>LENGTH</th>\n      <th>DIAMETER</th>\n      <th>MATERIAL</th>\n      <th>INSTYEAR</th>\n      <th>MUSYM</th>\n      <th>Dist_Rail</th>\n      <th>FULL_STRNA</th>\n      <th>SPEED</th>\n      <th>FUNC_CLASS</th>\n      <th>SLOPE</th>\n    </tr>\n  </thead>\n  <tbody>\n    <tr>\n      <th>12177</th>\n      <td>2030</td>\n      <td>DIST</td>\n      <td>484.0</td>\n      <td>6.0</td>\n      <td>AC</td>\n      <td>1960.0</td>\n      <td>AmC</td>\n      <td>15000</td>\n      <td>1ST ST</td>\n      <td>25</td>\n      <td>NEIGHBORHOOD ACCESS</td>\n      <td>2.148148</td>\n    </tr>\n  </tbody>\n</table>\n</div>"
     },
     "metadata": {},
     "execution_count": 144
    }
   ],
   "source": [
    "#Could have been 1st st or 13th ave, 1st st had installs in 2009, 13th ave did not\n",
    "break_7_29_08 = pipes[(pipes[\"FULL_STRNA\"] == \"1ST ST\") & (pipes[\"INSTYEAR\"] == 2009)]\n",
    "print(break_7_29_08)\n",
    "#Find pipes that were installed before 2008 with the same attributes at the pipe that broke\n",
    "nearby10 = pipes[(pipes[\"FULL_STRNA\"] == \"1ST ST\") & (pipes[\"INSTYEAR\"] < 2009) & (pipes[\"DIAMETER\"] == 6) & (pipes[\"MATERIAL\"] == \"AC\") & (pipes[\"Dist_Rail\"] == 15000)]\n",
    "nearby10\n",
    "#End with install year of 1960"
   ]
  },
  {
   "cell_type": "code",
   "execution_count": 155,
   "metadata": {
    "tags": []
   },
   "outputs": [
    {
     "output_type": "stream",
     "name": "stdout",
     "text": "       FID_WA_Mai  TYPE  LENGTH  DIAMETER MATERIAL  INSTYEAR MUSYM  Dist_Rail  \\\n18535        3045  DIST    11.4       8.0       DI    2008.0   AgC       9000   \n33640        5644  DIST   275.0      20.0       DI    2008.0   AgC       9000   \n33648        5645  DIST     6.0      20.0       DI    2008.0   AgC       9000   \n33649        5646  DIST   335.0      20.0       DI    2008.0   AgC       9000   \n36077        6052  DIST   332.0       8.0       DI    2008.0   AgC       9000   \n36211        6081  DIST     6.0      20.0       DI    2008.0   AgC       9000   \n36212        6082  DIST     6.0       8.0       DI    2008.0   AgC       9000   \n36213        6083  DIST    52.0       8.0       DI    2008.0   AgC       9000   \n36215        6084  DIST    28.0       6.0       DI    2008.0   AgC       9000   \n36219        6085  DIST     5.5       8.0       DI    2008.0   AgC       9000   \n\n       FULL_STRNA SPEED FUNC_CLASS  SLOPE  \n18535  NE 80TH ST    25  COLLECTOR    2.0  \n33640  NE 80TH ST    25  COLLECTOR    2.0  \n33648  NE 80TH ST    25  COLLECTOR    2.0  \n33649  NE 80TH ST    25  COLLECTOR    2.5  \n36077  NE 80TH ST    25  COLLECTOR    5.0  \n36211  NE 80TH ST    25  COLLECTOR    2.8  \n36212  NE 80TH ST    25  COLLECTOR    0.0  \n36213  NE 80TH ST    25  COLLECTOR    1.0  \n36215  NE 80TH ST    25  COLLECTOR    1.0  \n36219  NE 80TH ST    25  COLLECTOR    1.0  \n"
    },
    {
     "output_type": "execute_result",
     "data": {
      "text/plain": "       FID_WA_Mai  TYPE  LENGTH  DIAMETER MATERIAL  INSTYEAR MUSYM  Dist_Rail  \\\n18630        3056  DIST   171.0       8.0       DI    1979.0   AgC       8000   \n32000        5339  DIST     3.0       8.0       DI    2006.0   AgC       7000   \n36290        6108  DIST   259.0       8.0       DI    2006.0   AgC       7000   \n\n       FULL_STRNA SPEED FUNC_CLASS     SLOPE  \n18630  NE 80TH ST    25  COLLECTOR  0.333333  \n32000  NE 80TH ST    25  COLLECTOR  1.000000  \n36290  NE 80TH ST    25  COLLECTOR  1.000000  ",
      "text/html": "<div>\n<style scoped>\n    .dataframe tbody tr th:only-of-type {\n        vertical-align: middle;\n    }\n\n    .dataframe tbody tr th {\n        vertical-align: top;\n    }\n\n    .dataframe thead th {\n        text-align: right;\n    }\n</style>\n<table border=\"1\" class=\"dataframe\">\n  <thead>\n    <tr style=\"text-align: right;\">\n      <th></th>\n      <th>FID_WA_Mai</th>\n      <th>TYPE</th>\n      <th>LENGTH</th>\n      <th>DIAMETER</th>\n      <th>MATERIAL</th>\n      <th>INSTYEAR</th>\n      <th>MUSYM</th>\n      <th>Dist_Rail</th>\n      <th>FULL_STRNA</th>\n      <th>SPEED</th>\n      <th>FUNC_CLASS</th>\n      <th>SLOPE</th>\n    </tr>\n  </thead>\n  <tbody>\n    <tr>\n      <th>18630</th>\n      <td>3056</td>\n      <td>DIST</td>\n      <td>171.0</td>\n      <td>8.0</td>\n      <td>DI</td>\n      <td>1979.0</td>\n      <td>AgC</td>\n      <td>8000</td>\n      <td>NE 80TH ST</td>\n      <td>25</td>\n      <td>COLLECTOR</td>\n      <td>0.333333</td>\n    </tr>\n    <tr>\n      <th>32000</th>\n      <td>5339</td>\n      <td>DIST</td>\n      <td>3.0</td>\n      <td>8.0</td>\n      <td>DI</td>\n      <td>2006.0</td>\n      <td>AgC</td>\n      <td>7000</td>\n      <td>NE 80TH ST</td>\n      <td>25</td>\n      <td>COLLECTOR</td>\n      <td>1.000000</td>\n    </tr>\n    <tr>\n      <th>36290</th>\n      <td>6108</td>\n      <td>DIST</td>\n      <td>259.0</td>\n      <td>8.0</td>\n      <td>DI</td>\n      <td>2006.0</td>\n      <td>AgC</td>\n      <td>7000</td>\n      <td>NE 80TH ST</td>\n      <td>25</td>\n      <td>COLLECTOR</td>\n      <td>1.000000</td>\n    </tr>\n  </tbody>\n</table>\n</div>"
     },
     "metadata": {},
     "execution_count": 155
    }
   ],
   "source": [
    "#Find pipes that were installed on 80th st in 2008\n",
    "break_7_30_08 = pipes[(pipes[\"FULL_STRNA\"] == \"NE 80TH ST\") & (pipes[\"INSTYEAR\"] == 2008)]\n",
    "print(break_7_30_08)\n",
    "#None of the passed installed pipes had the same rail distance but was close, 9000 and 8000 which could theoretically be as close as 7999 and 8000 ft\n",
    "nearby11 = pipes[(pipes[\"FULL_STRNA\"] == \"NE 80TH ST\") & (pipes[\"INSTYEAR\"] < 2008) & (pipes[\"DIAMETER\"] == 8) & (pipes[\"MATERIAL\"] == \"DI\")]\n",
    "nearby11\n",
    "#End with install year of 1979"
   ]
  },
  {
   "cell_type": "code",
   "execution_count": 165,
   "metadata": {},
   "outputs": [
    {
     "output_type": "execute_result",
     "data": {
      "text/plain": "       FID_WA_Mai  TYPE  LENGTH  DIAMETER MATERIAL  INSTYEAR MUSYM  Dist_Rail  \\\n3970          732  DIST     2.0      12.0       DI    1990.0   AgC       3000   \n3971          733  DIST     3.0      12.0       DI    1990.0   AgC       3000   \n3972          734  DIST     2.0       8.0       DI    1980.0   AgC       3000   \n3973          735  DIST   192.0       8.0       DI    1980.0   AgC       3000   \n8297         1418  DIST   295.0      12.0       DI    1990.0   AgC       3000   \n8302         1419  DIST   243.0       8.0       DI    1978.0   AgC       3000   \n8312         1420  DIST    56.0      12.0       DI    1990.0   AgC       3000   \n8315         1421  DIST     2.0       8.0       DI    1978.0   AgC       3000   \n8443         1444  DIST    93.0       8.0       DI    1979.0   InC       3000   \n8448         1447  DIST   100.0       8.0       DI    1980.0   AgC       3000   \n8454         1448  DIST     1.0       8.0       DI    1980.0   AgC       3000   \n17697        2897  DIST   278.0      12.0       DI    1990.0   AgC       3000   \n17706        2900  DIST   296.0       8.0       DI    1980.0   AgC       3000   \n20336        3374  DIST   241.0       4.0       AC    1965.0   InC       8000   \n21340        3513  DIST   285.0       0.0      UNK       NaN   RdC      11000   \n40190        7224  DIST    55.0       8.0       DI    1980.0   AgC       3000   \n\n        FULL_STRNA SPEED           FUNC_CLASS     SLOPE  \n3970   NE 119TH ST    10  NEIGHBORHOOD ACCESS  1.000000  \n3971   NE 119TH ST    10  NEIGHBORHOOD ACCESS  1.000000  \n3972   NE 119TH ST    10  NEIGHBORHOOD ACCESS  0.000000  \n3973   NE 119TH ST    10  NEIGHBORHOOD ACCESS  1.000000  \n8297   NE 119TH ST    10  NEIGHBORHOOD ACCESS  1.200000  \n8302   NE 119TH ST    10  NEIGHBORHOOD ACCESS  2.800000  \n8312   NE 119TH ST    10  NEIGHBORHOOD ACCESS  2.000000  \n8315   NE 119TH ST    10  NEIGHBORHOOD ACCESS  2.000000  \n8443   NE 119TH ST    10  NEIGHBORHOOD ACCESS  1.000000  \n8448   NE 119TH ST    10  NEIGHBORHOOD ACCESS  1.166667  \n8454   NE 119TH ST    10  NEIGHBORHOOD ACCESS  1.000000  \n17697  NE 119TH ST    10  NEIGHBORHOOD ACCESS  1.333333  \n17706  NE 119TH ST    10  NEIGHBORHOOD ACCESS  1.250000  \n20336  NE 119TH ST    25  NEIGHBORHOOD ACCESS  1.200000  \n21340  NE 119TH ST    10  NEIGHBORHOOD ACCESS  2.666667  \n40190  NE 119TH ST    10  NEIGHBORHOOD ACCESS  1.250000  ",
      "text/html": "<div>\n<style scoped>\n    .dataframe tbody tr th:only-of-type {\n        vertical-align: middle;\n    }\n\n    .dataframe tbody tr th {\n        vertical-align: top;\n    }\n\n    .dataframe thead th {\n        text-align: right;\n    }\n</style>\n<table border=\"1\" class=\"dataframe\">\n  <thead>\n    <tr style=\"text-align: right;\">\n      <th></th>\n      <th>FID_WA_Mai</th>\n      <th>TYPE</th>\n      <th>LENGTH</th>\n      <th>DIAMETER</th>\n      <th>MATERIAL</th>\n      <th>INSTYEAR</th>\n      <th>MUSYM</th>\n      <th>Dist_Rail</th>\n      <th>FULL_STRNA</th>\n      <th>SPEED</th>\n      <th>FUNC_CLASS</th>\n      <th>SLOPE</th>\n    </tr>\n  </thead>\n  <tbody>\n    <tr>\n      <th>3970</th>\n      <td>732</td>\n      <td>DIST</td>\n      <td>2.0</td>\n      <td>12.0</td>\n      <td>DI</td>\n      <td>1990.0</td>\n      <td>AgC</td>\n      <td>3000</td>\n      <td>NE 119TH ST</td>\n      <td>10</td>\n      <td>NEIGHBORHOOD ACCESS</td>\n      <td>1.000000</td>\n    </tr>\n    <tr>\n      <th>3971</th>\n      <td>733</td>\n      <td>DIST</td>\n      <td>3.0</td>\n      <td>12.0</td>\n      <td>DI</td>\n      <td>1990.0</td>\n      <td>AgC</td>\n      <td>3000</td>\n      <td>NE 119TH ST</td>\n      <td>10</td>\n      <td>NEIGHBORHOOD ACCESS</td>\n      <td>1.000000</td>\n    </tr>\n    <tr>\n      <th>3972</th>\n      <td>734</td>\n      <td>DIST</td>\n      <td>2.0</td>\n      <td>8.0</td>\n      <td>DI</td>\n      <td>1980.0</td>\n      <td>AgC</td>\n      <td>3000</td>\n      <td>NE 119TH ST</td>\n      <td>10</td>\n      <td>NEIGHBORHOOD ACCESS</td>\n      <td>0.000000</td>\n    </tr>\n    <tr>\n      <th>3973</th>\n      <td>735</td>\n      <td>DIST</td>\n      <td>192.0</td>\n      <td>8.0</td>\n      <td>DI</td>\n      <td>1980.0</td>\n      <td>AgC</td>\n      <td>3000</td>\n      <td>NE 119TH ST</td>\n      <td>10</td>\n      <td>NEIGHBORHOOD ACCESS</td>\n      <td>1.000000</td>\n    </tr>\n    <tr>\n      <th>8297</th>\n      <td>1418</td>\n      <td>DIST</td>\n      <td>295.0</td>\n      <td>12.0</td>\n      <td>DI</td>\n      <td>1990.0</td>\n      <td>AgC</td>\n      <td>3000</td>\n      <td>NE 119TH ST</td>\n      <td>10</td>\n      <td>NEIGHBORHOOD ACCESS</td>\n      <td>1.200000</td>\n    </tr>\n    <tr>\n      <th>8302</th>\n      <td>1419</td>\n      <td>DIST</td>\n      <td>243.0</td>\n      <td>8.0</td>\n      <td>DI</td>\n      <td>1978.0</td>\n      <td>AgC</td>\n      <td>3000</td>\n      <td>NE 119TH ST</td>\n      <td>10</td>\n      <td>NEIGHBORHOOD ACCESS</td>\n      <td>2.800000</td>\n    </tr>\n    <tr>\n      <th>8312</th>\n      <td>1420</td>\n      <td>DIST</td>\n      <td>56.0</td>\n      <td>12.0</td>\n      <td>DI</td>\n      <td>1990.0</td>\n      <td>AgC</td>\n      <td>3000</td>\n      <td>NE 119TH ST</td>\n      <td>10</td>\n      <td>NEIGHBORHOOD ACCESS</td>\n      <td>2.000000</td>\n    </tr>\n    <tr>\n      <th>8315</th>\n      <td>1421</td>\n      <td>DIST</td>\n      <td>2.0</td>\n      <td>8.0</td>\n      <td>DI</td>\n      <td>1978.0</td>\n      <td>AgC</td>\n      <td>3000</td>\n      <td>NE 119TH ST</td>\n      <td>10</td>\n      <td>NEIGHBORHOOD ACCESS</td>\n      <td>2.000000</td>\n    </tr>\n    <tr>\n      <th>8443</th>\n      <td>1444</td>\n      <td>DIST</td>\n      <td>93.0</td>\n      <td>8.0</td>\n      <td>DI</td>\n      <td>1979.0</td>\n      <td>InC</td>\n      <td>3000</td>\n      <td>NE 119TH ST</td>\n      <td>10</td>\n      <td>NEIGHBORHOOD ACCESS</td>\n      <td>1.000000</td>\n    </tr>\n    <tr>\n      <th>8448</th>\n      <td>1447</td>\n      <td>DIST</td>\n      <td>100.0</td>\n      <td>8.0</td>\n      <td>DI</td>\n      <td>1980.0</td>\n      <td>AgC</td>\n      <td>3000</td>\n      <td>NE 119TH ST</td>\n      <td>10</td>\n      <td>NEIGHBORHOOD ACCESS</td>\n      <td>1.166667</td>\n    </tr>\n    <tr>\n      <th>8454</th>\n      <td>1448</td>\n      <td>DIST</td>\n      <td>1.0</td>\n      <td>8.0</td>\n      <td>DI</td>\n      <td>1980.0</td>\n      <td>AgC</td>\n      <td>3000</td>\n      <td>NE 119TH ST</td>\n      <td>10</td>\n      <td>NEIGHBORHOOD ACCESS</td>\n      <td>1.000000</td>\n    </tr>\n    <tr>\n      <th>17697</th>\n      <td>2897</td>\n      <td>DIST</td>\n      <td>278.0</td>\n      <td>12.0</td>\n      <td>DI</td>\n      <td>1990.0</td>\n      <td>AgC</td>\n      <td>3000</td>\n      <td>NE 119TH ST</td>\n      <td>10</td>\n      <td>NEIGHBORHOOD ACCESS</td>\n      <td>1.333333</td>\n    </tr>\n    <tr>\n      <th>17706</th>\n      <td>2900</td>\n      <td>DIST</td>\n      <td>296.0</td>\n      <td>8.0</td>\n      <td>DI</td>\n      <td>1980.0</td>\n      <td>AgC</td>\n      <td>3000</td>\n      <td>NE 119TH ST</td>\n      <td>10</td>\n      <td>NEIGHBORHOOD ACCESS</td>\n      <td>1.250000</td>\n    </tr>\n    <tr>\n      <th>20336</th>\n      <td>3374</td>\n      <td>DIST</td>\n      <td>241.0</td>\n      <td>4.0</td>\n      <td>AC</td>\n      <td>1965.0</td>\n      <td>InC</td>\n      <td>8000</td>\n      <td>NE 119TH ST</td>\n      <td>25</td>\n      <td>NEIGHBORHOOD ACCESS</td>\n      <td>1.200000</td>\n    </tr>\n    <tr>\n      <th>21340</th>\n      <td>3513</td>\n      <td>DIST</td>\n      <td>285.0</td>\n      <td>0.0</td>\n      <td>UNK</td>\n      <td>NaN</td>\n      <td>RdC</td>\n      <td>11000</td>\n      <td>NE 119TH ST</td>\n      <td>10</td>\n      <td>NEIGHBORHOOD ACCESS</td>\n      <td>2.666667</td>\n    </tr>\n    <tr>\n      <th>40190</th>\n      <td>7224</td>\n      <td>DIST</td>\n      <td>55.0</td>\n      <td>8.0</td>\n      <td>DI</td>\n      <td>1980.0</td>\n      <td>AgC</td>\n      <td>3000</td>\n      <td>NE 119TH ST</td>\n      <td>10</td>\n      <td>NEIGHBORHOOD ACCESS</td>\n      <td>1.250000</td>\n    </tr>\n  </tbody>\n</table>\n</div>"
     },
     "metadata": {},
     "execution_count": 165
    }
   ],
   "source": [
    "#No pipes installed in 2008 nor after on 119th st, but 110th st does not have pipes that have the same attributes as the pipe that broke\n",
    "break_9_17_08 = pipes[(pipes[\"FULL_STRNA\"] == \"NE 119TH ST\")]\n",
    "break_9_17_08\n",
    "#End with install year of 1965?"
   ]
  }
 ]
}