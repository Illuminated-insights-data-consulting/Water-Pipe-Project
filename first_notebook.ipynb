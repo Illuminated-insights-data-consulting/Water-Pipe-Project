{
 "metadata": {
  "language_info": {
   "codemirror_mode": {
    "name": "ipython",
    "version": 3
   },
   "file_extension": ".py",
   "mimetype": "text/x-python",
   "name": "python",
   "nbconvert_exporter": "python",
   "pygments_lexer": "ipython3",
   "version": "3.8.3-final"
  },
  "orig_nbformat": 2,
  "kernelspec": {
   "name": "Python 3.8.3 64-bit ('base': conda)",
   "display_name": "Python 3.8.3 64-bit ('base': conda)",
   "metadata": {
    "interpreter": {
     "hash": "f0f2000245a5d5ee528d4e9f11ad9135ff39457be6eb9151138e66b9d729d8a3"
    }
   }
  }
 },
 "nbformat": 4,
 "nbformat_minor": 2,
 "cells": [
  {
   "source": [
    "# Alright lets see what this is all about\n",
    "import numpy as np\n",
    "import pandas as pd\n",
    "import sklearn \n",
    "\n"
   ],
   "cell_type": "code",
   "metadata": {
    "tags": []
   },
   "execution_count": 6,
   "outputs": []
  },
  {
   "cell_type": "code",
   "execution_count": 8,
   "metadata": {
    "tags": []
   },
   "outputs": [
    {
     "output_type": "execute_result",
     "data": {
      "text/plain": "   FID  FID_WA_Mai  TYPE  LENGTH  DIAMETER MATERIAL  INSTYEAR MUSYM  \\\n0    0           1  FIRE     2.0       8.0      UNK       NaN    Ur   \n1    1           2  FIRE     2.0       2.0      UNK    1992.0   AgC   \n2    2           3  FIRE     1.0       0.0      UNK       NaN   AgC   \n3    3           4  FIRE     3.0       6.0       DI    2005.0    Ur   \n4    4           5  FIRE   149.0       8.0       AC    1963.0    Ur   \n\n   Dist_Rail  SLP_CLASS               FULL_STRNA SPEED           FUNC_CLASS  \n0       6000        2.0             120TH AVE NE    25       MINOR ARTERIAL  \n1       7000        1.0              122ND LN NE    25  NEIGHBORHOOD ACCESS  \n2       6000        0.0             124TH AVE NE    35   PRINCIPAL ARTERIAL  \n3       4000        0.0  LAKE WASHINGTON BLVD NE    35   PRINCIPAL ARTERIAL  \n4       7000        6.0                                                      ",
      "text/html": "<div>\n<style scoped>\n    .dataframe tbody tr th:only-of-type {\n        vertical-align: middle;\n    }\n\n    .dataframe tbody tr th {\n        vertical-align: top;\n    }\n\n    .dataframe thead th {\n        text-align: right;\n    }\n</style>\n<table border=\"1\" class=\"dataframe\">\n  <thead>\n    <tr style=\"text-align: right;\">\n      <th></th>\n      <th>FID</th>\n      <th>FID_WA_Mai</th>\n      <th>TYPE</th>\n      <th>LENGTH</th>\n      <th>DIAMETER</th>\n      <th>MATERIAL</th>\n      <th>INSTYEAR</th>\n      <th>MUSYM</th>\n      <th>Dist_Rail</th>\n      <th>SLP_CLASS</th>\n      <th>FULL_STRNA</th>\n      <th>SPEED</th>\n      <th>FUNC_CLASS</th>\n    </tr>\n  </thead>\n  <tbody>\n    <tr>\n      <th>0</th>\n      <td>0</td>\n      <td>1</td>\n      <td>FIRE</td>\n      <td>2.0</td>\n      <td>8.0</td>\n      <td>UNK</td>\n      <td>NaN</td>\n      <td>Ur</td>\n      <td>6000</td>\n      <td>2.0</td>\n      <td>120TH AVE NE</td>\n      <td>25</td>\n      <td>MINOR ARTERIAL</td>\n    </tr>\n    <tr>\n      <th>1</th>\n      <td>1</td>\n      <td>2</td>\n      <td>FIRE</td>\n      <td>2.0</td>\n      <td>2.0</td>\n      <td>UNK</td>\n      <td>1992.0</td>\n      <td>AgC</td>\n      <td>7000</td>\n      <td>1.0</td>\n      <td>122ND LN NE</td>\n      <td>25</td>\n      <td>NEIGHBORHOOD ACCESS</td>\n    </tr>\n    <tr>\n      <th>2</th>\n      <td>2</td>\n      <td>3</td>\n      <td>FIRE</td>\n      <td>1.0</td>\n      <td>0.0</td>\n      <td>UNK</td>\n      <td>NaN</td>\n      <td>AgC</td>\n      <td>6000</td>\n      <td>0.0</td>\n      <td>124TH AVE NE</td>\n      <td>35</td>\n      <td>PRINCIPAL ARTERIAL</td>\n    </tr>\n    <tr>\n      <th>3</th>\n      <td>3</td>\n      <td>4</td>\n      <td>FIRE</td>\n      <td>3.0</td>\n      <td>6.0</td>\n      <td>DI</td>\n      <td>2005.0</td>\n      <td>Ur</td>\n      <td>4000</td>\n      <td>0.0</td>\n      <td>LAKE WASHINGTON BLVD NE</td>\n      <td>35</td>\n      <td>PRINCIPAL ARTERIAL</td>\n    </tr>\n    <tr>\n      <th>4</th>\n      <td>4</td>\n      <td>5</td>\n      <td>FIRE</td>\n      <td>149.0</td>\n      <td>8.0</td>\n      <td>AC</td>\n      <td>1963.0</td>\n      <td>Ur</td>\n      <td>7000</td>\n      <td>6.0</td>\n      <td></td>\n      <td></td>\n      <td></td>\n    </tr>\n  </tbody>\n</table>\n</div>"
     },
     "metadata": {},
     "execution_count": 8
    }
   ],
   "source": [
    "#LOAD GIS WATERMAIN AND BREAK DATA\n",
    "df = pd.read_csv('Kirk_All.csv')\n",
    "#df.dropna(inplace=True) # Are there any columns where we can deal with NA values?\n",
    "# Can we use imputation instead?\n",
    "# breaks = pd.read_csv('Kirk_Break_Data.csv')\n",
    "df['INSTYEAR'] = df['INSTYEAR'].map(lambda x: int((str(x)[-12:-8])), na_action='ignore')\n",
    "#df = pd.get_dummies(df)\n",
    "df.head()"
   ]
  },
  {
   "cell_type": "code",
   "execution_count": 13,
   "metadata": {},
   "outputs": [
    {
     "output_type": "execute_result",
     "data": {
      "text/plain": "       FID_WA_Mai  TYPE  LENGTH  DIAMETER MATERIAL  INSTYEAR MUSYM  Dist_Rail  \\\n0               1  FIRE     2.0       8.0      UNK       NaN    Ur       6000   \n1               2  FIRE     2.0       2.0      UNK    1992.0   AgC       7000   \n2               3  FIRE     1.0       0.0      UNK       NaN   AgC       6000   \n3               4  FIRE     3.0       6.0       DI    2005.0    Ur       4000   \n4               5  FIRE   149.0       8.0       AC    1963.0    Ur       7000   \n...           ...   ...     ...       ...      ...       ...   ...        ...   \n41816        3963  DIST     1.0      12.0       DI    1971.0    No       9000   \n41817        5622  DIST     1.0       8.0       DI    2003.0   AgC      10000   \n41818        5623  DIST     1.0       8.0       DI    2003.0   AgC      10000   \n41819        1093  DIST    83.0      12.0       DI    2009.0   AgC       5000   \n41820        6299  DIST    18.0      12.0       DI       NaN   AgC       5000   \n\n                    FULL_STRNA  SLP_CLASS SPEED           FUNC_CLASS  \n0                 120TH AVE NE        2.0    25       MINOR ARTERIAL  \n1                  122ND LN NE        1.0    25  NEIGHBORHOOD ACCESS  \n2                 124TH AVE NE        0.0    35   PRINCIPAL ARTERIAL  \n3      LAKE WASHINGTON BLVD NE        0.0    35   PRINCIPAL ARTERIAL  \n4                                     6.0                             \n...                        ...        ...   ...                  ...  \n41816             120TH AVE NE        0.0    25            COLLECTOR  \n41817             117TH AVE NE        2.0    25  NEIGHBORHOOD ACCESS  \n41818             117TH AVE NE        2.0    25  NEIGHBORHOOD ACCESS  \n41819              NE 115TH PL        0.0    35            COLLECTOR  \n41820              NE 115TH PL        0.0    35            COLLECTOR  \n\n[41821 rows x 12 columns]",
      "text/html": "<div>\n<style scoped>\n    .dataframe tbody tr th:only-of-type {\n        vertical-align: middle;\n    }\n\n    .dataframe tbody tr th {\n        vertical-align: top;\n    }\n\n    .dataframe thead th {\n        text-align: right;\n    }\n</style>\n<table border=\"1\" class=\"dataframe\">\n  <thead>\n    <tr style=\"text-align: right;\">\n      <th></th>\n      <th>FID_WA_Mai</th>\n      <th>TYPE</th>\n      <th>LENGTH</th>\n      <th>DIAMETER</th>\n      <th>MATERIAL</th>\n      <th>INSTYEAR</th>\n      <th>MUSYM</th>\n      <th>Dist_Rail</th>\n      <th>FULL_STRNA</th>\n      <th>SLP_CLASS</th>\n      <th>SPEED</th>\n      <th>FUNC_CLASS</th>\n    </tr>\n  </thead>\n  <tbody>\n    <tr>\n      <th>0</th>\n      <td>1</td>\n      <td>FIRE</td>\n      <td>2.0</td>\n      <td>8.0</td>\n      <td>UNK</td>\n      <td>NaN</td>\n      <td>Ur</td>\n      <td>6000</td>\n      <td>120TH AVE NE</td>\n      <td>2.0</td>\n      <td>25</td>\n      <td>MINOR ARTERIAL</td>\n    </tr>\n    <tr>\n      <th>1</th>\n      <td>2</td>\n      <td>FIRE</td>\n      <td>2.0</td>\n      <td>2.0</td>\n      <td>UNK</td>\n      <td>1992.0</td>\n      <td>AgC</td>\n      <td>7000</td>\n      <td>122ND LN NE</td>\n      <td>1.0</td>\n      <td>25</td>\n      <td>NEIGHBORHOOD ACCESS</td>\n    </tr>\n    <tr>\n      <th>2</th>\n      <td>3</td>\n      <td>FIRE</td>\n      <td>1.0</td>\n      <td>0.0</td>\n      <td>UNK</td>\n      <td>NaN</td>\n      <td>AgC</td>\n      <td>6000</td>\n      <td>124TH AVE NE</td>\n      <td>0.0</td>\n      <td>35</td>\n      <td>PRINCIPAL ARTERIAL</td>\n    </tr>\n    <tr>\n      <th>3</th>\n      <td>4</td>\n      <td>FIRE</td>\n      <td>3.0</td>\n      <td>6.0</td>\n      <td>DI</td>\n      <td>2005.0</td>\n      <td>Ur</td>\n      <td>4000</td>\n      <td>LAKE WASHINGTON BLVD NE</td>\n      <td>0.0</td>\n      <td>35</td>\n      <td>PRINCIPAL ARTERIAL</td>\n    </tr>\n    <tr>\n      <th>4</th>\n      <td>5</td>\n      <td>FIRE</td>\n      <td>149.0</td>\n      <td>8.0</td>\n      <td>AC</td>\n      <td>1963.0</td>\n      <td>Ur</td>\n      <td>7000</td>\n      <td></td>\n      <td>6.0</td>\n      <td></td>\n      <td></td>\n    </tr>\n    <tr>\n      <th>...</th>\n      <td>...</td>\n      <td>...</td>\n      <td>...</td>\n      <td>...</td>\n      <td>...</td>\n      <td>...</td>\n      <td>...</td>\n      <td>...</td>\n      <td>...</td>\n      <td>...</td>\n      <td>...</td>\n      <td>...</td>\n    </tr>\n    <tr>\n      <th>41816</th>\n      <td>3963</td>\n      <td>DIST</td>\n      <td>1.0</td>\n      <td>12.0</td>\n      <td>DI</td>\n      <td>1971.0</td>\n      <td>No</td>\n      <td>9000</td>\n      <td>120TH AVE NE</td>\n      <td>0.0</td>\n      <td>25</td>\n      <td>COLLECTOR</td>\n    </tr>\n    <tr>\n      <th>41817</th>\n      <td>5622</td>\n      <td>DIST</td>\n      <td>1.0</td>\n      <td>8.0</td>\n      <td>DI</td>\n      <td>2003.0</td>\n      <td>AgC</td>\n      <td>10000</td>\n      <td>117TH AVE NE</td>\n      <td>2.0</td>\n      <td>25</td>\n      <td>NEIGHBORHOOD ACCESS</td>\n    </tr>\n    <tr>\n      <th>41818</th>\n      <td>5623</td>\n      <td>DIST</td>\n      <td>1.0</td>\n      <td>8.0</td>\n      <td>DI</td>\n      <td>2003.0</td>\n      <td>AgC</td>\n      <td>10000</td>\n      <td>117TH AVE NE</td>\n      <td>2.0</td>\n      <td>25</td>\n      <td>NEIGHBORHOOD ACCESS</td>\n    </tr>\n    <tr>\n      <th>41819</th>\n      <td>1093</td>\n      <td>DIST</td>\n      <td>83.0</td>\n      <td>12.0</td>\n      <td>DI</td>\n      <td>2009.0</td>\n      <td>AgC</td>\n      <td>5000</td>\n      <td>NE 115TH PL</td>\n      <td>0.0</td>\n      <td>35</td>\n      <td>COLLECTOR</td>\n    </tr>\n    <tr>\n      <th>41820</th>\n      <td>6299</td>\n      <td>DIST</td>\n      <td>18.0</td>\n      <td>12.0</td>\n      <td>DI</td>\n      <td>NaN</td>\n      <td>AgC</td>\n      <td>5000</td>\n      <td>NE 115TH PL</td>\n      <td>0.0</td>\n      <td>35</td>\n      <td>COLLECTOR</td>\n    </tr>\n  </tbody>\n</table>\n<p>41821 rows × 12 columns</p>\n</div>"
     },
     "metadata": {},
     "execution_count": 13
    }
   ],
   "source": [
    "# EXTRACTING FEATURES\n",
    "features = ['FID_WA_Mai', 'TYPE', 'LENGTH', 'DIAMETER', 'MATERIAL', 'INSTYEAR', 'MUSYM', 'Dist_Rail', 'FULL_STRNA' , 'SLP_CLASS', 'SPEED', 'FUNC_CLASS']\n",
    "pipes = df[features]\n",
    "pipes"
   ]
  },
  {
   "cell_type": "code",
   "execution_count": 77,
   "metadata": {},
   "outputs": [
    {
     "output_type": "execute_result",
     "data": {
      "text/plain": "        Date            Location  Zone  Size Type  \\\n0        1/8         347 7th Ave   315     6   CI   \n1        1/9      696 16th Ave W   315     8   AC   \n2       1/21      740 16th Ave W   315     6   AC   \n3       2/25       10132 NE 59th   285     8   AC   \n4       3/16  18th Ave & 6th St.   450    12   AC   \n..       ...                 ...   ...   ...  ...   \n63  10/31/17    10830 NE 68th St   450     8   AC   \n64   5/23/18    11828 NE 75th St   650     6   AC   \n65   5/30/19    11828 NE 75th St   650     6   AC   \n66    6/3/19    10425 NE 58th St   450     6   AC   \n67   10/2/19   6109 106th Ave NE   450     6   AC   \n\n                           Comment  Year  Install_Year  \n0                              NaN  2004           NaN  \n1                              NaN  2004           NaN  \n2                              NaN  2004           NaN  \n3                             Leak  2004           NaN  \n4                             Leak  2004           NaN  \n..                             ...   ...           ...  \n63                      Full Break  2017           NaN  \n64                      Bead Break  2018           NaN  \n65  Break at abandoned service tap  2019           NaN  \n66                      Full Break  2019           NaN  \n67                      Full Break  2019           NaN  \n\n[68 rows x 8 columns]",
      "text/html": "<div>\n<style scoped>\n    .dataframe tbody tr th:only-of-type {\n        vertical-align: middle;\n    }\n\n    .dataframe tbody tr th {\n        vertical-align: top;\n    }\n\n    .dataframe thead th {\n        text-align: right;\n    }\n</style>\n<table border=\"1\" class=\"dataframe\">\n  <thead>\n    <tr style=\"text-align: right;\">\n      <th></th>\n      <th>Date</th>\n      <th>Location</th>\n      <th>Zone</th>\n      <th>Size</th>\n      <th>Type</th>\n      <th>Comment</th>\n      <th>Year</th>\n      <th>Install_Year</th>\n    </tr>\n  </thead>\n  <tbody>\n    <tr>\n      <th>0</th>\n      <td>1/8</td>\n      <td>347 7th Ave</td>\n      <td>315</td>\n      <td>6</td>\n      <td>CI</td>\n      <td>NaN</td>\n      <td>2004</td>\n      <td>NaN</td>\n    </tr>\n    <tr>\n      <th>1</th>\n      <td>1/9</td>\n      <td>696 16th Ave W</td>\n      <td>315</td>\n      <td>8</td>\n      <td>AC</td>\n      <td>NaN</td>\n      <td>2004</td>\n      <td>NaN</td>\n    </tr>\n    <tr>\n      <th>2</th>\n      <td>1/21</td>\n      <td>740 16th Ave W</td>\n      <td>315</td>\n      <td>6</td>\n      <td>AC</td>\n      <td>NaN</td>\n      <td>2004</td>\n      <td>NaN</td>\n    </tr>\n    <tr>\n      <th>3</th>\n      <td>2/25</td>\n      <td>10132 NE 59th</td>\n      <td>285</td>\n      <td>8</td>\n      <td>AC</td>\n      <td>Leak</td>\n      <td>2004</td>\n      <td>NaN</td>\n    </tr>\n    <tr>\n      <th>4</th>\n      <td>3/16</td>\n      <td>18th Ave &amp; 6th St.</td>\n      <td>450</td>\n      <td>12</td>\n      <td>AC</td>\n      <td>Leak</td>\n      <td>2004</td>\n      <td>NaN</td>\n    </tr>\n    <tr>\n      <th>...</th>\n      <td>...</td>\n      <td>...</td>\n      <td>...</td>\n      <td>...</td>\n      <td>...</td>\n      <td>...</td>\n      <td>...</td>\n      <td>...</td>\n    </tr>\n    <tr>\n      <th>63</th>\n      <td>10/31/17</td>\n      <td>10830 NE 68th St</td>\n      <td>450</td>\n      <td>8</td>\n      <td>AC</td>\n      <td>Full Break</td>\n      <td>2017</td>\n      <td>NaN</td>\n    </tr>\n    <tr>\n      <th>64</th>\n      <td>5/23/18</td>\n      <td>11828 NE 75th St</td>\n      <td>650</td>\n      <td>6</td>\n      <td>AC</td>\n      <td>Bead Break</td>\n      <td>2018</td>\n      <td>NaN</td>\n    </tr>\n    <tr>\n      <th>65</th>\n      <td>5/30/19</td>\n      <td>11828 NE 75th St</td>\n      <td>650</td>\n      <td>6</td>\n      <td>AC</td>\n      <td>Break at abandoned service tap</td>\n      <td>2019</td>\n      <td>NaN</td>\n    </tr>\n    <tr>\n      <th>66</th>\n      <td>6/3/19</td>\n      <td>10425 NE 58th St</td>\n      <td>450</td>\n      <td>6</td>\n      <td>AC</td>\n      <td>Full Break</td>\n      <td>2019</td>\n      <td>NaN</td>\n    </tr>\n    <tr>\n      <th>67</th>\n      <td>10/2/19</td>\n      <td>6109 106th Ave NE</td>\n      <td>450</td>\n      <td>6</td>\n      <td>AC</td>\n      <td>Full Break</td>\n      <td>2019</td>\n      <td>NaN</td>\n    </tr>\n  </tbody>\n</table>\n<p>68 rows × 8 columns</p>\n</div>"
     },
     "metadata": {},
     "execution_count": 77
    }
   ],
   "source": [
    "breaks"
   ]
  },
  {
   "cell_type": "code",
   "execution_count": 10,
   "metadata": {
    "tags": []
   },
   "outputs": [],
   "source": [
    "# GROUP PIPES BY THEIR UNIQUE ID - NEEDED BECAUSE OF HOW SLOPE BREAKS UP PIPES IN DIFFERENT SLOPE CLASSES\n",
    "def group_by_id(df):\n",
    "\n",
    "    grouping = df.groupby('FID_WA_Mai').groups\n",
    "    unique_pipes = df['FID_WA_Mai'].unique()\n",
    "    indices = []\n",
    "    for i in range(len(unique_pipes)):\n",
    "        pipe = unique_pipes[i]\n",
    "        val = grouping[pipe][0]\n",
    "        indices.append(val)\n",
    "    \n",
    "    # CALCULATE AVERAGE SLOPES FOR PIPES THAT GOT SPLIT INTO MULTIPLE ROWS\n",
    "    slopes = df[['FID_WA_Mai', 'SLP_CLASS']]\n",
    "    slopes = slopes.groupby('FID_WA_Mai')['SLP_CLASS'].mean()\n",
    "    slopes = pd.Series(slopes)\n",
    "\n",
    "    filtered = df.loc[indices, 'FID_WA_Mai':'FUNC_CLASS']\n",
    "    filtered = filtered.drop('SLP_CLASS', axis=1)\n",
    "    filtered['SLOPE'] = slopes.values\n",
    "\n",
    "    return filtered"
   ]
  },
  {
   "cell_type": "code",
   "execution_count": 14,
   "metadata": {},
   "outputs": [
    {
     "output_type": "execute_result",
     "data": {
      "text/plain": "       FID_WA_Mai  TYPE  LENGTH  DIAMETER MATERIAL  INSTYEAR MUSYM  Dist_Rail  \\\n0               1  FIRE     2.0       8.0      UNK       NaN    Ur       6000   \n1               2  FIRE     2.0       2.0      UNK    1992.0   AgC       7000   \n2               3  FIRE     1.0       0.0      UNK       NaN   AgC       6000   \n3               4  FIRE     3.0       6.0       DI    2005.0    Ur       4000   \n4               5  FIRE   149.0       8.0       AC    1963.0    Ur       7000   \n...           ...   ...     ...       ...      ...       ...   ...        ...   \n41801        7742  DIST    15.0       8.0       DI    2017.0   AgD       5000   \n41804        7743  DIST   296.0       8.0       AC    1943.0   AgC       9000   \n41816        3963  DIST     1.0      12.0       DI    1971.0    No       9000   \n41817        5622  DIST     1.0       8.0       DI    2003.0   AgC      10000   \n41818        5623  DIST     1.0       8.0       DI    2003.0   AgC      10000   \n\n                    FULL_STRNA SPEED           FUNC_CLASS     SLOPE  \n0                 120TH AVE NE    25       MINOR ARTERIAL  2.000000  \n1                  122ND LN NE    25  NEIGHBORHOOD ACCESS  1.000000  \n2                 124TH AVE NE    35   PRINCIPAL ARTERIAL  0.000000  \n3      LAKE WASHINGTON BLVD NE    35   PRINCIPAL ARTERIAL  0.000000  \n4                                                          3.888889  \n...                        ...   ...                  ...       ...  \n41801              96TH AVE NE    25  NEIGHBORHOOD ACCESS  0.785714  \n41804               NE 68TH ST    25       MINOR ARTERIAL  4.000000  \n41816             120TH AVE NE    25            COLLECTOR  4.000000  \n41817             117TH AVE NE    25  NEIGHBORHOOD ACCESS  3.000000  \n41818             117TH AVE NE    25  NEIGHBORHOOD ACCESS  0.777778  \n\n[7650 rows x 12 columns]",
      "text/html": "<div>\n<style scoped>\n    .dataframe tbody tr th:only-of-type {\n        vertical-align: middle;\n    }\n\n    .dataframe tbody tr th {\n        vertical-align: top;\n    }\n\n    .dataframe thead th {\n        text-align: right;\n    }\n</style>\n<table border=\"1\" class=\"dataframe\">\n  <thead>\n    <tr style=\"text-align: right;\">\n      <th></th>\n      <th>FID_WA_Mai</th>\n      <th>TYPE</th>\n      <th>LENGTH</th>\n      <th>DIAMETER</th>\n      <th>MATERIAL</th>\n      <th>INSTYEAR</th>\n      <th>MUSYM</th>\n      <th>Dist_Rail</th>\n      <th>FULL_STRNA</th>\n      <th>SPEED</th>\n      <th>FUNC_CLASS</th>\n      <th>SLOPE</th>\n    </tr>\n  </thead>\n  <tbody>\n    <tr>\n      <th>0</th>\n      <td>1</td>\n      <td>FIRE</td>\n      <td>2.0</td>\n      <td>8.0</td>\n      <td>UNK</td>\n      <td>NaN</td>\n      <td>Ur</td>\n      <td>6000</td>\n      <td>120TH AVE NE</td>\n      <td>25</td>\n      <td>MINOR ARTERIAL</td>\n      <td>2.000000</td>\n    </tr>\n    <tr>\n      <th>1</th>\n      <td>2</td>\n      <td>FIRE</td>\n      <td>2.0</td>\n      <td>2.0</td>\n      <td>UNK</td>\n      <td>1992.0</td>\n      <td>AgC</td>\n      <td>7000</td>\n      <td>122ND LN NE</td>\n      <td>25</td>\n      <td>NEIGHBORHOOD ACCESS</td>\n      <td>1.000000</td>\n    </tr>\n    <tr>\n      <th>2</th>\n      <td>3</td>\n      <td>FIRE</td>\n      <td>1.0</td>\n      <td>0.0</td>\n      <td>UNK</td>\n      <td>NaN</td>\n      <td>AgC</td>\n      <td>6000</td>\n      <td>124TH AVE NE</td>\n      <td>35</td>\n      <td>PRINCIPAL ARTERIAL</td>\n      <td>0.000000</td>\n    </tr>\n    <tr>\n      <th>3</th>\n      <td>4</td>\n      <td>FIRE</td>\n      <td>3.0</td>\n      <td>6.0</td>\n      <td>DI</td>\n      <td>2005.0</td>\n      <td>Ur</td>\n      <td>4000</td>\n      <td>LAKE WASHINGTON BLVD NE</td>\n      <td>35</td>\n      <td>PRINCIPAL ARTERIAL</td>\n      <td>0.000000</td>\n    </tr>\n    <tr>\n      <th>4</th>\n      <td>5</td>\n      <td>FIRE</td>\n      <td>149.0</td>\n      <td>8.0</td>\n      <td>AC</td>\n      <td>1963.0</td>\n      <td>Ur</td>\n      <td>7000</td>\n      <td></td>\n      <td></td>\n      <td></td>\n      <td>3.888889</td>\n    </tr>\n    <tr>\n      <th>...</th>\n      <td>...</td>\n      <td>...</td>\n      <td>...</td>\n      <td>...</td>\n      <td>...</td>\n      <td>...</td>\n      <td>...</td>\n      <td>...</td>\n      <td>...</td>\n      <td>...</td>\n      <td>...</td>\n      <td>...</td>\n    </tr>\n    <tr>\n      <th>41801</th>\n      <td>7742</td>\n      <td>DIST</td>\n      <td>15.0</td>\n      <td>8.0</td>\n      <td>DI</td>\n      <td>2017.0</td>\n      <td>AgD</td>\n      <td>5000</td>\n      <td>96TH AVE NE</td>\n      <td>25</td>\n      <td>NEIGHBORHOOD ACCESS</td>\n      <td>0.785714</td>\n    </tr>\n    <tr>\n      <th>41804</th>\n      <td>7743</td>\n      <td>DIST</td>\n      <td>296.0</td>\n      <td>8.0</td>\n      <td>AC</td>\n      <td>1943.0</td>\n      <td>AgC</td>\n      <td>9000</td>\n      <td>NE 68TH ST</td>\n      <td>25</td>\n      <td>MINOR ARTERIAL</td>\n      <td>4.000000</td>\n    </tr>\n    <tr>\n      <th>41816</th>\n      <td>3963</td>\n      <td>DIST</td>\n      <td>1.0</td>\n      <td>12.0</td>\n      <td>DI</td>\n      <td>1971.0</td>\n      <td>No</td>\n      <td>9000</td>\n      <td>120TH AVE NE</td>\n      <td>25</td>\n      <td>COLLECTOR</td>\n      <td>4.000000</td>\n    </tr>\n    <tr>\n      <th>41817</th>\n      <td>5622</td>\n      <td>DIST</td>\n      <td>1.0</td>\n      <td>8.0</td>\n      <td>DI</td>\n      <td>2003.0</td>\n      <td>AgC</td>\n      <td>10000</td>\n      <td>117TH AVE NE</td>\n      <td>25</td>\n      <td>NEIGHBORHOOD ACCESS</td>\n      <td>3.000000</td>\n    </tr>\n    <tr>\n      <th>41818</th>\n      <td>5623</td>\n      <td>DIST</td>\n      <td>1.0</td>\n      <td>8.0</td>\n      <td>DI</td>\n      <td>2003.0</td>\n      <td>AgC</td>\n      <td>10000</td>\n      <td>117TH AVE NE</td>\n      <td>25</td>\n      <td>NEIGHBORHOOD ACCESS</td>\n      <td>0.777778</td>\n    </tr>\n  </tbody>\n</table>\n<p>7650 rows × 12 columns</p>\n</div>"
     },
     "metadata": {},
     "execution_count": 14
    }
   ],
   "source": [
    "pipes = group_by_id(pipes)\n",
    "pipes"
   ]
  },
  {
   "cell_type": "code",
   "execution_count": 135,
   "metadata": {
    "tags": []
   },
   "outputs": [
    {
     "output_type": "execute_result",
     "data": {
      "text/plain": "Empty DataFrame\nColumns: [FID_WA_Mai, TYPE, LENGTH, DIAMETER, MATERIAL, INSTYEAR, MUSYM, Dist_Rail, FULL_STRNA, SPEED, FUNC_CLASS, SLOPE]\nIndex: []",
      "text/html": "<div>\n<style scoped>\n    .dataframe tbody tr th:only-of-type {\n        vertical-align: middle;\n    }\n\n    .dataframe tbody tr th {\n        vertical-align: top;\n    }\n\n    .dataframe thead th {\n        text-align: right;\n    }\n</style>\n<table border=\"1\" class=\"dataframe\">\n  <thead>\n    <tr style=\"text-align: right;\">\n      <th></th>\n      <th>FID_WA_Mai</th>\n      <th>TYPE</th>\n      <th>LENGTH</th>\n      <th>DIAMETER</th>\n      <th>MATERIAL</th>\n      <th>INSTYEAR</th>\n      <th>MUSYM</th>\n      <th>Dist_Rail</th>\n      <th>FULL_STRNA</th>\n      <th>SPEED</th>\n      <th>FUNC_CLASS</th>\n      <th>SLOPE</th>\n    </tr>\n  </thead>\n  <tbody>\n  </tbody>\n</table>\n</div>"
     },
     "metadata": {},
     "execution_count": 135
    }
   ],
   "source": [
    "break_1_8_04 = filtered[(filtered['FULL_STRNA'] == '7TH AVE') & (filtered['INSTYEAR'].equals(2003))]\n",
    "break_1_8_04"
   ]
  },
  {
   "cell_type": "code",
   "execution_count": 204,
   "metadata": {
    "tags": []
   },
   "outputs": [
    {
     "output_type": "stream",
     "name": "stdout",
     "text": "['10TH AVE' 'KIRKLAND CIR' '4TH ST' '17TH AVE W' '9TH AVE' '5TH AVE'\n '3RD ST' 'KIRKLAND WAY' '8TH LN' '15TH AVE' 'KIRKLAND AVE' 'NE 68TH ST'\n '19TH AVE' '8TH AVE' 'NE 45TH ST' ' ' '1ST ST' 'NE 44TH ST' 'NE 68TH PL'\n '6TH ST' '106TH AVE NE' '6TH AVE' '5TH ST' '7TH AVE' '109TH PL NE'\n '10TH AVE S' '5TH AVE S' 'LAKEVIEW DR' '5TH ST S' '6TH ST S' 'STATE ST S']\n"
    },
    {
     "output_type": "execute_result",
     "data": {
      "text/plain": "      FID_WA_Mai  TYPE  LENGTH  DIAMETER MATERIAL  INSTYEAR MUSYM  Dist_Rail  \\\n3851         709  DIST    34.0       8.0       AC      1968   AmC      14000   \n\n      FULL_STRNA SPEED           FUNC_CLASS  SLOPE  \n3851  17TH AVE W    25  NEIGHBORHOOD ACCESS    0.5  ",
      "text/html": "<div>\n<style scoped>\n    .dataframe tbody tr th:only-of-type {\n        vertical-align: middle;\n    }\n\n    .dataframe tbody tr th {\n        vertical-align: top;\n    }\n\n    .dataframe thead th {\n        text-align: right;\n    }\n</style>\n<table border=\"1\" class=\"dataframe\">\n  <thead>\n    <tr style=\"text-align: right;\">\n      <th></th>\n      <th>FID_WA_Mai</th>\n      <th>TYPE</th>\n      <th>LENGTH</th>\n      <th>DIAMETER</th>\n      <th>MATERIAL</th>\n      <th>INSTYEAR</th>\n      <th>MUSYM</th>\n      <th>Dist_Rail</th>\n      <th>FULL_STRNA</th>\n      <th>SPEED</th>\n      <th>FUNC_CLASS</th>\n      <th>SLOPE</th>\n    </tr>\n  </thead>\n  <tbody>\n    <tr>\n      <th>3851</th>\n      <td>709</td>\n      <td>DIST</td>\n      <td>34.0</td>\n      <td>8.0</td>\n      <td>AC</td>\n      <td>1968</td>\n      <td>AmC</td>\n      <td>14000</td>\n      <td>17TH AVE W</td>\n      <td>25</td>\n      <td>NEIGHBORHOOD ACCESS</td>\n      <td>0.5</td>\n    </tr>\n  </tbody>\n</table>\n</div>"
     },
     "metadata": {},
     "execution_count": 204
    }
   ],
   "source": [
    "break_1_9_04 = filtered[(filtered['FULL_STRNA'] == '16TH AVE W')] #& (filtered['INSTYEAR'] < 2005) & (filtered['INSTYEAR'] > 2003)]\n",
    "break_1_9_04 = break_1_9_04[break_1_9_04['INSTYEAR'] == 2004]\n",
    "break_1_9_04\n",
    "\n",
    "nearby = filtered[(filtered['FULL_STRNA'] == '16TH AVE W') & (filtered['INSTYEAR'] != 2004) & (filtered['Dist_Rail'] == 15000) & (filtered['DIAMETER'] == 8.0)] \n",
    "nearby\n",
    "\n",
    "similar = filtered[(filtered['DIAMETER'] == 8.0) & (filtered['MATERIAL'] == 'AC') & (filtered['MUSYM'] == 'AmC')]\n",
    "print(similar['FULL_STRNA'].unique())\n",
    "\n",
    "similar = similar[(similar['FULL_STRNA'] == '17TH AVE W')]\n",
    "similar"
   ]
  },
  {
   "cell_type": "code",
   "execution_count": 205,
   "metadata": {
    "tags": []
   },
   "outputs": [
    {
     "output_type": "stream",
     "name": "stdout",
     "text": "['10TH AVE' 'KIRKLAND CIR' '4TH ST' '17TH AVE W' '9TH AVE' '5TH AVE'\n '3RD ST' 'KIRKLAND WAY' '8TH LN' '15TH AVE' 'KIRKLAND AVE' 'NE 68TH ST'\n '19TH AVE' '8TH AVE' 'NE 45TH ST' ' ' '1ST ST' 'NE 44TH ST' 'NE 68TH PL'\n '6TH ST' '106TH AVE NE' '6TH AVE' '5TH ST' '7TH AVE' '109TH PL NE'\n '10TH AVE S' '5TH AVE S' 'LAKEVIEW DR' '5TH ST S' '6TH ST S' 'STATE ST S']\n"
    },
    {
     "output_type": "execute_result",
     "data": {
      "text/plain": "      FID_WA_Mai  TYPE  LENGTH  DIAMETER MATERIAL  INSTYEAR MUSYM  Dist_Rail  \\\n3851         709  DIST    34.0       8.0       AC      1968   AmC      14000   \n\n      FULL_STRNA SPEED           FUNC_CLASS  SLOPE  \n3851  17TH AVE W    25  NEIGHBORHOOD ACCESS    0.5  ",
      "text/html": "<div>\n<style scoped>\n    .dataframe tbody tr th:only-of-type {\n        vertical-align: middle;\n    }\n\n    .dataframe tbody tr th {\n        vertical-align: top;\n    }\n\n    .dataframe thead th {\n        text-align: right;\n    }\n</style>\n<table border=\"1\" class=\"dataframe\">\n  <thead>\n    <tr style=\"text-align: right;\">\n      <th></th>\n      <th>FID_WA_Mai</th>\n      <th>TYPE</th>\n      <th>LENGTH</th>\n      <th>DIAMETER</th>\n      <th>MATERIAL</th>\n      <th>INSTYEAR</th>\n      <th>MUSYM</th>\n      <th>Dist_Rail</th>\n      <th>FULL_STRNA</th>\n      <th>SPEED</th>\n      <th>FUNC_CLASS</th>\n      <th>SLOPE</th>\n    </tr>\n  </thead>\n  <tbody>\n    <tr>\n      <th>3851</th>\n      <td>709</td>\n      <td>DIST</td>\n      <td>34.0</td>\n      <td>8.0</td>\n      <td>AC</td>\n      <td>1968</td>\n      <td>AmC</td>\n      <td>14000</td>\n      <td>17TH AVE W</td>\n      <td>25</td>\n      <td>NEIGHBORHOOD ACCESS</td>\n      <td>0.5</td>\n    </tr>\n  </tbody>\n</table>\n</div>"
     },
     "metadata": {},
     "execution_count": 205
    }
   ],
   "source": [
    "break_1_21_04 = filtered[(filtered['FULL_STRNA'] == '16TH AVE W') & (filtered['INSTYEAR'] == 2004)]\n",
    "break_1_21_04\n",
    "\n",
    "nearby = filtered[(filtered['FULL_STRNA'] == '16TH AVE W') & (filtered['INSTYEAR'] != 2004)] #& (filtered['Dist_Rail'] == 15000) & (filtered['DIAMETER'] == 6.0)] \n",
    "\n",
    "\n",
    "similar = filtered[(filtered['DIAMETER'] == 8.0) & (filtered['MATERIAL'] == 'AC') & (filtered['MUSYM'] == 'AmC')]\n",
    "print(similar['FULL_STRNA'].unique())\n",
    "\n",
    "similar = similar[(similar['FULL_STRNA'] == '17TH AVE W')]\n",
    "similar"
   ]
  },
  {
   "cell_type": "code",
   "execution_count": 197,
   "metadata": {},
   "outputs": [
    {
     "output_type": "execute_result",
     "data": {
      "text/plain": "       FID_WA_Mai  TYPE  LENGTH  DIAMETER MATERIAL  INSTYEAR MUSYM  Dist_Rail  \\\n22011        3634  DIST     1.0       8.0       AC      1976   KpB       7000   \n22012        3635  DIST     5.0      12.0       AC      1971   KpB       7000   \n39310        6927  DIST   261.0       8.0       AC      1976   KpB       7000   \n\n       FULL_STRNA SPEED           FUNC_CLASS     SLOPE  \n22011  NE 59TH ST    25  NEIGHBORHOOD ACCESS  1.000000  \n22012  NE 59TH ST    25  NEIGHBORHOOD ACCESS  1.000000  \n39310  NE 59TH ST    25  NEIGHBORHOOD ACCESS  2.586207  ",
      "text/html": "<div>\n<style scoped>\n    .dataframe tbody tr th:only-of-type {\n        vertical-align: middle;\n    }\n\n    .dataframe tbody tr th {\n        vertical-align: top;\n    }\n\n    .dataframe thead th {\n        text-align: right;\n    }\n</style>\n<table border=\"1\" class=\"dataframe\">\n  <thead>\n    <tr style=\"text-align: right;\">\n      <th></th>\n      <th>FID_WA_Mai</th>\n      <th>TYPE</th>\n      <th>LENGTH</th>\n      <th>DIAMETER</th>\n      <th>MATERIAL</th>\n      <th>INSTYEAR</th>\n      <th>MUSYM</th>\n      <th>Dist_Rail</th>\n      <th>FULL_STRNA</th>\n      <th>SPEED</th>\n      <th>FUNC_CLASS</th>\n      <th>SLOPE</th>\n    </tr>\n  </thead>\n  <tbody>\n    <tr>\n      <th>22011</th>\n      <td>3634</td>\n      <td>DIST</td>\n      <td>1.0</td>\n      <td>8.0</td>\n      <td>AC</td>\n      <td>1976</td>\n      <td>KpB</td>\n      <td>7000</td>\n      <td>NE 59TH ST</td>\n      <td>25</td>\n      <td>NEIGHBORHOOD ACCESS</td>\n      <td>1.000000</td>\n    </tr>\n    <tr>\n      <th>22012</th>\n      <td>3635</td>\n      <td>DIST</td>\n      <td>5.0</td>\n      <td>12.0</td>\n      <td>AC</td>\n      <td>1971</td>\n      <td>KpB</td>\n      <td>7000</td>\n      <td>NE 59TH ST</td>\n      <td>25</td>\n      <td>NEIGHBORHOOD ACCESS</td>\n      <td>1.000000</td>\n    </tr>\n    <tr>\n      <th>39310</th>\n      <td>6927</td>\n      <td>DIST</td>\n      <td>261.0</td>\n      <td>8.0</td>\n      <td>AC</td>\n      <td>1976</td>\n      <td>KpB</td>\n      <td>7000</td>\n      <td>NE 59TH ST</td>\n      <td>25</td>\n      <td>NEIGHBORHOOD ACCESS</td>\n      <td>2.586207</td>\n    </tr>\n  </tbody>\n</table>\n</div>"
     },
     "metadata": {},
     "execution_count": 197
    }
   ],
   "source": [
    "break_2_25_04 = filtered[(filtered['FULL_STRNA'] == 'NE 59TH ST')]\n",
    "break_2_25_04\n",
    "\n",
    "# THIS WILL LIKELY NEED TO BE altered in data set"
   ]
  },
  {
   "cell_type": "code",
   "execution_count": 53,
   "metadata": {
    "tags": []
   },
   "outputs": [
    {
     "output_type": "stream",
     "name": "stdout",
     "text": "       FID_WA_Mai  TYPE  LENGTH  DIAMETER MATERIAL  INSTYEAR MUSYM  Dist_Rail  \\\n22567        3719  DIST     3.0       8.0       DI    2008.0   AgC       8000   \n22568        3720  DIST     4.0       8.0       DI    2008.0   AgC       8000   \n23946        3992  DIST    15.0       8.0       DI    2008.0   AgC       8000   \n23948        3993  DIST     3.0       8.0       DI    2008.0   AgC       8000   \n26885        4497  DIST     3.0       8.0       DI    2008.0   AgC       8000   \n28129        4706  DIST   102.0       8.0       DI    2008.0   AgC       8000   \n30433        5100  DIST   482.0       8.0       DI    2008.0   AgC       8000   \n\n       FULL_STRNA SPEED           FUNC_CLASS     SLOPE  \n22567  NE 73RD ST    25  NEIGHBORHOOD ACCESS  2.000000  \n22568  NE 73RD ST    25  NEIGHBORHOOD ACCESS  2.000000  \n23946  NE 73RD ST    25  NEIGHBORHOOD ACCESS  1.000000  \n23948  NE 73RD ST    25  NEIGHBORHOOD ACCESS  1.000000  \n26885  NE 73RD ST    25  NEIGHBORHOOD ACCESS  1.642857  \n28129  NE 73RD ST    25  NEIGHBORHOOD ACCESS  1.000000  \n30433  NE 73RD ST    25  NEIGHBORHOOD ACCESS  0.000000  \n       FID_WA_Mai  TYPE  LENGTH  DIAMETER MATERIAL  INSTYEAR MUSYM  Dist_Rail  \\\n26886        4498  DIST   644.0       6.0       AC    1959.0   AgC       8000   \n29078        4884  DIST   461.0       6.0       AC    1963.0   AgC       8000   \n\n       FULL_STRNA SPEED           FUNC_CLASS     SLOPE  \n26886  NE 73RD ST    25  NEIGHBORHOOD ACCESS  2.000000  \n29078  NE 73RD ST    25  NEIGHBORHOOD ACCESS  0.666667  \n       FID_WA_Mai  TYPE  LENGTH  DIAMETER MATERIAL  INSTYEAR MUSYM  Dist_Rail  \\\n26886        4498  DIST   644.0       6.0       AC    1959.0   AgC       8000   \n\n       FULL_STRNA SPEED           FUNC_CLASS  SLOPE  \n26886  NE 73RD ST    25  NEIGHBORHOOD ACCESS    2.0  \n       FID_WA_Mai  TYPE  LENGTH  DIAMETER MATERIAL  INSTYEAR MUSYM  Dist_Rail  \\\n3459          617  DIST     1.0       6.0       AC    1963.0   AgC       5000   \n4139          768  DIST    13.0       6.0       AC    1963.0   RdC      10000   \n4140          769  DIST   748.0       6.0       AC    1963.0   RdC      10000   \n4158          770  DIST     4.0       6.0       AC    1963.0   RdC      11000   \n4159          771  DIST   100.0       6.0       AC    1963.0   RdC      11000   \n4165          772  DIST   299.0       6.0       AC    1963.0   RdC      11000   \n4190          774  DIST     1.0       6.0       AC    1963.0   RdC      11000   \n4199          777  DIST   417.0       6.0       AC    1963.0   RdC      11000   \n4214          778  DIST    17.0       6.0       AC    1963.0   RdC      11000   \n10562        1810  DIST   314.0       6.0       AC    1963.0   AgC       5000   \n12306        2047  DIST    34.0       6.0       AC    1963.0   InC      13000   \n12540        2111  DIST   320.0       6.0       AC    1963.0   AgC       5000   \n12548        2115  DIST     2.0       6.0       AC    1963.0   AgC       5000   \n13377        2230  DIST   102.0       6.0       AC    1963.0   AgC       8000   \n14070        2347  DIST   429.0       6.0       AC    1963.0   RdC      10000   \n14995        2474  DIST   363.0       6.0       AC    1963.0   InC      10000   \n15302        2519  DIST   649.0       6.0       AC    1963.0   InC      13000   \n19552        3252  DIST   340.0       6.0       AC    1963.0   AgC       8000   \n19567        3253  DIST   294.0       6.0       AC    1963.0   AgC       8000   \n19584        3254  DIST   175.0       6.0       AC    1963.0   AgC       8000   \n19589        3255  DIST     4.0       6.0       AC    1963.0   AgC       8000   \n19590        3256  DIST   205.0       6.0       AC    1963.0   AgC       8000   \n19603        3257  DIST     4.0       6.0       AC    1963.0   AgC       8000   \n21313        3509  DIST   285.0       6.0       AC    1963.0   RdC      10000   \n21337        3511  DIST    11.0       6.0       AC    1963.0   RdC      10000   \n26005        4326  DIST     2.0       6.0       AC    1963.0   AgC      10000   \n26007        4328  DIST     7.0       6.0       AC    1963.0   AgC      10000   \n26113        4343  DIST   277.0       6.0       AC    1963.0   AgC       9000   \n28310        4732  DIST   122.0       6.0       AC    1963.0   AgC       9000   \n29078        4884  DIST   461.0       6.0       AC    1963.0   AgC       8000   \n29090        4885  DIST   162.0       6.0       AC    1963.0   AgC       8000   \n33407        5584  DIST   138.0       6.0       AC    1963.0   AgC       9000   \n34609        5816  DIST   184.0       6.0       AC    1963.0   AgC      10000   \n36592        6154  DIST   223.0       6.0       AC    1963.0   AmC       9000   \n40251        7232  DIST   660.0       6.0       AC    1963.0   AgC       9000   \n40424        7272  DIST   605.0       6.0       AC    1963.0   AgC       9000   \n\n         FULL_STRNA SPEED           FUNC_CLASS     SLOPE  \n3459    NE 104TH ST    25            COLLECTOR  0.000000  \n4139    102ND PL NE    25  NEIGHBORHOOD ACCESS  2.000000  \n4140    102ND PL NE    25  NEIGHBORHOOD ACCESS  1.944444  \n4158    101ST PL NE    25  NEIGHBORHOOD ACCESS  0.000000  \n4159    101ST PL NE    25  NEIGHBORHOOD ACCESS  2.166667  \n4165    101ST PL NE    25  NEIGHBORHOOD ACCESS  2.583333  \n4190    101ST PL NE    25  NEIGHBORHOOD ACCESS  3.000000  \n4199    101ST PL NE    25  NEIGHBORHOOD ACCESS  1.400000  \n4214    101ST PL NE    25  NEIGHBORHOOD ACCESS  0.000000  \n10562   NE 104TH ST    25            COLLECTOR  2.600000  \n12306        2ND ST    25  NEIGHBORHOOD ACCESS  2.666667  \n12540   NE 104TH ST    25            COLLECTOR  1.400000  \n12548   NE 104TH ST    25            COLLECTOR  2.000000  \n13377    NE 75TH ST    25  NEIGHBORHOOD ACCESS  1.700000  \n14070   101ST PL NE    25  NEIGHBORHOOD ACCESS  1.300000  \n14995   NE 102ND PL    25  NEIGHBORHOOD ACCESS  1.500000  \n15302        2ND ST    25  NEIGHBORHOOD ACCESS  2.392857  \n19552  130TH AVE NE    25  NEIGHBORHOOD ACCESS  1.733333  \n19567    NE 75TH ST    25  NEIGHBORHOOD ACCESS  1.176471  \n19584    NE 75TH ST    25  NEIGHBORHOOD ACCESS  0.800000  \n19589    NE 75TH ST    25  NEIGHBORHOOD ACCESS  1.000000  \n19590    NE 75TH ST    25  NEIGHBORHOOD ACCESS  1.769231  \n19603  130TH AVE NE    25  NEIGHBORHOOD ACCESS  1.000000  \n21313   101ST PL NE    25  NEIGHBORHOOD ACCESS  2.428571  \n21337   102ND PL NE    25  NEIGHBORHOOD ACCESS  0.500000  \n26005    NE 72ND ST    25  NEIGHBORHOOD ACCESS  2.178571  \n26007    NE 73RD ST    25  NEIGHBORHOOD ACCESS  3.000000  \n26113    NE 73RD ST    25  NEIGHBORHOOD ACCESS  1.250000  \n28310    NE 73RD ST    25  NEIGHBORHOOD ACCESS  1.750000  \n29078    NE 73RD ST    25  NEIGHBORHOOD ACCESS  0.666667  \n29090    NE 75TH ST    25  NEIGHBORHOOD ACCESS  1.166667  \n33407    NE 72ND ST    25  NEIGHBORHOOD ACCESS  1.000000  \n34609    NE 73RD ST    25  NEIGHBORHOOD ACCESS  4.500000  \n36592  132ND AVE NE    30       MINOR ARTERIAL  1.600000  \n40251    NE 75TH ST    25  NEIGHBORHOOD ACCESS  3.000000  \n40424    NE 80TH ST    25            COLLECTOR  4.300000  \n"
    }
   ],
   "source": [
    "# Find pipes on NE 73RD ST installed in 2008\n",
    "break_1_24_08 = pipes[(pipes['FULL_STRNA'] == 'NE 73RD ST') & (pipes['INSTYEAR'] == 2008)] \n",
    "# Find pipes installed before 2008 with similar attributes to find when broken pipes was installed\n",
    "near1 = pipes[(pipes['FULL_STRNA'] == 'NE 73RD ST') & (pipes['INSTYEAR'] < 2008) & (pipes[\"Dist_Rail\"] == 8000) & (pipes[\"DIAMETER\"] == 6) & (pipes[\"MATERIAL\"] == \"AC\")]\n",
    "# Two possibilities 1959 and 1963, find the most common year and use that \n",
    "search59 = pipes[(pipes[\"DIAMETER\"] == 6) & (pipes[\"MATERIAL\"] == \"AC\") & (pipes[\"INSTYEAR\"] == 1959)]\n",
    "search63 = pipes[(pipes[\"DIAMETER\"] == 6) & (pipes[\"MATERIAL\"] == \"AC\") & (pipes[\"INSTYEAR\"] == 1963)]\n",
    "print(break_1_24_08)\n",
    "print(near1)\n",
    "print(search59)\n",
    "print(search63)\n",
    "# End with using 1963 as install year"
   ]
  },
  {
   "cell_type": "code",
   "execution_count": null,
   "metadata": {},
   "outputs": [],
   "source": []
  }
 ]
}