{
 "metadata": {
  "language_info": {
   "codemirror_mode": {
    "name": "ipython",
    "version": 3
   },
   "file_extension": ".py",
   "mimetype": "text/x-python",
   "name": "python",
   "nbconvert_exporter": "python",
   "pygments_lexer": "ipython3",
   "version": "3.7.7-final"
  },
  "orig_nbformat": 2,
  "kernelspec": {
   "name": "python3",
   "display_name": "Python 3.7.7 64-bit (conda)",
   "metadata": {
    "interpreter": {
     "hash": "dca0ade3e726a953b501b15e8e990130d2b7799f14cfd9f4271676035ebe5511"
    }
   }
  }
 },
 "nbformat": 4,
 "nbformat_minor": 2,
 "cells": [
  {
   "cell_type": "code",
   "execution_count": 13,
   "metadata": {},
   "outputs": [],
   "source": [
    "import pandas as pd"
   ]
  },
  {
   "cell_type": "code",
   "execution_count": 14,
   "metadata": {},
   "outputs": [
    {
     "output_type": "execute_result",
     "data": {
      "text/plain": [
       "Index(['OBJECTID', 'Join_Count', 'Join_Count_1', 'Join_Count_12',\n",
       "       'Join_Count_12_13', 'Join_Count_12_13_14', 'Join_Count_12_13_14_15',\n",
       "       'Join_Count_12_13_14_15_16', 'Join_Count_12_13_14_15_16_17',\n",
       "       'Join_Count_12_13_14_15_16_17_18', 'Join_Count_12_13_14_15_16_17_18_19',\n",
       "       'Join_Count_12_13_14_15_16_17_18_19_20',\n",
       "       'Join_Count_12_13_14_15_16_17_18_19_20_21',\n",
       "       'Join_Count_12_13_14_15_16_17_18_19_20_21_22',\n",
       "       'Join_Count_12_13_14_15_16_17_18_19_20_21_22_23', 'MNL_FEA_KE',\n",
       "       'MNL_FEAT_1', 'MNL_OWNE_1', 'MNL_MATE_1', 'MNL_LENGTH', 'MNL_INSTAL',\n",
       "       'Width', 'NEAR_DIST', 'NEAR_X', 'NEAR_Y', 'MUSYM', 'muname', 'ARTCLASS',\n",
       "       'UNITDESC', 'STNAME_ORD', 'BLOCKNBR', 'SPEEDLIMIT', 'SURFACEWID',\n",
       "       'SURFACETYP', 'SLOPE_PCT', 'WONUM', 'Size', 'Long', 'Lat', 'DATE',\n",
       "       'Join_Count_12_13_14_15_16_17_18_19_20_21_22_23_24'],\n",
       "      dtype='object')"
      ]
     },
     "metadata": {},
     "execution_count": 14
    }
   ],
   "source": [
    "sea_pipes = pd.read_csv('FinalFinal.csv')\n",
    "sea_pipes.columns"
   ]
  },
  {
   "cell_type": "code",
   "execution_count": 15,
   "metadata": {},
   "outputs": [
    {
     "output_type": "execute_result",
     "data": {
      "text/plain": [
       "    OBJECTID  Join_Count  Join_Count_1  Join_Count_12  Join_Count_12_13  \\\n",
       "43        44           3             0              0                 0   \n",
       "44        45           3             0              0                 0   \n",
       "45        46           1             0              0                 0   \n",
       "46        47           3             0              0                 0   \n",
       "47        48           1             0              0                 0   \n",
       "\n",
       "    Join_Count_12_13_14  Join_Count_12_13_14_15  Join_Count_12_13_14_15_16  \\\n",
       "43                    0                       0                          0   \n",
       "44                    0                       0                          0   \n",
       "45                    0                       0                          0   \n",
       "46                    0                       0                          0   \n",
       "47                    0                       0                          0   \n",
       "\n",
       "    Join_Count_12_13_14_15_16_17  Join_Count_12_13_14_15_16_17_18  ...  \\\n",
       "43                             2                                0  ...   \n",
       "44                             2                                0  ...   \n",
       "45                             0                                0  ...   \n",
       "46                             0                                0  ...   \n",
       "47                             0                                0  ...   \n",
       "\n",
       "    SPEEDLIMIT  SURFACEWID  SURFACETYP  SLOPE_PCT    WONUM  Size        Long  \\\n",
       "43          20          20          AC          2  5119567     6 -122.371084   \n",
       "44          20          20          AC          2  5119567     6 -122.371084   \n",
       "45          20          24          ST         11      NaN   NaN         NaN   \n",
       "46          20          25          AC          3      NaN   NaN         NaN   \n",
       "47          20          25          AC         13      NaN   NaN         NaN   \n",
       "\n",
       "          Lat                 DATE  \\\n",
       "43  47.707533  11/18/2014 14:21:55   \n",
       "44  47.707533  11/18/2014 14:21:55   \n",
       "45        NaN                  NaN   \n",
       "46        NaN                  NaN   \n",
       "47        NaN                  NaN   \n",
       "\n",
       "    Join_Count_12_13_14_15_16_17_18_19_20_21_22_23_24  \n",
       "43                                                  1  \n",
       "44                                                  1  \n",
       "45                                                  0  \n",
       "46                                                  0  \n",
       "47                                                  0  \n",
       "\n",
       "[5 rows x 41 columns]"
      ],
      "text/html": "<div>\n<style scoped>\n    .dataframe tbody tr th:only-of-type {\n        vertical-align: middle;\n    }\n\n    .dataframe tbody tr th {\n        vertical-align: top;\n    }\n\n    .dataframe thead th {\n        text-align: right;\n    }\n</style>\n<table border=\"1\" class=\"dataframe\">\n  <thead>\n    <tr style=\"text-align: right;\">\n      <th></th>\n      <th>OBJECTID</th>\n      <th>Join_Count</th>\n      <th>Join_Count_1</th>\n      <th>Join_Count_12</th>\n      <th>Join_Count_12_13</th>\n      <th>Join_Count_12_13_14</th>\n      <th>Join_Count_12_13_14_15</th>\n      <th>Join_Count_12_13_14_15_16</th>\n      <th>Join_Count_12_13_14_15_16_17</th>\n      <th>Join_Count_12_13_14_15_16_17_18</th>\n      <th>...</th>\n      <th>SPEEDLIMIT</th>\n      <th>SURFACEWID</th>\n      <th>SURFACETYP</th>\n      <th>SLOPE_PCT</th>\n      <th>WONUM</th>\n      <th>Size</th>\n      <th>Long</th>\n      <th>Lat</th>\n      <th>DATE</th>\n      <th>Join_Count_12_13_14_15_16_17_18_19_20_21_22_23_24</th>\n    </tr>\n  </thead>\n  <tbody>\n    <tr>\n      <th>43</th>\n      <td>44</td>\n      <td>3</td>\n      <td>0</td>\n      <td>0</td>\n      <td>0</td>\n      <td>0</td>\n      <td>0</td>\n      <td>0</td>\n      <td>2</td>\n      <td>0</td>\n      <td>...</td>\n      <td>20</td>\n      <td>20</td>\n      <td>AC</td>\n      <td>2</td>\n      <td>5119567</td>\n      <td>6</td>\n      <td>-122.371084</td>\n      <td>47.707533</td>\n      <td>11/18/2014 14:21:55</td>\n      <td>1</td>\n    </tr>\n    <tr>\n      <th>44</th>\n      <td>45</td>\n      <td>3</td>\n      <td>0</td>\n      <td>0</td>\n      <td>0</td>\n      <td>0</td>\n      <td>0</td>\n      <td>0</td>\n      <td>2</td>\n      <td>0</td>\n      <td>...</td>\n      <td>20</td>\n      <td>20</td>\n      <td>AC</td>\n      <td>2</td>\n      <td>5119567</td>\n      <td>6</td>\n      <td>-122.371084</td>\n      <td>47.707533</td>\n      <td>11/18/2014 14:21:55</td>\n      <td>1</td>\n    </tr>\n    <tr>\n      <th>45</th>\n      <td>46</td>\n      <td>1</td>\n      <td>0</td>\n      <td>0</td>\n      <td>0</td>\n      <td>0</td>\n      <td>0</td>\n      <td>0</td>\n      <td>0</td>\n      <td>0</td>\n      <td>...</td>\n      <td>20</td>\n      <td>24</td>\n      <td>ST</td>\n      <td>11</td>\n      <td>NaN</td>\n      <td>NaN</td>\n      <td>NaN</td>\n      <td>NaN</td>\n      <td>NaN</td>\n      <td>0</td>\n    </tr>\n    <tr>\n      <th>46</th>\n      <td>47</td>\n      <td>3</td>\n      <td>0</td>\n      <td>0</td>\n      <td>0</td>\n      <td>0</td>\n      <td>0</td>\n      <td>0</td>\n      <td>0</td>\n      <td>0</td>\n      <td>...</td>\n      <td>20</td>\n      <td>25</td>\n      <td>AC</td>\n      <td>3</td>\n      <td>NaN</td>\n      <td>NaN</td>\n      <td>NaN</td>\n      <td>NaN</td>\n      <td>NaN</td>\n      <td>0</td>\n    </tr>\n    <tr>\n      <th>47</th>\n      <td>48</td>\n      <td>1</td>\n      <td>0</td>\n      <td>0</td>\n      <td>0</td>\n      <td>0</td>\n      <td>0</td>\n      <td>0</td>\n      <td>0</td>\n      <td>0</td>\n      <td>...</td>\n      <td>20</td>\n      <td>25</td>\n      <td>AC</td>\n      <td>13</td>\n      <td>NaN</td>\n      <td>NaN</td>\n      <td>NaN</td>\n      <td>NaN</td>\n      <td>NaN</td>\n      <td>0</td>\n    </tr>\n  </tbody>\n</table>\n<p>5 rows × 41 columns</p>\n</div>"
     },
     "metadata": {},
     "execution_count": 15
    }
   ],
   "source": [
    "sea_pipes[43:48]"
   ]
  },
  {
   "cell_type": "code",
   "execution_count": 28,
   "metadata": {},
   "outputs": [
    {
     "output_type": "execute_result",
     "data": {
      "text/plain": [
       "       MNL_FEA_KE MNL_FEAT_1                 MNL_MATE_1  MNL_LENGTH  \\\n",
       "0         2171012   Mainline                   Concrete      314.79   \n",
       "1         2178518   Mainline                   Concrete      363.39   \n",
       "2         2163634   Mainline                   Concrete      323.51   \n",
       "3         2201252   Mainline             Vitrified Clay      329.13   \n",
       "4         2171196   Mainline   Reinforced Concrete Pipe      273.64   \n",
       "...           ...        ...                        ...         ...   \n",
       "62189     4895756   Mainline  High Density Polyethylene      193.12   \n",
       "62190     2211628   Mainline  High Density Polyethylene      193.13   \n",
       "62191     4895975   Mainline  High Density Polyethylene      193.17   \n",
       "62192     4895914   Mainline  High Density Polyethylene      193.12   \n",
       "62193     2211627   Mainline  High Density Polyethylene      193.15   \n",
       "\n",
       "             MNL_INSTAL  Width    NEAR_DIST  MUSYM  ARTCLASS  BLOCKNBR  \\\n",
       "0      1/1/1972 0:00:00    8.0  3891.620149   3055         2      9400   \n",
       "1      1/1/1972 0:00:00    8.0  3609.210867   3056         0         0   \n",
       "2      1/1/1972 0:00:00    8.0  3451.254202   3056         0         0   \n",
       "3      1/1/1928 0:00:00   12.0   771.313134   3056         0      5100   \n",
       "4      1/1/1928 0:00:00   18.0   833.921160   3056         2     10300   \n",
       "...                 ...    ...          ...    ...       ...       ...   \n",
       "62189  1/1/1989 0:00:00    2.0  1829.526578   3059         0      3400   \n",
       "62190  1/1/1989 0:00:00    2.0  1829.519254   3059         0      3400   \n",
       "62191  1/1/1989 0:00:00    2.0  1829.487571   3059         0      3400   \n",
       "62192  1/1/1989 0:00:00    2.0  1829.530600   3059         0      3400   \n",
       "62193  1/1/1989 0:00:00    2.0  1829.495772   3059         0      3400   \n",
       "\n",
       "       SPEEDLIMIT  SURFACEWID SURFACETYP  SLOPE_PCT WONUM Size DATE  \\\n",
       "0              25          40        PCC          0   NaN  NaN  NaN   \n",
       "1              20          46         AC          4   NaN  NaN  NaN   \n",
       "2              20          46         AC          4   NaN  NaN  NaN   \n",
       "3              20           0         ST          6   NaN  NaN  NaN   \n",
       "4              25          42     AC/PCC          4   NaN  NaN  NaN   \n",
       "...           ...         ...        ...        ...   ...  ...  ...   \n",
       "62189          20          17         AC          9   NaN  NaN  NaN   \n",
       "62190          20          17         AC          9   NaN  NaN  NaN   \n",
       "62191          20          17         AC          9   NaN  NaN  NaN   \n",
       "62192          20          17         AC          9   NaN  NaN  NaN   \n",
       "62193          20          17         AC          9   NaN  NaN  NaN   \n",
       "\n",
       "                                                UNITDESC     STNAME_ORD  \n",
       "0      8TH AVE SW BETWEEN SW CAMBRIDGE ST AND SW ROXB...     8TH AVE SW  \n",
       "1       SW ROXBURY ST BETWEEN DEAD END 1 AND OLSON PL SW  SW ROXBURY ST  \n",
       "2       SW ROXBURY ST BETWEEN DEAD END 1 AND OLSON PL SW  SW ROXBURY ST  \n",
       "3         S CRESTON ST BETWEEN 51ST AVE S AND 55TH AVE S   S CRESTON ST  \n",
       "4       51ST AVE S BETWEEN S RUGGLES ST AND S CRESTON ST     51ST AVE S  \n",
       "...                                                  ...            ...  \n",
       "62189  PERKINS LN W BETWEEN W BERTONA ST AND W RUFFNE...   PERKINS LN W  \n",
       "62190  PERKINS LN W BETWEEN W BERTONA ST AND W RUFFNE...   PERKINS LN W  \n",
       "62191  PERKINS LN W BETWEEN W BERTONA ST AND W RUFFNE...   PERKINS LN W  \n",
       "62192  PERKINS LN W BETWEEN W BERTONA ST AND W RUFFNE...   PERKINS LN W  \n",
       "62193  PERKINS LN W BETWEEN W BERTONA ST AND W RUFFNE...   PERKINS LN W  \n",
       "\n",
       "[62194 rows x 19 columns]"
      ],
      "text/html": "<div>\n<style scoped>\n    .dataframe tbody tr th:only-of-type {\n        vertical-align: middle;\n    }\n\n    .dataframe tbody tr th {\n        vertical-align: top;\n    }\n\n    .dataframe thead th {\n        text-align: right;\n    }\n</style>\n<table border=\"1\" class=\"dataframe\">\n  <thead>\n    <tr style=\"text-align: right;\">\n      <th></th>\n      <th>MNL_FEA_KE</th>\n      <th>MNL_FEAT_1</th>\n      <th>MNL_MATE_1</th>\n      <th>MNL_LENGTH</th>\n      <th>MNL_INSTAL</th>\n      <th>Width</th>\n      <th>NEAR_DIST</th>\n      <th>MUSYM</th>\n      <th>ARTCLASS</th>\n      <th>BLOCKNBR</th>\n      <th>SPEEDLIMIT</th>\n      <th>SURFACEWID</th>\n      <th>SURFACETYP</th>\n      <th>SLOPE_PCT</th>\n      <th>WONUM</th>\n      <th>Size</th>\n      <th>DATE</th>\n      <th>UNITDESC</th>\n      <th>STNAME_ORD</th>\n    </tr>\n  </thead>\n  <tbody>\n    <tr>\n      <th>0</th>\n      <td>2171012</td>\n      <td>Mainline</td>\n      <td>Concrete</td>\n      <td>314.79</td>\n      <td>1/1/1972 0:00:00</td>\n      <td>8.0</td>\n      <td>3891.620149</td>\n      <td>3055</td>\n      <td>2</td>\n      <td>9400</td>\n      <td>25</td>\n      <td>40</td>\n      <td>PCC</td>\n      <td>0</td>\n      <td>NaN</td>\n      <td>NaN</td>\n      <td>NaN</td>\n      <td>8TH AVE SW BETWEEN SW CAMBRIDGE ST AND SW ROXB...</td>\n      <td>8TH AVE SW</td>\n    </tr>\n    <tr>\n      <th>1</th>\n      <td>2178518</td>\n      <td>Mainline</td>\n      <td>Concrete</td>\n      <td>363.39</td>\n      <td>1/1/1972 0:00:00</td>\n      <td>8.0</td>\n      <td>3609.210867</td>\n      <td>3056</td>\n      <td>0</td>\n      <td>0</td>\n      <td>20</td>\n      <td>46</td>\n      <td>AC</td>\n      <td>4</td>\n      <td>NaN</td>\n      <td>NaN</td>\n      <td>NaN</td>\n      <td>SW ROXBURY ST BETWEEN DEAD END 1 AND OLSON PL SW</td>\n      <td>SW ROXBURY ST</td>\n    </tr>\n    <tr>\n      <th>2</th>\n      <td>2163634</td>\n      <td>Mainline</td>\n      <td>Concrete</td>\n      <td>323.51</td>\n      <td>1/1/1972 0:00:00</td>\n      <td>8.0</td>\n      <td>3451.254202</td>\n      <td>3056</td>\n      <td>0</td>\n      <td>0</td>\n      <td>20</td>\n      <td>46</td>\n      <td>AC</td>\n      <td>4</td>\n      <td>NaN</td>\n      <td>NaN</td>\n      <td>NaN</td>\n      <td>SW ROXBURY ST BETWEEN DEAD END 1 AND OLSON PL SW</td>\n      <td>SW ROXBURY ST</td>\n    </tr>\n    <tr>\n      <th>3</th>\n      <td>2201252</td>\n      <td>Mainline</td>\n      <td>Vitrified Clay</td>\n      <td>329.13</td>\n      <td>1/1/1928 0:00:00</td>\n      <td>12.0</td>\n      <td>771.313134</td>\n      <td>3056</td>\n      <td>0</td>\n      <td>5100</td>\n      <td>20</td>\n      <td>0</td>\n      <td>ST</td>\n      <td>6</td>\n      <td>NaN</td>\n      <td>NaN</td>\n      <td>NaN</td>\n      <td>S CRESTON ST BETWEEN 51ST AVE S AND 55TH AVE S</td>\n      <td>S CRESTON ST</td>\n    </tr>\n    <tr>\n      <th>4</th>\n      <td>2171196</td>\n      <td>Mainline</td>\n      <td>Reinforced Concrete Pipe</td>\n      <td>273.64</td>\n      <td>1/1/1928 0:00:00</td>\n      <td>18.0</td>\n      <td>833.921160</td>\n      <td>3056</td>\n      <td>2</td>\n      <td>10300</td>\n      <td>25</td>\n      <td>42</td>\n      <td>AC/PCC</td>\n      <td>4</td>\n      <td>NaN</td>\n      <td>NaN</td>\n      <td>NaN</td>\n      <td>51ST AVE S BETWEEN S RUGGLES ST AND S CRESTON ST</td>\n      <td>51ST AVE S</td>\n    </tr>\n    <tr>\n      <th>...</th>\n      <td>...</td>\n      <td>...</td>\n      <td>...</td>\n      <td>...</td>\n      <td>...</td>\n      <td>...</td>\n      <td>...</td>\n      <td>...</td>\n      <td>...</td>\n      <td>...</td>\n      <td>...</td>\n      <td>...</td>\n      <td>...</td>\n      <td>...</td>\n      <td>...</td>\n      <td>...</td>\n      <td>...</td>\n      <td>...</td>\n      <td>...</td>\n    </tr>\n    <tr>\n      <th>62189</th>\n      <td>4895756</td>\n      <td>Mainline</td>\n      <td>High Density Polyethylene</td>\n      <td>193.12</td>\n      <td>1/1/1989 0:00:00</td>\n      <td>2.0</td>\n      <td>1829.526578</td>\n      <td>3059</td>\n      <td>0</td>\n      <td>3400</td>\n      <td>20</td>\n      <td>17</td>\n      <td>AC</td>\n      <td>9</td>\n      <td>NaN</td>\n      <td>NaN</td>\n      <td>NaN</td>\n      <td>PERKINS LN W BETWEEN W BERTONA ST AND W RUFFNE...</td>\n      <td>PERKINS LN W</td>\n    </tr>\n    <tr>\n      <th>62190</th>\n      <td>2211628</td>\n      <td>Mainline</td>\n      <td>High Density Polyethylene</td>\n      <td>193.13</td>\n      <td>1/1/1989 0:00:00</td>\n      <td>2.0</td>\n      <td>1829.519254</td>\n      <td>3059</td>\n      <td>0</td>\n      <td>3400</td>\n      <td>20</td>\n      <td>17</td>\n      <td>AC</td>\n      <td>9</td>\n      <td>NaN</td>\n      <td>NaN</td>\n      <td>NaN</td>\n      <td>PERKINS LN W BETWEEN W BERTONA ST AND W RUFFNE...</td>\n      <td>PERKINS LN W</td>\n    </tr>\n    <tr>\n      <th>62191</th>\n      <td>4895975</td>\n      <td>Mainline</td>\n      <td>High Density Polyethylene</td>\n      <td>193.17</td>\n      <td>1/1/1989 0:00:00</td>\n      <td>2.0</td>\n      <td>1829.487571</td>\n      <td>3059</td>\n      <td>0</td>\n      <td>3400</td>\n      <td>20</td>\n      <td>17</td>\n      <td>AC</td>\n      <td>9</td>\n      <td>NaN</td>\n      <td>NaN</td>\n      <td>NaN</td>\n      <td>PERKINS LN W BETWEEN W BERTONA ST AND W RUFFNE...</td>\n      <td>PERKINS LN W</td>\n    </tr>\n    <tr>\n      <th>62192</th>\n      <td>4895914</td>\n      <td>Mainline</td>\n      <td>High Density Polyethylene</td>\n      <td>193.12</td>\n      <td>1/1/1989 0:00:00</td>\n      <td>2.0</td>\n      <td>1829.530600</td>\n      <td>3059</td>\n      <td>0</td>\n      <td>3400</td>\n      <td>20</td>\n      <td>17</td>\n      <td>AC</td>\n      <td>9</td>\n      <td>NaN</td>\n      <td>NaN</td>\n      <td>NaN</td>\n      <td>PERKINS LN W BETWEEN W BERTONA ST AND W RUFFNE...</td>\n      <td>PERKINS LN W</td>\n    </tr>\n    <tr>\n      <th>62193</th>\n      <td>2211627</td>\n      <td>Mainline</td>\n      <td>High Density Polyethylene</td>\n      <td>193.15</td>\n      <td>1/1/1989 0:00:00</td>\n      <td>2.0</td>\n      <td>1829.495772</td>\n      <td>3059</td>\n      <td>0</td>\n      <td>3400</td>\n      <td>20</td>\n      <td>17</td>\n      <td>AC</td>\n      <td>9</td>\n      <td>NaN</td>\n      <td>NaN</td>\n      <td>NaN</td>\n      <td>PERKINS LN W BETWEEN W BERTONA ST AND W RUFFNE...</td>\n      <td>PERKINS LN W</td>\n    </tr>\n  </tbody>\n</table>\n<p>62194 rows × 19 columns</p>\n</div>"
     },
     "metadata": {},
     "execution_count": 28
    }
   ],
   "source": [
    "non_join_feats = ['MNL_FEA_KE', 'MNL_FEAT_1', 'MNL_MATE_1', 'MNL_LENGTH', 'MNL_INSTAL',\n",
    "       'Width', 'NEAR_DIST', 'MUSYM', 'ARTCLASS',\n",
    "       'BLOCKNBR', 'SPEEDLIMIT', 'SURFACEWID',\n",
    "       'SURFACETYP', 'SLOPE_PCT', 'WONUM', 'Size', 'DATE', 'UNITDESC', 'STNAME_ORD']\n",
    "df = sea_pipes[non_join_feats]\n",
    "df"
   ]
  },
  {
   "cell_type": "code",
   "execution_count": 32,
   "metadata": {},
   "outputs": [
    {
     "output_type": "execute_result",
     "data": {
      "text/plain": [
       "     MNL_FEA_KE MNL_FEAT_1                MNL_MATE_1  MNL_LENGTH  \\\n",
       "43      2157191   Mainline                  Concrete       40.54   \n",
       "81      2157660   Mainline  Reinforced Concrete Pipe       25.65   \n",
       "120     2158146   Mainline                  Concrete      182.67   \n",
       "122     2158146   Mainline                  Concrete      182.67   \n",
       "128     2158250   Mainline  Reinforced Concrete Pipe        6.71   \n",
       "\n",
       "           MNL_INSTAL  Width    NEAR_DIST  MUSYM  ARTCLASS  BLOCKNBR  \\\n",
       "43   1/1/1957 0:00:00    8.0   699.766876   3056         0      1100   \n",
       "81   1/1/1973 0:00:00   24.0  2296.768775   3055         0       100   \n",
       "120  1/1/1964 0:00:00    8.0   221.097406   3056         0      3400   \n",
       "122  1/1/1964 0:00:00    8.0   221.097406   3057         0      3400   \n",
       "128  1/1/1962 0:00:00   15.0  2346.786474   3056         0       600   \n",
       "\n",
       "     SPEEDLIMIT  SURFACEWID SURFACETYP  SLOPE_PCT    WONUM Size  \\\n",
       "43           20          20         AC          2  5119567    6   \n",
       "81           20          38         ST          4  7681317    8   \n",
       "120          20          25        PCC         12  6018248    4   \n",
       "122          20          25        PCC         12  6018248    4   \n",
       "128          20           0        PCC          0  4119605    8   \n",
       "\n",
       "                    DATE                                         UNITDESC  \\\n",
       "43   11/18/2014 14:21:55  NW WOODBINE PL BETWEEN DEAD END AND 12TH AVE NW   \n",
       "81     3/24/2017 9:10:26  N 90TH ST BETWEEN 1ST AVE NW AND PALATINE AVE N   \n",
       "120     9/4/2015 7:10:04   NW 68TH ST BETWEEN 34TH AVE NW AND 35TH AVE NW   \n",
       "122     9/4/2015 7:10:04   NW 68TH ST BETWEEN 34TH AVE NW AND 35TH AVE NW   \n",
       "128  11/22/2013 17:04:31   NE BANNER PL BETWEEN NE 75TH ST AND 9TH AVE NE   \n",
       "\n",
       "         STNAME_ORD  \n",
       "43   NW WOODBINE PL  \n",
       "81        N 90TH ST  \n",
       "120      NW 68TH ST  \n",
       "122      NW 68TH ST  \n",
       "128    NE BANNER PL  "
      ],
      "text/html": "<div>\n<style scoped>\n    .dataframe tbody tr th:only-of-type {\n        vertical-align: middle;\n    }\n\n    .dataframe tbody tr th {\n        vertical-align: top;\n    }\n\n    .dataframe thead th {\n        text-align: right;\n    }\n</style>\n<table border=\"1\" class=\"dataframe\">\n  <thead>\n    <tr style=\"text-align: right;\">\n      <th></th>\n      <th>MNL_FEA_KE</th>\n      <th>MNL_FEAT_1</th>\n      <th>MNL_MATE_1</th>\n      <th>MNL_LENGTH</th>\n      <th>MNL_INSTAL</th>\n      <th>Width</th>\n      <th>NEAR_DIST</th>\n      <th>MUSYM</th>\n      <th>ARTCLASS</th>\n      <th>BLOCKNBR</th>\n      <th>SPEEDLIMIT</th>\n      <th>SURFACEWID</th>\n      <th>SURFACETYP</th>\n      <th>SLOPE_PCT</th>\n      <th>WONUM</th>\n      <th>Size</th>\n      <th>DATE</th>\n      <th>UNITDESC</th>\n      <th>STNAME_ORD</th>\n    </tr>\n  </thead>\n  <tbody>\n    <tr>\n      <th>43</th>\n      <td>2157191</td>\n      <td>Mainline</td>\n      <td>Concrete</td>\n      <td>40.54</td>\n      <td>1/1/1957 0:00:00</td>\n      <td>8.0</td>\n      <td>699.766876</td>\n      <td>3056</td>\n      <td>0</td>\n      <td>1100</td>\n      <td>20</td>\n      <td>20</td>\n      <td>AC</td>\n      <td>2</td>\n      <td>5119567</td>\n      <td>6</td>\n      <td>11/18/2014 14:21:55</td>\n      <td>NW WOODBINE PL BETWEEN DEAD END AND 12TH AVE NW</td>\n      <td>NW WOODBINE PL</td>\n    </tr>\n    <tr>\n      <th>81</th>\n      <td>2157660</td>\n      <td>Mainline</td>\n      <td>Reinforced Concrete Pipe</td>\n      <td>25.65</td>\n      <td>1/1/1973 0:00:00</td>\n      <td>24.0</td>\n      <td>2296.768775</td>\n      <td>3055</td>\n      <td>0</td>\n      <td>100</td>\n      <td>20</td>\n      <td>38</td>\n      <td>ST</td>\n      <td>4</td>\n      <td>7681317</td>\n      <td>8</td>\n      <td>3/24/2017 9:10:26</td>\n      <td>N 90TH ST BETWEEN 1ST AVE NW AND PALATINE AVE N</td>\n      <td>N 90TH ST</td>\n    </tr>\n    <tr>\n      <th>120</th>\n      <td>2158146</td>\n      <td>Mainline</td>\n      <td>Concrete</td>\n      <td>182.67</td>\n      <td>1/1/1964 0:00:00</td>\n      <td>8.0</td>\n      <td>221.097406</td>\n      <td>3056</td>\n      <td>0</td>\n      <td>3400</td>\n      <td>20</td>\n      <td>25</td>\n      <td>PCC</td>\n      <td>12</td>\n      <td>6018248</td>\n      <td>4</td>\n      <td>9/4/2015 7:10:04</td>\n      <td>NW 68TH ST BETWEEN 34TH AVE NW AND 35TH AVE NW</td>\n      <td>NW 68TH ST</td>\n    </tr>\n    <tr>\n      <th>122</th>\n      <td>2158146</td>\n      <td>Mainline</td>\n      <td>Concrete</td>\n      <td>182.67</td>\n      <td>1/1/1964 0:00:00</td>\n      <td>8.0</td>\n      <td>221.097406</td>\n      <td>3057</td>\n      <td>0</td>\n      <td>3400</td>\n      <td>20</td>\n      <td>25</td>\n      <td>PCC</td>\n      <td>12</td>\n      <td>6018248</td>\n      <td>4</td>\n      <td>9/4/2015 7:10:04</td>\n      <td>NW 68TH ST BETWEEN 34TH AVE NW AND 35TH AVE NW</td>\n      <td>NW 68TH ST</td>\n    </tr>\n    <tr>\n      <th>128</th>\n      <td>2158250</td>\n      <td>Mainline</td>\n      <td>Reinforced Concrete Pipe</td>\n      <td>6.71</td>\n      <td>1/1/1962 0:00:00</td>\n      <td>15.0</td>\n      <td>2346.786474</td>\n      <td>3056</td>\n      <td>0</td>\n      <td>600</td>\n      <td>20</td>\n      <td>0</td>\n      <td>PCC</td>\n      <td>0</td>\n      <td>4119605</td>\n      <td>8</td>\n      <td>11/22/2013 17:04:31</td>\n      <td>NE BANNER PL BETWEEN NE 75TH ST AND 9TH AVE NE</td>\n      <td>NE BANNER PL</td>\n    </tr>\n  </tbody>\n</table>\n</div>"
     },
     "metadata": {},
     "execution_count": 32
    }
   ],
   "source": [
    "date_na_indices = df['DATE'].isna()\n",
    "non_breaks = df[date_na_indices]\n",
    "breaks = df[~date_na_indices]\n",
    "breaks_drop = breaks.drop_duplicates()\n",
    "breaks_drop.head()"
   ]
  },
  {
   "cell_type": "code",
   "execution_count": 20,
   "metadata": {},
   "outputs": [
    {
     "output_type": "error",
     "ename": "NameError",
     "evalue": "name 'breaks_drop' is not defined",
     "traceback": [
      "\u001b[0;31m---------------------------------------------------------------------------\u001b[0m",
      "\u001b[0;31mNameError\u001b[0m                                 Traceback (most recent call last)",
      "\u001b[0;32m<ipython-input-20-d36817d0ce50>\u001b[0m in \u001b[0;36m<module>\u001b[0;34m\u001b[0m\n\u001b[0;32m----> 1\u001b[0;31m \u001b[0mbreaks_drop\u001b[0m\u001b[0;34m[\u001b[0m\u001b[0;34m'MNL_INSTAL'\u001b[0m\u001b[0;34m]\u001b[0m \u001b[0;34m=\u001b[0m \u001b[0mbreaks_drop\u001b[0m\u001b[0;34m[\u001b[0m\u001b[0;34m'MNL_INSTAL'\u001b[0m\u001b[0;34m]\u001b[0m\u001b[0;34m.\u001b[0m\u001b[0mmap\u001b[0m\u001b[0;34m(\u001b[0m\u001b[0;32mlambda\u001b[0m \u001b[0mx\u001b[0m\u001b[0;34m:\u001b[0m \u001b[0mint\u001b[0m\u001b[0;34m(\u001b[0m\u001b[0;34m(\u001b[0m\u001b[0mstr\u001b[0m\u001b[0;34m(\u001b[0m\u001b[0mx\u001b[0m\u001b[0;34m)\u001b[0m\u001b[0;34m[\u001b[0m\u001b[0;34m-\u001b[0m\u001b[0;36m12\u001b[0m\u001b[0;34m:\u001b[0m\u001b[0;34m-\u001b[0m\u001b[0;36m8\u001b[0m\u001b[0;34m]\u001b[0m\u001b[0;34m)\u001b[0m\u001b[0;34m)\u001b[0m\u001b[0;34m,\u001b[0m \u001b[0mna_action\u001b[0m\u001b[0;34m=\u001b[0m\u001b[0;34m'ignore'\u001b[0m\u001b[0;34m)\u001b[0m\u001b[0;34m\u001b[0m\u001b[0;34m\u001b[0m\u001b[0m\n\u001b[0m\u001b[1;32m      2\u001b[0m \u001b[0mbreaks_drop\u001b[0m\u001b[0;34m[\u001b[0m\u001b[0;34m'DATE'\u001b[0m\u001b[0;34m]\u001b[0m \u001b[0;34m=\u001b[0m \u001b[0mbreaks_drop\u001b[0m\u001b[0;34m[\u001b[0m\u001b[0;34m'DATE'\u001b[0m\u001b[0;34m]\u001b[0m\u001b[0;34m.\u001b[0m\u001b[0mmap\u001b[0m\u001b[0;34m(\u001b[0m\u001b[0;32mlambda\u001b[0m \u001b[0mx\u001b[0m\u001b[0;34m:\u001b[0m \u001b[0mint\u001b[0m\u001b[0;34m(\u001b[0m\u001b[0;34m(\u001b[0m\u001b[0mstr\u001b[0m\u001b[0;34m(\u001b[0m\u001b[0mx\u001b[0m\u001b[0;34m)\u001b[0m\u001b[0;34m[\u001b[0m\u001b[0;34m-\u001b[0m\u001b[0;36m12\u001b[0m\u001b[0;34m:\u001b[0m\u001b[0;34m-\u001b[0m\u001b[0;36m8\u001b[0m\u001b[0;34m]\u001b[0m\u001b[0;34m)\u001b[0m\u001b[0;34m)\u001b[0m\u001b[0;34m,\u001b[0m \u001b[0mna_action\u001b[0m\u001b[0;34m=\u001b[0m\u001b[0;34m'ignore'\u001b[0m\u001b[0;34m)\u001b[0m\u001b[0;34m\u001b[0m\u001b[0;34m\u001b[0m\u001b[0m\n",
      "\u001b[0;31mNameError\u001b[0m: name 'breaks_drop' is not defined"
     ]
    }
   ],
   "source": [
    "breaks_drop['MNL_INSTAL'] = breaks_drop['MNL_INSTAL'].map(lambda x: int((str(x)[-12:-8])), na_action='ignore')\n",
    "breaks_drop['DATE'] = breaks_drop['DATE'].map(lambda x: int((str(x)[-12:-8])), na_action='ignore')\n"
   ]
  },
  {
   "cell_type": "code",
   "execution_count": 7,
   "metadata": {},
   "outputs": [
    {
     "output_type": "execute_result",
     "data": {
      "text/plain": [
       "     MNL_FEA_KE MNL_FEAT_1                MNL_MATE_1  MNL_LENGTH  MNL_INSTAL  \\\n",
       "43      2157191   Mainline                  Concrete       40.54        1957   \n",
       "81      2157660   Mainline  Reinforced Concrete Pipe       25.65        1973   \n",
       "120     2158146   Mainline                  Concrete      182.67        1964   \n",
       "122     2158146   Mainline                  Concrete      182.67        1964   \n",
       "128     2158250   Mainline  Reinforced Concrete Pipe        6.71        1962   \n",
       "\n",
       "     Width    NEAR_DIST  MUSYM  ARTCLASS  BLOCKNBR  SPEEDLIMIT  SURFACEWID  \\\n",
       "43     8.0   699.766876   3056         0      1100          20          20   \n",
       "81    24.0  2296.768775   3055         0       100          20          38   \n",
       "120    8.0   221.097406   3056         0      3400          20          25   \n",
       "122    8.0   221.097406   3057         0      3400          20          25   \n",
       "128   15.0  2346.786474   3056         0       600          20           0   \n",
       "\n",
       "    SURFACETYP  SLOPE_PCT  DATE  \n",
       "43          AC          2    14  \n",
       "81          ST          4  2017  \n",
       "120        PCC         12  2015  \n",
       "122        PCC         12  2015  \n",
       "128        PCC          0    13  "
      ],
      "text/html": "<div>\n<style scoped>\n    .dataframe tbody tr th:only-of-type {\n        vertical-align: middle;\n    }\n\n    .dataframe tbody tr th {\n        vertical-align: top;\n    }\n\n    .dataframe thead th {\n        text-align: right;\n    }\n</style>\n<table border=\"1\" class=\"dataframe\">\n  <thead>\n    <tr style=\"text-align: right;\">\n      <th></th>\n      <th>MNL_FEA_KE</th>\n      <th>MNL_FEAT_1</th>\n      <th>MNL_MATE_1</th>\n      <th>MNL_LENGTH</th>\n      <th>MNL_INSTAL</th>\n      <th>Width</th>\n      <th>NEAR_DIST</th>\n      <th>MUSYM</th>\n      <th>ARTCLASS</th>\n      <th>BLOCKNBR</th>\n      <th>SPEEDLIMIT</th>\n      <th>SURFACEWID</th>\n      <th>SURFACETYP</th>\n      <th>SLOPE_PCT</th>\n      <th>DATE</th>\n    </tr>\n  </thead>\n  <tbody>\n    <tr>\n      <th>43</th>\n      <td>2157191</td>\n      <td>Mainline</td>\n      <td>Concrete</td>\n      <td>40.54</td>\n      <td>1957</td>\n      <td>8.0</td>\n      <td>699.766876</td>\n      <td>3056</td>\n      <td>0</td>\n      <td>1100</td>\n      <td>20</td>\n      <td>20</td>\n      <td>AC</td>\n      <td>2</td>\n      <td>14</td>\n    </tr>\n    <tr>\n      <th>81</th>\n      <td>2157660</td>\n      <td>Mainline</td>\n      <td>Reinforced Concrete Pipe</td>\n      <td>25.65</td>\n      <td>1973</td>\n      <td>24.0</td>\n      <td>2296.768775</td>\n      <td>3055</td>\n      <td>0</td>\n      <td>100</td>\n      <td>20</td>\n      <td>38</td>\n      <td>ST</td>\n      <td>4</td>\n      <td>2017</td>\n    </tr>\n    <tr>\n      <th>120</th>\n      <td>2158146</td>\n      <td>Mainline</td>\n      <td>Concrete</td>\n      <td>182.67</td>\n      <td>1964</td>\n      <td>8.0</td>\n      <td>221.097406</td>\n      <td>3056</td>\n      <td>0</td>\n      <td>3400</td>\n      <td>20</td>\n      <td>25</td>\n      <td>PCC</td>\n      <td>12</td>\n      <td>2015</td>\n    </tr>\n    <tr>\n      <th>122</th>\n      <td>2158146</td>\n      <td>Mainline</td>\n      <td>Concrete</td>\n      <td>182.67</td>\n      <td>1964</td>\n      <td>8.0</td>\n      <td>221.097406</td>\n      <td>3057</td>\n      <td>0</td>\n      <td>3400</td>\n      <td>20</td>\n      <td>25</td>\n      <td>PCC</td>\n      <td>12</td>\n      <td>2015</td>\n    </tr>\n    <tr>\n      <th>128</th>\n      <td>2158250</td>\n      <td>Mainline</td>\n      <td>Reinforced Concrete Pipe</td>\n      <td>6.71</td>\n      <td>1962</td>\n      <td>15.0</td>\n      <td>2346.786474</td>\n      <td>3056</td>\n      <td>0</td>\n      <td>600</td>\n      <td>20</td>\n      <td>0</td>\n      <td>PCC</td>\n      <td>0</td>\n      <td>13</td>\n    </tr>\n  </tbody>\n</table>\n</div>"
     },
     "metadata": {},
     "execution_count": 7
    }
   ],
   "source": [
    "breaks_drop.head()"
   ]
  },
  {
   "source": [
    "Pseudocode of CV algorithm"
   ],
   "cell_type": "markdown",
   "metadata": {}
  },
  {
   "cell_type": "code",
   "execution_count": null,
   "metadata": {},
   "outputs": [],
   "source": [
    "# "
   ]
  }
 ]
}