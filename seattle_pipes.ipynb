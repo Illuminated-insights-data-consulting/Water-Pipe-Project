{
 "metadata": {
  "language_info": {
   "codemirror_mode": {
    "name": "ipython",
    "version": 3
   },
   "file_extension": ".py",
   "mimetype": "text/x-python",
   "name": "python",
   "nbconvert_exporter": "python",
   "pygments_lexer": "ipython3",
   "version": "3.7.7-final"
  },
  "orig_nbformat": 2,
  "kernelspec": {
   "name": "Python 3.7.7 64-bit (conda)",
   "display_name": "Python 3.7.7 64-bit (conda)",
   "metadata": {
    "interpreter": {
     "hash": "dca0ade3e726a953b501b15e8e990130d2b7799f14cfd9f4271676035ebe5511"
    }
   }
  }
 },
 "nbformat": 4,
 "nbformat_minor": 2,
 "cells": [
  {
   "cell_type": "code",
   "execution_count": 2,
   "metadata": {},
   "outputs": [],
   "source": [
    "import pandas as pd"
   ]
  },
  {
   "cell_type": "code",
   "execution_count": 15,
   "metadata": {},
   "outputs": [
    {
     "output_type": "execute_result",
     "data": {
      "text/plain": [
       "'address two'"
      ]
     },
     "metadata": {},
     "execution_count": 15
    }
   ],
   "source": [
    "string = \"address one and address two\"\n",
    "ns = string.split(\" and \")\n",
    "ns[1]"
   ]
  },
  {
   "cell_type": "code",
   "execution_count": 19,
   "metadata": {},
   "outputs": [
    {
     "output_type": "execute_result",
     "data": {
      "text/plain": [
       "array([18428,  1217,  6614, ..., 13845, 21221, 14435])"
      ]
     },
     "metadata": {},
     "execution_count": 19
    }
   ],
   "source": [
    "sea_pipes = pd.read_csv('Data1.csv')\n",
    "sea_breaks = pd.read_csv('responsive_data.csv')\n",
    "sea_pipes['MNL_LENGTH']\n",
    "sea_pipes['OBJECTID_1'].unique()"
   ]
  },
  {
   "cell_type": "code",
   "execution_count": 24,
   "metadata": {},
   "outputs": [],
   "source": [
    "df = sea_breaks[sea_breaks['PROBLEM\\n(from shutdown report)'] == 'MAIN BREAK']"
   ]
  },
  {
   "cell_type": "code",
   "execution_count": null,
   "metadata": {},
   "outputs": [],
   "source": [
    "sea_breaks[]"
   ]
  }
 ]
}