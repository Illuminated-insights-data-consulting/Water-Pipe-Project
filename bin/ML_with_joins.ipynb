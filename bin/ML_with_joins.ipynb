{
 "metadata": {
  "language_info": {
   "codemirror_mode": {
    "name": "ipython",
    "version": 3
   },
   "file_extension": ".py",
   "mimetype": "text/x-python",
   "name": "python",
   "nbconvert_exporter": "python",
   "pygments_lexer": "ipython3",
   "version": "3.7.7-final"
  },
  "orig_nbformat": 2,
  "kernelspec": {
   "name": "python3",
   "display_name": "Python 3",
   "language": "python"
  }
 },
 "nbformat": 4,
 "nbformat_minor": 2,
 "cells": [
  {
   "cell_type": "code",
   "execution_count": 10,
   "metadata": {},
   "outputs": [],
   "source": [
    "import pandas as pd\n",
    "import numpy as np\n",
    "import seaborn as sns\n",
    "import matplotlib.pyplot as plt\n",
    "import datetime as datetime\n",
    "\n",
    "from sklearn.ensemble import ExtraTreesClassifier, GradientBoostingClassifier, AdaBoostClassifier, StackingClassifier, RandomForestClassifier, BaggingClassifier\n",
    "\n",
    "from sklearn.metrics import accuracy_score, confusion_matrix, precision_recall_fscore_support, balanced_accuracy_score, plot_precision_recall_curve, precision_recall_curve, precision_score, recall_score\n",
    "\n",
    "from sklearn.model_selection import RandomizedSearchCV\n",
    "import shap\n",
    "import lightgbm as lgb \n",
    "\n",
    "pd.set_option('max_colwidth', 80)"
   ]
  },
  {
   "cell_type": "code",
   "execution_count": 11,
   "metadata": {},
   "outputs": [
    {
     "output_type": "stream",
     "name": "stdout",
     "text": [
      "(1, 76)\n(1, 8)\n"
     ]
    }
   ],
   "source": [
    "df = pd.read_csv('PipesWithYearlyBreaks100ft.csv') \n",
    "df_breaks = pd.read_csv('SeattleBreaksAndNearPipes.csv')\n",
    "print(df.shape)\n",
    "print(df_breaks.shape)"
   ]
  },
  {
   "cell_type": "code",
   "execution_count": 3,
   "metadata": {},
   "outputs": [],
   "source": [
    "df = df.rename( columns=\n",
    "    {'Join_Count_1': 'Breaks_nearby_2009', \n",
    "     'Join_Count_12': 'Breaks_nearby_2010',\n",
    "       'Join_Count_12_13': 'Breaks_nearby_2011', \n",
    "       'Join_Count_12_13_14': 'Breaks_nearby_2012', \n",
    "       'Join_Count_12_13_14_15': 'Breaks_nearby_2013',\n",
    "       'Join_Count_12_13_14_15_16': 'Breaks_nearby_2014', \n",
    "       'Join_Count_12_13_14_15_16_17': 'Breaks_nearby_2015',\n",
    "       'Join_Count_12_13_14_15_16_17_18': 'Breaks_nearby_2016', \n",
    "       'Join_Count_12_13_14_15_16_17_18_19': 'Breaks_nearby_2017',\n",
    "       'Join_Count_12_13_14_15_16_17_18_19_20': 'Breaks_nearby_2018',\n",
    "       'Join_Count_12_13_14_15_16_17_18_19_20_21': 'Breaks_nearby_2019',\n",
    "       'Join_Count_12_13_14_15_16_17_18_19_20_21_22': 'Breaks_nearby_2020',\n",
    "       \n",
    "    })"
   ]
  },
  {
   "cell_type": "code",
   "execution_count": 4,
   "metadata": {},
   "outputs": [
    {
     "output_type": "stream",
     "name": "stdout",
     "text": [
      "Index(['OBJECTID_1', 'Join_Count', 'TARGET_FID', 'Breaks_nearby_2009',\n       'TARGET_FID_1', 'MNL_FEA_KE', 'MNL_FEAT_1', 'MNL_OWNE_1', 'MNL_MATE_1',\n       'MNL_LENGTH', 'MNL_INSTAL', 'Width', 'NEAR_DIST', 'NEAR_X', 'NEAR_Y',\n       'FID_SeaSoilClip', 'MUSYM', 'muname', 'OBJECTID', 'ARTCLASS', 'COMPKEY',\n       'UNITID', 'UNITID2', 'UNITIDSORT', 'UNITDESC', 'STNAME_ORD', 'XSTRLO',\n       'XSTRHI', 'ARTDESCRIP', 'OWNER', 'STATUS', 'BLOCKNBR', 'SPEEDLIMIT',\n       'SEGDIR', 'ONEWAY', 'ONEWAYDIR', 'FLOW', 'SEGLENGTH', 'SURFACEWID',\n       'SURFACETYP', 'SURFACET_1', 'INTRLO', 'DIRLO', 'INTKEYLO', 'INTRHI',\n       'DIRHI', 'NATIONHWYS', 'STREETTYPE', 'PVMTCONDIN', 'PVMTCOND_1',\n       'TRANCLASS', 'TRANDESCRI', 'SLOPE_PCT', 'PVMTCATEGO', 'PARKBOULEV',\n       'SHAPE_Leng', 'Shape_Length_1', 'WONUM', 'ASSETNUM', 'Size', 'Long',\n       'Lat', 'DATE', 'Shape_Length', 'Breaks_nearby_2010',\n       'Breaks_nearby_2011', 'Breaks_nearby_2012', 'Breaks_nearby_2013',\n       'Breaks_nearby_2014', 'Breaks_nearby_2015', 'Breaks_nearby_2016',\n       'Breaks_nearby_2017', 'Breaks_nearby_2018', 'Breaks_nearby_2019',\n       'Breaks_nearby_2020', 'Join_Count_12_13_14_15_16_17_18_19_20_21_22_23'],\n      dtype='object')\n"
     ]
    }
   ],
   "source": [
    "print(df.columns)"
   ]
  },
  {
   "cell_type": "code",
   "execution_count": 7,
   "metadata": {},
   "outputs": [],
   "source": [
    "columns = [\n",
    "       'MNL_FEAT_1', \n",
    "       'MNL_MATE_1', \n",
    "       'MNL_PIPE_1',\n",
    "       'MNL_LENGTH',\n",
    "       'MNL_INSTAL',\n",
    "       'Size', \n",
    "       'MUSYM',\n",
    "       'ARTCLASS',\n",
    "       'SURFACEWID',\n",
    "       'SPEEDLIMIT',\n",
    "       'Width'\n",
    "       #'Long', \n",
    "       #'Lat',\n",
    "       'DATE', \n",
    "       'Breaks_nearby_2009', 'Breaks_nearby_2010',\n",
    "       'Breaks_nearby_2011', 'Breaks_nearby_2012', 'Breaks_nearby_2013',\n",
    "       'Breaks_nearby_2014', 'Breaks_nearby_2015', 'Breaks_nearby_2016',\n",
    "       'Breaks_nearby_2017', 'Breaks_nearby_2018', 'Breaks_nearby_2019',\n",
    "       'Breaks_nearby_2020']"
   ]
  },
  {
   "cell_type": "code",
   "execution_count": 36,
   "metadata": {},
   "outputs": [
    {
     "output_type": "stream",
     "name": "stdout",
     "text": [
      "4806\n2380\nduplicate breaks:  2426\n"
     ]
    }
   ],
   "source": [
    "ddff = df[df['DATE'].notna()]\n",
    "print(len(ddff['DATE']))\n",
    "print(len(ddff['DATE'].unique()))\n",
    "print('duplicate breaks: ', len(ddff['DATE']) - len(ddff['DATE'].unique()))"
   ]
  },
  {
   "cell_type": "code",
   "execution_count": 37,
   "metadata": {},
   "outputs": [
    {
     "output_type": "execute_result",
     "data": {
      "text/plain": [
       "  MNL_FEAT_1                MNL_MATE_1 MNL_PIPE_1  MNL_LENGTH  \\\n",
       "0       Stub                  Concrete   Circular        6.06   \n",
       "1       Stub                  Concrete   Circular        7.36   \n",
       "2   Mainline                  Concrete   Circular       43.75   \n",
       "3   Mainline  Reinforced Concrete Pipe   Circular       16.80   \n",
       "4   Mainline  Reinforced Concrete Pipe   Circular       38.67   \n",
       "\n",
       "         MNL_INSTAL Size DATE  Breaks_nearby_2009  Breaks_nearby_2010  \\\n",
       "0  1/1/1960 0:00:00  NaN  NaN                   0                   0   \n",
       "1  1/1/1959 0:00:00  NaN  NaN                   0                   0   \n",
       "2  1/1/1966 0:00:00  NaN  NaN                   0                   0   \n",
       "3  1/1/1960 0:00:00  NaN  NaN                   0                   0   \n",
       "4  1/1/1960 0:00:00  NaN  NaN                   0                   0   \n",
       "\n",
       "   Breaks_nearby_2011  Breaks_nearby_2012  Breaks_nearby_2013  \\\n",
       "0                   0                   0                   0   \n",
       "1                   0                   0                   0   \n",
       "2                   0                   0                   0   \n",
       "3                   0                   0                   0   \n",
       "4                   0                   0                   0   \n",
       "\n",
       "   Breaks_nearby_2014  Breaks_nearby_2015  Breaks_nearby_2016  \\\n",
       "0                   0                   0                   0   \n",
       "1                   0                   0                   0   \n",
       "2                   0                   0                   0   \n",
       "3                   0                   0                   0   \n",
       "4                   0                   0                   0   \n",
       "\n",
       "   Breaks_nearby_2017  Breaks_nearby_2018  Breaks_nearby_2019  \\\n",
       "0                   0                   0                   0   \n",
       "1                   0                   0                   0   \n",
       "2                   0                   0                   0   \n",
       "3                   0                   0                   0   \n",
       "4                   0                   0                   0   \n",
       "\n",
       "   Breaks_nearby_2020  \n",
       "0                   0  \n",
       "1                   0  \n",
       "2                   0  \n",
       "3                   0  \n",
       "4                   0  "
      ],
      "text/html": "<div>\n<style scoped>\n    .dataframe tbody tr th:only-of-type {\n        vertical-align: middle;\n    }\n\n    .dataframe tbody tr th {\n        vertical-align: top;\n    }\n\n    .dataframe thead th {\n        text-align: right;\n    }\n</style>\n<table border=\"1\" class=\"dataframe\">\n  <thead>\n    <tr style=\"text-align: right;\">\n      <th></th>\n      <th>MNL_FEAT_1</th>\n      <th>MNL_MATE_1</th>\n      <th>MNL_PIPE_1</th>\n      <th>MNL_LENGTH</th>\n      <th>MNL_INSTAL</th>\n      <th>Size</th>\n      <th>DATE</th>\n      <th>Breaks_nearby_2009</th>\n      <th>Breaks_nearby_2010</th>\n      <th>Breaks_nearby_2011</th>\n      <th>Breaks_nearby_2012</th>\n      <th>Breaks_nearby_2013</th>\n      <th>Breaks_nearby_2014</th>\n      <th>Breaks_nearby_2015</th>\n      <th>Breaks_nearby_2016</th>\n      <th>Breaks_nearby_2017</th>\n      <th>Breaks_nearby_2018</th>\n      <th>Breaks_nearby_2019</th>\n      <th>Breaks_nearby_2020</th>\n    </tr>\n  </thead>\n  <tbody>\n    <tr>\n      <th>0</th>\n      <td>Stub</td>\n      <td>Concrete</td>\n      <td>Circular</td>\n      <td>6.06</td>\n      <td>1/1/1960 0:00:00</td>\n      <td>NaN</td>\n      <td>NaN</td>\n      <td>0</td>\n      <td>0</td>\n      <td>0</td>\n      <td>0</td>\n      <td>0</td>\n      <td>0</td>\n      <td>0</td>\n      <td>0</td>\n      <td>0</td>\n      <td>0</td>\n      <td>0</td>\n      <td>0</td>\n    </tr>\n    <tr>\n      <th>1</th>\n      <td>Stub</td>\n      <td>Concrete</td>\n      <td>Circular</td>\n      <td>7.36</td>\n      <td>1/1/1959 0:00:00</td>\n      <td>NaN</td>\n      <td>NaN</td>\n      <td>0</td>\n      <td>0</td>\n      <td>0</td>\n      <td>0</td>\n      <td>0</td>\n      <td>0</td>\n      <td>0</td>\n      <td>0</td>\n      <td>0</td>\n      <td>0</td>\n      <td>0</td>\n      <td>0</td>\n    </tr>\n    <tr>\n      <th>2</th>\n      <td>Mainline</td>\n      <td>Concrete</td>\n      <td>Circular</td>\n      <td>43.75</td>\n      <td>1/1/1966 0:00:00</td>\n      <td>NaN</td>\n      <td>NaN</td>\n      <td>0</td>\n      <td>0</td>\n      <td>0</td>\n      <td>0</td>\n      <td>0</td>\n      <td>0</td>\n      <td>0</td>\n      <td>0</td>\n      <td>0</td>\n      <td>0</td>\n      <td>0</td>\n      <td>0</td>\n    </tr>\n    <tr>\n      <th>3</th>\n      <td>Mainline</td>\n      <td>Reinforced Concrete Pipe</td>\n      <td>Circular</td>\n      <td>16.80</td>\n      <td>1/1/1960 0:00:00</td>\n      <td>NaN</td>\n      <td>NaN</td>\n      <td>0</td>\n      <td>0</td>\n      <td>0</td>\n      <td>0</td>\n      <td>0</td>\n      <td>0</td>\n      <td>0</td>\n      <td>0</td>\n      <td>0</td>\n      <td>0</td>\n      <td>0</td>\n      <td>0</td>\n    </tr>\n    <tr>\n      <th>4</th>\n      <td>Mainline</td>\n      <td>Reinforced Concrete Pipe</td>\n      <td>Circular</td>\n      <td>38.67</td>\n      <td>1/1/1960 0:00:00</td>\n      <td>NaN</td>\n      <td>NaN</td>\n      <td>0</td>\n      <td>0</td>\n      <td>0</td>\n      <td>0</td>\n      <td>0</td>\n      <td>0</td>\n      <td>0</td>\n      <td>0</td>\n      <td>0</td>\n      <td>0</td>\n      <td>0</td>\n      <td>0</td>\n    </tr>\n  </tbody>\n</table>\n</div>"
     },
     "metadata": {},
     "execution_count": 37
    }
   ],
   "source": [
    "# This line removes duplicate breaks, based on the date column. \n",
    "df_clean = df[(~df['DATE'].duplicated() | df['DATE'].isnull())]\n",
    "df_clean = df_clean[columns]\n",
    "df_clean.head()"
   ]
  },
  {
   "cell_type": "code",
   "execution_count": 38,
   "metadata": {},
   "outputs": [
    {
     "output_type": "stream",
     "name": "stdout",
     "text": [
      "2380\n2380\nduplicate breaks:  0\n"
     ]
    }
   ],
   "source": [
    "ffdd = df_clean[df_clean['DATE'].notna()]\n",
    "print(len(ffdd['DATE']))\n",
    "print(len(ffdd['DATE'].unique()))\n",
    "print('duplicate breaks: ', len(ffdd['DATE']) - len(ffdd['DATE'].unique()))"
   ]
  },
  {
   "cell_type": "code",
   "execution_count": 34,
   "metadata": {},
   "outputs": [
    {
     "output_type": "execute_result",
     "data": {
      "text/plain": [
       "  MNL_FEAT_1 MNL_PRBL_1 MNL_USE__1                MNL_MATE_1 MNL_PIPE_1  \\\n",
       "0       Stub   Sanitary   Sanitary                  Concrete   Circular   \n",
       "1       Stub   Sanitary   Sanitary                  Concrete   Circular   \n",
       "2   Mainline   Sanitary   Sanitary                  Concrete   Circular   \n",
       "3   Mainline   Sanitary   Sanitary  Reinforced Concrete Pipe   Circular   \n",
       "4   Mainline   Sanitary   Sanitary  Reinforced Concrete Pipe   Circular   \n",
       "\n",
       "   MNL_LENGTH  MNL_INSTAL Size  Long  Lat  ...  Breaks_nearby_2011  \\\n",
       "0        6.06        1960  NaN   NaN  NaN  ...                   0   \n",
       "1        7.36        1959  NaN   NaN  NaN  ...                   0   \n",
       "2       43.75        1966  NaN   NaN  NaN  ...                   0   \n",
       "3       16.80        1960  NaN   NaN  NaN  ...                   0   \n",
       "4       38.67        1960  NaN   NaN  NaN  ...                   0   \n",
       "\n",
       "   Breaks_nearby_2012  Breaks_nearby_2013  Breaks_nearby_2014  \\\n",
       "0                   0                   0                   0   \n",
       "1                   0                   0                   0   \n",
       "2                   0                   0                   0   \n",
       "3                   0                   0                   0   \n",
       "4                   0                   0                   0   \n",
       "\n",
       "   Breaks_nearby_2015  Breaks_nearby_2016  Breaks_nearby_2017  \\\n",
       "0                   0                   0                   0   \n",
       "1                   0                   0                   0   \n",
       "2                   0                   0                   0   \n",
       "3                   0                   0                   0   \n",
       "4                   0                   0                   0   \n",
       "\n",
       "   Breaks_nearby_2018  Breaks_nearby_2019  Breaks_nearby_2020  \n",
       "0                   0                   0                   0  \n",
       "1                   0                   0                   0  \n",
       "2                   0                   0                   0  \n",
       "3                   0                   0                   0  \n",
       "4                   0                   0                   0  \n",
       "\n",
       "[5 rows x 23 columns]"
      ],
      "text/html": "<div>\n<style scoped>\n    .dataframe tbody tr th:only-of-type {\n        vertical-align: middle;\n    }\n\n    .dataframe tbody tr th {\n        vertical-align: top;\n    }\n\n    .dataframe thead th {\n        text-align: right;\n    }\n</style>\n<table border=\"1\" class=\"dataframe\">\n  <thead>\n    <tr style=\"text-align: right;\">\n      <th></th>\n      <th>MNL_FEAT_1</th>\n      <th>MNL_PRBL_1</th>\n      <th>MNL_USE__1</th>\n      <th>MNL_MATE_1</th>\n      <th>MNL_PIPE_1</th>\n      <th>MNL_LENGTH</th>\n      <th>MNL_INSTAL</th>\n      <th>Size</th>\n      <th>Long</th>\n      <th>Lat</th>\n      <th>...</th>\n      <th>Breaks_nearby_2011</th>\n      <th>Breaks_nearby_2012</th>\n      <th>Breaks_nearby_2013</th>\n      <th>Breaks_nearby_2014</th>\n      <th>Breaks_nearby_2015</th>\n      <th>Breaks_nearby_2016</th>\n      <th>Breaks_nearby_2017</th>\n      <th>Breaks_nearby_2018</th>\n      <th>Breaks_nearby_2019</th>\n      <th>Breaks_nearby_2020</th>\n    </tr>\n  </thead>\n  <tbody>\n    <tr>\n      <th>0</th>\n      <td>Stub</td>\n      <td>Sanitary</td>\n      <td>Sanitary</td>\n      <td>Concrete</td>\n      <td>Circular</td>\n      <td>6.06</td>\n      <td>1960</td>\n      <td>NaN</td>\n      <td>NaN</td>\n      <td>NaN</td>\n      <td>...</td>\n      <td>0</td>\n      <td>0</td>\n      <td>0</td>\n      <td>0</td>\n      <td>0</td>\n      <td>0</td>\n      <td>0</td>\n      <td>0</td>\n      <td>0</td>\n      <td>0</td>\n    </tr>\n    <tr>\n      <th>1</th>\n      <td>Stub</td>\n      <td>Sanitary</td>\n      <td>Sanitary</td>\n      <td>Concrete</td>\n      <td>Circular</td>\n      <td>7.36</td>\n      <td>1959</td>\n      <td>NaN</td>\n      <td>NaN</td>\n      <td>NaN</td>\n      <td>...</td>\n      <td>0</td>\n      <td>0</td>\n      <td>0</td>\n      <td>0</td>\n      <td>0</td>\n      <td>0</td>\n      <td>0</td>\n      <td>0</td>\n      <td>0</td>\n      <td>0</td>\n    </tr>\n    <tr>\n      <th>2</th>\n      <td>Mainline</td>\n      <td>Sanitary</td>\n      <td>Sanitary</td>\n      <td>Concrete</td>\n      <td>Circular</td>\n      <td>43.75</td>\n      <td>1966</td>\n      <td>NaN</td>\n      <td>NaN</td>\n      <td>NaN</td>\n      <td>...</td>\n      <td>0</td>\n      <td>0</td>\n      <td>0</td>\n      <td>0</td>\n      <td>0</td>\n      <td>0</td>\n      <td>0</td>\n      <td>0</td>\n      <td>0</td>\n      <td>0</td>\n    </tr>\n    <tr>\n      <th>3</th>\n      <td>Mainline</td>\n      <td>Sanitary</td>\n      <td>Sanitary</td>\n      <td>Reinforced Concrete Pipe</td>\n      <td>Circular</td>\n      <td>16.80</td>\n      <td>1960</td>\n      <td>NaN</td>\n      <td>NaN</td>\n      <td>NaN</td>\n      <td>...</td>\n      <td>0</td>\n      <td>0</td>\n      <td>0</td>\n      <td>0</td>\n      <td>0</td>\n      <td>0</td>\n      <td>0</td>\n      <td>0</td>\n      <td>0</td>\n      <td>0</td>\n    </tr>\n    <tr>\n      <th>4</th>\n      <td>Mainline</td>\n      <td>Sanitary</td>\n      <td>Sanitary</td>\n      <td>Reinforced Concrete Pipe</td>\n      <td>Circular</td>\n      <td>38.67</td>\n      <td>1960</td>\n      <td>NaN</td>\n      <td>NaN</td>\n      <td>NaN</td>\n      <td>...</td>\n      <td>0</td>\n      <td>0</td>\n      <td>0</td>\n      <td>0</td>\n      <td>0</td>\n      <td>0</td>\n      <td>0</td>\n      <td>0</td>\n      <td>0</td>\n      <td>0</td>\n    </tr>\n  </tbody>\n</table>\n<p>5 rows × 23 columns</p>\n</div>"
     },
     "metadata": {},
     "execution_count": 34
    }
   ],
   "source": [
    "# select only years\n",
    "df_clean['MNL_INSTAL'] = pd.to_datetime(df_clean['MNL_INSTAL'], format='%m/%d/%Y %H:%M:%S')\n",
    "df_clean['MNL_INSTAL'] = df_clean['MNL_INSTAL'].map(lambda x: x.year)\n",
    "\n",
    "df_clean['DATE'] = pd.to_datetime(df_clean['DATE'], format='%m/%d/%Y %H:%M:%S')\n",
    "df_clean['DATE'] = df_clean['DATE'].map(lambda x: x.year)\n",
    "\n",
    "df_clean.head()"
   ]
  },
  {
   "cell_type": "code",
   "execution_count": null,
   "metadata": {},
   "outputs": [],
   "source": [
    "# filter out NaN from DATE col\n",
    "breaks_df = df_clean[df_clean['DATE'].notna()]\n",
    "# set size column to width column and drop size \n",
    "breaks_df['Pipe_widths_Width'] = breaks_df['Size']\n",
    "breaks_df = breaks_df.drop('Size', axis=1)\n",
    "# breaks_df.head()"
   ]
  },
  {
   "cell_type": "code",
   "execution_count": 38,
   "metadata": {},
   "outputs": [],
   "source": [
    "pseudo_df = df_clean\n",
    "# pseudo_df.head()\n",
    "\n",
    "# fill Nan with 0 (idk why, but it just made it work FOR NOW)\n",
    "# if date is not 0 (NaN), make width = size \n",
    "# then for all df, drop size column\n",
    "\n",
    "pseudo_df['DATE'] = pseudo_df['DATE'].fillna(0)\n",
    "pseudo_df.loc[pseudo_df['DATE'] != 0, ['Pipe_wid_1']] = pseudo_df['Size']\n",
    "pseudo_df = pseudo_df.drop('Size', axis=1)\n",
    "# pseudo_df.head()\n",
    "\n",
    "# change 'Width' values to numbers instead of strings (for dummy prep)\n",
    "pseudo_df['Pipe_wid_1'] = pd.to_numeric(pseudo_df['Pipe_wid_1'], errors='coerce')\n",
    "#pseudo_df['Pipe_widths_Width'] = pseudo_df['Width'].map(lambda x: float(x), na_action='ignore')\n",
    "# pseudo_df['Width'].unique()\n",
    "\n",
    "# Assign binary variables:\n",
    "# [Create new column] If pipe has a broken date --> broken pipes = 0, non-broken pipes = 1\n",
    "pseudo_df['TARGET'] = pseudo_df['DATE'].apply(lambda x: 0 if x == 0 else 1)"
   ]
  },
  {
   "cell_type": "code",
   "execution_count": 61,
   "metadata": {
    "tags": []
   },
   "outputs": [
    {
     "output_type": "stream",
     "name": "stdout",
     "text": [
      "DWW_Main_4\nDWW_Main_5\nPipe_wid_1\nMUSYM\nARTCLASS\nBLOCKNBR\nSPEEDLIMIT\nSURFACEWID\nSLOPE_PCT\nNEAR_DIST\nDATE\nShape_Leng\nJoin_Cou_2\nJoin_Cou_3\nJoin_Cou_4\nJoin_Cou_5\nJoin_Cou_6\nJoin_Cou_7\nJoin_Cou_8\nJoin_Cou_9\nJoin_Co_10\nJoin_Co_11\nJoin_Co_12\nJoin_Co_13\nTARGET\nDWW_Main_3_ \nDWW_Main_3_Acrylonitrile Butadiene Styrene\nDWW_Main_3_Asbestos Cement\nDWW_Main_3_Brick\nDWW_Main_3_Cast Iron Pipe\nDWW_Main_3_Concrete\nDWW_Main_3_Corrugated Flexible Plastic\nDWW_Main_3_Corrugated Metal Pipe\nDWW_Main_3_Corrugated Rigid Plastic\nDWW_Main_3_Ductile Iron Pipe\nDWW_Main_3_High Density Polyethylene\nDWW_Main_3_Other\nDWW_Main_3_Polyvinyl Chloride\nDWW_Main_3_Reinforced Concrete Box\nDWW_Main_3_Reinforced Concrete Pipe\nDWW_Main_3_Steel\nDWW_Main_3_Unknown\nDWW_Main_3_Vitrified Clay\nDWW_Main_3_Wood Stave Pipe\nSURFACETYP_ \nSURFACETYP_AC\nSURFACETYP_AC/AC\nSURFACETYP_AC/PCC\nSURFACETYP_GRAVEL\nSURFACETYP_PCC\nSURFACETYP_ST\n"
     ]
    }
   ],
   "source": [
    "# Create dummy variables\n",
    "dummy_df = pd.get_dummies(pseudo_df)\n",
    "aaaa = (dummy_df.columns)\n",
    "for col in aaaa:\n",
    "    print(col)"
   ]
  },
  {
   "cell_type": "code",
   "execution_count": 164,
   "metadata": {},
   "outputs": [],
   "source": [
    "def get_data(df, start, end):\n",
    "    \"\"\"\n",
    "    Takes in df and filters depending on timeframe (start and end years).\n",
    "    Returns subset of data for training in timeframe.\n",
    "    \"\"\"\n",
    "    # want to include where there is NOT a break year (those will be our non-broken positive examples --> 'DATE' == 0) - DATE col\n",
    "\n",
    "\n",
    "    # want to include where break year is in time frame of what we want - DATE col\n",
    "    filt_df = df[(df['DATE'] == 0 )| ((df['DATE'] >= start) & (df['DATE'] <= end))]\n",
    "\n",
    "    # exclude installs AFTER time frame window - MNL_INSTAL col\n",
    "    filt_df = filt_df[(filt_df['DWW_Main_5'] <= end)]\n",
    "\n",
    "    # based on time window, calculate appropriate age of pipes (select beginning year of time frame --> ex: 2009, 2010, 2011\n",
    "    #       subtract install year from 2009) - MNL_INSTAL col\n",
    "    # -- will create negative numbers\n",
    "    filt_df['AGE'] = start - filt_df['DWW_Main_5']\n",
    "\n",
    "    print(df['Join_Cou_7'].sum())\n",
    "\n",
    "    print(filt_df['Join_Co_10'].sum())\n",
    "    \n",
    "    return filt_df"
   ]
  },
  {
   "cell_type": "code",
   "execution_count": 165,
   "metadata": {},
   "outputs": [
    {
     "output_type": "stream",
     "name": "stdout",
     "text": [
      "112\n0\n112\n122\n"
     ]
    }
   ],
   "source": [
    "train_data = get_data(dummy_df, 2014, 2016)\n",
    "test_data = get_data(dummy_df, 2017, 2019)"
   ]
  },
  {
   "cell_type": "code",
   "execution_count": 110,
   "metadata": {},
   "outputs": [],
   "source": [
    "# Calculate breaks for dif time segments for training data\n",
    "train_data['breaks_one_yrs'] = train_data['Join_Cou_6']\n",
    "# train_data['breaks_two_yrs'] = train_data['Join_Cou_6'] + train_data['Join_Cou_5']\n",
    "# train_data['breaks_three_yrs'] = train_data['Join_Cou_6'] + train_data['Join_Cou_5'] + train_data['Join_Cou_4']\n",
    "# train_data['breaks_four_yrs'] = train_data['Join_Cou_6'] + train_data['Join_Cou_5'] + train_data['Join_Cou_4'] + train_data['Join_Cou_3']\n",
    "# train_data['breaks_five_yrs'] = train_data['Join_Cou_6'] + train_data['Join_Cou_5'] + train_data['Join_Cou_4'] + train_data['Join_Cou_3'] + train_data['Join_Cou_2']"
   ]
  },
  {
   "cell_type": "code",
   "execution_count": 106,
   "metadata": {},
   "outputs": [],
   "source": [
    "# Calculate breaks for dif time segments for testing data\n",
    "test_data['breaks_one_yrs'] = test_data['Join_Cou_9']\n",
    "test_data['breaks_two_yrs'] = test_data['Join_Cou_9'] + test_data['Join_Cou_8']\n",
    "test_data['breaks_three_yrs'] = test_data['Join_Cou_9'] + test_data['Join_Cou_8'] + test_data['Join_Cou_7']\n",
    "test_data['breaks_four_yrs'] = test_data['Join_Cou_9'] + test_data['Join_Cou_8'] + test_data['Join_Cou_7'] + test_data['Join_Cou_6']\n",
    "test_data['breaks_five_yrs'] = test_data['Join_Cou_9'] + test_data['Join_Cou_8'] + test_data['Join_Cou_7'] + test_data['Join_Cou_6'] + test_data['Join_Cou_5']"
   ]
  },
  {
   "cell_type": "code",
   "execution_count": 113,
   "metadata": {},
   "outputs": [
    {
     "output_type": "execute_result",
     "data": {
      "text/plain": [
       "132"
      ]
     },
     "metadata": {},
     "execution_count": 113
    }
   ],
   "source": [
    "dummy_df['Join_Cou_6'].sum()"
   ]
  },
  {
   "cell_type": "code",
   "execution_count": 56,
   "metadata": {},
   "outputs": [],
   "source": [
    " # Calculate # of breaks for different time segments\n",
    "# Joint_Cou_2 until Joint_Cou_13 goes from 2009 (Cou_2)-2020 (Cou_13).\n",
    "yrs = np.arange(2009, 2021, 1)\n",
    "\n",
    "joins_feature_list = [\n",
    "    'Breaks_nearby_2009', 'Breaks_nearby_2010',\n",
    "       'Breaks_nearby_2011', 'Breaks_nearby_2012', 'Breaks_nearby_2013',\n",
    "       'Breaks_nearby_2014', 'Breaks_nearby_2015', 'Breaks_nearby_2016',\n",
    "       'Breaks_nearby_2017', 'Breaks_nearby_2018', 'Breaks_nearby_2019',\n",
    "       'Breaks_nearby_2020'\n",
    "]\n"
   ]
  },
  {
   "cell_type": "code",
   "execution_count": 173,
   "metadata": {},
   "outputs": [
    {
     "output_type": "stream",
     "name": "stdout",
     "text": [
      "Join_Cou_2: 90\nJoin_Cou_3: 42\nJoin_Cou_4: 49\nJoin_Cou_5: 109\nJoin_Cou_6: 132\nJoin_Cou_7: 112\nJoin_Cou_8: 135\nJoin_Cou_9: 126\nJoin_Co_10: 122\nJoin_Co_11: 112\nJoin_Co_12: 110\nJoin_Co_13: 82\n"
     ]
    }
   ],
   "source": [
    "for col in joins_feature_list:\n",
    "    print(col + ': ' + str(dummy_df[col].sum()))"
   ]
  },
  {
   "cell_type": "code",
   "execution_count": 54,
   "metadata": {},
   "outputs": [],
   "source": [
    "# trains\n",
    "# tests\n",
    "# move over\n",
    "# rinse & repeat until 2019\n",
    "def split_df(df):\n",
    "    \"\"\"\n",
    "    Takes in a dataframe and creatures a feature dataset and a tagrt datas\n",
    "    \"\"\"    \n",
    "    df = df.dropna()\n",
    "    feature_df = df.drop(['TARGET', 'DATE'], axis=1)\n",
    "    target_df = df[['TARGET']]\n",
    "\n",
    "    return feature_df, target_df\n",
    "\n",
    "def train_v1(df, model):\n",
    "    \"\"\"\n",
    "    Takes in a dataframe of interest and a model, and trains the model.\n",
    "    Model likely needs to be one imported from sklearn so it is able to\n",
    "    handle dataframes as input data\n",
    "    \"\"\"\n",
    "    feature, target = split_df(df)\n",
    "    clf = model #clf is for for classification\n",
    "    clf.fit(feature, target)\n",
    "\n",
    "    return clf"
   ]
  },
  {
   "cell_type": "code",
   "execution_count": 53,
   "metadata": {},
   "outputs": [],
   "source": [
    "def main_function(dummy_df, start, end, model):\n",
    "    \"\"\"\n",
    "    Takes in dummy dataframe and runs all functions based on given year ranges.\n",
    "    Prints out year and accuracy per time range (3 years ranges)\n",
    "    \"\"\"\n",
    "\n",
    "    full_results = {} # Dictionary for storing all the models and their data\n",
    "\n",
    "    for i in range(start, end - 4):\n",
    "\n",
    "        \n",
    "\n",
    "        start_train = i\n",
    "        end_train = i + 2\n",
    "        df = get_data(dummy_df, start_train, end_train)\n",
    "        feature_train, target_train = split_df(df)\n",
    "        clf = train_v1(df, model)\n",
    "\n",
    "        training_pred = clf.predict(feature_train)\n",
    "        #print(start_train, \"-\", end_train, \": \")#, accuracy_score(y_true=target, y_pred=training_pred)) \n",
    "\n",
    "        # Test\n",
    "        start_test = i + 3\n",
    "        end_test = start_test + 2\n",
    "        test = get_data(dummy_df, start_test, end_test)\n",
    "        feature_test, target_test = split_df(test)\n",
    "        testing_pred = clf.predict(feature_test)\n",
    "        #testing_proba_preds = clf.predict_proba(feature_test)[::,1]\n",
    "        #print(start_test, \"-\", end_test, \": \", accuracy_score(y_true=target_test, y_pred=testing_pred))\n",
    "        \n",
    "        print(start_train, \"-\", end_test, \": \")#, accuracy_score(y_true=target, y_pred=training_pred)) \n",
    "\n",
    "\n",
    "        # Print out break and non break accuracy's rather total full accuracy\n",
    "        cm = confusion_matrix(y_true=target_test, y_pred=testing_pred)\n",
    "        # nonbreak_acc = cm[0,0] / (cm[0,0] + cm[0,1])\n",
    "        # print('Non-break accuracy: ', nonbreak_acc)\n",
    "        # break_acc = cm[1,1] / (cm[1, 0] + cm[1,1])\n",
    "        # print('Break accuracy: ', break_acc)\n",
    "\n",
    "        #print out metrics\n",
    "        # precision, recall, f1, support = precision_recall_fscore_support(y_true=target_test, y_pred=testing_pred)\n",
    "        # print('Precision: ', precision)\n",
    "        # print('Recall: ', recall)\n",
    "        # print('F1 Score: ', f1)\n",
    "        # print('Support: ', support)\n",
    "\n",
    "        precision = precision_score(y_true=target_test, y_pred=testing_pred)\n",
    "        recall = recall_score(y_true=target_test, y_pred=testing_pred)\n",
    "        bal_acc = balanced_accuracy_score(y_true=target_test, y_pred=testing_pred)\n",
    "        print('precision: ', precision)\n",
    "        print('recall: ', recall)\n",
    "        print('Balanced accuracy: ', bal_acc)\n",
    "        \n",
    "        print()\n",
    "\n",
    "        model_results = {\n",
    "            'model': clf,\n",
    "            'start_year': start_test,\n",
    "            'end_year': end_test,\n",
    "            'test_df': feature_test, # For eventual SHAP calculations\n",
    "            'target_values': target_test,\n",
    "            'test_predictions': testing_pred,\n",
    "            'confusion_matrix': cm\n",
    "\n",
    "            }\n",
    "\n",
    "        full_results['model_' + str(start_test) + '-' + str(end_test)] = model_results\n",
    "    \n",
    "    return full_results"
   ]
  },
  {
   "cell_type": "code",
   "execution_count": null,
   "metadata": {},
   "outputs": [],
   "source": []
  }
 ]
}