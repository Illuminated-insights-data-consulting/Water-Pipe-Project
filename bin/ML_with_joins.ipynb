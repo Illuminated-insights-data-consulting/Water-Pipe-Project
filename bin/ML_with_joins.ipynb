{
 "metadata": {
  "language_info": {
   "codemirror_mode": {
    "name": "ipython",
    "version": 3
   },
   "file_extension": ".py",
   "mimetype": "text/x-python",
   "name": "python",
   "nbconvert_exporter": "python",
   "pygments_lexer": "ipython3",
   "version": "3.7.7-final"
  },
  "orig_nbformat": 2,
  "kernelspec": {
   "name": "python3",
   "display_name": "Python 3",
   "language": "python"
  }
 },
 "nbformat": 4,
 "nbformat_minor": 2,
 "cells": [
  {
   "cell_type": "code",
   "execution_count": 27,
   "metadata": {},
   "outputs": [],
   "source": [
    "import pandas as pd\n",
    "import numpy as np\n",
    "import seaborn as sns\n",
    "import matplotlib.pyplot as plt\n",
    "import datetime as datetime\n",
    "\n",
    "\n",
    "\n",
    "from sklearn.ensemble import ExtraTreesClassifier, GradientBoostingClassifier, AdaBoostClassifier, StackingClassifier, RandomForestClassifier, BaggingClassifier\n",
    "\n",
    "from sklearn.metrics import accuracy_score, confusion_matrix, precision_recall_fscore_support, balanced_accuracy_score, plot_precision_recall_curve, precision_recall_curve, precision_score, recall_score\n",
    "\n",
    "from sklearn.model_selection import RandomizedSearchCV, train_test_split\n",
    "import shap\n",
    "import lightgbm as lgb \n",
    "\n",
    "pd.set_option('max_colwidth', 80)"
   ]
  },
  {
   "cell_type": "code",
   "execution_count": 8,
   "metadata": {},
   "outputs": [
    {
     "output_type": "execute_result",
     "data": {
      "text/plain": [
       "   TARGET_FID  Length  Install_year  Arterial_class  Surface_width  \\\n",
       "0           1  314.79          1972             2.0           40.0   \n",
       "1           2  363.39          1972             0.0           46.0   \n",
       "2           3  323.51          1972             0.0           46.0   \n",
       "3           4  329.13          1928             0.0            0.0   \n",
       "4           5  273.64          1928             2.0           42.0   \n",
       "\n",
       "   Speed_limit  Slope  Width  Break_Yr  Target  ...  Surface_type_   \\\n",
       "0         25.0    0.0    8.0       NaN       0  ...               0   \n",
       "1         20.0    4.0    8.0       NaN       0  ...               0   \n",
       "2         20.0    4.0    8.0       NaN       0  ...               0   \n",
       "3         20.0    6.0   12.0       NaN       0  ...               0   \n",
       "4         25.0    4.0   18.0       NaN       0  ...               0   \n",
       "\n",
       "   Surface_type_AC  Surface_type_AC/AC  Surface_type_AC/PCC  \\\n",
       "0                0                   0                    0   \n",
       "1                1                   0                    0   \n",
       "2                1                   0                    0   \n",
       "3                0                   0                    0   \n",
       "4                0                   0                    1   \n",
       "\n",
       "   Surface_type_GRAVEL  Surface_type_PCC  Surface_type_ST  AGE  \\\n",
       "0                    0                 1                0   38   \n",
       "1                    0                 0                0   38   \n",
       "2                    0                 0                0   38   \n",
       "3                    0                 0                1   82   \n",
       "4                    0                 0                0   82   \n",
       "\n",
       "   Nearby_breaks_1yr  Process_year  \n",
       "0                  0          2010  \n",
       "1                  0          2010  \n",
       "2                  0          2010  \n",
       "3                  0          2010  \n",
       "4                  0          2010  \n",
       "\n",
       "[5 rows x 56 columns]"
      ],
      "text/html": "<div>\n<style scoped>\n    .dataframe tbody tr th:only-of-type {\n        vertical-align: middle;\n    }\n\n    .dataframe tbody tr th {\n        vertical-align: top;\n    }\n\n    .dataframe thead th {\n        text-align: right;\n    }\n</style>\n<table border=\"1\" class=\"dataframe\">\n  <thead>\n    <tr style=\"text-align: right;\">\n      <th></th>\n      <th>TARGET_FID</th>\n      <th>Length</th>\n      <th>Install_year</th>\n      <th>Arterial_class</th>\n      <th>Surface_width</th>\n      <th>Speed_limit</th>\n      <th>Slope</th>\n      <th>Width</th>\n      <th>Break_Yr</th>\n      <th>Target</th>\n      <th>...</th>\n      <th>Surface_type_</th>\n      <th>Surface_type_AC</th>\n      <th>Surface_type_AC/AC</th>\n      <th>Surface_type_AC/PCC</th>\n      <th>Surface_type_GRAVEL</th>\n      <th>Surface_type_PCC</th>\n      <th>Surface_type_ST</th>\n      <th>AGE</th>\n      <th>Nearby_breaks_1yr</th>\n      <th>Process_year</th>\n    </tr>\n  </thead>\n  <tbody>\n    <tr>\n      <th>0</th>\n      <td>1</td>\n      <td>314.79</td>\n      <td>1972</td>\n      <td>2.0</td>\n      <td>40.0</td>\n      <td>25.0</td>\n      <td>0.0</td>\n      <td>8.0</td>\n      <td>NaN</td>\n      <td>0</td>\n      <td>...</td>\n      <td>0</td>\n      <td>0</td>\n      <td>0</td>\n      <td>0</td>\n      <td>0</td>\n      <td>1</td>\n      <td>0</td>\n      <td>38</td>\n      <td>0</td>\n      <td>2010</td>\n    </tr>\n    <tr>\n      <th>1</th>\n      <td>2</td>\n      <td>363.39</td>\n      <td>1972</td>\n      <td>0.0</td>\n      <td>46.0</td>\n      <td>20.0</td>\n      <td>4.0</td>\n      <td>8.0</td>\n      <td>NaN</td>\n      <td>0</td>\n      <td>...</td>\n      <td>0</td>\n      <td>1</td>\n      <td>0</td>\n      <td>0</td>\n      <td>0</td>\n      <td>0</td>\n      <td>0</td>\n      <td>38</td>\n      <td>0</td>\n      <td>2010</td>\n    </tr>\n    <tr>\n      <th>2</th>\n      <td>3</td>\n      <td>323.51</td>\n      <td>1972</td>\n      <td>0.0</td>\n      <td>46.0</td>\n      <td>20.0</td>\n      <td>4.0</td>\n      <td>8.0</td>\n      <td>NaN</td>\n      <td>0</td>\n      <td>...</td>\n      <td>0</td>\n      <td>1</td>\n      <td>0</td>\n      <td>0</td>\n      <td>0</td>\n      <td>0</td>\n      <td>0</td>\n      <td>38</td>\n      <td>0</td>\n      <td>2010</td>\n    </tr>\n    <tr>\n      <th>3</th>\n      <td>4</td>\n      <td>329.13</td>\n      <td>1928</td>\n      <td>0.0</td>\n      <td>0.0</td>\n      <td>20.0</td>\n      <td>6.0</td>\n      <td>12.0</td>\n      <td>NaN</td>\n      <td>0</td>\n      <td>...</td>\n      <td>0</td>\n      <td>0</td>\n      <td>0</td>\n      <td>0</td>\n      <td>0</td>\n      <td>0</td>\n      <td>1</td>\n      <td>82</td>\n      <td>0</td>\n      <td>2010</td>\n    </tr>\n    <tr>\n      <th>4</th>\n      <td>5</td>\n      <td>273.64</td>\n      <td>1928</td>\n      <td>2.0</td>\n      <td>42.0</td>\n      <td>25.0</td>\n      <td>4.0</td>\n      <td>18.0</td>\n      <td>NaN</td>\n      <td>0</td>\n      <td>...</td>\n      <td>0</td>\n      <td>0</td>\n      <td>0</td>\n      <td>1</td>\n      <td>0</td>\n      <td>0</td>\n      <td>0</td>\n      <td>82</td>\n      <td>0</td>\n      <td>2010</td>\n    </tr>\n  </tbody>\n</table>\n<p>5 rows × 56 columns</p>\n</div>"
     },
     "metadata": {},
     "execution_count": 8
    }
   ],
   "source": [
    "df = pd.read_csv('final_data.csv') \n",
    "df.head()"
   ]
  },
  {
   "cell_type": "code",
   "execution_count": 9,
   "metadata": {},
   "outputs": [
    {
     "output_type": "execute_result",
     "data": {
      "text/plain": [
       "array([0, 1])"
      ]
     },
     "metadata": {},
     "execution_count": 9
    }
   ],
   "source": [
    "df['Target'].unique()"
   ]
  },
  {
   "cell_type": "code",
   "execution_count": 10,
   "metadata": {},
   "outputs": [
    {
     "output_type": "execute_result",
     "data": {
      "text/plain": [
       "(68274, 56)"
      ]
     },
     "metadata": {},
     "execution_count": 10
    }
   ],
   "source": [
    "df_2014 = df[df['Process_year'] == 2014]\n",
    "df_2014.shape"
   ]
  },
  {
   "cell_type": "code",
   "execution_count": 11,
   "metadata": {},
   "outputs": [
    {
     "output_type": "execute_result",
     "data": {
      "text/plain": [
       "array([  nan, 2014.])"
      ]
     },
     "metadata": {},
     "execution_count": 11
    }
   ],
   "source": [
    "df_2014['Break_Yr'].unique()"
   ]
  },
  {
   "cell_type": "code",
   "execution_count": 13,
   "metadata": {},
   "outputs": [
    {
     "output_type": "stream",
     "name": "stdout",
     "text": [
      "(68274, 53)\n(58917, 53)\n"
     ]
    }
   ],
   "source": [
    "columns = df_2014.columns.drop(['TARGET_FID', 'Process_year', 'Break_Yr'])\n",
    "df_2014_cols = df_2014[columns]\n",
    "print(df_2014_cols.shape)\n",
    "#df_2014_cols_cleaned = df_2014_cols[~df_2014_cols.isin([np.nan, np.inf, -np.inf]).any(1)].astype(np.float32) # removes rows with nan or inf points\n",
    "df_2014_cols_cleaned = df_2014_cols.dropna(axis=0).astype(np.float32) # removes rows with nan or inf points\n",
    "print(df_2014_cols_cleaned.shape)\n"
   ]
  },
  {
   "cell_type": "code",
   "execution_count": 15,
   "metadata": {},
   "outputs": [],
   "source": [
    "features_df = df_2014_cols_cleaned.drop('Target', axis=1)\n",
    "target_df = df_2014_cols_cleaned[['Target']]"
   ]
  },
  {
   "cell_type": "code",
   "execution_count": 17,
   "metadata": {},
   "outputs": [],
   "source": [
    "X_train, X_test, y_train, y_test = train_test_split(features_df, target_df, test_size=0.2, random_state=42)"
   ]
  },
  {
   "cell_type": "code",
   "execution_count": 19,
   "metadata": {},
   "outputs": [],
   "source": [
    "etc = ExtraTreesClassifier()\n",
    "etc.fit(X_train, y_train)\n"
   ]
  },
  {
   "cell_type": "code",
   "execution_count": 25,
   "metadata": {},
   "outputs": [
    {
     "output_type": "stream",
     "name": "stdout",
     "text": [
      "0.7653184419520738\n0.5319148936170213\n0.625\n"
     ]
    }
   ],
   "source": [
    "preds = etc.predict(X_test)\n",
    "bal_acc = balanced_accuracy_score(y_pred=preds, y_true=y_test)\n",
    "recall = recall_score(y_true=y_test, y_pred=preds)\n",
    "precision = precision_score(y_true=y_test, y_pred=preds)\n",
    "print(bal_acc)\n",
    "print(recall)\n",
    "print(precision)"
   ]
  },
  {
   "cell_type": "code",
   "execution_count": 28,
   "metadata": {},
   "outputs": [
    {
     "output_type": "execute_result",
     "data": {
      "text/plain": [
       "array([[11722,    15],\n",
       "       [   22,    25]])"
      ]
     },
     "metadata": {},
     "execution_count": 28
    }
   ],
   "source": [
    "confusion_matrix(y_test, preds)"
   ]
  },
  {
   "cell_type": "code",
   "execution_count": null,
   "metadata": {},
   "outputs": [],
   "source": []
  }
 ]
}