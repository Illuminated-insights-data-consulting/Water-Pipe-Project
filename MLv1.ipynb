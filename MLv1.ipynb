{
 "metadata": {
  "language_info": {
   "codemirror_mode": {
    "name": "ipython",
    "version": 3
   },
   "file_extension": ".py",
   "mimetype": "text/x-python",
   "name": "python",
   "nbconvert_exporter": "python",
   "pygments_lexer": "ipython3",
   "version": "3.7.6-final"
  },
  "orig_nbformat": 2,
  "kernelspec": {
   "name": "python3",
   "display_name": "Python 3"
  }
 },
 "nbformat": 4,
 "nbformat_minor": 2,
 "cells": [
  {
   "cell_type": "code",
   "execution_count": 28,
   "metadata": {},
   "outputs": [],
   "source": [
    "import pandas as pd\n",
    "import datetime as datetime"
   ]
  },
  {
   "cell_type": "code",
   "execution_count": 2,
   "metadata": {},
   "outputs": [],
   "source": [
    "df = pd.read_csv(\"FinalFinal.csv\")"
   ]
  },
  {
   "cell_type": "code",
   "execution_count": 68,
   "metadata": {},
   "outputs": [],
   "source": [
    "df.columns\n",
    "# select non join columns and ML needed columns\n",
    "columns = ['MNL_FEAT_1', 'MNL_MATE_1', 'MNL_LENGTH', 'MNL_INSTAL',\n",
    "       'Width', 'NEAR_DIST', 'MUSYM', 'ARTCLASS', 'BLOCKNBR', \n",
    "       'SPEEDLIMIT', 'SURFACEWID', 'SURFACETYP', 'SLOPE_PCT', 'Size', 'DATE']\n",
    "non_joins = df[columns]\n",
    "# non_joins.head()"
   ]
  },
  {
   "cell_type": "code",
   "execution_count": 69,
   "metadata": {},
   "outputs": [],
   "source": [
    "# select only years\n",
    "non_joins['MNL_INSTAL'] = pd.to_datetime(non_joins['MNL_INSTAL'], format='%m/%d/%Y %H:%M:%S')\n",
    "non_joins['MNL_INSTAL'] = non_joins['MNL_INSTAL'].map(lambda x: x.year)\n",
    "\n",
    "non_joins['DATE'] = pd.to_datetime(non_joins['DATE'], format='%m/%d/%Y %H:%M:%S')\n",
    "non_joins['DATE'] = non_joins['DATE'].map(lambda x: x.year)\n",
    "\n",
    "#non_joins.head()"
   ]
  },
  {
   "cell_type": "code",
   "execution_count": 70,
   "metadata": {},
   "outputs": [
    {
     "output_type": "execute_result",
     "data": {
      "text/plain": [
       "    MNL_FEAT_1                MNL_MATE_1  MNL_LENGTH  MNL_INSTAL Width  \\\n",
       "43    Mainline                  Concrete       40.54        1957     6   \n",
       "44    Mainline                  Concrete       40.54        1957     6   \n",
       "81    Mainline  Reinforced Concrete Pipe       25.65        1973     8   \n",
       "82    Mainline  Reinforced Concrete Pipe       25.65        1973     8   \n",
       "120   Mainline                  Concrete      182.67        1964     4   \n",
       "\n",
       "       NEAR_DIST  MUSYM  ARTCLASS  BLOCKNBR  SPEEDLIMIT  SURFACEWID  \\\n",
       "43    699.766876   3056         0      1100          20          20   \n",
       "44    699.766876   3056         0      1100          20          20   \n",
       "81   2296.768775   3055         0       100          20          38   \n",
       "82   2296.768775   3055         0       100          20          38   \n",
       "120   221.097406   3056         0      3400          20          25   \n",
       "\n",
       "    SURFACETYP  SLOPE_PCT    DATE  \n",
       "43          AC          2  2014.0  \n",
       "44          AC          2  2014.0  \n",
       "81          ST          4  2017.0  \n",
       "82          ST          4  2017.0  \n",
       "120        PCC         12  2015.0  "
      ],
      "text/html": "<div>\n<style scoped>\n    .dataframe tbody tr th:only-of-type {\n        vertical-align: middle;\n    }\n\n    .dataframe tbody tr th {\n        vertical-align: top;\n    }\n\n    .dataframe thead th {\n        text-align: right;\n    }\n</style>\n<table border=\"1\" class=\"dataframe\">\n  <thead>\n    <tr style=\"text-align: right;\">\n      <th></th>\n      <th>MNL_FEAT_1</th>\n      <th>MNL_MATE_1</th>\n      <th>MNL_LENGTH</th>\n      <th>MNL_INSTAL</th>\n      <th>Width</th>\n      <th>NEAR_DIST</th>\n      <th>MUSYM</th>\n      <th>ARTCLASS</th>\n      <th>BLOCKNBR</th>\n      <th>SPEEDLIMIT</th>\n      <th>SURFACEWID</th>\n      <th>SURFACETYP</th>\n      <th>SLOPE_PCT</th>\n      <th>DATE</th>\n    </tr>\n  </thead>\n  <tbody>\n    <tr>\n      <th>43</th>\n      <td>Mainline</td>\n      <td>Concrete</td>\n      <td>40.54</td>\n      <td>1957</td>\n      <td>6</td>\n      <td>699.766876</td>\n      <td>3056</td>\n      <td>0</td>\n      <td>1100</td>\n      <td>20</td>\n      <td>20</td>\n      <td>AC</td>\n      <td>2</td>\n      <td>2014.0</td>\n    </tr>\n    <tr>\n      <th>44</th>\n      <td>Mainline</td>\n      <td>Concrete</td>\n      <td>40.54</td>\n      <td>1957</td>\n      <td>6</td>\n      <td>699.766876</td>\n      <td>3056</td>\n      <td>0</td>\n      <td>1100</td>\n      <td>20</td>\n      <td>20</td>\n      <td>AC</td>\n      <td>2</td>\n      <td>2014.0</td>\n    </tr>\n    <tr>\n      <th>81</th>\n      <td>Mainline</td>\n      <td>Reinforced Concrete Pipe</td>\n      <td>25.65</td>\n      <td>1973</td>\n      <td>8</td>\n      <td>2296.768775</td>\n      <td>3055</td>\n      <td>0</td>\n      <td>100</td>\n      <td>20</td>\n      <td>38</td>\n      <td>ST</td>\n      <td>4</td>\n      <td>2017.0</td>\n    </tr>\n    <tr>\n      <th>82</th>\n      <td>Mainline</td>\n      <td>Reinforced Concrete Pipe</td>\n      <td>25.65</td>\n      <td>1973</td>\n      <td>8</td>\n      <td>2296.768775</td>\n      <td>3055</td>\n      <td>0</td>\n      <td>100</td>\n      <td>20</td>\n      <td>38</td>\n      <td>ST</td>\n      <td>4</td>\n      <td>2017.0</td>\n    </tr>\n    <tr>\n      <th>120</th>\n      <td>Mainline</td>\n      <td>Concrete</td>\n      <td>182.67</td>\n      <td>1964</td>\n      <td>4</td>\n      <td>221.097406</td>\n      <td>3056</td>\n      <td>0</td>\n      <td>3400</td>\n      <td>20</td>\n      <td>25</td>\n      <td>PCC</td>\n      <td>12</td>\n      <td>2015.0</td>\n    </tr>\n  </tbody>\n</table>\n</div>"
     },
     "metadata": {},
     "execution_count": 70
    }
   ],
   "source": [
    "# filter out NaN from DATE col\n",
    "breaks_df = non_joins[non_joins['DATE'].notna()]\n",
    "# set size column to width column and drop size \n",
    "breaks_df['Width'] = breaks_df['Size']\n",
    "breaks_df = breaks_df.drop('Size', axis=1)\n",
    "breaks_df.head()"
   ]
  },
  {
   "cell_type": "code",
   "execution_count": null,
   "metadata": {},
   "outputs": [],
   "source": [
    "# for loop - has start year and end year\n",
    "# ex: first yr=2009 end yr=2012\n",
    "# grab everything from 3yr window "
   ]
  }
 ]
}